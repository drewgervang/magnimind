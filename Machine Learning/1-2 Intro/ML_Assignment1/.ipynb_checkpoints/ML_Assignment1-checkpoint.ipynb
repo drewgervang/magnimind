{
 "cells": [
  {
   "cell_type": "markdown",
   "id": "4ca5ac52-92c0-408f-ba8e-4b9db1e219c8",
   "metadata": {},
   "source": [
    "# ML Assignment 1\n",
    "\n",
    "## A. Loading Dataset from ScikitLearn\n",
    "\n",
    "Step 1:\n",
    "Load iris dataset from ScikitLearn using load_iris(). Assign the dataset to X and the target values to y."
   ]
  },
  {
   "cell_type": "code",
   "execution_count": 26,
   "id": "58246f9d-561d-4541-b341-b7f10f4ad12d",
   "metadata": {},
   "outputs": [],
   "source": [
    "from sklearn.datasets import load_iris\n",
    "import pandas as pd\n",
    "\n",
    "iris_dataset = load_iris()\n",
    "\n",
    "X = iris_dataset.data\n",
    "y = iris_dataset.target"
   ]
  },
  {
   "cell_type": "markdown",
   "id": "a3a32633-a09d-4b5a-8618-b2c28d7f802a",
   "metadata": {},
   "source": [
    "Step 2:\n",
    "Print the dataset keys using iris_dataset.keys()"
   ]
  },
  {
   "cell_type": "code",
   "execution_count": 27,
   "id": "fd9da1d9-672c-494e-8f9a-f9ca63bcc601",
   "metadata": {},
   "outputs": [
    {
     "data": {
      "text/plain": [
       "dict_keys(['data', 'target', 'frame', 'target_names', 'DESCR', 'feature_names', 'filename', 'data_module'])"
      ]
     },
     "execution_count": 27,
     "metadata": {},
     "output_type": "execute_result"
    }
   ],
   "source": [
    "iris_dataset.keys()"
   ]
  },
  {
   "cell_type": "markdown",
   "id": "96352813-182a-412b-a3ed-1b35979b4f9f",
   "metadata": {},
   "source": [
    "Step 3:\n",
    "Print the names of the categories in the target file"
   ]
  },
  {
   "cell_type": "code",
   "execution_count": 28,
   "id": "ce9a0acc-3626-463e-add0-f63deab45109",
   "metadata": {},
   "outputs": [
    {
     "data": {
      "text/plain": [
       "array(['setosa', 'versicolor', 'virginica'], dtype='<U10')"
      ]
     },
     "execution_count": 28,
     "metadata": {},
     "output_type": "execute_result"
    }
   ],
   "source": [
    "iris_dataset.target_names"
   ]
  },
  {
   "cell_type": "markdown",
   "id": "31d4c912-9773-4f41-86d4-7c6a8bcecb1e",
   "metadata": {},
   "source": [
    "Step 4:\n",
    "Print the feature names in the Iris dataset"
   ]
  },
  {
   "cell_type": "code",
   "execution_count": 29,
   "id": "44d99d59-b9e3-4739-a913-cdfe3a633a0e",
   "metadata": {},
   "outputs": [
    {
     "data": {
      "text/plain": [
       "['sepal length (cm)',\n",
       " 'sepal width (cm)',\n",
       " 'petal length (cm)',\n",
       " 'petal width (cm)']"
      ]
     },
     "execution_count": 29,
     "metadata": {},
     "output_type": "execute_result"
    }
   ],
   "source": [
    "iris_dataset.feature_names"
   ]
  },
  {
   "cell_type": "markdown",
   "id": "8dbd14e6-3653-4681-9609-b1dd87191c5d",
   "metadata": {},
   "source": [
    "Step 5:\n",
    "Print the type of the Iris dataset."
   ]
  },
  {
   "cell_type": "code",
   "execution_count": 35,
   "id": "07b9fb93-3a56-4587-9429-2f9e5f78a3db",
   "metadata": {},
   "outputs": [
    {
     "data": {
      "text/plain": [
       "dtype('float64')"
      ]
     },
     "execution_count": 35,
     "metadata": {},
     "output_type": "execute_result"
    }
   ],
   "source": [
    "X.dtype"
   ]
  },
  {
   "cell_type": "markdown",
   "id": "3880349e-371d-4087-a75c-7d39aceaf676",
   "metadata": {},
   "source": [
    "Step 6:\n",
    "Print the shape of the Iris dataset."
   ]
  },
  {
   "cell_type": "code",
   "execution_count": 36,
   "id": "6fa7c099-625e-4533-95f8-bcf212d8dc7a",
   "metadata": {},
   "outputs": [
    {
     "data": {
      "text/plain": [
       "(150, 4)"
      ]
     },
     "execution_count": 36,
     "metadata": {},
     "output_type": "execute_result"
    }
   ],
   "source": [
    "X.shape"
   ]
  },
  {
   "cell_type": "markdown",
   "id": "5863d671-d591-40fa-8c78-04ebeb02c3f0",
   "metadata": {},
   "source": [
    "Step 7: Print the first five rows of the Iris dataset."
   ]
  },
  {
   "cell_type": "code",
   "execution_count": 38,
   "id": "c987fa28-b07e-4d2d-8ed8-daae819b21e2",
   "metadata": {},
   "outputs": [
    {
     "data": {
      "text/plain": [
       "array([[5.1, 3.5, 1.4, 0.2],\n",
       "       [4.9, 3. , 1.4, 0.2],\n",
       "       [4.7, 3.2, 1.3, 0.2],\n",
       "       [4.6, 3.1, 1.5, 0.2],\n",
       "       [5. , 3.6, 1.4, 0.2]])"
      ]
     },
     "execution_count": 38,
     "metadata": {},
     "output_type": "execute_result"
    }
   ],
   "source": [
    "X[:5]"
   ]
  },
  {
   "cell_type": "markdown",
   "id": "a5c70f08-a9e5-48bc-bf13-bb63c8f35701",
   "metadata": {},
   "source": [
    "Step 8: Print the type of the target variable of Iris dataset."
   ]
  },
  {
   "cell_type": "code",
   "execution_count": 39,
   "id": "3813fcfb-51bc-4234-b40b-8a22cf6f0da4",
   "metadata": {},
   "outputs": [
    {
     "data": {
      "text/plain": [
       "dtype('int64')"
      ]
     },
     "execution_count": 39,
     "metadata": {},
     "output_type": "execute_result"
    }
   ],
   "source": [
    "y.dtype"
   ]
  },
  {
   "cell_type": "markdown",
   "id": "03a3ced6-a980-4589-9fc1-40c5e64e2685",
   "metadata": {},
   "source": [
    "Step 9: Print the shape of the target variable of Iris dataset."
   ]
  },
  {
   "cell_type": "code",
   "execution_count": 40,
   "id": "2f6ec580-af83-4725-8317-f99f932045ad",
   "metadata": {},
   "outputs": [
    {
     "data": {
      "text/plain": [
       "(150,)"
      ]
     },
     "execution_count": 40,
     "metadata": {},
     "output_type": "execute_result"
    }
   ],
   "source": [
    "y.shape"
   ]
  },
  {
   "cell_type": "markdown",
   "id": "1bb60f77-4548-4271-9504-b2654c1a78d4",
   "metadata": {},
   "source": [
    "Step 10: Print the entire target variable values of the Iris dataset."
   ]
  },
  {
   "cell_type": "code",
   "execution_count": 41,
   "id": "114914ac-468e-41f0-84d0-6e984f993882",
   "metadata": {},
   "outputs": [
    {
     "data": {
      "text/plain": [
       "array([0, 0, 0, 0, 0, 0, 0, 0, 0, 0, 0, 0, 0, 0, 0, 0, 0, 0, 0, 0, 0, 0,\n",
       "       0, 0, 0, 0, 0, 0, 0, 0, 0, 0, 0, 0, 0, 0, 0, 0, 0, 0, 0, 0, 0, 0,\n",
       "       0, 0, 0, 0, 0, 0, 1, 1, 1, 1, 1, 1, 1, 1, 1, 1, 1, 1, 1, 1, 1, 1,\n",
       "       1, 1, 1, 1, 1, 1, 1, 1, 1, 1, 1, 1, 1, 1, 1, 1, 1, 1, 1, 1, 1, 1,\n",
       "       1, 1, 1, 1, 1, 1, 1, 1, 1, 1, 1, 1, 2, 2, 2, 2, 2, 2, 2, 2, 2, 2,\n",
       "       2, 2, 2, 2, 2, 2, 2, 2, 2, 2, 2, 2, 2, 2, 2, 2, 2, 2, 2, 2, 2, 2,\n",
       "       2, 2, 2, 2, 2, 2, 2, 2, 2, 2, 2, 2, 2, 2, 2, 2, 2, 2])"
      ]
     },
     "execution_count": 41,
     "metadata": {},
     "output_type": "execute_result"
    }
   ],
   "source": [
    "y"
   ]
  },
  {
   "cell_type": "markdown",
   "id": "56aafd05-ce1b-4790-b4d9-dedb0ed5fab5",
   "metadata": {},
   "source": [
    "Step 11:\n",
    "Import NumPy with import numpy as np and use the numpy.unique() function to print the unique values of the target variable of Iris dataset"
   ]
  },
  {
   "cell_type": "code",
   "execution_count": 44,
   "id": "a6aeedc7-3e0a-48b5-9bf0-1a7e4d32057b",
   "metadata": {},
   "outputs": [
    {
     "data": {
      "text/plain": [
       "array([0, 1, 2])"
      ]
     },
     "execution_count": 44,
     "metadata": {},
     "output_type": "execute_result"
    }
   ],
   "source": [
    "import numpy as np\n",
    "\n",
    "np.unique(y)"
   ]
  },
  {
   "cell_type": "markdown",
   "id": "bdb30152-ac24-4990-842f-9d25835bb7d6",
   "metadata": {},
   "source": [
    "Step 12:\n",
    "Split dataset into train and test datasets using from sklearn.model_selection import train_test_split"
   ]
  },
  {
   "cell_type": "code",
   "execution_count": 46,
   "id": "9dd51f35-b285-4b94-a88b-a350b3bfccc6",
   "metadata": {},
   "outputs": [],
   "source": [
    "from sklearn.model_selection import train_test_split\n",
    "\n",
    "X_train, X_test, y_train, y_test = train_test_split(X, y)"
   ]
  },
  {
   "cell_type": "markdown",
   "id": "51d847a1-646f-415d-a3df-a789676fede0",
   "metadata": {},
   "source": [
    "Step 13:\n",
    "Print the shape of train/test datasets and the train/test target variables."
   ]
  },
  {
   "cell_type": "code",
   "execution_count": 48,
   "id": "ddf5f577-a410-4687-a1c1-a381075d354e",
   "metadata": {},
   "outputs": [
    {
     "name": "stdout",
     "output_type": "stream",
     "text": [
      "Shape of X_train: (112, 4)\n",
      "Shape of X_test: (38, 4)\n",
      "Shape of y_train: (112,)\n",
      "Shape of y_test: (38,)\n"
     ]
    }
   ],
   "source": [
    "print(\"Shape of X_train:\", X_train.shape)\n",
    "print(\"Shape of X_test:\", X_test.shape)\n",
    "print(\"Shape of y_train:\", y_train.shape)\n",
    "print(\"Shape of y_test:\", y_test.shape)"
   ]
  },
  {
   "cell_type": "markdown",
   "id": "60391f98-af32-4ae4-a933-6bd01da5ac64",
   "metadata": {},
   "source": [
    "## B. Loading a Dataset and exploring it\n",
    "Step 1:\n",
    "Import the modules needed to explore the data"
   ]
  },
  {
   "cell_type": "markdown",
   "id": "c87d6827-0955-4e64-8ef4-7b8faf8a917b",
   "metadata": {},
   "source": [
    "Step 14\n",
    "Build your K-neighbors classifier for nearest neighbor of 1 using from sklearn.neighbors import KNeighborsClassifier, fit the model to your train dataset and make a prediction for teh data point of [5, 1.9, 1, 0.2]. Print your prediction class value as an integer and also the corresponding string label."
   ]
  },
  {
   "cell_type": "code",
   "execution_count": 71,
   "id": "bdb13686-8a21-47d9-9c7c-e2b59d9e83fc",
   "metadata": {},
   "outputs": [
    {
     "name": "stdout",
     "output_type": "stream",
     "text": [
      "Accurcy:  0.9210526315789473\n",
      "Predicted class : 0\n",
      "Predicted Label : setosa\n"
     ]
    }
   ],
   "source": [
    "import seaborn as sns\n",
    "import matplotlib.pyplot as plt\n",
    "from sklearn.neighbors import KNeighborsClassifier\n",
    "knn = KNeighborsClassifier(n_neighbors=1)\n",
    "knn.fit(X_train, y_train)\n",
    "print(\"Accurcy: \", knn.score(X_test, y_test))\n",
    "y_pred = knn.predict(X_test)\n",
    "\n",
    "data_point = [[5, 1.9, 1, 0.2]]\n",
    "\n",
    "predicted_class = knn.predict(data_point)[0]\n",
    "predicted_label = iris_dataset.target_names[predicted_class]\n",
    "\n",
    "print(\"Predicted class :\", predicted_class)\n",
    "print(\"Predicted Label :\", predicted_label)"
   ]
  },
  {
   "cell_type": "markdown",
   "id": "12532609-9d5c-44f2-96d4-13ecde4550b6",
   "metadata": {},
   "source": [
    "Step 2:\n",
    "Import auto_mpg.csv dataset using pandas'read_csv function. Print the first three samples from your dataset, print the index range of the observations, and print the column names of your dataset"
   ]
  },
  {
   "cell_type": "code",
   "execution_count": null,
   "id": "d6536be0-214e-4fd4-9202-48ef9496330e",
   "metadata": {},
   "outputs": [],
   "source": []
  },
  {
   "cell_type": "markdown",
   "id": "61b811cb-8c6e-4543-a1ea-63faeef63c34",
   "metadata": {},
   "source": [
    "Step 3:\n",
    "Assign mpg column as output and name it as y and the rest of the data as the features and assign it to X. Print the shape of X."
   ]
  },
  {
   "cell_type": "code",
   "execution_count": null,
   "id": "ef89001e-a5fd-4dbb-b12c-be3dc2645c52",
   "metadata": {},
   "outputs": [],
   "source": []
  },
  {
   "cell_type": "markdown",
   "id": "5ad7a136-da9a-4d37-b165-ed9f5bc72c6d",
   "metadata": {},
   "source": [
    "Step 4,\n",
    "Bonus: Check the dataset if there are any missing values in any of the columns using isnull().any() functions."
   ]
  },
  {
   "cell_type": "code",
   "execution_count": null,
   "id": "51f9b0a3-8559-4103-ab46-87c4f494781d",
   "metadata": {},
   "outputs": [],
   "source": []
  },
  {
   "cell_type": "markdown",
   "id": "96c1d243-37fe-4d02-acc7-8d7a5d4a06b0",
   "metadata": {},
   "source": [
    "Step 5:\n",
    "Check the data types of each feature. Which columns are continuous and which are categorical?"
   ]
  },
  {
   "cell_type": "code",
   "execution_count": null,
   "id": "9a7b9998-ce99-47b4-b2ac-0e5809ba893e",
   "metadata": {},
   "outputs": [],
   "source": []
  },
  {
   "cell_type": "markdown",
   "id": "bf0e35b8-c228-4a44-a798-ac9896814b64",
   "metadata": {},
   "source": [
    "Step 6:\n",
    "Look at the unique elements of horsepower"
   ]
  },
  {
   "cell_type": "code",
   "execution_count": null,
   "id": "131dc530-6d8c-4a66-8691-bccd33e3caae",
   "metadata": {},
   "outputs": [],
   "source": []
  },
  {
   "cell_type": "markdown",
   "id": "9220f29a-b71e-4533-9912-9614bd3d6913",
   "metadata": {},
   "source": [
    "Step 7:\n",
    "Let's describe data since everything looks in order.\n",
    "\n",
    "- See the statistical details of the dataset using describe and info methods."
   ]
  },
  {
   "cell_type": "code",
   "execution_count": null,
   "id": "23be7ad2-749a-46af-9609-978027a732e7",
   "metadata": {},
   "outputs": [],
   "source": []
  },
  {
   "cell_type": "markdown",
   "id": "963bf222-bebf-44ae-9bb2-54acf29108ee",
   "metadata": {},
   "source": [
    "Step 8:\n",
    "Let's specifically look at the description of the mpg feature"
   ]
  },
  {
   "cell_type": "code",
   "execution_count": null,
   "id": "fc4e53a6-93f4-447a-be60-9ca05855937a",
   "metadata": {},
   "outputs": [],
   "source": []
  },
  {
   "cell_type": "markdown",
   "id": "4bf4d911-1251-4262-a146-841718601783",
   "metadata": {},
   "source": [
    "Step 9\n",
    "Visualize the distribution of the features of the data using hist method, use bins=20."
   ]
  },
  {
   "cell_type": "code",
   "execution_count": null,
   "id": "25224dd5-a25e-4857-a6c3-0d56addbf2de",
   "metadata": {},
   "outputs": [],
   "source": []
  },
  {
   "cell_type": "markdown",
   "id": "d7225ab2-594d-448a-a001-e24c058c35ea",
   "metadata": {},
   "source": [
    "Step 10\n",
    "BONUS: Visualize the relationships between these data points.\n",
    "\n",
    "- Create a function to scale your dataset by using the formula 𝑏=𝑥−𝑚𝑖𝑛𝑚𝑎𝑥−𝑚𝑖𝑛\n",
    "\n",
    "$$b = \\frac{x-min}{max-min}$$\n",
    "\n",
    "- Using this function, scale displacement, horsepower, acceleration, weight, andmpg`.\n",
    "- Create a boxplot of mpg for different origin values before and after scaling."
   ]
  },
  {
   "cell_type": "code",
   "execution_count": null,
   "id": "828c29df-0683-46a2-9d68-0a265d66d7f8",
   "metadata": {},
   "outputs": [],
   "source": []
  }
 ],
 "metadata": {
  "kernelspec": {
   "display_name": "Python 3 (ipykernel)",
   "language": "python",
   "name": "python3"
  },
  "language_info": {
   "codemirror_mode": {
    "name": "ipython",
    "version": 3
   },
   "file_extension": ".py",
   "mimetype": "text/x-python",
   "name": "python",
   "nbconvert_exporter": "python",
   "pygments_lexer": "ipython3",
   "version": "3.8.18"
  }
 },
 "nbformat": 4,
 "nbformat_minor": 5
}
