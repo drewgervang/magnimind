{
 "cells": [
  {
   "cell_type": "markdown",
   "id": "a7657ad5-49d8-4adf-8e45-046d41a2376c",
   "metadata": {},
   "source": [
    "# Phase 3 - Outlier Analysis\n",
    "\n",
    "## Columns:\n",
    "\n",
    "**Categorical Columns**  \n",
    "- make_model\n",
    "- body_type\n",
    "- vat\n",
    "- registration_year\n",
    "- type\n",
    "- inspection_new\n",
    "- body_color\n",
    "- paint_type\n",
    "- upholstery_material\n",
    "- gearing_type\n",
    "- fuel\n",
    "- emission_class\n",
    "- drive_chain\n",
    "- entertainment_media\n",
    "- safety_security\n",
    "- comfort_convenience\n",
    "- extras\n",
    " \n",
    "**Quantitative Columns**\n",
    "- price\n",
    "- km\n",
    "- co2_emission\n",
    "- consumption_combined\n",
    "- consumption_country\n",
    "- consumption_city\n",
    "- hp\n",
    "- displacement\n",
    "- warranty\n",
    "- previous_owners\n",
    "- weight\n",
    "- nr_of_doors\n",
    "- nr_of_seats\n",
    "- cylinders\n",
    "- gears\n",
    "\n",
    "\n",
    "---"
   ]
  },
  {
   "cell_type": "code",
   "execution_count": 1186,
   "id": "181591cb-0f6b-40b0-9e5e-a5c93caf9799",
   "metadata": {},
   "outputs": [],
   "source": [
    "import matplotlib.pyplot as plt\n",
    "%matplotlib inline\n",
    "import numpy as np\n",
    "import pandas as pd\n",
    "from scipy import stats\n",
    "import seaborn as sns\n",
    "import warnings;\n",
    "warnings.filterwarnings(\"ignore\")\n",
    "import re\n",
    "pd.set_option(\"display.max_columns\",None)"
   ]
  },
  {
   "cell_type": "code",
   "execution_count": 1187,
   "id": "97844c17-27bc-485d-aa54-d7a9a86b6a23",
   "metadata": {},
   "outputs": [],
   "source": [
    "auto = pd.read_csv(\"filled_car_data.csv\")\n",
    "df = auto.copy()"
   ]
  },
  {
   "cell_type": "markdown",
   "id": "395c7d58-861c-4a6d-a775-aa21486ea7ae",
   "metadata": {},
   "source": [
    "---"
   ]
  },
  {
   "cell_type": "markdown",
   "id": "e1ef1d1c-f484-4964-8d77-a06f14acf7a8",
   "metadata": {
    "jp-MarkdownHeadingCollapsed": true
   },
   "source": [
    "## Functions"
   ]
  },
  {
   "cell_type": "code",
   "execution_count": 1188,
   "id": "760c66be-96b5-485a-a44b-f4d60342a2c6",
   "metadata": {},
   "outputs": [],
   "source": [
    "def fill(method, df, column, group_cols=None):\n",
    "   \"\"\"\n",
    "   Fills NaN values in `df[column]` either using the overall mean, median or mode (no grouping)\n",
    "   or group-specific mean, median or mode (group_col provided).\n",
    "   Prints stats about how many NaNs were filled and the final distribution.\n",
    "   \"\"\"\n",
    "   # Make a copy of the dataframe to avoid modification warnings\n",
    "   working_df = df.copy()\n",
    "   \n",
    "   # Debug prints: which column is being filled, and grouping info.\n",
    "   print('Filling column:', column)\n",
    "   print('Grouping by:', group_cols)\n",
    "   \n",
    "   # 1. Count NaNs before filling\n",
    "   nan_before = working_df[column].isnull().sum()\n",
    "   \n",
    "   # 2. Fill logic\n",
    "   if method in ['mean', 'median']:\n",
    "       if group_cols is None:\n",
    "           # Fill all NaN in 'column' with the overall mean/median\n",
    "           working_df[column].fillna(getattr(working_df[column], method)(), inplace=True)\n",
    "       else:\n",
    "           # Calculate groupwise mean/median for each row\n",
    "           group = working_df.groupby(group_cols)[column].transform(method)\n",
    "           # Fill missing values in df[column] with corresponding group mean/median\n",
    "           working_df[column].fillna(group, inplace=True)\n",
    "   \n",
    "   elif method == 'mode':\n",
    "       if group_cols is None:\n",
    "           # Fill all NaN in 'column' with the overall mode\n",
    "           working_df[column].fillna(working_df[column].mode().iloc[0], inplace=True)            \n",
    "       else:\n",
    "           # Calculate groupwise mode for each row\n",
    "           group = working_df.groupby(group_cols)[column]\\\n",
    "           .transform(lambda x: x.mode()[0] if list(x.mode()) != [] else np.nan)\n",
    "           # Fill missing values in df[column] with corresponding group mode\n",
    "           working_df[column].fillna(group, inplace=True)\n",
    "   \n",
    "   # 3. Count NaNs after filling\n",
    "   nan_after = working_df[column].isnull().sum()\n",
    "   nan_filled = nan_before - nan_after\n",
    "   \n",
    "   # 4. Print final stats\n",
    "   print(\"Number of NaN before filling:\", nan_before)\n",
    "   print(\"Number of NaN filled:\", nan_filled)\n",
    "   print(\"Number of NaN after filling:\", nan_after)\n",
    "   print(\"------------------\")\n",
    "   print(working_df[column].value_counts(dropna=False))\n",
    "   \n",
    "   return working_df"
   ]
  },
  {
   "cell_type": "code",
   "execution_count": 1189,
   "id": "768217db-f2cd-4686-940e-690a87bb1304",
   "metadata": {},
   "outputs": [
    {
     "name": "stdout",
     "output_type": "stream",
     "text": [
      "<class 'pandas.core.frame.DataFrame'>\n",
      "RangeIndex: 15919 entries, 0 to 15918\n",
      "Data columns (total 32 columns):\n",
      " #   Column                Non-Null Count  Dtype  \n",
      "---  ------                --------------  -----  \n",
      " 0   make_model            15919 non-null  object \n",
      " 1   body_type             15919 non-null  object \n",
      " 2   price                 15919 non-null  int64  \n",
      " 3   vat                   15919 non-null  object \n",
      " 4   km                    15919 non-null  float64\n",
      " 5   hp                    15919 non-null  float64\n",
      " 6   type                  15919 non-null  object \n",
      " 7   previous_owners       15919 non-null  float64\n",
      " 8   inspection_new        15919 non-null  object \n",
      " 9   warranty              15919 non-null  float64\n",
      " 10  body_color            15919 non-null  object \n",
      " 11  paint_type            15919 non-null  object \n",
      " 12  nr_of_doors           15919 non-null  float64\n",
      " 13  nr_of_seats           15919 non-null  float64\n",
      " 14  gearing_type          15919 non-null  object \n",
      " 15  displacement          15919 non-null  float64\n",
      " 16  cylinders             15919 non-null  float64\n",
      " 17  weight                15919 non-null  float64\n",
      " 18  drive_chain           15919 non-null  object \n",
      " 19  fuel                  15919 non-null  object \n",
      " 20  co2_emission          15919 non-null  float64\n",
      " 21  emission_class        15919 non-null  object \n",
      " 22  comfort_convenience   15919 non-null  object \n",
      " 23  entertainment_media   14545 non-null  object \n",
      " 24  extras                15919 non-null  object \n",
      " 25  safety_security       15919 non-null  object \n",
      " 26  gears                 15919 non-null  float64\n",
      " 27  age                   15919 non-null  float64\n",
      " 28  upholstery_material   15919 non-null  object \n",
      " 29  consumption_combined  15919 non-null  float64\n",
      " 30  consumption_city      15919 non-null  float64\n",
      " 31  consumption_country   15919 non-null  float64\n",
      "dtypes: float64(15), int64(1), object(16)\n",
      "memory usage: 3.9+ MB\n"
     ]
    }
   ],
   "source": [
    "df.info()"
   ]
  },
  {
   "cell_type": "markdown",
   "id": "4dfb8ef9-bb4b-42d6-9f75-e964f6f47ced",
   "metadata": {},
   "source": [
    "---\n",
    "\n",
    "## Categorical Columns\n",
    "- [] make_model\n",
    "- [] body_type\n",
    "- [] vat\n",
    "- [] registration_year\n",
    "- [x] type\n",
    "- [] inspection_new\n",
    "- [] body_color\n",
    "- [] paint_type\n",
    "- [] upholstery_material\n",
    "- [] gearing_type\n",
    "- [] fuel\n",
    "- [] emission_class\n",
    "- [] drive_chain\n",
    "- [] entertainment_media\n",
    "- [] safety_security\n",
    "- [] comfort_convenience\n",
    "- [] extras"
   ]
  },
  {
   "cell_type": "markdown",
   "id": "958ad0e4-bc17-40a9-ad2c-d4186e9b87c6",
   "metadata": {},
   "source": [
    "### make_model"
   ]
  },
  {
   "cell_type": "markdown",
   "id": "350b6067-a959-4454-8378-f45cb96a526a",
   "metadata": {},
   "source": [
    "### body_type"
   ]
  },
  {
   "cell_type": "markdown",
   "id": "25735a9e-f036-43bc-a453-cbc7219423ce",
   "metadata": {},
   "source": [
    "### vat"
   ]
  },
  {
   "cell_type": "markdown",
   "id": "97f196ba-ce30-47a7-a8c6-cbf382729b7a",
   "metadata": {},
   "source": [
    "### registration_year"
   ]
  },
  {
   "cell_type": "markdown",
   "id": "c20bfc37-1ed7-4839-a081-ba5e5b9effeb",
   "metadata": {
    "jp-MarkdownHeadingCollapsed": true
   },
   "source": [
    "### type"
   ]
  },
  {
   "cell_type": "code",
   "execution_count": null,
   "id": "865d1b50-1d6f-4805-8cbf-914746bc40e1",
   "metadata": {},
   "outputs": [],
   "source": [
    "df[(df.type == 'New') & (df['km']>10000)]"
   ]
  },
  {
   "cell_type": "code",
   "execution_count": null,
   "id": "edf7ebfe-5b0e-4e14-8eb9-458c7380abb8",
   "metadata": {},
   "outputs": [],
   "source": [
    "df[(df.km > 1000) & (df.type == 'New')]"
   ]
  },
  {
   "cell_type": "code",
   "execution_count": null,
   "id": "601fd34c-d7c9-4c83-bbae-196b4f3372c5",
   "metadata": {},
   "outputs": [],
   "source": [
    "df.loc[df[(df.age > 0) & (df.type == 'New')].index, 'type'] = 'Used'"
   ]
  },
  {
   "cell_type": "markdown",
   "id": "d637e437-ac4f-470a-989f-183bfd5a3dea",
   "metadata": {},
   "source": [
    "### inspection_new"
   ]
  },
  {
   "cell_type": "markdown",
   "id": "0b6a9ce4-5af6-4e22-89a7-26166dd7369b",
   "metadata": {},
   "source": [
    "### body_color"
   ]
  },
  {
   "cell_type": "markdown",
   "id": "6e553bcb-ada8-48e9-baf7-854ba2c6485b",
   "metadata": {},
   "source": [
    "### paint_type"
   ]
  },
  {
   "cell_type": "markdown",
   "id": "25feb5ad-008c-4850-9987-b906effddb69",
   "metadata": {},
   "source": [
    "### upholstery_material"
   ]
  },
  {
   "cell_type": "markdown",
   "id": "7b61cb81-3b84-48c4-a7fb-02e0e3f90542",
   "metadata": {},
   "source": [
    "### gearing_type"
   ]
  },
  {
   "cell_type": "markdown",
   "id": "e00e855e-fc0d-48cc-b04b-de2369875d69",
   "metadata": {},
   "source": [
    "### fuel"
   ]
  },
  {
   "cell_type": "markdown",
   "id": "f8fbd589-4faf-49ef-9659-caf62cc4e61c",
   "metadata": {},
   "source": [
    "### emission_class"
   ]
  },
  {
   "cell_type": "markdown",
   "id": "3e56c4df-7e5f-4532-ac56-773d274d2840",
   "metadata": {},
   "source": [
    "### drive_chain"
   ]
  },
  {
   "cell_type": "markdown",
   "id": "1f108453-4cce-4b0e-bbb3-d3b0b3d2db6f",
   "metadata": {},
   "source": [
    "### entertainment_media"
   ]
  },
  {
   "cell_type": "markdown",
   "id": "0c0787fe-5c5a-450b-b9c2-377660be3501",
   "metadata": {},
   "source": [
    "### safety_security"
   ]
  },
  {
   "cell_type": "markdown",
   "id": "3409c317-eb24-49b4-b9d1-ee99e2be20ad",
   "metadata": {},
   "source": [
    "### comfort_convenience"
   ]
  },
  {
   "cell_type": "markdown",
   "id": "6458ae94-aaa2-4799-9a3a-e8385181b48e",
   "metadata": {},
   "source": [
    "### extras"
   ]
  },
  {
   "cell_type": "markdown",
   "id": "34dadb18-448b-4e8e-8860-a56cdbddb385",
   "metadata": {},
   "source": [
    "---\n",
    "\n",
    "## Quantitative Columns\n",
    "- [x] price\n",
    "- [x] km\n",
    "- [x] co2_emission\n",
    "- [x] consumption_combined\n",
    "- [x] consumption_country\n",
    "- [x] consumption_city\n",
    "- [x] hp\n",
    "- [x] displacement\n",
    "- [x] warranty\n",
    "- [x] previous_owners\n",
    "- [x] weight\n",
    "- [x] nr_of_doors\n",
    "- [x] nr_of_seats\n",
    "- [x] cylinders\n",
    "- [x] gears"
   ]
  },
  {
   "cell_type": "markdown",
   "id": "1e59e895-e3fa-4baa-b4af-b8ffca01a5ff",
   "metadata": {
    "jp-MarkdownHeadingCollapsed": true
   },
   "source": [
    "### price"
   ]
  },
  {
   "cell_type": "code",
   "execution_count": 1109,
   "id": "3b5c9fba-272a-4835-9d6d-bca28fea50cb",
   "metadata": {},
   "outputs": [
    {
     "data": {
      "image/png": "[encoded data removed]",
      "text/plain": [
       "<Figure size 640x480 with 1 Axes>"
      ]
     },
     "metadata": {},
     "output_type": "display_data"
    }
   ],
   "source": [
    "sns.set_theme(style=\"whitegrid\")\n",
    "ax = sns.boxplot(x=df[\"price\"])"
   ]
  },
  {
   "cell_type": "code",
   "execution_count": 1110,
   "id": "08b4329e-7a2f-4c16-8748-5593266f0232",
   "metadata": {},
   "outputs": [
    {
     "data": {
      "text/html": [
       "<div>\n",
       "<style scoped>\n",
       "    .dataframe tbody tr th:only-of-type {\n",
       "        vertical-align: middle;\n",
       "    }\n",
       "\n",
       "    .dataframe tbody tr th {\n",
       "        vertical-align: top;\n",
       "    }\n",
       "\n",
       "    .dataframe thead th {\n",
       "        text-align: right;\n",
       "    }\n",
       "</style>\n",
       "<table border=\"1\" class=\"dataframe\">\n",
       "  <thead>\n",
       "    <tr style=\"text-align: right;\">\n",
       "      <th></th>\n",
       "      <th>price</th>\n",
       "      <th>km</th>\n",
       "      <th>hp</th>\n",
       "      <th>previous_owners</th>\n",
       "      <th>warranty</th>\n",
       "      <th>nr_of_doors</th>\n",
       "      <th>nr_of_seats</th>\n",
       "      <th>displacement</th>\n",
       "      <th>cylinders</th>\n",
       "      <th>weight</th>\n",
       "      <th>co2_emission</th>\n",
       "      <th>gears</th>\n",
       "      <th>age</th>\n",
       "      <th>consumption_combined</th>\n",
       "      <th>consumption_city</th>\n",
       "      <th>consumption_country</th>\n",
       "    </tr>\n",
       "  </thead>\n",
       "  <tbody>\n",
       "    <tr>\n",
       "      <th>count</th>\n",
       "      <td>15919.000000</td>\n",
       "      <td>15919.000000</td>\n",
       "      <td>15919.000000</td>\n",
       "      <td>15919.000000</td>\n",
       "      <td>15919.000000</td>\n",
       "      <td>15919.000000</td>\n",
       "      <td>15919.000000</td>\n",
       "      <td>15919.000000</td>\n",
       "      <td>15919.000000</td>\n",
       "      <td>15919.000000</td>\n",
       "      <td>15919.000000</td>\n",
       "      <td>15919.000000</td>\n",
       "      <td>15919.000000</td>\n",
       "      <td>15919.000000</td>\n",
       "      <td>15919.000000</td>\n",
       "      <td>15919.000000</td>\n",
       "    </tr>\n",
       "    <tr>\n",
       "      <th>mean</th>\n",
       "      <td>18019.896727</td>\n",
       "      <td>31979.540706</td>\n",
       "      <td>88.374144</td>\n",
       "      <td>0.998932</td>\n",
       "      <td>6.684654</td>\n",
       "      <td>4.660657</td>\n",
       "      <td>4.952258</td>\n",
       "      <td>1425.261574</td>\n",
       "      <td>3.786796</td>\n",
       "      <td>1349.862114</td>\n",
       "      <td>117.393178</td>\n",
       "      <td>5.948489</td>\n",
       "      <td>1.389786</td>\n",
       "      <td>4.853109</td>\n",
       "      <td>5.818355</td>\n",
       "      <td>4.211615</td>\n",
       "    </tr>\n",
       "    <tr>\n",
       "      <th>std</th>\n",
       "      <td>7386.169409</td>\n",
       "      <td>37057.442117</td>\n",
       "      <td>26.843513</td>\n",
       "      <td>0.326701</td>\n",
       "      <td>13.330917</td>\n",
       "      <td>0.642198</td>\n",
       "      <td>0.476599</td>\n",
       "      <td>330.882580</td>\n",
       "      <td>0.418085</td>\n",
       "      <td>211.517842</td>\n",
       "      <td>19.923387</td>\n",
       "      <td>0.713684</td>\n",
       "      <td>1.121257</td>\n",
       "      <td>1.558646</td>\n",
       "      <td>1.878240</td>\n",
       "      <td>1.134332</td>\n",
       "    </tr>\n",
       "    <tr>\n",
       "      <th>min</th>\n",
       "      <td>13.000000</td>\n",
       "      <td>0.000000</td>\n",
       "      <td>1.000000</td>\n",
       "      <td>0.000000</td>\n",
       "      <td>0.000000</td>\n",
       "      <td>1.000000</td>\n",
       "      <td>2.000000</td>\n",
       "      <td>1.000000</td>\n",
       "      <td>1.000000</td>\n",
       "      <td>1.000000</td>\n",
       "      <td>0.000000</td>\n",
       "      <td>1.000000</td>\n",
       "      <td>0.000000</td>\n",
       "      <td>0.000000</td>\n",
       "      <td>0.000000</td>\n",
       "      <td>0.000000</td>\n",
       "    </tr>\n",
       "    <tr>\n",
       "      <th>25%</th>\n",
       "      <td>12850.000000</td>\n",
       "      <td>1989.000000</td>\n",
       "      <td>66.000000</td>\n",
       "      <td>1.000000</td>\n",
       "      <td>0.000000</td>\n",
       "      <td>4.000000</td>\n",
       "      <td>5.000000</td>\n",
       "      <td>1229.000000</td>\n",
       "      <td>4.000000</td>\n",
       "      <td>1165.000000</td>\n",
       "      <td>104.000000</td>\n",
       "      <td>6.000000</td>\n",
       "      <td>0.000000</td>\n",
       "      <td>4.000000</td>\n",
       "      <td>4.700000</td>\n",
       "      <td>3.700000</td>\n",
       "    </tr>\n",
       "    <tr>\n",
       "      <th>50%</th>\n",
       "      <td>16900.000000</td>\n",
       "      <td>20413.000000</td>\n",
       "      <td>85.000000</td>\n",
       "      <td>1.000000</td>\n",
       "      <td>0.000000</td>\n",
       "      <td>5.000000</td>\n",
       "      <td>5.000000</td>\n",
       "      <td>1461.000000</td>\n",
       "      <td>4.000000</td>\n",
       "      <td>1308.000000</td>\n",
       "      <td>116.000000</td>\n",
       "      <td>6.000000</td>\n",
       "      <td>1.000000</td>\n",
       "      <td>4.750000</td>\n",
       "      <td>5.700000</td>\n",
       "      <td>4.200000</td>\n",
       "    </tr>\n",
       "    <tr>\n",
       "      <th>75%</th>\n",
       "      <td>21900.000000</td>\n",
       "      <td>46898.500000</td>\n",
       "      <td>101.000000</td>\n",
       "      <td>1.000000</td>\n",
       "      <td>12.000000</td>\n",
       "      <td>5.000000</td>\n",
       "      <td>5.000000</td>\n",
       "      <td>1598.000000</td>\n",
       "      <td>4.000000</td>\n",
       "      <td>1472.000000</td>\n",
       "      <td>128.000000</td>\n",
       "      <td>6.000000</td>\n",
       "      <td>2.000000</td>\n",
       "      <td>5.400000</td>\n",
       "      <td>6.800000</td>\n",
       "      <td>4.500000</td>\n",
       "    </tr>\n",
       "    <tr>\n",
       "      <th>max</th>\n",
       "      <td>74600.000000</td>\n",
       "      <td>317000.000000</td>\n",
       "      <td>294.000000</td>\n",
       "      <td>4.000000</td>\n",
       "      <td>72.000000</td>\n",
       "      <td>7.000000</td>\n",
       "      <td>7.000000</td>\n",
       "      <td>16000.000000</td>\n",
       "      <td>8.000000</td>\n",
       "      <td>2471.000000</td>\n",
       "      <td>990.000000</td>\n",
       "      <td>50.000000</td>\n",
       "      <td>3.000000</td>\n",
       "      <td>55.000000</td>\n",
       "      <td>66.000000</td>\n",
       "      <td>44.000000</td>\n",
       "    </tr>\n",
       "  </tbody>\n",
       "</table>\n",
       "</div>"
      ],
      "text/plain": [
       "              price             km            hp  previous_owners  \\\n",
       "count  15919.000000   15919.000000  15919.000000     15919.000000   \n",
       "mean   18019.896727   31979.540706     88.374144         0.998932   \n",
       "std     7386.169409   37057.442117     26.843513         0.326701   \n",
       "min       13.000000       0.000000      1.000000         0.000000   \n",
       "25%    12850.000000    1989.000000     66.000000         1.000000   \n",
       "50%    16900.000000   20413.000000     85.000000         1.000000   \n",
       "75%    21900.000000   46898.500000    101.000000         1.000000   \n",
       "max    74600.000000  317000.000000    294.000000         4.000000   \n",
       "\n",
       "           warranty   nr_of_doors   nr_of_seats  displacement     cylinders  \\\n",
       "count  15919.000000  15919.000000  15919.000000  15919.000000  15919.000000   \n",
       "mean       6.684654      4.660657      4.952258   1425.261574      3.786796   \n",
       "std       13.330917      0.642198      0.476599    330.882580      0.418085   \n",
       "min        0.000000      1.000000      2.000000      1.000000      1.000000   \n",
       "25%        0.000000      4.000000      5.000000   1229.000000      4.000000   \n",
       "50%        0.000000      5.000000      5.000000   1461.000000      4.000000   \n",
       "75%       12.000000      5.000000      5.000000   1598.000000      4.000000   \n",
       "max       72.000000      7.000000      7.000000  16000.000000      8.000000   \n",
       "\n",
       "             weight  co2_emission         gears           age  \\\n",
       "count  15919.000000  15919.000000  15919.000000  15919.000000   \n",
       "mean    1349.862114    117.393178      5.948489      1.389786   \n",
       "std      211.517842     19.923387      0.713684      1.121257   \n",
       "min        1.000000      0.000000      1.000000      0.000000   \n",
       "25%     1165.000000    104.000000      6.000000      0.000000   \n",
       "50%     1308.000000    116.000000      6.000000      1.000000   \n",
       "75%     1472.000000    128.000000      6.000000      2.000000   \n",
       "max     2471.000000    990.000000     50.000000      3.000000   \n",
       "\n",
       "       consumption_combined  consumption_city  consumption_country  \n",
       "count          15919.000000      15919.000000         15919.000000  \n",
       "mean               4.853109          5.818355             4.211615  \n",
       "std                1.558646          1.878240             1.134332  \n",
       "min                0.000000          0.000000             0.000000  \n",
       "25%                4.000000          4.700000             3.700000  \n",
       "50%                4.750000          5.700000             4.200000  \n",
       "75%                5.400000          6.800000             4.500000  \n",
       "max               55.000000         66.000000            44.000000  "
      ]
     },
     "execution_count": 1110,
     "metadata": {},
     "output_type": "execute_result"
    }
   ],
   "source": [
    "df.describe()"
   ]
  },
  {
   "cell_type": "code",
   "execution_count": 1111,
   "id": "cf371d15-1a6f-4c9b-b57c-9be607dc64d3",
   "metadata": {},
   "outputs": [],
   "source": [
    "df.drop((df[df.price < 4000].price.index), axis=0, inplace=True)"
   ]
  },
  {
   "cell_type": "code",
   "execution_count": 1112,
   "id": "62da34d9-b0e2-4427-a224-a87feab419b1",
   "metadata": {},
   "outputs": [
    {
     "data": {
      "image/png": "[encoded data removed]",
      "text/plain": [
       "<Figure size 1500x600 with 1 Axes>"
      ]
     },
     "metadata": {},
     "output_type": "display_data"
    }
   ],
   "source": [
    "plt.figure(figsize=(15,6))\n",
    "sns.boxplot(y='price',data=df, x='make_model', hue='age');"
   ]
  },
  {
   "cell_type": "markdown",
   "id": "70a4958b-1d26-4b04-9106-bb9bea067afd",
   "metadata": {
    "jp-MarkdownHeadingCollapsed": true
   },
   "source": [
    "### km"
   ]
  },
  {
   "cell_type": "code",
   "execution_count": 1113,
   "id": "8b18d110-891e-423d-a2f5-8d882a936ebd",
   "metadata": {},
   "outputs": [
    {
     "data": {
      "image/png": "[encoded data removed]",
      "text/plain": [
       "<Figure size 640x480 with 1 Axes>"
      ]
     },
     "metadata": {},
     "output_type": "display_data"
    }
   ],
   "source": [
    "sns.scatterplot(data=df, x=\"age\", y=\"km\");"
   ]
  },
  {
   "cell_type": "code",
   "execution_count": 1114,
   "id": "344133ef-1008-4e9b-8abb-f8c2b4ab5bef",
   "metadata": {},
   "outputs": [
    {
     "data": {
      "text/plain": [
       "previous_owners\n",
       "1.0    14283\n",
       "0.0      835\n",
       "2.0      778\n",
       "3.0       17\n",
       "4.0        2\n",
       "Name: count, dtype: int64"
      ]
     },
     "execution_count": 1114,
     "metadata": {},
     "output_type": "execute_result"
    }
   ],
   "source": [
    "df.previous_owners.value_counts(dropna=False)"
   ]
  },
  {
   "cell_type": "code",
   "execution_count": 1115,
   "id": "eac24cf7-5d27-4b9c-9647-4e7480c646be",
   "metadata": {},
   "outputs": [
    {
     "data": {
      "image/png": "[encoded data removed]",
      "text/plain": [
       "<Figure size 640x480 with 1 Axes>"
      ]
     },
     "metadata": {},
     "output_type": "display_data"
    }
   ],
   "source": [
    "sns.scatterplot(data=df, x=\"hp\", y=\"price\");"
   ]
  },
  {
   "cell_type": "code",
   "execution_count": 1116,
   "id": "ee12a34c-edc0-4f19-8f03-2bbdfdf09402",
   "metadata": {},
   "outputs": [
    {
     "data": {
      "image/png": "[encoded data removed]",
      "text/plain": [
       "<Figure size 1500x600 with 1 Axes>"
      ]
     },
     "metadata": {},
     "output_type": "display_data"
    }
   ],
   "source": [
    "plt.figure(figsize=(15,6))\n",
    "sns.boxplot(y='hp',data=df, x='make_model');"
   ]
  },
  {
   "cell_type": "code",
   "execution_count": 1117,
   "id": "3352815f-db22-406f-8b2f-bea972ccf9ef",
   "metadata": {},
   "outputs": [
    {
     "data": {
      "text/plain": [
       "hp\n",
       "1.0     20\n",
       "40.0     2\n",
       "9.0      1\n",
       "44.0     1\n",
       "4.0      1\n",
       "Name: count, dtype: int64"
      ]
     },
     "execution_count": 1117,
     "metadata": {},
     "output_type": "execute_result"
    }
   ],
   "source": [
    "df[df['hp'] < 50].hp.value_counts(dropna=False)"
   ]
  },
  {
   "cell_type": "markdown",
   "id": "3856a4a7-fa52-44c7-a842-9c42bfa60aba",
   "metadata": {},
   "source": [
    "- #### Convert hp values less than 50 to null values."
   ]
  },
  {
   "cell_type": "code",
   "execution_count": 1118,
   "id": "0950f46e-c4b2-4455-a460-28f165176353",
   "metadata": {},
   "outputs": [],
   "source": [
    "df.loc[df['hp']<50,'hp'] = np.nan"
   ]
  },
  {
   "cell_type": "markdown",
   "id": "0800dcbf-46dc-4a76-b98d-0a0bd3b87d77",
   "metadata": {},
   "source": [
    "- #### Then refill the values based on 'make_model', 'body_type' and 'displacement')"
   ]
  },
  {
   "cell_type": "code",
   "execution_count": 1119,
   "id": "1824f55c-ed00-4cc9-ab1a-86c757b28315",
   "metadata": {},
   "outputs": [
    {
     "name": "stdout",
     "output_type": "stream",
     "text": [
      "Filling column: hp\n",
      "Grouping by: ['make_model', 'body_type', 'displacement']\n",
      "Number of NaN before filling: 25\n",
      "Number of NaN filled: 22\n",
      "Number of NaN after filling: 3\n",
      "------------------\n",
      "hp\n",
      "85.0     2544\n",
      "66.0     2122\n",
      "81.0     1402\n",
      "100.0    1319\n",
      "110.0    1118\n",
      "         ... \n",
      "75.0        1\n",
      "132.0       1\n",
      "239.0       1\n",
      "115.0       1\n",
      "195.0       1\n",
      "Name: count, Length: 76, dtype: int64\n"
     ]
    }
   ],
   "source": [
    "df = fill(\"mode\", df, 'hp', ['make_model', 'body_type', 'displacement'])"
   ]
  },
  {
   "cell_type": "code",
   "execution_count": 1120,
   "id": "8143ba5f-7b31-45b0-aae6-fdb2d8d21214",
   "metadata": {},
   "outputs": [
    {
     "name": "stdout",
     "output_type": "stream",
     "text": [
      "Filling column: hp\n",
      "Grouping by: ['make_model', 'displacement']\n",
      "Number of NaN before filling: 3\n",
      "Number of NaN filled: 0\n",
      "Number of NaN after filling: 3\n",
      "------------------\n",
      "hp\n",
      "85.0     2544\n",
      "66.0     2122\n",
      "81.0     1402\n",
      "100.0    1319\n",
      "110.0    1118\n",
      "         ... \n",
      "75.0        1\n",
      "132.0       1\n",
      "239.0       1\n",
      "115.0       1\n",
      "195.0       1\n",
      "Name: count, Length: 76, dtype: int64\n"
     ]
    }
   ],
   "source": [
    "df = fill(\"mode\", df, 'hp', ['make_model', 'displacement'])"
   ]
  },
  {
   "cell_type": "code",
   "execution_count": 1121,
   "id": "368802c9-efc3-4b00-9b29-19eee4f34a62",
   "metadata": {},
   "outputs": [
    {
     "name": "stdout",
     "output_type": "stream",
     "text": [
      "Filling column: hp\n",
      "Grouping by: ['make_model', 'displacement']\n",
      "Number of NaN before filling: 3\n",
      "Number of NaN filled: 0\n",
      "Number of NaN after filling: 3\n",
      "------------------\n",
      "hp\n",
      "85.0     2544\n",
      "66.0     2122\n",
      "81.0     1402\n",
      "100.0    1319\n",
      "110.0    1118\n",
      "         ... \n",
      "75.0        1\n",
      "132.0       1\n",
      "239.0       1\n",
      "115.0       1\n",
      "195.0       1\n",
      "Name: count, Length: 76, dtype: int64\n"
     ]
    }
   ],
   "source": [
    "df = fill(\"mode\", df, 'hp', ['make_model', 'displacement'])"
   ]
  },
  {
   "cell_type": "code",
   "execution_count": 1122,
   "id": "a7e9b7fd-9d3d-444d-be70-daf92c7e4b73",
   "metadata": {},
   "outputs": [
    {
     "name": "stdout",
     "output_type": "stream",
     "text": [
      "Filling column: hp\n",
      "Grouping by: make_model\n",
      "Number of NaN before filling: 3\n",
      "Number of NaN filled: 3\n",
      "Number of NaN after filling: 0\n",
      "------------------\n",
      "hp\n",
      "85.0     2544\n",
      "66.0     2123\n",
      "81.0     1402\n",
      "100.0    1319\n",
      "110.0    1118\n",
      "         ... \n",
      "133.0       1\n",
      "123.0       1\n",
      "84.0        1\n",
      "195.0       1\n",
      "137.0       1\n",
      "Name: count, Length: 75, dtype: int64\n"
     ]
    }
   ],
   "source": [
    "df = fill(\"mode\", df, 'hp', 'make_model')"
   ]
  },
  {
   "cell_type": "markdown",
   "id": "0bf931a7-7a8f-44a1-904c-c99471745ef4",
   "metadata": {
    "jp-MarkdownHeadingCollapsed": true
   },
   "source": [
    "### co2_emission"
   ]
  },
  {
   "cell_type": "code",
   "execution_count": 1191,
   "id": "d1389897-a868-4fd5-9c06-a72be60daa06",
   "metadata": {},
   "outputs": [
    {
     "data": {
      "text/plain": [
       "<Axes: xlabel='make_model', ylabel='co2_emission'>"
      ]
     },
     "execution_count": 1191,
     "metadata": {},
     "output_type": "execute_result"
    },
    {
     "data": {
      "image/png": "[encoded data removed]",
      "text/plain": [
       "<Figure size 640x480 with 1 Axes>"
      ]
     },
     "metadata": {},
     "output_type": "display_data"
    }
   ],
   "source": [
    "sns.boxplot(y='co2_emission',data=df, x='make_model')"
   ]
  },
  {
   "cell_type": "markdown",
   "id": "3315826d-b85c-4876-b03d-833d60d88416",
   "metadata": {},
   "source": [
    "- #### Convert emission values less than 70 and greater than 300 to null and then fill according to the columns make_model and displacement"
   ]
  },
  {
   "cell_type": "code",
   "execution_count": 1192,
   "id": "d46635d6-d009-47bd-aed4-0401776ccadf",
   "metadata": {},
   "outputs": [
    {
     "data": {
      "text/html": [
       "<div>\n",
       "<style scoped>\n",
       "    .dataframe tbody tr th:only-of-type {\n",
       "        vertical-align: middle;\n",
       "    }\n",
       "\n",
       "    .dataframe tbody tr th {\n",
       "        vertical-align: top;\n",
       "    }\n",
       "\n",
       "    .dataframe thead th {\n",
       "        text-align: right;\n",
       "    }\n",
       "</style>\n",
       "<table border=\"1\" class=\"dataframe\">\n",
       "  <thead>\n",
       "    <tr style=\"text-align: right;\">\n",
       "      <th></th>\n",
       "      <th>make_model</th>\n",
       "      <th>body_type</th>\n",
       "      <th>price</th>\n",
       "      <th>vat</th>\n",
       "      <th>km</th>\n",
       "      <th>hp</th>\n",
       "      <th>type</th>\n",
       "      <th>previous_owners</th>\n",
       "      <th>inspection_new</th>\n",
       "      <th>warranty</th>\n",
       "      <th>body_color</th>\n",
       "      <th>paint_type</th>\n",
       "      <th>nr_of_doors</th>\n",
       "      <th>nr_of_seats</th>\n",
       "      <th>gearing_type</th>\n",
       "      <th>displacement</th>\n",
       "      <th>cylinders</th>\n",
       "      <th>weight</th>\n",
       "      <th>drive_chain</th>\n",
       "      <th>fuel</th>\n",
       "      <th>co2_emission</th>\n",
       "      <th>emission_class</th>\n",
       "      <th>comfort_convenience</th>\n",
       "      <th>entertainment_media</th>\n",
       "      <th>extras</th>\n",
       "      <th>safety_security</th>\n",
       "      <th>gears</th>\n",
       "      <th>age</th>\n",
       "      <th>upholstery_material</th>\n",
       "      <th>consumption_combined</th>\n",
       "      <th>consumption_city</th>\n",
       "      <th>consumption_country</th>\n",
       "    </tr>\n",
       "  </thead>\n",
       "  <tbody>\n",
       "    <tr>\n",
       "      <th>535</th>\n",
       "      <td>Audi A1</td>\n",
       "      <td>Compact</td>\n",
       "      <td>12990</td>\n",
       "      <td>VAT undeductible</td>\n",
       "      <td>41200.0</td>\n",
       "      <td>70.0</td>\n",
       "      <td>Used</td>\n",
       "      <td>1.0</td>\n",
       "      <td>Yes</td>\n",
       "      <td>0.0</td>\n",
       "      <td>Silver</td>\n",
       "      <td>Metallic</td>\n",
       "      <td>5.0</td>\n",
       "      <td>5.0</td>\n",
       "      <td>Manual</td>\n",
       "      <td>999.0</td>\n",
       "      <td>8.0</td>\n",
       "      <td>1165.0</td>\n",
       "      <td>front</td>\n",
       "      <td>Benzine</td>\n",
       "      <td>331.0</td>\n",
       "      <td>Euro 4</td>\n",
       "      <td>'Air conditioning', 'Automatic climate control...</td>\n",
       "      <td>NaN</td>\n",
       "      <td>['Ski bag', 'Sport suspension']</td>\n",
       "      <td>['ABS', 'Alarm system', 'Central door lock', '...</td>\n",
       "      <td>6.0</td>\n",
       "      <td>3.0</td>\n",
       "      <td>Cloth</td>\n",
       "      <td>13.8</td>\n",
       "      <td>19.9</td>\n",
       "      <td>10.3</td>\n",
       "    </tr>\n",
       "    <tr>\n",
       "      <th>4556</th>\n",
       "      <td>Audi A3</td>\n",
       "      <td>Sedans</td>\n",
       "      <td>23500</td>\n",
       "      <td>VAT deductible</td>\n",
       "      <td>27815.0</td>\n",
       "      <td>81.0</td>\n",
       "      <td>Used</td>\n",
       "      <td>1.0</td>\n",
       "      <td>No</td>\n",
       "      <td>0.0</td>\n",
       "      <td>Grey</td>\n",
       "      <td>Metallic</td>\n",
       "      <td>5.0</td>\n",
       "      <td>5.0</td>\n",
       "      <td>Automatic</td>\n",
       "      <td>1598.0</td>\n",
       "      <td>4.0</td>\n",
       "      <td>1355.0</td>\n",
       "      <td>front</td>\n",
       "      <td>Diesel</td>\n",
       "      <td>990.0</td>\n",
       "      <td>Euro 6</td>\n",
       "      <td>'Multi-function steering wheel', 'Park Distanc...</td>\n",
       "      <td>'Bluetooth'</td>\n",
       "      <td>['Alloy wheels']</td>\n",
       "      <td>['ABS', 'Central door lock', 'Power steering',...</td>\n",
       "      <td>6.0</td>\n",
       "      <td>1.0</td>\n",
       "      <td>Other</td>\n",
       "      <td>38.0</td>\n",
       "      <td>43.0</td>\n",
       "      <td>35.0</td>\n",
       "    </tr>\n",
       "  </tbody>\n",
       "</table>\n",
       "</div>"
      ],
      "text/plain": [
       "     make_model body_type  price               vat       km    hp  type  \\\n",
       "535     Audi A1   Compact  12990  VAT undeductible  41200.0  70.0  Used   \n",
       "4556    Audi A3    Sedans  23500    VAT deductible  27815.0  81.0  Used   \n",
       "\n",
       "      previous_owners inspection_new  warranty body_color paint_type  \\\n",
       "535               1.0            Yes       0.0     Silver   Metallic   \n",
       "4556              1.0             No       0.0       Grey   Metallic   \n",
       "\n",
       "      nr_of_doors  nr_of_seats gearing_type  displacement  cylinders  weight  \\\n",
       "535           5.0          5.0       Manual         999.0        8.0  1165.0   \n",
       "4556          5.0          5.0    Automatic        1598.0        4.0  1355.0   \n",
       "\n",
       "     drive_chain     fuel  co2_emission emission_class  \\\n",
       "535        front  Benzine         331.0         Euro 4   \n",
       "4556       front   Diesel         990.0         Euro 6   \n",
       "\n",
       "                                    comfort_convenience entertainment_media  \\\n",
       "535   'Air conditioning', 'Automatic climate control...                 NaN   \n",
       "4556  'Multi-function steering wheel', 'Park Distanc...         'Bluetooth'   \n",
       "\n",
       "                               extras  \\\n",
       "535   ['Ski bag', 'Sport suspension']   \n",
       "4556                 ['Alloy wheels']   \n",
       "\n",
       "                                        safety_security  gears  age  \\\n",
       "535   ['ABS', 'Alarm system', 'Central door lock', '...    6.0  3.0   \n",
       "4556  ['ABS', 'Central door lock', 'Power steering',...    6.0  1.0   \n",
       "\n",
       "     upholstery_material  consumption_combined  consumption_city  \\\n",
       "535                Cloth                  13.8              19.9   \n",
       "4556               Other                  38.0              43.0   \n",
       "\n",
       "      consumption_country  \n",
       "535                  10.3  \n",
       "4556                 35.0  "
      ]
     },
     "execution_count": 1192,
     "metadata": {},
     "output_type": "execute_result"
    }
   ],
   "source": [
    "df[df['co2_emission']>300]"
   ]
  },
  {
   "cell_type": "code",
   "execution_count": 1193,
   "id": "f56d31dd-7a69-49d0-ac39-906d7577dbf3",
   "metadata": {},
   "outputs": [
    {
     "data": {
      "text/html": [
       "<div>\n",
       "<style scoped>\n",
       "    .dataframe tbody tr th:only-of-type {\n",
       "        vertical-align: middle;\n",
       "    }\n",
       "\n",
       "    .dataframe tbody tr th {\n",
       "        vertical-align: top;\n",
       "    }\n",
       "\n",
       "    .dataframe thead th {\n",
       "        text-align: right;\n",
       "    }\n",
       "</style>\n",
       "<table border=\"1\" class=\"dataframe\">\n",
       "  <thead>\n",
       "    <tr style=\"text-align: right;\">\n",
       "      <th></th>\n",
       "      <th>make_model</th>\n",
       "      <th>body_type</th>\n",
       "      <th>price</th>\n",
       "      <th>vat</th>\n",
       "      <th>km</th>\n",
       "      <th>hp</th>\n",
       "      <th>type</th>\n",
       "      <th>previous_owners</th>\n",
       "      <th>inspection_new</th>\n",
       "      <th>warranty</th>\n",
       "      <th>body_color</th>\n",
       "      <th>paint_type</th>\n",
       "      <th>nr_of_doors</th>\n",
       "      <th>nr_of_seats</th>\n",
       "      <th>gearing_type</th>\n",
       "      <th>displacement</th>\n",
       "      <th>cylinders</th>\n",
       "      <th>weight</th>\n",
       "      <th>drive_chain</th>\n",
       "      <th>fuel</th>\n",
       "      <th>co2_emission</th>\n",
       "      <th>emission_class</th>\n",
       "      <th>comfort_convenience</th>\n",
       "      <th>entertainment_media</th>\n",
       "      <th>extras</th>\n",
       "      <th>safety_security</th>\n",
       "      <th>gears</th>\n",
       "      <th>age</th>\n",
       "      <th>upholstery_material</th>\n",
       "      <th>consumption_combined</th>\n",
       "      <th>consumption_city</th>\n",
       "      <th>consumption_country</th>\n",
       "    </tr>\n",
       "  </thead>\n",
       "  <tbody>\n",
       "    <tr>\n",
       "      <th>3612</th>\n",
       "      <td>Audi A3</td>\n",
       "      <td>Sedans</td>\n",
       "      <td>38450</td>\n",
       "      <td>Price negotiable</td>\n",
       "      <td>13800.0</td>\n",
       "      <td>110.0</td>\n",
       "      <td>Used</td>\n",
       "      <td>1.0</td>\n",
       "      <td>No</td>\n",
       "      <td>0.0</td>\n",
       "      <td>Black</td>\n",
       "      <td>Metallic</td>\n",
       "      <td>5.0</td>\n",
       "      <td>5.0</td>\n",
       "      <td>Semi-automatic</td>\n",
       "      <td>1395.0</td>\n",
       "      <td>4.0</td>\n",
       "      <td>1615.0</td>\n",
       "      <td>front</td>\n",
       "      <td>Electric</td>\n",
       "      <td>36.0</td>\n",
       "      <td>Euro 6</td>\n",
       "      <td>'Air conditioning', 'Armrest', 'Automatic clim...</td>\n",
       "      <td>'Bluetooth', 'CD player', 'Digital radio', 'Ha...</td>\n",
       "      <td>['Alloy wheels', 'Sport package', 'Sport seats...</td>\n",
       "      <td>['ABS', 'Adaptive Cruise Control', 'Alarm syst...</td>\n",
       "      <td>6.0</td>\n",
       "      <td>1.0</td>\n",
       "      <td>Cloth</td>\n",
       "      <td>2.60</td>\n",
       "      <td>1.0</td>\n",
       "      <td>4.2</td>\n",
       "    </tr>\n",
       "    <tr>\n",
       "      <th>3615</th>\n",
       "      <td>Audi A3</td>\n",
       "      <td>Sedans</td>\n",
       "      <td>35899</td>\n",
       "      <td>VAT undeductible</td>\n",
       "      <td>20880.0</td>\n",
       "      <td>110.0</td>\n",
       "      <td>Used</td>\n",
       "      <td>1.0</td>\n",
       "      <td>No</td>\n",
       "      <td>0.0</td>\n",
       "      <td>White</td>\n",
       "      <td>Metallic</td>\n",
       "      <td>5.0</td>\n",
       "      <td>5.0</td>\n",
       "      <td>Semi-automatic</td>\n",
       "      <td>1395.0</td>\n",
       "      <td>4.0</td>\n",
       "      <td>1615.0</td>\n",
       "      <td>front</td>\n",
       "      <td>Electric</td>\n",
       "      <td>36.0</td>\n",
       "      <td>Euro 6</td>\n",
       "      <td>'Air conditioning', 'Power windows', 'Seat ven...</td>\n",
       "      <td>'Bluetooth', 'Radio'</td>\n",
       "      <td>['Alloy wheels']</td>\n",
       "      <td>['ABS', 'Adaptive Cruise Control', 'Alarm syst...</td>\n",
       "      <td>6.0</td>\n",
       "      <td>1.0</td>\n",
       "      <td>Cloth</td>\n",
       "      <td>2.60</td>\n",
       "      <td>1.0</td>\n",
       "      <td>4.2</td>\n",
       "    </tr>\n",
       "    <tr>\n",
       "      <th>3617</th>\n",
       "      <td>Audi A3</td>\n",
       "      <td>Sedans</td>\n",
       "      <td>38000</td>\n",
       "      <td>Price negotiable</td>\n",
       "      <td>12000.0</td>\n",
       "      <td>110.0</td>\n",
       "      <td>Used</td>\n",
       "      <td>1.0</td>\n",
       "      <td>No</td>\n",
       "      <td>0.0</td>\n",
       "      <td>Grey</td>\n",
       "      <td>Metallic</td>\n",
       "      <td>5.0</td>\n",
       "      <td>5.0</td>\n",
       "      <td>Semi-automatic</td>\n",
       "      <td>1395.0</td>\n",
       "      <td>4.0</td>\n",
       "      <td>1615.0</td>\n",
       "      <td>front</td>\n",
       "      <td>Electric</td>\n",
       "      <td>36.0</td>\n",
       "      <td>Euro 6</td>\n",
       "      <td>'Air conditioning', 'Armrest', 'Automatic clim...</td>\n",
       "      <td>'Bluetooth', 'CD player', 'Digital radio', 'Ha...</td>\n",
       "      <td>['Alloy wheels', 'Shift paddles', 'Sport packa...</td>\n",
       "      <td>['ABS', 'Adaptive Cruise Control', 'Adaptive h...</td>\n",
       "      <td>6.0</td>\n",
       "      <td>1.0</td>\n",
       "      <td>Part leather</td>\n",
       "      <td>2.60</td>\n",
       "      <td>1.0</td>\n",
       "      <td>4.2</td>\n",
       "    </tr>\n",
       "    <tr>\n",
       "      <th>4089</th>\n",
       "      <td>Audi A3</td>\n",
       "      <td>Sedans</td>\n",
       "      <td>19500</td>\n",
       "      <td>VAT deductible</td>\n",
       "      <td>23644.0</td>\n",
       "      <td>85.0</td>\n",
       "      <td>Used</td>\n",
       "      <td>1.0</td>\n",
       "      <td>No</td>\n",
       "      <td>0.0</td>\n",
       "      <td>Blue</td>\n",
       "      <td>Metallic</td>\n",
       "      <td>5.0</td>\n",
       "      <td>5.0</td>\n",
       "      <td>Manual</td>\n",
       "      <td>1598.0</td>\n",
       "      <td>4.0</td>\n",
       "      <td>1360.0</td>\n",
       "      <td>front</td>\n",
       "      <td>Diesel</td>\n",
       "      <td>1.0</td>\n",
       "      <td>Euro 6</td>\n",
       "      <td>'Air conditioning', 'Automatic climate control...</td>\n",
       "      <td>'Bluetooth', 'On-board computer'</td>\n",
       "      <td>['Alloy wheels']</td>\n",
       "      <td>['ABS', 'Central door lock', 'Power steering',...</td>\n",
       "      <td>6.0</td>\n",
       "      <td>1.0</td>\n",
       "      <td>Other</td>\n",
       "      <td>40.00</td>\n",
       "      <td>45.0</td>\n",
       "      <td>37.0</td>\n",
       "    </tr>\n",
       "    <tr>\n",
       "      <th>5818</th>\n",
       "      <td>Opel Astra</td>\n",
       "      <td>Sedans</td>\n",
       "      <td>14990</td>\n",
       "      <td>VAT deductible</td>\n",
       "      <td>85182.0</td>\n",
       "      <td>110.0</td>\n",
       "      <td>Used</td>\n",
       "      <td>1.0</td>\n",
       "      <td>No</td>\n",
       "      <td>0.0</td>\n",
       "      <td>Brown</td>\n",
       "      <td>Metallic</td>\n",
       "      <td>5.0</td>\n",
       "      <td>5.0</td>\n",
       "      <td>Automatic</td>\n",
       "      <td>1399.0</td>\n",
       "      <td>4.0</td>\n",
       "      <td>1308.0</td>\n",
       "      <td>front</td>\n",
       "      <td>Benzine</td>\n",
       "      <td>12.0</td>\n",
       "      <td>Euro 6</td>\n",
       "      <td>'Air conditioning', 'Armrest', 'Automatic clim...</td>\n",
       "      <td>'Bluetooth', 'Hands-free equipment', 'MP3', 'O...</td>\n",
       "      <td>['Alloy wheels', 'Catalytic Converter']</td>\n",
       "      <td>['ABS', 'Central door lock', 'Daytime running ...</td>\n",
       "      <td>6.0</td>\n",
       "      <td>3.0</td>\n",
       "      <td>Cloth</td>\n",
       "      <td>5.10</td>\n",
       "      <td>6.3</td>\n",
       "      <td>4.3</td>\n",
       "    </tr>\n",
       "    <tr>\n",
       "      <th>6397</th>\n",
       "      <td>Opel Astra</td>\n",
       "      <td>Sedans</td>\n",
       "      <td>6950</td>\n",
       "      <td>VAT undeductible</td>\n",
       "      <td>88000.0</td>\n",
       "      <td>81.0</td>\n",
       "      <td>Used</td>\n",
       "      <td>1.0</td>\n",
       "      <td>No</td>\n",
       "      <td>0.0</td>\n",
       "      <td>Grey</td>\n",
       "      <td>Metallic</td>\n",
       "      <td>5.0</td>\n",
       "      <td>5.0</td>\n",
       "      <td>Manual</td>\n",
       "      <td>1598.0</td>\n",
       "      <td>4.0</td>\n",
       "      <td>1350.0</td>\n",
       "      <td>front</td>\n",
       "      <td>Diesel</td>\n",
       "      <td>5.0</td>\n",
       "      <td>Euro 6</td>\n",
       "      <td>'Air conditioning', 'Leather steering wheel', ...</td>\n",
       "      <td>'CD player'</td>\n",
       "      <td>['Alloy wheels']</td>\n",
       "      <td>['ABS', 'Central door lock', 'Driver-side airb...</td>\n",
       "      <td>6.0</td>\n",
       "      <td>0.0</td>\n",
       "      <td>Cloth</td>\n",
       "      <td>4.50</td>\n",
       "      <td>5.0</td>\n",
       "      <td>4.0</td>\n",
       "    </tr>\n",
       "    <tr>\n",
       "      <th>6578</th>\n",
       "      <td>Opel Astra</td>\n",
       "      <td>Station wagon</td>\n",
       "      <td>17850</td>\n",
       "      <td>VAT deductible</td>\n",
       "      <td>29900.0</td>\n",
       "      <td>110.0</td>\n",
       "      <td>Used</td>\n",
       "      <td>1.0</td>\n",
       "      <td>Yes</td>\n",
       "      <td>0.0</td>\n",
       "      <td>Green</td>\n",
       "      <td>Metallic</td>\n",
       "      <td>5.0</td>\n",
       "      <td>5.0</td>\n",
       "      <td>Automatic</td>\n",
       "      <td>1399.0</td>\n",
       "      <td>4.0</td>\n",
       "      <td>1350.0</td>\n",
       "      <td>front</td>\n",
       "      <td>Benzine</td>\n",
       "      <td>12.0</td>\n",
       "      <td>Euro 6</td>\n",
       "      <td>'Air conditioning', 'Armrest', 'Automatic clim...</td>\n",
       "      <td>'Bluetooth', 'Hands-free equipment', 'On-board...</td>\n",
       "      <td>['Alloy wheels', 'Catalytic Converter', 'Roof ...</td>\n",
       "      <td>['ABS', 'Central door lock', 'Daytime running ...</td>\n",
       "      <td>6.0</td>\n",
       "      <td>1.0</td>\n",
       "      <td>Cloth</td>\n",
       "      <td>5.10</td>\n",
       "      <td>6.3</td>\n",
       "      <td>4.3</td>\n",
       "    </tr>\n",
       "    <tr>\n",
       "      <th>6579</th>\n",
       "      <td>Opel Astra</td>\n",
       "      <td>Station wagon</td>\n",
       "      <td>17850</td>\n",
       "      <td>VAT deductible</td>\n",
       "      <td>29900.0</td>\n",
       "      <td>110.0</td>\n",
       "      <td>Used</td>\n",
       "      <td>1.0</td>\n",
       "      <td>Yes</td>\n",
       "      <td>0.0</td>\n",
       "      <td>Green</td>\n",
       "      <td>Metallic</td>\n",
       "      <td>5.0</td>\n",
       "      <td>5.0</td>\n",
       "      <td>Automatic</td>\n",
       "      <td>1399.0</td>\n",
       "      <td>4.0</td>\n",
       "      <td>1350.0</td>\n",
       "      <td>front</td>\n",
       "      <td>Benzine</td>\n",
       "      <td>12.0</td>\n",
       "      <td>Euro 6</td>\n",
       "      <td>'Air conditioning', 'Armrest', 'Automatic clim...</td>\n",
       "      <td>'Bluetooth', 'Hands-free equipment', 'On-board...</td>\n",
       "      <td>['Alloy wheels', 'Catalytic Converter', 'Roof ...</td>\n",
       "      <td>['ABS', 'Central door lock', 'Daytime running ...</td>\n",
       "      <td>6.0</td>\n",
       "      <td>1.0</td>\n",
       "      <td>Cloth</td>\n",
       "      <td>5.10</td>\n",
       "      <td>6.3</td>\n",
       "      <td>4.3</td>\n",
       "    </tr>\n",
       "    <tr>\n",
       "      <th>8110</th>\n",
       "      <td>Opel Astra</td>\n",
       "      <td>Station wagon</td>\n",
       "      <td>18380</td>\n",
       "      <td>VAT deductible</td>\n",
       "      <td>1020.0</td>\n",
       "      <td>77.0</td>\n",
       "      <td>Used</td>\n",
       "      <td>1.0</td>\n",
       "      <td>Yes</td>\n",
       "      <td>60.0</td>\n",
       "      <td>Silver</td>\n",
       "      <td>Metallic</td>\n",
       "      <td>5.0</td>\n",
       "      <td>5.0</td>\n",
       "      <td>Manual</td>\n",
       "      <td>999.0</td>\n",
       "      <td>3.0</td>\n",
       "      <td>1288.0</td>\n",
       "      <td>front</td>\n",
       "      <td>Benzine</td>\n",
       "      <td>14.0</td>\n",
       "      <td>Euro 6</td>\n",
       "      <td>'Air conditioning', 'Armrest', 'Automatic clim...</td>\n",
       "      <td>'Bluetooth', 'Digital radio', 'Hands-free equi...</td>\n",
       "      <td>['Alloy wheels']</td>\n",
       "      <td>['ABS', 'Central door lock', 'Daytime running ...</td>\n",
       "      <td>5.0</td>\n",
       "      <td>0.0</td>\n",
       "      <td>Cloth</td>\n",
       "      <td>5.15</td>\n",
       "      <td>5.0</td>\n",
       "      <td>5.3</td>\n",
       "    </tr>\n",
       "    <tr>\n",
       "      <th>8217</th>\n",
       "      <td>Opel Astra</td>\n",
       "      <td>Sedans</td>\n",
       "      <td>17850</td>\n",
       "      <td>VAT deductible</td>\n",
       "      <td>4500.0</td>\n",
       "      <td>92.0</td>\n",
       "      <td>Employee's car</td>\n",
       "      <td>1.0</td>\n",
       "      <td>Yes</td>\n",
       "      <td>0.0</td>\n",
       "      <td>Red</td>\n",
       "      <td>Metallic</td>\n",
       "      <td>5.0</td>\n",
       "      <td>5.0</td>\n",
       "      <td>Manual</td>\n",
       "      <td>1399.0</td>\n",
       "      <td>4.0</td>\n",
       "      <td>1278.0</td>\n",
       "      <td>front</td>\n",
       "      <td>Benzine</td>\n",
       "      <td>0.0</td>\n",
       "      <td>Euro 6</td>\n",
       "      <td>'Air conditioning', 'Armrest', 'Automatic clim...</td>\n",
       "      <td>'Bluetooth', 'Hands-free equipment', 'MP3', 'O...</td>\n",
       "      <td>['Touch screen', 'Voice Control']</td>\n",
       "      <td>['ABS', 'Central door lock', 'Driver-side airb...</td>\n",
       "      <td>6.0</td>\n",
       "      <td>0.0</td>\n",
       "      <td>Cloth</td>\n",
       "      <td>0.00</td>\n",
       "      <td>0.0</td>\n",
       "      <td>0.0</td>\n",
       "    </tr>\n",
       "    <tr>\n",
       "      <th>8542</th>\n",
       "      <td>Opel Corsa</td>\n",
       "      <td>Compact</td>\n",
       "      <td>10950</td>\n",
       "      <td>VAT deductible</td>\n",
       "      <td>34800.0</td>\n",
       "      <td>66.0</td>\n",
       "      <td>Used</td>\n",
       "      <td>2.0</td>\n",
       "      <td>No</td>\n",
       "      <td>12.0</td>\n",
       "      <td>Blue</td>\n",
       "      <td>Metallic</td>\n",
       "      <td>3.0</td>\n",
       "      <td>5.0</td>\n",
       "      <td>Automatic</td>\n",
       "      <td>1398.0</td>\n",
       "      <td>4.0</td>\n",
       "      <td>1163.0</td>\n",
       "      <td>front</td>\n",
       "      <td>Benzine</td>\n",
       "      <td>12.0</td>\n",
       "      <td>Euro 6</td>\n",
       "      <td>'Air conditioning', 'Cruise control', 'Electri...</td>\n",
       "      <td>'Bluetooth', 'Hands-free equipment', 'MP3', 'O...</td>\n",
       "      <td>['Alloy wheels', 'Catalytic Converter']</td>\n",
       "      <td>['ABS', 'Central door lock', 'Daytime running ...</td>\n",
       "      <td>6.0</td>\n",
       "      <td>3.0</td>\n",
       "      <td>Cloth</td>\n",
       "      <td>5.20</td>\n",
       "      <td>6.7</td>\n",
       "      <td>4.2</td>\n",
       "    </tr>\n",
       "    <tr>\n",
       "      <th>9798</th>\n",
       "      <td>Opel Corsa</td>\n",
       "      <td>Compact</td>\n",
       "      <td>9900</td>\n",
       "      <td>VAT undeductible</td>\n",
       "      <td>19800.0</td>\n",
       "      <td>55.0</td>\n",
       "      <td>Used</td>\n",
       "      <td>2.0</td>\n",
       "      <td>No</td>\n",
       "      <td>12.0</td>\n",
       "      <td>Silver</td>\n",
       "      <td>Metallic</td>\n",
       "      <td>5.0</td>\n",
       "      <td>5.0</td>\n",
       "      <td>Manual</td>\n",
       "      <td>1398.0</td>\n",
       "      <td>4.0</td>\n",
       "      <td>1665.0</td>\n",
       "      <td>front</td>\n",
       "      <td>Benzine</td>\n",
       "      <td>51.0</td>\n",
       "      <td>Euro 6</td>\n",
       "      <td>'Air conditioning', 'Armrest', 'Cruise control...</td>\n",
       "      <td>'Bluetooth', 'CD player', 'Hands-free equipmen...</td>\n",
       "      <td>['Alloy wheels']</td>\n",
       "      <td>['ABS', 'Central door lock with remote control...</td>\n",
       "      <td>5.0</td>\n",
       "      <td>1.0</td>\n",
       "      <td>Cloth</td>\n",
       "      <td>5.45</td>\n",
       "      <td>6.7</td>\n",
       "      <td>4.2</td>\n",
       "    </tr>\n",
       "    <tr>\n",
       "      <th>10566</th>\n",
       "      <td>Opel Insignia</td>\n",
       "      <td>Station wagon</td>\n",
       "      <td>16900</td>\n",
       "      <td>VAT deductible</td>\n",
       "      <td>59800.0</td>\n",
       "      <td>125.0</td>\n",
       "      <td>Used</td>\n",
       "      <td>1.0</td>\n",
       "      <td>Yes</td>\n",
       "      <td>12.0</td>\n",
       "      <td>Black</td>\n",
       "      <td>Metallic</td>\n",
       "      <td>5.0</td>\n",
       "      <td>5.0</td>\n",
       "      <td>Automatic</td>\n",
       "      <td>1956.0</td>\n",
       "      <td>4.0</td>\n",
       "      <td>1733.0</td>\n",
       "      <td>front</td>\n",
       "      <td>Diesel</td>\n",
       "      <td>0.0</td>\n",
       "      <td>Euro 6</td>\n",
       "      <td>'Air conditioning', 'Armrest', 'Automatic clim...</td>\n",
       "      <td>'On-board computer', 'Radio'</td>\n",
       "      <td>['Alloy wheels', 'Touch screen']</td>\n",
       "      <td>['ABS', 'Adaptive headlights', 'Daytime runnin...</td>\n",
       "      <td>6.0</td>\n",
       "      <td>2.0</td>\n",
       "      <td>Part leather</td>\n",
       "      <td>0.00</td>\n",
       "      <td>0.0</td>\n",
       "      <td>0.0</td>\n",
       "    </tr>\n",
       "    <tr>\n",
       "      <th>11553</th>\n",
       "      <td>Opel Insignia</td>\n",
       "      <td>Station wagon</td>\n",
       "      <td>18900</td>\n",
       "      <td>VAT undeductible</td>\n",
       "      <td>34386.0</td>\n",
       "      <td>125.0</td>\n",
       "      <td>Used</td>\n",
       "      <td>1.0</td>\n",
       "      <td>No</td>\n",
       "      <td>24.0</td>\n",
       "      <td>Grey</td>\n",
       "      <td>Metallic</td>\n",
       "      <td>5.0</td>\n",
       "      <td>5.0</td>\n",
       "      <td>Manual</td>\n",
       "      <td>1956.0</td>\n",
       "      <td>4.0</td>\n",
       "      <td>1633.0</td>\n",
       "      <td>front</td>\n",
       "      <td>Diesel</td>\n",
       "      <td>5.0</td>\n",
       "      <td>Euro 6</td>\n",
       "      <td>'Air conditioning', 'Armrest', 'Automatic clim...</td>\n",
       "      <td>NaN</td>\n",
       "      <td>['Alloy wheels', 'Roof rack']</td>\n",
       "      <td>['ABS', 'Adaptive headlights', 'Central door l...</td>\n",
       "      <td>6.0</td>\n",
       "      <td>1.0</td>\n",
       "      <td>Cloth</td>\n",
       "      <td>4.40</td>\n",
       "      <td>5.0</td>\n",
       "      <td>6.9</td>\n",
       "    </tr>\n",
       "    <tr>\n",
       "      <th>11888</th>\n",
       "      <td>Opel Insignia</td>\n",
       "      <td>Station wagon</td>\n",
       "      <td>22990</td>\n",
       "      <td>VAT deductible</td>\n",
       "      <td>25583.0</td>\n",
       "      <td>121.0</td>\n",
       "      <td>Used</td>\n",
       "      <td>1.0</td>\n",
       "      <td>No</td>\n",
       "      <td>12.0</td>\n",
       "      <td>Grey</td>\n",
       "      <td>Metallic</td>\n",
       "      <td>5.0</td>\n",
       "      <td>5.0</td>\n",
       "      <td>Automatic</td>\n",
       "      <td>1490.0</td>\n",
       "      <td>4.0</td>\n",
       "      <td>1522.0</td>\n",
       "      <td>front</td>\n",
       "      <td>Benzine</td>\n",
       "      <td>14.0</td>\n",
       "      <td>Euro 6</td>\n",
       "      <td>'Air conditioning', 'Armrest', 'Automatic clim...</td>\n",
       "      <td>'Bluetooth', 'Hands-free equipment', 'On-board...</td>\n",
       "      <td>['Alloy wheels', 'Voice Control']</td>\n",
       "      <td>['ABS', 'Blind spot monitor', 'Central door lo...</td>\n",
       "      <td>6.0</td>\n",
       "      <td>1.0</td>\n",
       "      <td>Cloth</td>\n",
       "      <td>6.10</td>\n",
       "      <td>7.5</td>\n",
       "      <td>5.3</td>\n",
       "    </tr>\n",
       "    <tr>\n",
       "      <th>12343</th>\n",
       "      <td>Opel Insignia</td>\n",
       "      <td>Sedans</td>\n",
       "      <td>19950</td>\n",
       "      <td>VAT deductible</td>\n",
       "      <td>15018.0</td>\n",
       "      <td>103.0</td>\n",
       "      <td>Used</td>\n",
       "      <td>1.0</td>\n",
       "      <td>No</td>\n",
       "      <td>12.0</td>\n",
       "      <td>White</td>\n",
       "      <td>Metallic</td>\n",
       "      <td>5.0</td>\n",
       "      <td>5.0</td>\n",
       "      <td>Manual</td>\n",
       "      <td>1490.0</td>\n",
       "      <td>4.0</td>\n",
       "      <td>1441.0</td>\n",
       "      <td>front</td>\n",
       "      <td>Benzine</td>\n",
       "      <td>13.0</td>\n",
       "      <td>Euro 6</td>\n",
       "      <td>'Air conditioning', 'Armrest', 'Automatic clim...</td>\n",
       "      <td>'Bluetooth', 'Hands-free equipment', 'On-board...</td>\n",
       "      <td>['Alloy wheels', 'Catalytic Converter', 'Touch...</td>\n",
       "      <td>['ABS', 'Central door lock', 'Daytime running ...</td>\n",
       "      <td>6.0</td>\n",
       "      <td>1.0</td>\n",
       "      <td>Cloth</td>\n",
       "      <td>5.15</td>\n",
       "      <td>5.0</td>\n",
       "      <td>5.3</td>\n",
       "    </tr>\n",
       "    <tr>\n",
       "      <th>12547</th>\n",
       "      <td>Opel Insignia</td>\n",
       "      <td>Sedans</td>\n",
       "      <td>33950</td>\n",
       "      <td>VAT deductible</td>\n",
       "      <td>10.0</td>\n",
       "      <td>147.0</td>\n",
       "      <td>New</td>\n",
       "      <td>1.0</td>\n",
       "      <td>No</td>\n",
       "      <td>0.0</td>\n",
       "      <td>Black</td>\n",
       "      <td>Metallic</td>\n",
       "      <td>4.0</td>\n",
       "      <td>5.0</td>\n",
       "      <td>Automatic</td>\n",
       "      <td>1600.0</td>\n",
       "      <td>4.0</td>\n",
       "      <td>1503.0</td>\n",
       "      <td>front</td>\n",
       "      <td>Benzine</td>\n",
       "      <td>45.0</td>\n",
       "      <td>Euro 6</td>\n",
       "      <td>'Air conditioning', 'Armrest', 'Automatic clim...</td>\n",
       "      <td>'Bluetooth', 'Digital radio', 'Hands-free equi...</td>\n",
       "      <td>['Alloy wheels', 'Sport package', 'Sport seats...</td>\n",
       "      <td>['ABS', 'Adaptive headlights', 'Blind spot mon...</td>\n",
       "      <td>6.0</td>\n",
       "      <td>0.0</td>\n",
       "      <td>Full leather</td>\n",
       "      <td>6.30</td>\n",
       "      <td>8.0</td>\n",
       "      <td>5.3</td>\n",
       "    </tr>\n",
       "    <tr>\n",
       "      <th>13008</th>\n",
       "      <td>Opel Insignia</td>\n",
       "      <td>Other</td>\n",
       "      <td>24700</td>\n",
       "      <td>VAT undeductible</td>\n",
       "      <td>9800.0</td>\n",
       "      <td>100.0</td>\n",
       "      <td>Used</td>\n",
       "      <td>1.0</td>\n",
       "      <td>No</td>\n",
       "      <td>0.0</td>\n",
       "      <td>Blue</td>\n",
       "      <td>Metallic</td>\n",
       "      <td>5.0</td>\n",
       "      <td>5.0</td>\n",
       "      <td>Manual</td>\n",
       "      <td>1598.0</td>\n",
       "      <td>4.0</td>\n",
       "      <td>1503.0</td>\n",
       "      <td>front</td>\n",
       "      <td>Diesel</td>\n",
       "      <td>5.0</td>\n",
       "      <td>Euro 6</td>\n",
       "      <td>'Air conditioning', 'Automatic climate control...</td>\n",
       "      <td>NaN</td>\n",
       "      <td>['Alloy wheels']</td>\n",
       "      <td>['ABS', 'Adaptive Cruise Control', 'Adaptive h...</td>\n",
       "      <td>6.0</td>\n",
       "      <td>0.0</td>\n",
       "      <td>Part leather</td>\n",
       "      <td>4.20</td>\n",
       "      <td>5.0</td>\n",
       "      <td>5.8</td>\n",
       "    </tr>\n",
       "    <tr>\n",
       "      <th>14902</th>\n",
       "      <td>Renault Duster</td>\n",
       "      <td>Off-Road</td>\n",
       "      <td>10850</td>\n",
       "      <td>VAT undeductible</td>\n",
       "      <td>101.0</td>\n",
       "      <td>77.0</td>\n",
       "      <td>New</td>\n",
       "      <td>0.0</td>\n",
       "      <td>No</td>\n",
       "      <td>0.0</td>\n",
       "      <td>White</td>\n",
       "      <td>Uni/basic</td>\n",
       "      <td>5.0</td>\n",
       "      <td>5.0</td>\n",
       "      <td>Manual</td>\n",
       "      <td>1598.0</td>\n",
       "      <td>4.0</td>\n",
       "      <td>1734.0</td>\n",
       "      <td>4WD</td>\n",
       "      <td>Benzine</td>\n",
       "      <td>1.0</td>\n",
       "      <td>Euro 6</td>\n",
       "      <td>'Air conditioning', 'Power windows'</td>\n",
       "      <td>'On-board computer', 'Radio'</td>\n",
       "      <td>['Roof rack']</td>\n",
       "      <td>['ABS', 'Central door lock', 'Driver-side airb...</td>\n",
       "      <td>6.0</td>\n",
       "      <td>0.0</td>\n",
       "      <td>Cloth</td>\n",
       "      <td>1.00</td>\n",
       "      <td>1.0</td>\n",
       "      <td>1.0</td>\n",
       "    </tr>\n",
       "  </tbody>\n",
       "</table>\n",
       "</div>"
      ],
      "text/plain": [
       "           make_model      body_type  price               vat       km     hp  \\\n",
       "3612          Audi A3         Sedans  38450  Price negotiable  13800.0  110.0   \n",
       "3615          Audi A3         Sedans  35899  VAT undeductible  20880.0  110.0   \n",
       "3617          Audi A3         Sedans  38000  Price negotiable  12000.0  110.0   \n",
       "4089          Audi A3         Sedans  19500    VAT deductible  23644.0   85.0   \n",
       "5818       Opel Astra         Sedans  14990    VAT deductible  85182.0  110.0   \n",
       "6397       Opel Astra         Sedans   6950  VAT undeductible  88000.0   81.0   \n",
       "6578       Opel Astra  Station wagon  17850    VAT deductible  29900.0  110.0   \n",
       "6579       Opel Astra  Station wagon  17850    VAT deductible  29900.0  110.0   \n",
       "8110       Opel Astra  Station wagon  18380    VAT deductible   1020.0   77.0   \n",
       "8217       Opel Astra         Sedans  17850    VAT deductible   4500.0   92.0   \n",
       "8542       Opel Corsa        Compact  10950    VAT deductible  34800.0   66.0   \n",
       "9798       Opel Corsa        Compact   9900  VAT undeductible  19800.0   55.0   \n",
       "10566   Opel Insignia  Station wagon  16900    VAT deductible  59800.0  125.0   \n",
       "11553   Opel Insignia  Station wagon  18900  VAT undeductible  34386.0  125.0   \n",
       "11888   Opel Insignia  Station wagon  22990    VAT deductible  25583.0  121.0   \n",
       "12343   Opel Insignia         Sedans  19950    VAT deductible  15018.0  103.0   \n",
       "12547   Opel Insignia         Sedans  33950    VAT deductible     10.0  147.0   \n",
       "13008   Opel Insignia          Other  24700  VAT undeductible   9800.0  100.0   \n",
       "14902  Renault Duster       Off-Road  10850  VAT undeductible    101.0   77.0   \n",
       "\n",
       "                 type  previous_owners inspection_new  warranty body_color  \\\n",
       "3612             Used              1.0             No       0.0      Black   \n",
       "3615             Used              1.0             No       0.0      White   \n",
       "3617             Used              1.0             No       0.0       Grey   \n",
       "4089             Used              1.0             No       0.0       Blue   \n",
       "5818             Used              1.0             No       0.0      Brown   \n",
       "6397             Used              1.0             No       0.0       Grey   \n",
       "6578             Used              1.0            Yes       0.0      Green   \n",
       "6579             Used              1.0            Yes       0.0      Green   \n",
       "8110             Used              1.0            Yes      60.0     Silver   \n",
       "8217   Employee's car              1.0            Yes       0.0        Red   \n",
       "8542             Used              2.0             No      12.0       Blue   \n",
       "9798             Used              2.0             No      12.0     Silver   \n",
       "10566            Used              1.0            Yes      12.0      Black   \n",
       "11553            Used              1.0             No      24.0       Grey   \n",
       "11888            Used              1.0             No      12.0       Grey   \n",
       "12343            Used              1.0             No      12.0      White   \n",
       "12547             New              1.0             No       0.0      Black   \n",
       "13008            Used              1.0             No       0.0       Blue   \n",
       "14902             New              0.0             No       0.0      White   \n",
       "\n",
       "      paint_type  nr_of_doors  nr_of_seats    gearing_type  displacement  \\\n",
       "3612    Metallic          5.0          5.0  Semi-automatic        1395.0   \n",
       "3615    Metallic          5.0          5.0  Semi-automatic        1395.0   \n",
       "3617    Metallic          5.0          5.0  Semi-automatic        1395.0   \n",
       "4089    Metallic          5.0          5.0          Manual        1598.0   \n",
       "5818    Metallic          5.0          5.0       Automatic        1399.0   \n",
       "6397    Metallic          5.0          5.0          Manual        1598.0   \n",
       "6578    Metallic          5.0          5.0       Automatic        1399.0   \n",
       "6579    Metallic          5.0          5.0       Automatic        1399.0   \n",
       "8110    Metallic          5.0          5.0          Manual         999.0   \n",
       "8217    Metallic          5.0          5.0          Manual        1399.0   \n",
       "8542    Metallic          3.0          5.0       Automatic        1398.0   \n",
       "9798    Metallic          5.0          5.0          Manual        1398.0   \n",
       "10566   Metallic          5.0          5.0       Automatic        1956.0   \n",
       "11553   Metallic          5.0          5.0          Manual        1956.0   \n",
       "11888   Metallic          5.0          5.0       Automatic        1490.0   \n",
       "12343   Metallic          5.0          5.0          Manual        1490.0   \n",
       "12547   Metallic          4.0          5.0       Automatic        1600.0   \n",
       "13008   Metallic          5.0          5.0          Manual        1598.0   \n",
       "14902  Uni/basic          5.0          5.0          Manual        1598.0   \n",
       "\n",
       "       cylinders  weight drive_chain      fuel  co2_emission emission_class  \\\n",
       "3612         4.0  1615.0       front  Electric          36.0         Euro 6   \n",
       "3615         4.0  1615.0       front  Electric          36.0         Euro 6   \n",
       "3617         4.0  1615.0       front  Electric          36.0         Euro 6   \n",
       "4089         4.0  1360.0       front    Diesel           1.0         Euro 6   \n",
       "5818         4.0  1308.0       front   Benzine          12.0         Euro 6   \n",
       "6397         4.0  1350.0       front    Diesel           5.0         Euro 6   \n",
       "6578         4.0  1350.0       front   Benzine          12.0         Euro 6   \n",
       "6579         4.0  1350.0       front   Benzine          12.0         Euro 6   \n",
       "8110         3.0  1288.0       front   Benzine          14.0         Euro 6   \n",
       "8217         4.0  1278.0       front   Benzine           0.0         Euro 6   \n",
       "8542         4.0  1163.0       front   Benzine          12.0         Euro 6   \n",
       "9798         4.0  1665.0       front   Benzine          51.0         Euro 6   \n",
       "10566        4.0  1733.0       front    Diesel           0.0         Euro 6   \n",
       "11553        4.0  1633.0       front    Diesel           5.0         Euro 6   \n",
       "11888        4.0  1522.0       front   Benzine          14.0         Euro 6   \n",
       "12343        4.0  1441.0       front   Benzine          13.0         Euro 6   \n",
       "12547        4.0  1503.0       front   Benzine          45.0         Euro 6   \n",
       "13008        4.0  1503.0       front    Diesel           5.0         Euro 6   \n",
       "14902        4.0  1734.0         4WD   Benzine           1.0         Euro 6   \n",
       "\n",
       "                                     comfort_convenience  \\\n",
       "3612   'Air conditioning', 'Armrest', 'Automatic clim...   \n",
       "3615   'Air conditioning', 'Power windows', 'Seat ven...   \n",
       "3617   'Air conditioning', 'Armrest', 'Automatic clim...   \n",
       "4089   'Air conditioning', 'Automatic climate control...   \n",
       "5818   'Air conditioning', 'Armrest', 'Automatic clim...   \n",
       "6397   'Air conditioning', 'Leather steering wheel', ...   \n",
       "6578   'Air conditioning', 'Armrest', 'Automatic clim...   \n",
       "6579   'Air conditioning', 'Armrest', 'Automatic clim...   \n",
       "8110   'Air conditioning', 'Armrest', 'Automatic clim...   \n",
       "8217   'Air conditioning', 'Armrest', 'Automatic clim...   \n",
       "8542   'Air conditioning', 'Cruise control', 'Electri...   \n",
       "9798   'Air conditioning', 'Armrest', 'Cruise control...   \n",
       "10566  'Air conditioning', 'Armrest', 'Automatic clim...   \n",
       "11553  'Air conditioning', 'Armrest', 'Automatic clim...   \n",
       "11888  'Air conditioning', 'Armrest', 'Automatic clim...   \n",
       "12343  'Air conditioning', 'Armrest', 'Automatic clim...   \n",
       "12547  'Air conditioning', 'Armrest', 'Automatic clim...   \n",
       "13008  'Air conditioning', 'Automatic climate control...   \n",
       "14902                'Air conditioning', 'Power windows'   \n",
       "\n",
       "                                     entertainment_media  \\\n",
       "3612   'Bluetooth', 'CD player', 'Digital radio', 'Ha...   \n",
       "3615                                'Bluetooth', 'Radio'   \n",
       "3617   'Bluetooth', 'CD player', 'Digital radio', 'Ha...   \n",
       "4089                    'Bluetooth', 'On-board computer'   \n",
       "5818   'Bluetooth', 'Hands-free equipment', 'MP3', 'O...   \n",
       "6397                                         'CD player'   \n",
       "6578   'Bluetooth', 'Hands-free equipment', 'On-board...   \n",
       "6579   'Bluetooth', 'Hands-free equipment', 'On-board...   \n",
       "8110   'Bluetooth', 'Digital radio', 'Hands-free equi...   \n",
       "8217   'Bluetooth', 'Hands-free equipment', 'MP3', 'O...   \n",
       "8542   'Bluetooth', 'Hands-free equipment', 'MP3', 'O...   \n",
       "9798   'Bluetooth', 'CD player', 'Hands-free equipmen...   \n",
       "10566                       'On-board computer', 'Radio'   \n",
       "11553                                                NaN   \n",
       "11888  'Bluetooth', 'Hands-free equipment', 'On-board...   \n",
       "12343  'Bluetooth', 'Hands-free equipment', 'On-board...   \n",
       "12547  'Bluetooth', 'Digital radio', 'Hands-free equi...   \n",
       "13008                                                NaN   \n",
       "14902                       'On-board computer', 'Radio'   \n",
       "\n",
       "                                                  extras  \\\n",
       "3612   ['Alloy wheels', 'Sport package', 'Sport seats...   \n",
       "3615                                    ['Alloy wheels']   \n",
       "3617   ['Alloy wheels', 'Shift paddles', 'Sport packa...   \n",
       "4089                                    ['Alloy wheels']   \n",
       "5818             ['Alloy wheels', 'Catalytic Converter']   \n",
       "6397                                    ['Alloy wheels']   \n",
       "6578   ['Alloy wheels', 'Catalytic Converter', 'Roof ...   \n",
       "6579   ['Alloy wheels', 'Catalytic Converter', 'Roof ...   \n",
       "8110                                    ['Alloy wheels']   \n",
       "8217                   ['Touch screen', 'Voice Control']   \n",
       "8542             ['Alloy wheels', 'Catalytic Converter']   \n",
       "9798                                    ['Alloy wheels']   \n",
       "10566                   ['Alloy wheels', 'Touch screen']   \n",
       "11553                      ['Alloy wheels', 'Roof rack']   \n",
       "11888                  ['Alloy wheels', 'Voice Control']   \n",
       "12343  ['Alloy wheels', 'Catalytic Converter', 'Touch...   \n",
       "12547  ['Alloy wheels', 'Sport package', 'Sport seats...   \n",
       "13008                                   ['Alloy wheels']   \n",
       "14902                                      ['Roof rack']   \n",
       "\n",
       "                                         safety_security  gears  age  \\\n",
       "3612   ['ABS', 'Adaptive Cruise Control', 'Alarm syst...    6.0  1.0   \n",
       "3615   ['ABS', 'Adaptive Cruise Control', 'Alarm syst...    6.0  1.0   \n",
       "3617   ['ABS', 'Adaptive Cruise Control', 'Adaptive h...    6.0  1.0   \n",
       "4089   ['ABS', 'Central door lock', 'Power steering',...    6.0  1.0   \n",
       "5818   ['ABS', 'Central door lock', 'Daytime running ...    6.0  3.0   \n",
       "6397   ['ABS', 'Central door lock', 'Driver-side airb...    6.0  0.0   \n",
       "6578   ['ABS', 'Central door lock', 'Daytime running ...    6.0  1.0   \n",
       "6579   ['ABS', 'Central door lock', 'Daytime running ...    6.0  1.0   \n",
       "8110   ['ABS', 'Central door lock', 'Daytime running ...    5.0  0.0   \n",
       "8217   ['ABS', 'Central door lock', 'Driver-side airb...    6.0  0.0   \n",
       "8542   ['ABS', 'Central door lock', 'Daytime running ...    6.0  3.0   \n",
       "9798   ['ABS', 'Central door lock with remote control...    5.0  1.0   \n",
       "10566  ['ABS', 'Adaptive headlights', 'Daytime runnin...    6.0  2.0   \n",
       "11553  ['ABS', 'Adaptive headlights', 'Central door l...    6.0  1.0   \n",
       "11888  ['ABS', 'Blind spot monitor', 'Central door lo...    6.0  1.0   \n",
       "12343  ['ABS', 'Central door lock', 'Daytime running ...    6.0  1.0   \n",
       "12547  ['ABS', 'Adaptive headlights', 'Blind spot mon...    6.0  0.0   \n",
       "13008  ['ABS', 'Adaptive Cruise Control', 'Adaptive h...    6.0  0.0   \n",
       "14902  ['ABS', 'Central door lock', 'Driver-side airb...    6.0  0.0   \n",
       "\n",
       "      upholstery_material  consumption_combined  consumption_city  \\\n",
       "3612                Cloth                  2.60               1.0   \n",
       "3615                Cloth                  2.60               1.0   \n",
       "3617         Part leather                  2.60               1.0   \n",
       "4089                Other                 40.00              45.0   \n",
       "5818                Cloth                  5.10               6.3   \n",
       "6397                Cloth                  4.50               5.0   \n",
       "6578                Cloth                  5.10               6.3   \n",
       "6579                Cloth                  5.10               6.3   \n",
       "8110                Cloth                  5.15               5.0   \n",
       "8217                Cloth                  0.00               0.0   \n",
       "8542                Cloth                  5.20               6.7   \n",
       "9798                Cloth                  5.45               6.7   \n",
       "10566        Part leather                  0.00               0.0   \n",
       "11553               Cloth                  4.40               5.0   \n",
       "11888               Cloth                  6.10               7.5   \n",
       "12343               Cloth                  5.15               5.0   \n",
       "12547        Full leather                  6.30               8.0   \n",
       "13008        Part leather                  4.20               5.0   \n",
       "14902               Cloth                  1.00               1.0   \n",
       "\n",
       "       consumption_country  \n",
       "3612                   4.2  \n",
       "3615                   4.2  \n",
       "3617                   4.2  \n",
       "4089                  37.0  \n",
       "5818                   4.3  \n",
       "6397                   4.0  \n",
       "6578                   4.3  \n",
       "6579                   4.3  \n",
       "8110                   5.3  \n",
       "8217                   0.0  \n",
       "8542                   4.2  \n",
       "9798                   4.2  \n",
       "10566                  0.0  \n",
       "11553                  6.9  \n",
       "11888                  5.3  \n",
       "12343                  5.3  \n",
       "12547                  5.3  \n",
       "13008                  5.8  \n",
       "14902                  1.0  "
      ]
     },
     "execution_count": 1193,
     "metadata": {},
     "output_type": "execute_result"
    }
   ],
   "source": [
    "df[df['co2_emission']<70]"
   ]
  },
  {
   "cell_type": "code",
   "execution_count": 1194,
   "id": "06a7e36c-f86c-47aa-8e30-e8c79344a793",
   "metadata": {},
   "outputs": [],
   "source": [
    "df.loc[df[df['co2_emission']<70].index, 'co2_emission'] = np.nan"
   ]
  },
  {
   "cell_type": "code",
   "execution_count": 1195,
   "id": "d676e1a8-21cb-4730-9a83-af5704251439",
   "metadata": {},
   "outputs": [
    {
     "data": {
      "text/plain": [
       "19"
      ]
     },
     "execution_count": 1195,
     "metadata": {},
     "output_type": "execute_result"
    }
   ],
   "source": [
    "df['co2_emission'].isnull().sum()"
   ]
  },
  {
   "cell_type": "code",
   "execution_count": 1196,
   "id": "0d1141b5-fd04-4953-b81e-019c7e9d2222",
   "metadata": {},
   "outputs": [
    {
     "name": "stdout",
     "output_type": "stream",
     "text": [
      "Filling column: co2_emission\n",
      "Grouping by: displacement\n",
      "Number of NaN before filling: 19\n",
      "Number of NaN filled: 19\n",
      "Number of NaN after filling: 0\n",
      "------------------\n",
      "co2_emission\n",
      "120.0    1143\n",
      "97.0      794\n",
      "99.0      766\n",
      "114.0     653\n",
      "119.0     622\n",
      "         ... \n",
      "80.0        1\n",
      "253.0       1\n",
      "990.0       1\n",
      "165.0       1\n",
      "193.0       1\n",
      "Name: count, Length: 110, dtype: int64\n"
     ]
    }
   ],
   "source": [
    "df = fill(\"mode\", df, 'co2_emission', 'displacement')"
   ]
  },
  {
   "cell_type": "markdown",
   "id": "93ddad2f-85a6-4f5a-944b-5012cea33f1f",
   "metadata": {
    "jp-MarkdownHeadingCollapsed": true
   },
   "source": [
    "### consumption_combined"
   ]
  },
  {
   "cell_type": "code",
   "execution_count": 1123,
   "id": "904d33a8-ae54-4e0f-bf32-37f233de214a",
   "metadata": {},
   "outputs": [
    {
     "data": {
      "text/plain": [
       "<Axes: xlabel='make_model', ylabel='consumption_combined'>"
      ]
     },
     "execution_count": 1123,
     "metadata": {},
     "output_type": "execute_result"
    },
    {
     "data": {
      "image/png": "[encoded data removed]",
      "text/plain": [
       "<Figure size 640x480 with 1 Axes>"
      ]
     },
     "metadata": {},
     "output_type": "display_data"
    }
   ],
   "source": [
    "sns.boxplot(y='consumption_combined',data=df, x='make_model')"
   ]
  },
  {
   "cell_type": "markdown",
   "id": "c58ca5f6-76f2-496b-a731-d0ad779930a5",
   "metadata": {},
   "source": [
    "- #### convert 'consumption_country' values greater than 20 and less than 3 to null and then fill according to the columns 'co2_emission' and 'displacement'"
   ]
  },
  {
   "cell_type": "code",
   "execution_count": 1124,
   "id": "f78453fb-d9a7-49cf-bfa4-eb22ac01800b",
   "metadata": {},
   "outputs": [],
   "source": [
    "df.loc[(df['consumption_combined']>20)|(df['consumption_combined']<3), 'consumption_combined'] = np.nan"
   ]
  },
  {
   "cell_type": "code",
   "execution_count": 1125,
   "id": "50ea7469-c91a-42d6-b525-7f34917088b4",
   "metadata": {},
   "outputs": [
    {
     "data": {
      "text/plain": [
       "22"
      ]
     },
     "execution_count": 1125,
     "metadata": {},
     "output_type": "execute_result"
    }
   ],
   "source": [
    "df['consumption_combined'].isnull().sum()"
   ]
  },
  {
   "cell_type": "code",
   "execution_count": 1126,
   "id": "d5379396-7700-481e-8982-b3d5fefd6532",
   "metadata": {},
   "outputs": [
    {
     "name": "stdout",
     "output_type": "stream",
     "text": [
      "Filling column: consumption_combined\n",
      "Grouping by: co2_emission\n",
      "Number of NaN before filling: 22\n",
      "Number of NaN filled: 14\n",
      "Number of NaN after filling: 8\n",
      "------------------\n",
      "consumption_combined\n",
      "3.90     962\n",
      "5.60     892\n",
      "4.00     731\n",
      "5.40     664\n",
      "5.10     638\n",
      "        ... \n",
      "13.80      1\n",
      "11.00      1\n",
      "9.10       1\n",
      "7.55       1\n",
      "3.35       1\n",
      "Name: count, Length: 92, dtype: int64\n"
     ]
    }
   ],
   "source": [
    "df = fill(\"mode\", df, 'consumption_combined', 'co2_emission')"
   ]
  },
  {
   "cell_type": "code",
   "execution_count": 1127,
   "id": "0a21c2e2-bab1-450b-8e05-3bed26512c15",
   "metadata": {},
   "outputs": [
    {
     "name": "stdout",
     "output_type": "stream",
     "text": [
      "Filling column: consumption_combined\n",
      "Grouping by: displacement\n",
      "Number of NaN before filling: 8\n",
      "Number of NaN filled: 8\n",
      "Number of NaN after filling: 0\n",
      "------------------\n",
      "consumption_combined\n",
      "3.90     965\n",
      "5.60     892\n",
      "4.00     731\n",
      "5.40     665\n",
      "5.10     641\n",
      "        ... \n",
      "9.10       1\n",
      "7.50       1\n",
      "13.80      1\n",
      "7.55       1\n",
      "3.35       1\n",
      "Name: count, Length: 91, dtype: int64\n"
     ]
    }
   ],
   "source": [
    "df = fill(\"mode\", df, 'consumption_combined', 'displacement')"
   ]
  },
  {
   "cell_type": "code",
   "execution_count": 1128,
   "id": "e1e2a6f0-e3db-4aad-94ea-5d66f5c4f85c",
   "metadata": {},
   "outputs": [
    {
     "data": {
      "text/plain": [
       "0"
      ]
     },
     "execution_count": 1128,
     "metadata": {},
     "output_type": "execute_result"
    }
   ],
   "source": [
    "df['consumption_combined'].isnull().sum()"
   ]
  },
  {
   "cell_type": "code",
   "execution_count": 1129,
   "id": "ef92f910-8321-4586-9348-a1edb6d73f3d",
   "metadata": {},
   "outputs": [
    {
     "data": {
      "text/plain": [
       "<Axes: xlabel='make_model', ylabel='consumption_combined'>"
      ]
     },
     "execution_count": 1129,
     "metadata": {},
     "output_type": "execute_result"
    },
    {
     "data": {
      "image/png": "[encoded data removed]",
      "text/plain": [
       "<Figure size 640x480 with 1 Axes>"
      ]
     },
     "metadata": {},
     "output_type": "display_data"
    }
   ],
   "source": [
    "sns.boxplot(y='consumption_combined',data=df, x='make_model')"
   ]
  },
  {
   "cell_type": "markdown",
   "id": "a2169021-2c26-4767-aef6-bd93ce883772",
   "metadata": {
    "jp-MarkdownHeadingCollapsed": true
   },
   "source": [
    "### consumption_country"
   ]
  },
  {
   "cell_type": "code",
   "execution_count": 1130,
   "id": "ce057d19-c20a-4031-8f97-a7e7e83a7d2b",
   "metadata": {},
   "outputs": [
    {
     "data": {
      "text/plain": [
       "<Axes: xlabel='make_model', ylabel='consumption_country'>"
      ]
     },
     "execution_count": 1130,
     "metadata": {},
     "output_type": "execute_result"
    },
    {
     "data": {
      "image/png": "[encoded data removed]",
      "text/plain": [
       "<Figure size 640x480 with 1 Axes>"
      ]
     },
     "metadata": {},
     "output_type": "display_data"
    }
   ],
   "source": [
    "sns.boxplot(y='consumption_country',data=df, x='make_model')"
   ]
  },
  {
   "cell_type": "code",
   "execution_count": 1131,
   "id": "f84e384a-41bf-405f-adc3-e28a66c9faa1",
   "metadata": {},
   "outputs": [],
   "source": [
    "df.loc[(df['consumption_country']>20)|(df['consumption_country']<3), 'consumption_country'] = np.nan"
   ]
  },
  {
   "cell_type": "code",
   "execution_count": 1132,
   "id": "81dcce71-5fa6-4794-b65a-6c9f97cfab3b",
   "metadata": {},
   "outputs": [
    {
     "data": {
      "text/plain": [
       "51"
      ]
     },
     "execution_count": 1132,
     "metadata": {},
     "output_type": "execute_result"
    }
   ],
   "source": [
    "df['consumption_country'].isnull().sum()"
   ]
  },
  {
   "cell_type": "code",
   "execution_count": 1133,
   "id": "bb4ba94b-87f6-466f-9bc8-77197be4243f",
   "metadata": {},
   "outputs": [
    {
     "name": "stdout",
     "output_type": "stream",
     "text": [
      "Filling column: consumption_country\n",
      "Grouping by: co2_emission\n",
      "Number of NaN before filling: 51\n",
      "Number of NaN filled: 46\n",
      "Number of NaN after filling: 5\n",
      "------------------\n",
      "consumption_country\n",
      "3.7     1343\n",
      "4.2     1294\n",
      "4.4     1260\n",
      "4.5     1100\n",
      "3.8     1085\n",
      "3.9     1039\n",
      "3.5      732\n",
      "4.7      724\n",
      "3.1      699\n",
      "3.6      603\n",
      "4.0      582\n",
      "4.1      573\n",
      "4.9      564\n",
      "4.3      526\n",
      "4.6      500\n",
      "3.3      480\n",
      "3.4      372\n",
      "4.8      342\n",
      "5.3      304\n",
      "5.7      296\n",
      "5.1      262\n",
      "5.4      235\n",
      "5.6      194\n",
      "3.2      180\n",
      "3.0      142\n",
      "5.0      106\n",
      "5.2       89\n",
      "6.3       55\n",
      "6.0       41\n",
      "5.5       36\n",
      "10.0      34\n",
      "5.8       33\n",
      "7.7       20\n",
      "6.6       19\n",
      "6.4       17\n",
      "7.1        6\n",
      "NaN        5\n",
      "6.5        4\n",
      "7.3        4\n",
      "7.0        2\n",
      "6.7        2\n",
      "5.9        2\n",
      "7.8        2\n",
      "6.9        2\n",
      "8.0        1\n",
      "10.3       1\n",
      "8.6        1\n",
      "6.1        1\n",
      "7.6        1\n",
      "Name: count, dtype: int64\n"
     ]
    }
   ],
   "source": [
    "df = fill(\"mode\", df, 'consumption_country', 'co2_emission')"
   ]
  },
  {
   "cell_type": "code",
   "execution_count": 1134,
   "id": "4eb6bba9-7973-441c-96e5-71cd91f20dc5",
   "metadata": {},
   "outputs": [
    {
     "name": "stdout",
     "output_type": "stream",
     "text": [
      "Filling column: consumption_country\n",
      "Grouping by: displacement\n",
      "Number of NaN before filling: 5\n",
      "Number of NaN filled: 5\n",
      "Number of NaN after filling: 0\n",
      "------------------\n",
      "consumption_country\n",
      "3.7     1346\n",
      "4.2     1294\n",
      "4.4     1260\n",
      "4.5     1101\n",
      "3.8     1085\n",
      "3.9     1039\n",
      "3.5      732\n",
      "4.7      724\n",
      "3.1      699\n",
      "3.6      603\n",
      "4.0      582\n",
      "4.1      573\n",
      "4.9      564\n",
      "4.3      526\n",
      "4.6      500\n",
      "3.3      480\n",
      "3.4      372\n",
      "4.8      342\n",
      "5.3      304\n",
      "5.7      297\n",
      "5.1      262\n",
      "5.4      235\n",
      "5.6      194\n",
      "3.2      180\n",
      "3.0      142\n",
      "5.0      106\n",
      "5.2       89\n",
      "6.3       55\n",
      "6.0       41\n",
      "5.5       36\n",
      "10.0      34\n",
      "5.8       33\n",
      "7.7       20\n",
      "6.6       19\n",
      "6.4       17\n",
      "7.1        6\n",
      "6.5        4\n",
      "7.3        4\n",
      "7.0        2\n",
      "6.7        2\n",
      "5.9        2\n",
      "7.8        2\n",
      "6.9        2\n",
      "8.0        1\n",
      "10.3       1\n",
      "8.6        1\n",
      "6.1        1\n",
      "7.6        1\n",
      "Name: count, dtype: int64\n"
     ]
    }
   ],
   "source": [
    "df = fill(\"mode\", df, 'consumption_country', 'displacement')"
   ]
  },
  {
   "cell_type": "code",
   "execution_count": 1135,
   "id": "92a15f5f-2296-458e-84dd-c711552ef00c",
   "metadata": {},
   "outputs": [
    {
     "data": {
      "text/plain": [
       "0"
      ]
     },
     "execution_count": 1135,
     "metadata": {},
     "output_type": "execute_result"
    }
   ],
   "source": [
    "df['consumption_country'].isnull().sum()"
   ]
  },
  {
   "cell_type": "code",
   "execution_count": 1136,
   "id": "b2532282-81b2-4a27-964e-fb13cf8f48d8",
   "metadata": {},
   "outputs": [
    {
     "data": {
      "text/plain": [
       "<Axes: xlabel='make_model', ylabel='consumption_country'>"
      ]
     },
     "execution_count": 1136,
     "metadata": {},
     "output_type": "execute_result"
    },
    {
     "data": {
      "image/png": "[encoded data removed]",
      "text/plain": [
       "<Figure size 640x480 with 1 Axes>"
      ]
     },
     "metadata": {},
     "output_type": "display_data"
    }
   ],
   "source": [
    "sns.boxplot(y='consumption_country',data=df, x='make_model')"
   ]
  },
  {
   "cell_type": "markdown",
   "id": "c0f39676-eb66-4247-b4f6-5fecd1096730",
   "metadata": {
    "jp-MarkdownHeadingCollapsed": true
   },
   "source": [
    "### consumption_city"
   ]
  },
  {
   "cell_type": "code",
   "execution_count": 1137,
   "id": "d4229aed-cfaf-499b-b2e0-5a82bd71a95e",
   "metadata": {},
   "outputs": [
    {
     "data": {
      "text/plain": [
       "<Axes: xlabel='make_model', ylabel='consumption_city'>"
      ]
     },
     "execution_count": 1137,
     "metadata": {},
     "output_type": "execute_result"
    },
    {
     "data": {
      "image/png": "[encoded data removed]",
      "text/plain": [
       "<Figure size 640x480 with 1 Axes>"
      ]
     },
     "metadata": {},
     "output_type": "display_data"
    }
   ],
   "source": [
    "sns.boxplot(y='consumption_city',data=df, x='make_model')"
   ]
  },
  {
   "cell_type": "code",
   "execution_count": 1138,
   "id": "edc81348-8e86-458f-9a03-c893b6b7e964",
   "metadata": {},
   "outputs": [],
   "source": [
    "df.loc[(df['consumption_city']>20)|(df['consumption_city']<3), 'consumption_city'] = np.nan"
   ]
  },
  {
   "cell_type": "code",
   "execution_count": 1139,
   "id": "944ffe0c-1af2-458c-b26e-8f22f8e8d517",
   "metadata": {},
   "outputs": [
    {
     "data": {
      "text/plain": [
       "25"
      ]
     },
     "execution_count": 1139,
     "metadata": {},
     "output_type": "execute_result"
    }
   ],
   "source": [
    "df['consumption_city'].isnull().sum()"
   ]
  },
  {
   "cell_type": "code",
   "execution_count": 1140,
   "id": "148b3490-4d80-48bb-af41-fb0642ee9ab9",
   "metadata": {},
   "outputs": [
    {
     "name": "stdout",
     "output_type": "stream",
     "text": [
      "Filling column: consumption_city\n",
      "Grouping by: co2_emission\n",
      "Number of NaN before filling: 25\n",
      "Number of NaN filled: 17\n",
      "Number of NaN after filling: 8\n",
      "------------------\n",
      "consumption_city\n",
      "5.0     1510\n",
      "6.8      826\n",
      "4.3      739\n",
      "5.8      690\n",
      "4.5      608\n",
      "        ... \n",
      "19.9       1\n",
      "16.1       1\n",
      "10.4       1\n",
      "10.5       1\n",
      "9.7        1\n",
      "Name: count, Length: 80, dtype: int64\n"
     ]
    }
   ],
   "source": [
    "df = fill(\"mode\", df, 'consumption_city', 'co2_emission')"
   ]
  },
  {
   "cell_type": "code",
   "execution_count": 1141,
   "id": "75158474-916b-4da5-8e9e-28361483b73d",
   "metadata": {},
   "outputs": [
    {
     "name": "stdout",
     "output_type": "stream",
     "text": [
      "Filling column: consumption_city\n",
      "Grouping by: displacement\n",
      "Number of NaN before filling: 8\n",
      "Number of NaN filled: 8\n",
      "Number of NaN after filling: 0\n",
      "------------------\n",
      "consumption_city\n",
      "5.0     1510\n",
      "6.8      826\n",
      "4.3      742\n",
      "5.8      690\n",
      "4.5      608\n",
      "        ... \n",
      "19.9       1\n",
      "10.5       1\n",
      "9.0        1\n",
      "16.1       1\n",
      "9.7        1\n",
      "Name: count, Length: 79, dtype: int64\n"
     ]
    }
   ],
   "source": [
    "df = fill(\"mode\", df, 'consumption_city', 'displacement')"
   ]
  },
  {
   "cell_type": "code",
   "execution_count": 1142,
   "id": "b3e9b1e1-6455-43fc-853c-592d3dce07d6",
   "metadata": {},
   "outputs": [
    {
     "data": {
      "text/plain": [
       "0"
      ]
     },
     "execution_count": 1142,
     "metadata": {},
     "output_type": "execute_result"
    }
   ],
   "source": [
    "df['consumption_city'].isnull().sum()"
   ]
  },
  {
   "cell_type": "code",
   "execution_count": 1143,
   "id": "3032c92e-4691-4c29-a9bf-4f27ea5fc7cd",
   "metadata": {},
   "outputs": [
    {
     "data": {
      "text/plain": [
       "<Axes: xlabel='make_model', ylabel='consumption_city'>"
      ]
     },
     "execution_count": 1143,
     "metadata": {},
     "output_type": "execute_result"
    },
    {
     "data": {
      "image/png": "[encoded data removed]",
      "text/plain": [
       "<Figure size 640x480 with 1 Axes>"
      ]
     },
     "metadata": {},
     "output_type": "display_data"
    }
   ],
   "source": [
    "sns.boxplot(y='consumption_city',data=df, x='make_model')"
   ]
  },
  {
   "cell_type": "markdown",
   "id": "bde53453-a2e8-484f-9bca-126ed3397f53",
   "metadata": {
    "jp-MarkdownHeadingCollapsed": true
   },
   "source": [
    "### hp"
   ]
  },
  {
   "cell_type": "code",
   "execution_count": 1144,
   "id": "c563d703-ae0b-47b4-80b8-8cba346760b9",
   "metadata": {},
   "outputs": [
    {
     "data": {
      "image/png": "[encoded data removed]",
      "text/plain": [
       "<Figure size 640x480 with 1 Axes>"
      ]
     },
     "metadata": {},
     "output_type": "display_data"
    }
   ],
   "source": [
    "sns.scatterplot(data=df, x=\"hp\", y=\"price\");"
   ]
  },
  {
   "cell_type": "code",
   "execution_count": 1145,
   "id": "39e33b1d-84a1-456c-abbd-7cfdb00b7fb2",
   "metadata": {},
   "outputs": [
    {
     "data": {
      "image/png": "[encoded data removed]",
      "text/plain": [
       "<Figure size 1500x600 with 1 Axes>"
      ]
     },
     "metadata": {},
     "output_type": "display_data"
    }
   ],
   "source": [
    "plt.figure(figsize=(15,6))\n",
    "sns.boxplot(y='hp',data=df, x='make_model');"
   ]
  },
  {
   "cell_type": "code",
   "execution_count": 1146,
   "id": "1bfb21f9-35c5-41d7-8b82-26b56862a6c8",
   "metadata": {},
   "outputs": [
    {
     "data": {
      "text/plain": [
       "Series([], Name: hp, dtype: float64)"
      ]
     },
     "execution_count": 1146,
     "metadata": {},
     "output_type": "execute_result"
    }
   ],
   "source": [
    "df[df['hp'] < 50]['hp']"
   ]
  },
  {
   "cell_type": "markdown",
   "id": "b161d428-0b4b-47ef-aa22-9eba2a8797c3",
   "metadata": {
    "jp-MarkdownHeadingCollapsed": true
   },
   "source": [
    "### displacemenet"
   ]
  },
  {
   "cell_type": "code",
   "execution_count": 1147,
   "id": "4b01a893-8a67-460b-ac90-2f830f0a38fb",
   "metadata": {},
   "outputs": [
    {
     "data": {
      "image/png": "[encoded data removed]",
      "text/plain": [
       "<Figure size 640x480 with 1 Axes>"
      ]
     },
     "metadata": {},
     "output_type": "display_data"
    }
   ],
   "source": [
    "sns.boxplot(y='displacement',data=df, x='make_model');"
   ]
  },
  {
   "cell_type": "markdown",
   "id": "80808a5d-4958-49ec-886f-20756ab2b230",
   "metadata": {},
   "source": [
    "- #### convert displacemet values greater than 5000 and less than 600 to null and and then fill according to the groups make_model, body_type and hp."
   ]
  },
  {
   "cell_type": "code",
   "execution_count": 1148,
   "id": "602958b2-001f-4f85-a33b-12065116b84e",
   "metadata": {},
   "outputs": [],
   "source": [
    "df[df['displacement'] > 5000]['displacement'] = 1600"
   ]
  },
  {
   "cell_type": "code",
   "execution_count": 1149,
   "id": "1821a04c-d623-4072-b2f1-39ca195e1197",
   "metadata": {},
   "outputs": [],
   "source": [
    "df[df['displacement'] < 600]['displacement'] = np.nan"
   ]
  },
  {
   "cell_type": "code",
   "execution_count": 1150,
   "id": "b782a0ac-9f74-4e15-b7d2-4dce3f36661d",
   "metadata": {},
   "outputs": [
    {
     "name": "stdout",
     "output_type": "stream",
     "text": [
      "Filling column: displacement\n",
      "Grouping by: ['make_model', 'body_type', 'hp']\n",
      "Number of NaN before filling: 0\n",
      "Number of NaN filled: 0\n",
      "Number of NaN after filling: 0\n",
      "------------------\n",
      "displacement\n",
      "1598.0    4986\n",
      "999.0     2466\n",
      "1398.0    1346\n",
      "1399.0     768\n",
      "1229.0     709\n",
      "          ... \n",
      "1390.0       1\n",
      "122.0        1\n",
      "1198.0       1\n",
      "2967.0       1\n",
      "1800.0       1\n",
      "Name: count, Length: 77, dtype: int64\n"
     ]
    }
   ],
   "source": [
    "df = fill(\"mode\", df, 'displacement', ['make_model','body_type','hp'])"
   ]
  },
  {
   "cell_type": "markdown",
   "id": "466df638-b40c-4587-8adc-8651c7454309",
   "metadata": {
    "jp-MarkdownHeadingCollapsed": true
   },
   "source": [
    "### warranty"
   ]
  },
  {
   "cell_type": "code",
   "execution_count": 1151,
   "id": "63dffa7c-3846-436a-a6dc-44404d1f8096",
   "metadata": {},
   "outputs": [
    {
     "data": {
      "text/plain": [
       "warranty\n",
       "0.0     11062\n",
       "12.0     2594\n",
       "24.0     1118\n",
       "60.0      401\n",
       "36.0      279\n",
       "48.0      149\n",
       "6.0       125\n",
       "72.0       59\n",
       "3.0        33\n",
       "23.0       11\n",
       "18.0       10\n",
       "20.0        7\n",
       "25.0        6\n",
       "2.0         5\n",
       "50.0        4\n",
       "26.0        4\n",
       "16.0        4\n",
       "4.0         3\n",
       "1.0         3\n",
       "19.0        3\n",
       "34.0        3\n",
       "13.0        3\n",
       "28.0        2\n",
       "22.0        2\n",
       "14.0        2\n",
       "11.0        2\n",
       "46.0        2\n",
       "21.0        2\n",
       "9.0         2\n",
       "17.0        2\n",
       "45.0        2\n",
       "33.0        1\n",
       "40.0        1\n",
       "65.0        1\n",
       "10.0        1\n",
       "15.0        1\n",
       "7.0         1\n",
       "8.0         1\n",
       "56.0        1\n",
       "49.0        1\n",
       "47.0        1\n",
       "30.0        1\n",
       "Name: count, dtype: int64"
      ]
     },
     "execution_count": 1151,
     "metadata": {},
     "output_type": "execute_result"
    }
   ],
   "source": [
    "df['warranty'].value_counts(dropna=False)"
   ]
  },
  {
   "cell_type": "markdown",
   "id": "dcbcdf05-29e7-435a-ab48-43023d74ab79",
   "metadata": {
    "jp-MarkdownHeadingCollapsed": true
   },
   "source": [
    "### previous_owners"
   ]
  },
  {
   "cell_type": "code",
   "execution_count": 1190,
   "id": "2eb5ab42-815a-409f-b11c-208ea9456535",
   "metadata": {
    "scrolled": true
   },
   "outputs": [
    {
     "data": {
      "text/plain": [
       "previous_owners\n",
       "1.0    14287\n",
       "0.0      835\n",
       "2.0      778\n",
       "3.0       17\n",
       "4.0        2\n",
       "Name: count, dtype: int64"
      ]
     },
     "execution_count": 1190,
     "metadata": {},
     "output_type": "execute_result"
    }
   ],
   "source": [
    "df['previous_owners'].value_counts(dropna=False)"
   ]
  },
  {
   "cell_type": "markdown",
   "id": "85384e99-2a81-494e-bf4c-fcf2355de3cf",
   "metadata": {
    "jp-MarkdownHeadingCollapsed": true
   },
   "source": [
    "### weight"
   ]
  },
  {
   "cell_type": "code",
   "execution_count": 1152,
   "id": "1af807e9-14bd-4854-baa2-08cad4a802b4",
   "metadata": {},
   "outputs": [
    {
     "data": {
      "text/plain": [
       "<Axes: xlabel='make_model', ylabel='weight'>"
      ]
     },
     "execution_count": 1152,
     "metadata": {},
     "output_type": "execute_result"
    },
    {
     "data": {
      "image/png": "[encoded data removed]",
      "text/plain": [
       "<Figure size 640x480 with 1 Axes>"
      ]
     },
     "metadata": {},
     "output_type": "display_data"
    }
   ],
   "source": [
    "sns.boxplot(y='weight',data=df, x='make_model')"
   ]
  },
  {
   "cell_type": "markdown",
   "id": "7f5d7c88-e79c-4310-8319-2bccce33e989",
   "metadata": {},
   "source": [
    "- #### convert values less than 600"
   ]
  },
  {
   "cell_type": "code",
   "execution_count": 1153,
   "id": "869288cb-e98c-4256-ab97-f27cbcf28aab",
   "metadata": {},
   "outputs": [
    {
     "data": {
      "text/html": [
       "<div>\n",
       "<style scoped>\n",
       "    .dataframe tbody tr th:only-of-type {\n",
       "        vertical-align: middle;\n",
       "    }\n",
       "\n",
       "    .dataframe tbody tr th {\n",
       "        vertical-align: top;\n",
       "    }\n",
       "\n",
       "    .dataframe thead th {\n",
       "        text-align: right;\n",
       "    }\n",
       "</style>\n",
       "<table border=\"1\" class=\"dataframe\">\n",
       "  <thead>\n",
       "    <tr style=\"text-align: right;\">\n",
       "      <th></th>\n",
       "      <th>make_model</th>\n",
       "      <th>body_type</th>\n",
       "      <th>price</th>\n",
       "      <th>vat</th>\n",
       "      <th>km</th>\n",
       "      <th>hp</th>\n",
       "      <th>type</th>\n",
       "      <th>previous_owners</th>\n",
       "      <th>inspection_new</th>\n",
       "      <th>warranty</th>\n",
       "      <th>body_color</th>\n",
       "      <th>paint_type</th>\n",
       "      <th>nr_of_doors</th>\n",
       "      <th>nr_of_seats</th>\n",
       "      <th>gearing_type</th>\n",
       "      <th>displacement</th>\n",
       "      <th>cylinders</th>\n",
       "      <th>weight</th>\n",
       "      <th>drive_chain</th>\n",
       "      <th>fuel</th>\n",
       "      <th>co2_emission</th>\n",
       "      <th>emission_class</th>\n",
       "      <th>comfort_convenience</th>\n",
       "      <th>entertainment_media</th>\n",
       "      <th>extras</th>\n",
       "      <th>safety_security</th>\n",
       "      <th>gears</th>\n",
       "      <th>age</th>\n",
       "      <th>upholstery_material</th>\n",
       "      <th>consumption_combined</th>\n",
       "      <th>consumption_city</th>\n",
       "      <th>consumption_country</th>\n",
       "    </tr>\n",
       "  </thead>\n",
       "  <tbody>\n",
       "    <tr>\n",
       "      <th>1143</th>\n",
       "      <td>Audi A1</td>\n",
       "      <td>Compact</td>\n",
       "      <td>19229</td>\n",
       "      <td>VAT deductible</td>\n",
       "      <td>8263.0</td>\n",
       "      <td>70.0</td>\n",
       "      <td>Used</td>\n",
       "      <td>1.0</td>\n",
       "      <td>Yes</td>\n",
       "      <td>36.0</td>\n",
       "      <td>Beige</td>\n",
       "      <td>Metallic</td>\n",
       "      <td>5.0</td>\n",
       "      <td>4.0</td>\n",
       "      <td>Automatic</td>\n",
       "      <td>999.0</td>\n",
       "      <td>3.0</td>\n",
       "      <td>102.0</td>\n",
       "      <td>front</td>\n",
       "      <td>Benzine</td>\n",
       "      <td>102.0</td>\n",
       "      <td>Euro 6</td>\n",
       "      <td>'Air conditioning', 'Armrest', 'Automatic clim...</td>\n",
       "      <td>'Bluetooth', 'CD player', 'Hands-free equipmen...</td>\n",
       "      <td>['Alloy wheels', 'Catalytic Converter', 'Sport...</td>\n",
       "      <td>['ABS', 'Central door lock', 'Daytime running ...</td>\n",
       "      <td>7.0</td>\n",
       "      <td>1.0</td>\n",
       "      <td>Cloth</td>\n",
       "      <td>4.60</td>\n",
       "      <td>5.6</td>\n",
       "      <td>4.0</td>\n",
       "    </tr>\n",
       "    <tr>\n",
       "      <th>8355</th>\n",
       "      <td>Opel Corsa</td>\n",
       "      <td>Compact</td>\n",
       "      <td>12945</td>\n",
       "      <td>VAT undeductible</td>\n",
       "      <td>2015.0</td>\n",
       "      <td>66.0</td>\n",
       "      <td>Used</td>\n",
       "      <td>1.0</td>\n",
       "      <td>Yes</td>\n",
       "      <td>0.0</td>\n",
       "      <td>Silver</td>\n",
       "      <td>Metallic</td>\n",
       "      <td>5.0</td>\n",
       "      <td>5.0</td>\n",
       "      <td>Automatic</td>\n",
       "      <td>1398.0</td>\n",
       "      <td>4.0</td>\n",
       "      <td>1.0</td>\n",
       "      <td>front</td>\n",
       "      <td>Benzine</td>\n",
       "      <td>112.0</td>\n",
       "      <td>Euro 6</td>\n",
       "      <td>'Air conditioning', 'Electrical side mirrors',...</td>\n",
       "      <td>'Radio'</td>\n",
       "      <td>['Catalytic Converter']</td>\n",
       "      <td>['ABS', 'Central door lock', 'Daytime running ...</td>\n",
       "      <td>5.0</td>\n",
       "      <td>1.0</td>\n",
       "      <td>Cloth</td>\n",
       "      <td>4.80</td>\n",
       "      <td>5.8</td>\n",
       "      <td>4.1</td>\n",
       "    </tr>\n",
       "    <tr>\n",
       "      <th>12779</th>\n",
       "      <td>Opel Insignia</td>\n",
       "      <td>Station wagon</td>\n",
       "      <td>39299</td>\n",
       "      <td>VAT deductible</td>\n",
       "      <td>10.0</td>\n",
       "      <td>121.0</td>\n",
       "      <td>New</td>\n",
       "      <td>1.0</td>\n",
       "      <td>No</td>\n",
       "      <td>0.0</td>\n",
       "      <td>Black</td>\n",
       "      <td>Metallic</td>\n",
       "      <td>5.0</td>\n",
       "      <td>5.0</td>\n",
       "      <td>Manual</td>\n",
       "      <td>1500.0</td>\n",
       "      <td>4.0</td>\n",
       "      <td>1.0</td>\n",
       "      <td>front</td>\n",
       "      <td>Benzine</td>\n",
       "      <td>140.0</td>\n",
       "      <td>Euro 6</td>\n",
       "      <td>'Heated steering wheel', 'Hill Holder', 'Park ...</td>\n",
       "      <td>NaN</td>\n",
       "      <td>['Alloy wheels', 'Roof rack']</td>\n",
       "      <td>['Fog lights', 'Lane departure warning system']</td>\n",
       "      <td>6.0</td>\n",
       "      <td>0.0</td>\n",
       "      <td>Cloth</td>\n",
       "      <td>6.35</td>\n",
       "      <td>7.8</td>\n",
       "      <td>4.9</td>\n",
       "    </tr>\n",
       "  </tbody>\n",
       "</table>\n",
       "</div>"
      ],
      "text/plain": [
       "          make_model      body_type  price               vat      km     hp  \\\n",
       "1143         Audi A1        Compact  19229    VAT deductible  8263.0   70.0   \n",
       "8355      Opel Corsa        Compact  12945  VAT undeductible  2015.0   66.0   \n",
       "12779  Opel Insignia  Station wagon  39299    VAT deductible    10.0  121.0   \n",
       "\n",
       "       type  previous_owners inspection_new  warranty body_color paint_type  \\\n",
       "1143   Used              1.0            Yes      36.0      Beige   Metallic   \n",
       "8355   Used              1.0            Yes       0.0     Silver   Metallic   \n",
       "12779   New              1.0             No       0.0      Black   Metallic   \n",
       "\n",
       "       nr_of_doors  nr_of_seats gearing_type  displacement  cylinders  weight  \\\n",
       "1143           5.0          4.0    Automatic         999.0        3.0   102.0   \n",
       "8355           5.0          5.0    Automatic        1398.0        4.0     1.0   \n",
       "12779          5.0          5.0       Manual        1500.0        4.0     1.0   \n",
       "\n",
       "      drive_chain     fuel  co2_emission emission_class  \\\n",
       "1143        front  Benzine         102.0         Euro 6   \n",
       "8355        front  Benzine         112.0         Euro 6   \n",
       "12779       front  Benzine         140.0         Euro 6   \n",
       "\n",
       "                                     comfort_convenience  \\\n",
       "1143   'Air conditioning', 'Armrest', 'Automatic clim...   \n",
       "8355   'Air conditioning', 'Electrical side mirrors',...   \n",
       "12779  'Heated steering wheel', 'Hill Holder', 'Park ...   \n",
       "\n",
       "                                     entertainment_media  \\\n",
       "1143   'Bluetooth', 'CD player', 'Hands-free equipmen...   \n",
       "8355                                             'Radio'   \n",
       "12779                                                NaN   \n",
       "\n",
       "                                                  extras  \\\n",
       "1143   ['Alloy wheels', 'Catalytic Converter', 'Sport...   \n",
       "8355                             ['Catalytic Converter']   \n",
       "12779                      ['Alloy wheels', 'Roof rack']   \n",
       "\n",
       "                                         safety_security  gears  age  \\\n",
       "1143   ['ABS', 'Central door lock', 'Daytime running ...    7.0  1.0   \n",
       "8355   ['ABS', 'Central door lock', 'Daytime running ...    5.0  1.0   \n",
       "12779    ['Fog lights', 'Lane departure warning system']    6.0  0.0   \n",
       "\n",
       "      upholstery_material  consumption_combined  consumption_city  \\\n",
       "1143                Cloth                  4.60               5.6   \n",
       "8355                Cloth                  4.80               5.8   \n",
       "12779               Cloth                  6.35               7.8   \n",
       "\n",
       "       consumption_country  \n",
       "1143                   4.0  \n",
       "8355                   4.1  \n",
       "12779                  4.9  "
      ]
     },
     "execution_count": 1153,
     "metadata": {},
     "output_type": "execute_result"
    }
   ],
   "source": [
    "df[df['weight']<500]"
   ]
  },
  {
   "cell_type": "code",
   "execution_count": 1154,
   "id": "cc6ddd88-9123-4561-88a7-1dd190f133ae",
   "metadata": {},
   "outputs": [
    {
     "data": {
      "text/plain": [
       "1210.770466717674"
      ]
     },
     "execution_count": 1154,
     "metadata": {},
     "output_type": "execute_result"
    }
   ],
   "source": [
    "df[df['make_model'] == 'Audi A1']['weight'].mean()"
   ]
  },
  {
   "cell_type": "code",
   "execution_count": 1155,
   "id": "22f61e70-5035-4053-a6f9-a3f7f4857f4b",
   "metadata": {},
   "outputs": [],
   "source": [
    "df.loc[1143, 'weight'] = 1202"
   ]
  },
  {
   "cell_type": "code",
   "execution_count": 1156,
   "id": "3354617d-e5c6-47cc-8117-22b3f18790d0",
   "metadata": {},
   "outputs": [
    {
     "data": {
      "text/plain": [
       "1173.8628158844765"
      ]
     },
     "execution_count": 1156,
     "metadata": {},
     "output_type": "execute_result"
    }
   ],
   "source": [
    "df[df['make_model'] == 'Opel Corsa']['weight'].mean()"
   ]
  },
  {
   "cell_type": "code",
   "execution_count": 1157,
   "id": "20baaac9-f7df-4ab4-a5e1-14d2d83c5c34",
   "metadata": {},
   "outputs": [],
   "source": [
    "df.loc[8355, 'weight'] = 1169"
   ]
  },
  {
   "cell_type": "code",
   "execution_count": 1158,
   "id": "e96895ba-592f-4d40-9f78-2fec9bc78a3f",
   "metadata": {},
   "outputs": [
    {
     "data": {
      "text/plain": [
       "1597.111624326405"
      ]
     },
     "execution_count": 1158,
     "metadata": {},
     "output_type": "execute_result"
    }
   ],
   "source": [
    "df[df['make_model'] == 'Opel Insignia']['weight'].mean()"
   ]
  },
  {
   "cell_type": "code",
   "execution_count": 1159,
   "id": "de83db45-22ab-40bd-9704-e1d391001fd5",
   "metadata": {},
   "outputs": [],
   "source": [
    "df.loc[12779, 'weight'] = 1508"
   ]
  },
  {
   "cell_type": "markdown",
   "id": "2a4ed5d9-e302-4538-98f5-4ab004b30ad1",
   "metadata": {
    "jp-MarkdownHeadingCollapsed": true
   },
   "source": [
    "### nr_of_doors"
   ]
  },
  {
   "cell_type": "code",
   "execution_count": 1160,
   "id": "87c8fa22-59af-4aa4-b3dc-d3344a41d0c1",
   "metadata": {},
   "outputs": [
    {
     "data": {
      "text/plain": [
       "nr_of_doors\n",
       "5.0    11784\n",
       "4.0     3079\n",
       "3.0      831\n",
       "2.0      219\n",
       "1.0        1\n",
       "7.0        1\n",
       "Name: count, dtype: int64"
      ]
     },
     "execution_count": 1160,
     "metadata": {},
     "output_type": "execute_result"
    }
   ],
   "source": [
    "df['nr_of_doors'].value_counts(dropna=False)"
   ]
  },
  {
   "cell_type": "code",
   "execution_count": 1161,
   "id": "18f6a9d6-0d50-4bcc-a5c4-2dc8bd2849bc",
   "metadata": {},
   "outputs": [
    {
     "data": {
      "text/html": [
       "<div>\n",
       "<style scoped>\n",
       "    .dataframe tbody tr th:only-of-type {\n",
       "        vertical-align: middle;\n",
       "    }\n",
       "\n",
       "    .dataframe tbody tr th {\n",
       "        vertical-align: top;\n",
       "    }\n",
       "\n",
       "    .dataframe thead th {\n",
       "        text-align: right;\n",
       "    }\n",
       "</style>\n",
       "<table border=\"1\" class=\"dataframe\">\n",
       "  <thead>\n",
       "    <tr style=\"text-align: right;\">\n",
       "      <th></th>\n",
       "      <th>make_model</th>\n",
       "      <th>body_type</th>\n",
       "      <th>price</th>\n",
       "      <th>vat</th>\n",
       "      <th>km</th>\n",
       "      <th>hp</th>\n",
       "      <th>type</th>\n",
       "      <th>previous_owners</th>\n",
       "      <th>inspection_new</th>\n",
       "      <th>warranty</th>\n",
       "      <th>body_color</th>\n",
       "      <th>paint_type</th>\n",
       "      <th>nr_of_doors</th>\n",
       "      <th>nr_of_seats</th>\n",
       "      <th>gearing_type</th>\n",
       "      <th>displacement</th>\n",
       "      <th>cylinders</th>\n",
       "      <th>weight</th>\n",
       "      <th>drive_chain</th>\n",
       "      <th>fuel</th>\n",
       "      <th>co2_emission</th>\n",
       "      <th>emission_class</th>\n",
       "      <th>comfort_convenience</th>\n",
       "      <th>entertainment_media</th>\n",
       "      <th>extras</th>\n",
       "      <th>safety_security</th>\n",
       "      <th>gears</th>\n",
       "      <th>age</th>\n",
       "      <th>upholstery_material</th>\n",
       "      <th>consumption_combined</th>\n",
       "      <th>consumption_city</th>\n",
       "      <th>consumption_country</th>\n",
       "    </tr>\n",
       "  </thead>\n",
       "  <tbody>\n",
       "    <tr>\n",
       "      <th>15202</th>\n",
       "      <td>Renault Espace</td>\n",
       "      <td>Van</td>\n",
       "      <td>21600</td>\n",
       "      <td>Price negotiable</td>\n",
       "      <td>78000.0</td>\n",
       "      <td>118.0</td>\n",
       "      <td>Used</td>\n",
       "      <td>1.0</td>\n",
       "      <td>No</td>\n",
       "      <td>0.0</td>\n",
       "      <td>Brown</td>\n",
       "      <td>Metallic</td>\n",
       "      <td>7.0</td>\n",
       "      <td>5.0</td>\n",
       "      <td>Automatic</td>\n",
       "      <td>1598.0</td>\n",
       "      <td>4.0</td>\n",
       "      <td>1734.0</td>\n",
       "      <td>front</td>\n",
       "      <td>Diesel</td>\n",
       "      <td>120.0</td>\n",
       "      <td>Euro 6</td>\n",
       "      <td>'Air conditioning', 'Armrest', 'Automatic clim...</td>\n",
       "      <td>'Bluetooth', 'Digital radio', 'MP3', 'On-board...</td>\n",
       "      <td>['Alloy wheels', 'Touch screen']</td>\n",
       "      <td>['ABS', 'Blind spot monitor', 'Central door lo...</td>\n",
       "      <td>6.0</td>\n",
       "      <td>3.0</td>\n",
       "      <td>Full leather</td>\n",
       "      <td>4.6</td>\n",
       "      <td>5.0</td>\n",
       "      <td>4.4</td>\n",
       "    </tr>\n",
       "  </tbody>\n",
       "</table>\n",
       "</div>"
      ],
      "text/plain": [
       "           make_model body_type  price               vat       km     hp  \\\n",
       "15202  Renault Espace       Van  21600  Price negotiable  78000.0  118.0   \n",
       "\n",
       "       type  previous_owners inspection_new  warranty body_color paint_type  \\\n",
       "15202  Used              1.0             No       0.0      Brown   Metallic   \n",
       "\n",
       "       nr_of_doors  nr_of_seats gearing_type  displacement  cylinders  weight  \\\n",
       "15202          7.0          5.0    Automatic        1598.0        4.0  1734.0   \n",
       "\n",
       "      drive_chain    fuel  co2_emission emission_class  \\\n",
       "15202       front  Diesel         120.0         Euro 6   \n",
       "\n",
       "                                     comfort_convenience  \\\n",
       "15202  'Air conditioning', 'Armrest', 'Automatic clim...   \n",
       "\n",
       "                                     entertainment_media  \\\n",
       "15202  'Bluetooth', 'Digital radio', 'MP3', 'On-board...   \n",
       "\n",
       "                                 extras  \\\n",
       "15202  ['Alloy wheels', 'Touch screen']   \n",
       "\n",
       "                                         safety_security  gears  age  \\\n",
       "15202  ['ABS', 'Blind spot monitor', 'Central door lo...    6.0  3.0   \n",
       "\n",
       "      upholstery_material  consumption_combined  consumption_city  \\\n",
       "15202        Full leather                   4.6               5.0   \n",
       "\n",
       "       consumption_country  \n",
       "15202                  4.4  "
      ]
     },
     "execution_count": 1161,
     "metadata": {},
     "output_type": "execute_result"
    }
   ],
   "source": [
    "df[df['nr_of_doors'] == 7.0]"
   ]
  },
  {
   "cell_type": "code",
   "execution_count": 1162,
   "id": "08a68d0f-55a5-4659-9f81-a26f4a3ab00a",
   "metadata": {},
   "outputs": [
    {
     "data": {
      "text/plain": [
       "nr_of_doors\n",
       "5.0            712\n",
       "4.0             90\n",
       "7.0              1\n",
       "Name: count, dtype: int64"
      ]
     },
     "execution_count": 1162,
     "metadata": {},
     "output_type": "execute_result"
    }
   ],
   "source": [
    "df.loc[(df['make_model'] == 'Renault Espace') & (df['body_type'] == 'Van'), ['nr_of_doors']].value_counts()"
   ]
  },
  {
   "cell_type": "code",
   "execution_count": 1163,
   "id": "a43d0a0f-86ba-46ea-8aae-8156e4355dbe",
   "metadata": {},
   "outputs": [],
   "source": [
    "df.loc[df['nr_of_doors']==1,'nr_of_doors'] = 5"
   ]
  },
  {
   "cell_type": "code",
   "execution_count": 1164,
   "id": "4d0300f2-2225-4dbf-a1a5-51301edfdc9a",
   "metadata": {},
   "outputs": [],
   "source": [
    "df.loc[df['nr_of_doors']==7,'nr_of_doors'] = 5"
   ]
  },
  {
   "cell_type": "markdown",
   "id": "1f7483e6-ec11-4d80-aa3c-42c21e59eb2d",
   "metadata": {
    "jp-MarkdownHeadingCollapsed": true
   },
   "source": [
    "### nr_of_seats"
   ]
  },
  {
   "cell_type": "code",
   "execution_count": 1165,
   "id": "cf43e747-9485-49e5-9910-87584dc9633e",
   "metadata": {},
   "outputs": [
    {
     "data": {
      "text/plain": [
       "nr_of_seats\n",
       "5.0    14304\n",
       "4.0     1127\n",
       "7.0      362\n",
       "2.0      119\n",
       "6.0        2\n",
       "3.0        1\n",
       "Name: count, dtype: int64"
      ]
     },
     "execution_count": 1165,
     "metadata": {},
     "output_type": "execute_result"
    }
   ],
   "source": [
    "df['nr_of_seats'].value_counts(dropna=False)"
   ]
  },
  {
   "cell_type": "code",
   "execution_count": 1166,
   "id": "0287b41a-b305-4494-b582-507db79a7b97",
   "metadata": {},
   "outputs": [
    {
     "data": {
      "text/html": [
       "<div>\n",
       "<style scoped>\n",
       "    .dataframe tbody tr th:only-of-type {\n",
       "        vertical-align: middle;\n",
       "    }\n",
       "\n",
       "    .dataframe tbody tr th {\n",
       "        vertical-align: top;\n",
       "    }\n",
       "\n",
       "    .dataframe thead th {\n",
       "        text-align: right;\n",
       "    }\n",
       "</style>\n",
       "<table border=\"1\" class=\"dataframe\">\n",
       "  <thead>\n",
       "    <tr style=\"text-align: right;\">\n",
       "      <th></th>\n",
       "      <th>make_model</th>\n",
       "      <th>body_type</th>\n",
       "      <th>price</th>\n",
       "      <th>vat</th>\n",
       "      <th>km</th>\n",
       "      <th>hp</th>\n",
       "      <th>type</th>\n",
       "      <th>previous_owners</th>\n",
       "      <th>inspection_new</th>\n",
       "      <th>warranty</th>\n",
       "      <th>body_color</th>\n",
       "      <th>paint_type</th>\n",
       "      <th>nr_of_doors</th>\n",
       "      <th>nr_of_seats</th>\n",
       "      <th>gearing_type</th>\n",
       "      <th>displacement</th>\n",
       "      <th>cylinders</th>\n",
       "      <th>weight</th>\n",
       "      <th>drive_chain</th>\n",
       "      <th>fuel</th>\n",
       "      <th>co2_emission</th>\n",
       "      <th>emission_class</th>\n",
       "      <th>comfort_convenience</th>\n",
       "      <th>entertainment_media</th>\n",
       "      <th>extras</th>\n",
       "      <th>safety_security</th>\n",
       "      <th>gears</th>\n",
       "      <th>age</th>\n",
       "      <th>upholstery_material</th>\n",
       "      <th>consumption_combined</th>\n",
       "      <th>consumption_city</th>\n",
       "      <th>consumption_country</th>\n",
       "    </tr>\n",
       "  </thead>\n",
       "  <tbody>\n",
       "    <tr>\n",
       "      <th>582</th>\n",
       "      <td>Audi A1</td>\n",
       "      <td>Compact</td>\n",
       "      <td>13500</td>\n",
       "      <td>VAT deductible</td>\n",
       "      <td>100000.0</td>\n",
       "      <td>70.0</td>\n",
       "      <td>Used</td>\n",
       "      <td>1.0</td>\n",
       "      <td>No</td>\n",
       "      <td>12.0</td>\n",
       "      <td>White</td>\n",
       "      <td>Metallic</td>\n",
       "      <td>5.0</td>\n",
       "      <td>6.0</td>\n",
       "      <td>Manual</td>\n",
       "      <td>1000.0</td>\n",
       "      <td>4.0</td>\n",
       "      <td>1500.0</td>\n",
       "      <td>front</td>\n",
       "      <td>Benzine</td>\n",
       "      <td>111.0</td>\n",
       "      <td>Euro 6</td>\n",
       "      <td>'Air conditioning'</td>\n",
       "      <td>'On-board computer'</td>\n",
       "      <td>['Alloy wheels']</td>\n",
       "      <td>['ABS']</td>\n",
       "      <td>5.0</td>\n",
       "      <td>2.0</td>\n",
       "      <td>Cloth</td>\n",
       "      <td>5.1</td>\n",
       "      <td>6.0</td>\n",
       "      <td>4.2</td>\n",
       "    </tr>\n",
       "    <tr>\n",
       "      <th>15890</th>\n",
       "      <td>Renault Espace</td>\n",
       "      <td>Station wagon</td>\n",
       "      <td>42490</td>\n",
       "      <td>VAT deductible</td>\n",
       "      <td>2000.0</td>\n",
       "      <td>147.0</td>\n",
       "      <td>New</td>\n",
       "      <td>1.0</td>\n",
       "      <td>No</td>\n",
       "      <td>0.0</td>\n",
       "      <td>Black</td>\n",
       "      <td>Metallic</td>\n",
       "      <td>5.0</td>\n",
       "      <td>6.0</td>\n",
       "      <td>Automatic</td>\n",
       "      <td>1997.0</td>\n",
       "      <td>4.0</td>\n",
       "      <td>1840.0</td>\n",
       "      <td>front</td>\n",
       "      <td>Diesel</td>\n",
       "      <td>168.0</td>\n",
       "      <td>Euro 6</td>\n",
       "      <td>'Air conditioning', 'Armrest', 'Automatic clim...</td>\n",
       "      <td>'Bluetooth', 'Hands-free equipment', 'On-board...</td>\n",
       "      <td>['Alloy wheels', 'Touch screen']</td>\n",
       "      <td>['ABS', 'Blind spot monitor', 'Central door lo...</td>\n",
       "      <td>6.0</td>\n",
       "      <td>0.0</td>\n",
       "      <td>Cloth</td>\n",
       "      <td>5.7</td>\n",
       "      <td>6.1</td>\n",
       "      <td>5.3</td>\n",
       "    </tr>\n",
       "  </tbody>\n",
       "</table>\n",
       "</div>"
      ],
      "text/plain": [
       "           make_model      body_type  price             vat        km     hp  \\\n",
       "582           Audi A1        Compact  13500  VAT deductible  100000.0   70.0   \n",
       "15890  Renault Espace  Station wagon  42490  VAT deductible    2000.0  147.0   \n",
       "\n",
       "       type  previous_owners inspection_new  warranty body_color paint_type  \\\n",
       "582    Used              1.0             No      12.0      White   Metallic   \n",
       "15890   New              1.0             No       0.0      Black   Metallic   \n",
       "\n",
       "       nr_of_doors  nr_of_seats gearing_type  displacement  cylinders  weight  \\\n",
       "582            5.0          6.0       Manual        1000.0        4.0  1500.0   \n",
       "15890          5.0          6.0    Automatic        1997.0        4.0  1840.0   \n",
       "\n",
       "      drive_chain     fuel  co2_emission emission_class  \\\n",
       "582         front  Benzine         111.0         Euro 6   \n",
       "15890       front   Diesel         168.0         Euro 6   \n",
       "\n",
       "                                     comfort_convenience  \\\n",
       "582                                   'Air conditioning'   \n",
       "15890  'Air conditioning', 'Armrest', 'Automatic clim...   \n",
       "\n",
       "                                     entertainment_media  \\\n",
       "582                                  'On-board computer'   \n",
       "15890  'Bluetooth', 'Hands-free equipment', 'On-board...   \n",
       "\n",
       "                                 extras  \\\n",
       "582                    ['Alloy wheels']   \n",
       "15890  ['Alloy wheels', 'Touch screen']   \n",
       "\n",
       "                                         safety_security  gears  age  \\\n",
       "582                                              ['ABS']    5.0  2.0   \n",
       "15890  ['ABS', 'Blind spot monitor', 'Central door lo...    6.0  0.0   \n",
       "\n",
       "      upholstery_material  consumption_combined  consumption_city  \\\n",
       "582                 Cloth                   5.1               6.0   \n",
       "15890               Cloth                   5.7               6.1   \n",
       "\n",
       "       consumption_country  \n",
       "582                    4.2  \n",
       "15890                  5.3  "
      ]
     },
     "execution_count": 1166,
     "metadata": {},
     "output_type": "execute_result"
    }
   ],
   "source": [
    "df[df['nr_of_seats']==6]"
   ]
  },
  {
   "cell_type": "code",
   "execution_count": 1167,
   "id": "d997e2df-4db8-47db-b0f5-57bf5461b3c8",
   "metadata": {},
   "outputs": [],
   "source": [
    "df.loc[df['nr_of_seats']==3,'nr_of_seats'] = 4"
   ]
  },
  {
   "cell_type": "markdown",
   "id": "d2eec659-0a61-47f2-ba96-b05b97e0d377",
   "metadata": {
    "jp-MarkdownHeadingCollapsed": true
   },
   "source": [
    "### cylinders"
   ]
  },
  {
   "cell_type": "code",
   "execution_count": 1168,
   "id": "37e0599b-679c-4140-989f-c9ac76c24b72",
   "metadata": {},
   "outputs": [
    {
     "data": {
      "text/plain": [
       "<Axes: xlabel='make_model', ylabel='cylinders'>"
      ]
     },
     "execution_count": 1168,
     "metadata": {},
     "output_type": "execute_result"
    },
    {
     "data": {
      "image/png": "[encoded data removed]",
      "text/plain": [
       "<Figure size 640x480 with 1 Axes>"
      ]
     },
     "metadata": {},
     "output_type": "display_data"
    }
   ],
   "source": [
    "sns.boxplot(y='cylinders',data=df, x='make_model')"
   ]
  },
  {
   "cell_type": "code",
   "execution_count": 1169,
   "id": "af40a205-6236-4655-9c8d-57b68c1d52b0",
   "metadata": {},
   "outputs": [
    {
     "data": {
      "text/plain": [
       "cylinders\n",
       "4.0    12464\n",
       "3.0     3421\n",
       "5.0       22\n",
       "6.0        3\n",
       "8.0        2\n",
       "2.0        2\n",
       "1.0        1\n",
       "Name: count, dtype: int64"
      ]
     },
     "execution_count": 1169,
     "metadata": {},
     "output_type": "execute_result"
    }
   ],
   "source": [
    "df.cylinders.value_counts(dropna=False)"
   ]
  },
  {
   "cell_type": "code",
   "execution_count": 1170,
   "id": "9eea986b-1403-4103-97e0-526c0d875379",
   "metadata": {},
   "outputs": [],
   "source": [
    "df.loc[df.cylinders == 8.0, 'cylinders'] = 4"
   ]
  },
  {
   "cell_type": "code",
   "execution_count": 1171,
   "id": "ceeef2a5-feae-4eb6-823d-6e06384f5b4d",
   "metadata": {},
   "outputs": [
    {
     "data": {
      "text/plain": [
       "cylinders\n",
       "4.0    12466\n",
       "3.0     3421\n",
       "5.0       22\n",
       "6.0        3\n",
       "2.0        2\n",
       "1.0        1\n",
       "Name: count, dtype: int64"
      ]
     },
     "execution_count": 1171,
     "metadata": {},
     "output_type": "execute_result"
    }
   ],
   "source": [
    "df.cylinders.value_counts(dropna=False)"
   ]
  },
  {
   "cell_type": "code",
   "execution_count": 1172,
   "id": "58011d10-a694-4de9-a3cf-254f4a273693",
   "metadata": {},
   "outputs": [
    {
     "data": {
      "text/html": [
       "<div>\n",
       "<style scoped>\n",
       "    .dataframe tbody tr th:only-of-type {\n",
       "        vertical-align: middle;\n",
       "    }\n",
       "\n",
       "    .dataframe tbody tr th {\n",
       "        vertical-align: top;\n",
       "    }\n",
       "\n",
       "    .dataframe thead th {\n",
       "        text-align: right;\n",
       "    }\n",
       "</style>\n",
       "<table border=\"1\" class=\"dataframe\">\n",
       "  <thead>\n",
       "    <tr style=\"text-align: right;\">\n",
       "      <th></th>\n",
       "      <th>make_model</th>\n",
       "      <th>body_type</th>\n",
       "      <th>price</th>\n",
       "      <th>vat</th>\n",
       "      <th>km</th>\n",
       "      <th>hp</th>\n",
       "      <th>type</th>\n",
       "      <th>previous_owners</th>\n",
       "      <th>inspection_new</th>\n",
       "      <th>warranty</th>\n",
       "      <th>body_color</th>\n",
       "      <th>paint_type</th>\n",
       "      <th>nr_of_doors</th>\n",
       "      <th>nr_of_seats</th>\n",
       "      <th>gearing_type</th>\n",
       "      <th>displacement</th>\n",
       "      <th>cylinders</th>\n",
       "      <th>weight</th>\n",
       "      <th>drive_chain</th>\n",
       "      <th>fuel</th>\n",
       "      <th>co2_emission</th>\n",
       "      <th>emission_class</th>\n",
       "      <th>comfort_convenience</th>\n",
       "      <th>entertainment_media</th>\n",
       "      <th>extras</th>\n",
       "      <th>safety_security</th>\n",
       "      <th>gears</th>\n",
       "      <th>age</th>\n",
       "      <th>upholstery_material</th>\n",
       "      <th>consumption_combined</th>\n",
       "      <th>consumption_city</th>\n",
       "      <th>consumption_country</th>\n",
       "    </tr>\n",
       "  </thead>\n",
       "  <tbody>\n",
       "    <tr>\n",
       "      <th>9956</th>\n",
       "      <td>Opel Corsa</td>\n",
       "      <td>Compact</td>\n",
       "      <td>16625</td>\n",
       "      <td>VAT deductible</td>\n",
       "      <td>100.0</td>\n",
       "      <td>66.0</td>\n",
       "      <td>Pre-registered</td>\n",
       "      <td>1.0</td>\n",
       "      <td>No</td>\n",
       "      <td>0.0</td>\n",
       "      <td>Black</td>\n",
       "      <td>Metallic</td>\n",
       "      <td>3.0</td>\n",
       "      <td>5.0</td>\n",
       "      <td>Automatic</td>\n",
       "      <td>1398.0</td>\n",
       "      <td>1.0</td>\n",
       "      <td>1163.0</td>\n",
       "      <td>front</td>\n",
       "      <td>Benzine</td>\n",
       "      <td>140.0</td>\n",
       "      <td>Euro 6</td>\n",
       "      <td>'Air conditioning', 'Automatic climate control...</td>\n",
       "      <td>'Bluetooth', 'Digital radio', 'Hands-free equi...</td>\n",
       "      <td>['Alloy wheels', 'Sport suspension']</td>\n",
       "      <td>['ABS', 'Central door lock', 'Daytime running ...</td>\n",
       "      <td>6.0</td>\n",
       "      <td>0.0</td>\n",
       "      <td>Cloth</td>\n",
       "      <td>6.00</td>\n",
       "      <td>7.8</td>\n",
       "      <td>4.9</td>\n",
       "    </tr>\n",
       "    <tr>\n",
       "      <th>11342</th>\n",
       "      <td>Opel Insignia</td>\n",
       "      <td>Station wagon</td>\n",
       "      <td>21900</td>\n",
       "      <td>VAT deductible</td>\n",
       "      <td>13600.0</td>\n",
       "      <td>100.0</td>\n",
       "      <td>Employee's car</td>\n",
       "      <td>1.0</td>\n",
       "      <td>No</td>\n",
       "      <td>0.0</td>\n",
       "      <td>Grey</td>\n",
       "      <td>Metallic</td>\n",
       "      <td>5.0</td>\n",
       "      <td>5.0</td>\n",
       "      <td>Automatic</td>\n",
       "      <td>1598.0</td>\n",
       "      <td>2.0</td>\n",
       "      <td>1701.0</td>\n",
       "      <td>front</td>\n",
       "      <td>Diesel</td>\n",
       "      <td>114.0</td>\n",
       "      <td>Euro 6</td>\n",
       "      <td>'Air conditioning', 'Armrest', 'Automatic clim...</td>\n",
       "      <td>'Bluetooth', 'Digital radio', 'Hands-free equi...</td>\n",
       "      <td>['Alloy wheels', 'Catalytic Converter', 'Touch...</td>\n",
       "      <td>['ABS', 'Central door lock with remote control...</td>\n",
       "      <td>6.0</td>\n",
       "      <td>1.0</td>\n",
       "      <td>Part leather</td>\n",
       "      <td>4.45</td>\n",
       "      <td>5.0</td>\n",
       "      <td>3.9</td>\n",
       "    </tr>\n",
       "    <tr>\n",
       "      <th>15835</th>\n",
       "      <td>Renault Espace</td>\n",
       "      <td>Van</td>\n",
       "      <td>47590</td>\n",
       "      <td>VAT deductible</td>\n",
       "      <td>6000.0</td>\n",
       "      <td>147.0</td>\n",
       "      <td>Employee's car</td>\n",
       "      <td>1.0</td>\n",
       "      <td>No</td>\n",
       "      <td>0.0</td>\n",
       "      <td>Black</td>\n",
       "      <td>Metallic</td>\n",
       "      <td>5.0</td>\n",
       "      <td>7.0</td>\n",
       "      <td>Automatic</td>\n",
       "      <td>1997.0</td>\n",
       "      <td>2.0</td>\n",
       "      <td>1840.0</td>\n",
       "      <td>front</td>\n",
       "      <td>Diesel</td>\n",
       "      <td>139.0</td>\n",
       "      <td>Euro 6</td>\n",
       "      <td>'Air conditioning', 'Automatic climate control...</td>\n",
       "      <td>'Bluetooth', 'Hands-free equipment', 'On-board...</td>\n",
       "      <td>['Voice Control']</td>\n",
       "      <td>['ABS', 'Alarm system', 'Blind spot monitor', ...</td>\n",
       "      <td>6.0</td>\n",
       "      <td>0.0</td>\n",
       "      <td>Full leather</td>\n",
       "      <td>5.30</td>\n",
       "      <td>6.2</td>\n",
       "      <td>4.7</td>\n",
       "    </tr>\n",
       "  </tbody>\n",
       "</table>\n",
       "</div>"
      ],
      "text/plain": [
       "           make_model      body_type  price             vat       km     hp  \\\n",
       "9956       Opel Corsa        Compact  16625  VAT deductible    100.0   66.0   \n",
       "11342   Opel Insignia  Station wagon  21900  VAT deductible  13600.0  100.0   \n",
       "15835  Renault Espace            Van  47590  VAT deductible   6000.0  147.0   \n",
       "\n",
       "                 type  previous_owners inspection_new  warranty body_color  \\\n",
       "9956   Pre-registered              1.0             No       0.0      Black   \n",
       "11342  Employee's car              1.0             No       0.0       Grey   \n",
       "15835  Employee's car              1.0             No       0.0      Black   \n",
       "\n",
       "      paint_type  nr_of_doors  nr_of_seats gearing_type  displacement  \\\n",
       "9956    Metallic          3.0          5.0    Automatic        1398.0   \n",
       "11342   Metallic          5.0          5.0    Automatic        1598.0   \n",
       "15835   Metallic          5.0          7.0    Automatic        1997.0   \n",
       "\n",
       "       cylinders  weight drive_chain     fuel  co2_emission emission_class  \\\n",
       "9956         1.0  1163.0       front  Benzine         140.0         Euro 6   \n",
       "11342        2.0  1701.0       front   Diesel         114.0         Euro 6   \n",
       "15835        2.0  1840.0       front   Diesel         139.0         Euro 6   \n",
       "\n",
       "                                     comfort_convenience  \\\n",
       "9956   'Air conditioning', 'Automatic climate control...   \n",
       "11342  'Air conditioning', 'Armrest', 'Automatic clim...   \n",
       "15835  'Air conditioning', 'Automatic climate control...   \n",
       "\n",
       "                                     entertainment_media  \\\n",
       "9956   'Bluetooth', 'Digital radio', 'Hands-free equi...   \n",
       "11342  'Bluetooth', 'Digital radio', 'Hands-free equi...   \n",
       "15835  'Bluetooth', 'Hands-free equipment', 'On-board...   \n",
       "\n",
       "                                                  extras  \\\n",
       "9956                ['Alloy wheels', 'Sport suspension']   \n",
       "11342  ['Alloy wheels', 'Catalytic Converter', 'Touch...   \n",
       "15835                                  ['Voice Control']   \n",
       "\n",
       "                                         safety_security  gears  age  \\\n",
       "9956   ['ABS', 'Central door lock', 'Daytime running ...    6.0  0.0   \n",
       "11342  ['ABS', 'Central door lock with remote control...    6.0  1.0   \n",
       "15835  ['ABS', 'Alarm system', 'Blind spot monitor', ...    6.0  0.0   \n",
       "\n",
       "      upholstery_material  consumption_combined  consumption_city  \\\n",
       "9956                Cloth                  6.00               7.8   \n",
       "11342        Part leather                  4.45               5.0   \n",
       "15835        Full leather                  5.30               6.2   \n",
       "\n",
       "       consumption_country  \n",
       "9956                   4.9  \n",
       "11342                  3.9  \n",
       "15835                  4.7  "
      ]
     },
     "execution_count": 1172,
     "metadata": {},
     "output_type": "execute_result"
    }
   ],
   "source": [
    "df[(df.cylinders == 2.0) | (df.cylinders == 1.0)]"
   ]
  },
  {
   "cell_type": "code",
   "execution_count": 1173,
   "id": "c558ee52-8123-4c83-a769-dd911fb81faa",
   "metadata": {},
   "outputs": [],
   "source": [
    "df.loc[df.cylinders == 2.0, 'cylinders'] = 4"
   ]
  },
  {
   "cell_type": "code",
   "execution_count": 1174,
   "id": "9a5de236-ac60-45ed-ad7f-26035bd5205e",
   "metadata": {},
   "outputs": [],
   "source": [
    "df.loc[df.cylinders == 1.0, 'cylinders'] = 4"
   ]
  },
  {
   "cell_type": "markdown",
   "id": "e2c8de6b-9beb-4b92-8077-7dd01a0029b1",
   "metadata": {
    "jp-MarkdownHeadingCollapsed": true
   },
   "source": [
    "### gears"
   ]
  },
  {
   "cell_type": "markdown",
   "id": "05a1f789-2862-4d5c-94d2-b31168c06728",
   "metadata": {},
   "source": [
    "- #### assign gear values less than 5 to 5."
   ]
  },
  {
   "cell_type": "code",
   "execution_count": 1175,
   "id": "79636af9-e817-425b-be56-61ac548e592a",
   "metadata": {},
   "outputs": [
    {
     "data": {
      "text/plain": [
       "gears\n",
       "6.0     10506\n",
       "5.0      3238\n",
       "7.0      1933\n",
       "8.0       224\n",
       "9.0         6\n",
       "1.0         2\n",
       "3.0         2\n",
       "4.0         2\n",
       "2.0         1\n",
       "50.0        1\n",
       "Name: count, dtype: int64"
      ]
     },
     "execution_count": 1175,
     "metadata": {},
     "output_type": "execute_result"
    }
   ],
   "source": [
    "df.gears.value_counts(dropna=False)"
   ]
  },
  {
   "cell_type": "code",
   "execution_count": 1176,
   "id": "898df171-dbde-444d-b8f0-326b964ada86",
   "metadata": {},
   "outputs": [],
   "source": [
    "df.loc[df[df['gears']<5].index, 'Gears'] = 5"
   ]
  },
  {
   "cell_type": "markdown",
   "id": "858f95d7-47d1-43e7-83d4-a088c9fc520e",
   "metadata": {},
   "source": [
    "___\n",
    "\n",
    "## Export CSV"
   ]
  },
  {
   "cell_type": "code",
   "execution_count": 1177,
   "id": "40d06a7b-a830-47a5-82a9-60c23856bbef",
   "metadata": {},
   "outputs": [
    {
     "name": "stdout",
     "output_type": "stream",
     "text": [
      "<class 'pandas.core.frame.DataFrame'>\n",
      "Index: 15915 entries, 0 to 15918\n",
      "Data columns (total 33 columns):\n",
      " #   Column                Non-Null Count  Dtype  \n",
      "---  ------                --------------  -----  \n",
      " 0   make_model            15915 non-null  object \n",
      " 1   body_type             15915 non-null  object \n",
      " 2   price                 15915 non-null  int64  \n",
      " 3   vat                   15915 non-null  object \n",
      " 4   km                    15915 non-null  float64\n",
      " 5   hp                    15915 non-null  float64\n",
      " 6   type                  15915 non-null  object \n",
      " 7   previous_owners       15915 non-null  float64\n",
      " 8   inspection_new        15915 non-null  object \n",
      " 9   warranty              15915 non-null  float64\n",
      " 10  body_color            15915 non-null  object \n",
      " 11  paint_type            15915 non-null  object \n",
      " 12  nr_of_doors           15915 non-null  float64\n",
      " 13  nr_of_seats           15915 non-null  float64\n",
      " 14  gearing_type          15915 non-null  object \n",
      " 15  displacement          15915 non-null  float64\n",
      " 16  cylinders             15915 non-null  float64\n",
      " 17  weight                15915 non-null  float64\n",
      " 18  drive_chain           15915 non-null  object \n",
      " 19  fuel                  15915 non-null  object \n",
      " 20  co2_emission          15915 non-null  float64\n",
      " 21  emission_class        15915 non-null  object \n",
      " 22  comfort_convenience   15915 non-null  object \n",
      " 23  entertainment_media   14541 non-null  object \n",
      " 24  extras                15915 non-null  object \n",
      " 25  safety_security       15915 non-null  object \n",
      " 26  gears                 15915 non-null  float64\n",
      " 27  age                   15915 non-null  float64\n",
      " 28  upholstery_material   15915 non-null  object \n",
      " 29  consumption_combined  15915 non-null  float64\n",
      " 30  consumption_city      15915 non-null  float64\n",
      " 31  consumption_country   15915 non-null  float64\n",
      " 32  Gears                 7 non-null      float64\n",
      "dtypes: float64(16), int64(1), object(16)\n",
      "memory usage: 4.6+ MB\n"
     ]
    }
   ],
   "source": [
    "df.info()"
   ]
  },
  {
   "cell_type": "code",
   "execution_count": 1178,
   "id": "1a359ae0-c273-438c-b3ce-ea00e6540a90",
   "metadata": {},
   "outputs": [
    {
     "ename": "FileNotFoundError",
     "evalue": "[Errno 2] No such file or directory: ''",
     "output_type": "error",
     "traceback": [
      "\u001b[0;31m---------------------------------------------------------------------------\u001b[0m",
      "\u001b[0;31mFileNotFoundError\u001b[0m                         Traceback (most recent call last)",
      "Cell \u001b[0;32mIn[1178], line 1\u001b[0m\n\u001b[0;32m----> 1\u001b[0m \u001b[43mdf\u001b[49m\u001b[38;5;241;43m.\u001b[39;49m\u001b[43mto_csv\u001b[49m\u001b[43m(\u001b[49m\u001b[38;5;124;43m'\u001b[39;49m\u001b[38;5;124;43m'\u001b[39;49m\u001b[43m,\u001b[49m\u001b[43m \u001b[49m\u001b[43mindex\u001b[49m\u001b[43m \u001b[49m\u001b[38;5;241;43m=\u001b[39;49m\u001b[43m \u001b[49m\u001b[38;5;28;43;01mFalse\u001b[39;49;00m\u001b[43m)\u001b[49m\n",
      "File \u001b[0;32m~/Library/jupyterlab-desktop/jlab_server/lib/python3.8/site-packages/pandas/core/generic.py:3772\u001b[0m, in \u001b[0;36mNDFrame.to_csv\u001b[0;34m(self, path_or_buf, sep, na_rep, float_format, columns, header, index, index_label, mode, encoding, compression, quoting, quotechar, lineterminator, chunksize, date_format, doublequote, escapechar, decimal, errors, storage_options)\u001b[0m\n\u001b[1;32m   3761\u001b[0m df \u001b[38;5;241m=\u001b[39m \u001b[38;5;28mself\u001b[39m \u001b[38;5;28;01mif\u001b[39;00m \u001b[38;5;28misinstance\u001b[39m(\u001b[38;5;28mself\u001b[39m, ABCDataFrame) \u001b[38;5;28;01melse\u001b[39;00m \u001b[38;5;28mself\u001b[39m\u001b[38;5;241m.\u001b[39mto_frame()\n\u001b[1;32m   3763\u001b[0m formatter \u001b[38;5;241m=\u001b[39m DataFrameFormatter(\n\u001b[1;32m   3764\u001b[0m     frame\u001b[38;5;241m=\u001b[39mdf,\n\u001b[1;32m   3765\u001b[0m     header\u001b[38;5;241m=\u001b[39mheader,\n\u001b[0;32m   (...)\u001b[0m\n\u001b[1;32m   3769\u001b[0m     decimal\u001b[38;5;241m=\u001b[39mdecimal,\n\u001b[1;32m   3770\u001b[0m )\n\u001b[0;32m-> 3772\u001b[0m \u001b[38;5;28;01mreturn\u001b[39;00m \u001b[43mDataFrameRenderer\u001b[49m\u001b[43m(\u001b[49m\u001b[43mformatter\u001b[49m\u001b[43m)\u001b[49m\u001b[38;5;241;43m.\u001b[39;49m\u001b[43mto_csv\u001b[49m\u001b[43m(\u001b[49m\n\u001b[1;32m   3773\u001b[0m \u001b[43m    \u001b[49m\u001b[43mpath_or_buf\u001b[49m\u001b[43m,\u001b[49m\n\u001b[1;32m   3774\u001b[0m \u001b[43m    \u001b[49m\u001b[43mlineterminator\u001b[49m\u001b[38;5;241;43m=\u001b[39;49m\u001b[43mlineterminator\u001b[49m\u001b[43m,\u001b[49m\n\u001b[1;32m   3775\u001b[0m \u001b[43m    \u001b[49m\u001b[43msep\u001b[49m\u001b[38;5;241;43m=\u001b[39;49m\u001b[43msep\u001b[49m\u001b[43m,\u001b[49m\n\u001b[1;32m   3776\u001b[0m \u001b[43m    \u001b[49m\u001b[43mencoding\u001b[49m\u001b[38;5;241;43m=\u001b[39;49m\u001b[43mencoding\u001b[49m\u001b[43m,\u001b[49m\n\u001b[1;32m   3777\u001b[0m \u001b[43m    \u001b[49m\u001b[43merrors\u001b[49m\u001b[38;5;241;43m=\u001b[39;49m\u001b[43merrors\u001b[49m\u001b[43m,\u001b[49m\n\u001b[1;32m   3778\u001b[0m \u001b[43m    \u001b[49m\u001b[43mcompression\u001b[49m\u001b[38;5;241;43m=\u001b[39;49m\u001b[43mcompression\u001b[49m\u001b[43m,\u001b[49m\n\u001b[1;32m   3779\u001b[0m \u001b[43m    \u001b[49m\u001b[43mquoting\u001b[49m\u001b[38;5;241;43m=\u001b[39;49m\u001b[43mquoting\u001b[49m\u001b[43m,\u001b[49m\n\u001b[1;32m   3780\u001b[0m \u001b[43m    \u001b[49m\u001b[43mcolumns\u001b[49m\u001b[38;5;241;43m=\u001b[39;49m\u001b[43mcolumns\u001b[49m\u001b[43m,\u001b[49m\n\u001b[1;32m   3781\u001b[0m \u001b[43m    \u001b[49m\u001b[43mindex_label\u001b[49m\u001b[38;5;241;43m=\u001b[39;49m\u001b[43mindex_label\u001b[49m\u001b[43m,\u001b[49m\n\u001b[1;32m   3782\u001b[0m \u001b[43m    \u001b[49m\u001b[43mmode\u001b[49m\u001b[38;5;241;43m=\u001b[39;49m\u001b[43mmode\u001b[49m\u001b[43m,\u001b[49m\n\u001b[1;32m   3783\u001b[0m \u001b[43m    \u001b[49m\u001b[43mchunksize\u001b[49m\u001b[38;5;241;43m=\u001b[39;49m\u001b[43mchunksize\u001b[49m\u001b[43m,\u001b[49m\n\u001b[1;32m   3784\u001b[0m \u001b[43m    \u001b[49m\u001b[43mquotechar\u001b[49m\u001b[38;5;241;43m=\u001b[39;49m\u001b[43mquotechar\u001b[49m\u001b[43m,\u001b[49m\n\u001b[1;32m   3785\u001b[0m \u001b[43m    \u001b[49m\u001b[43mdate_format\u001b[49m\u001b[38;5;241;43m=\u001b[39;49m\u001b[43mdate_format\u001b[49m\u001b[43m,\u001b[49m\n\u001b[1;32m   3786\u001b[0m \u001b[43m    \u001b[49m\u001b[43mdoublequote\u001b[49m\u001b[38;5;241;43m=\u001b[39;49m\u001b[43mdoublequote\u001b[49m\u001b[43m,\u001b[49m\n\u001b[1;32m   3787\u001b[0m \u001b[43m    \u001b[49m\u001b[43mescapechar\u001b[49m\u001b[38;5;241;43m=\u001b[39;49m\u001b[43mescapechar\u001b[49m\u001b[43m,\u001b[49m\n\u001b[1;32m   3788\u001b[0m \u001b[43m    \u001b[49m\u001b[43mstorage_options\u001b[49m\u001b[38;5;241;43m=\u001b[39;49m\u001b[43mstorage_options\u001b[49m\u001b[43m,\u001b[49m\n\u001b[1;32m   3789\u001b[0m \u001b[43m\u001b[49m\u001b[43m)\u001b[49m\n",
      "File \u001b[0;32m~/Library/jupyterlab-desktop/jlab_server/lib/python3.8/site-packages/pandas/io/formats/format.py:1186\u001b[0m, in \u001b[0;36mDataFrameRenderer.to_csv\u001b[0;34m(self, path_or_buf, encoding, sep, columns, index_label, mode, compression, quoting, quotechar, lineterminator, chunksize, date_format, doublequote, escapechar, errors, storage_options)\u001b[0m\n\u001b[1;32m   1165\u001b[0m     created_buffer \u001b[38;5;241m=\u001b[39m \u001b[38;5;28;01mFalse\u001b[39;00m\n\u001b[1;32m   1167\u001b[0m csv_formatter \u001b[38;5;241m=\u001b[39m CSVFormatter(\n\u001b[1;32m   1168\u001b[0m     path_or_buf\u001b[38;5;241m=\u001b[39mpath_or_buf,\n\u001b[1;32m   1169\u001b[0m     lineterminator\u001b[38;5;241m=\u001b[39mlineterminator,\n\u001b[0;32m   (...)\u001b[0m\n\u001b[1;32m   1184\u001b[0m     formatter\u001b[38;5;241m=\u001b[39m\u001b[38;5;28mself\u001b[39m\u001b[38;5;241m.\u001b[39mfmt,\n\u001b[1;32m   1185\u001b[0m )\n\u001b[0;32m-> 1186\u001b[0m \u001b[43mcsv_formatter\u001b[49m\u001b[38;5;241;43m.\u001b[39;49m\u001b[43msave\u001b[49m\u001b[43m(\u001b[49m\u001b[43m)\u001b[49m\n\u001b[1;32m   1188\u001b[0m \u001b[38;5;28;01mif\u001b[39;00m created_buffer:\n\u001b[1;32m   1189\u001b[0m     \u001b[38;5;28;01massert\u001b[39;00m \u001b[38;5;28misinstance\u001b[39m(path_or_buf, StringIO)\n",
      "File \u001b[0;32m~/Library/jupyterlab-desktop/jlab_server/lib/python3.8/site-packages/pandas/io/formats/csvs.py:240\u001b[0m, in \u001b[0;36mCSVFormatter.save\u001b[0;34m(self)\u001b[0m\n\u001b[1;32m    236\u001b[0m \u001b[38;5;250m\u001b[39m\u001b[38;5;124;03m\"\"\"\u001b[39;00m\n\u001b[1;32m    237\u001b[0m \u001b[38;5;124;03mCreate the writer & save.\u001b[39;00m\n\u001b[1;32m    238\u001b[0m \u001b[38;5;124;03m\"\"\"\u001b[39;00m\n\u001b[1;32m    239\u001b[0m \u001b[38;5;66;03m# apply compression and byte/text conversion\u001b[39;00m\n\u001b[0;32m--> 240\u001b[0m \u001b[38;5;28;01mwith\u001b[39;00m \u001b[43mget_handle\u001b[49m\u001b[43m(\u001b[49m\n\u001b[1;32m    241\u001b[0m \u001b[43m    \u001b[49m\u001b[38;5;28;43mself\u001b[39;49m\u001b[38;5;241;43m.\u001b[39;49m\u001b[43mfilepath_or_buffer\u001b[49m\u001b[43m,\u001b[49m\n\u001b[1;32m    242\u001b[0m \u001b[43m    \u001b[49m\u001b[38;5;28;43mself\u001b[39;49m\u001b[38;5;241;43m.\u001b[39;49m\u001b[43mmode\u001b[49m\u001b[43m,\u001b[49m\n\u001b[1;32m    243\u001b[0m \u001b[43m    \u001b[49m\u001b[43mencoding\u001b[49m\u001b[38;5;241;43m=\u001b[39;49m\u001b[38;5;28;43mself\u001b[39;49m\u001b[38;5;241;43m.\u001b[39;49m\u001b[43mencoding\u001b[49m\u001b[43m,\u001b[49m\n\u001b[1;32m    244\u001b[0m \u001b[43m    \u001b[49m\u001b[43merrors\u001b[49m\u001b[38;5;241;43m=\u001b[39;49m\u001b[38;5;28;43mself\u001b[39;49m\u001b[38;5;241;43m.\u001b[39;49m\u001b[43merrors\u001b[49m\u001b[43m,\u001b[49m\n\u001b[1;32m    245\u001b[0m \u001b[43m    \u001b[49m\u001b[43mcompression\u001b[49m\u001b[38;5;241;43m=\u001b[39;49m\u001b[38;5;28;43mself\u001b[39;49m\u001b[38;5;241;43m.\u001b[39;49m\u001b[43mcompression\u001b[49m\u001b[43m,\u001b[49m\n\u001b[1;32m    246\u001b[0m \u001b[43m    \u001b[49m\u001b[43mstorage_options\u001b[49m\u001b[38;5;241;43m=\u001b[39;49m\u001b[38;5;28;43mself\u001b[39;49m\u001b[38;5;241;43m.\u001b[39;49m\u001b[43mstorage_options\u001b[49m\u001b[43m,\u001b[49m\n\u001b[1;32m    247\u001b[0m \u001b[43m\u001b[49m\u001b[43m)\u001b[49m \u001b[38;5;28;01mas\u001b[39;00m handles:\n\u001b[1;32m    248\u001b[0m     \u001b[38;5;66;03m# Note: self.encoding is irrelevant here\u001b[39;00m\n\u001b[1;32m    249\u001b[0m     \u001b[38;5;28mself\u001b[39m\u001b[38;5;241m.\u001b[39mwriter \u001b[38;5;241m=\u001b[39m csvlib\u001b[38;5;241m.\u001b[39mwriter(\n\u001b[1;32m    250\u001b[0m         handles\u001b[38;5;241m.\u001b[39mhandle,\n\u001b[1;32m    251\u001b[0m         lineterminator\u001b[38;5;241m=\u001b[39m\u001b[38;5;28mself\u001b[39m\u001b[38;5;241m.\u001b[39mlineterminator,\n\u001b[0;32m   (...)\u001b[0m\n\u001b[1;32m    256\u001b[0m         quotechar\u001b[38;5;241m=\u001b[39m\u001b[38;5;28mself\u001b[39m\u001b[38;5;241m.\u001b[39mquotechar,\n\u001b[1;32m    257\u001b[0m     )\n\u001b[1;32m    259\u001b[0m     \u001b[38;5;28mself\u001b[39m\u001b[38;5;241m.\u001b[39m_save()\n",
      "File \u001b[0;32m~/Library/jupyterlab-desktop/jlab_server/lib/python3.8/site-packages/pandas/io/common.py:859\u001b[0m, in \u001b[0;36mget_handle\u001b[0;34m(path_or_buf, mode, encoding, compression, memory_map, is_text, errors, storage_options)\u001b[0m\n\u001b[1;32m    854\u001b[0m \u001b[38;5;28;01melif\u001b[39;00m \u001b[38;5;28misinstance\u001b[39m(handle, \u001b[38;5;28mstr\u001b[39m):\n\u001b[1;32m    855\u001b[0m     \u001b[38;5;66;03m# Check whether the filename is to be opened in binary mode.\u001b[39;00m\n\u001b[1;32m    856\u001b[0m     \u001b[38;5;66;03m# Binary mode does not support 'encoding' and 'newline'.\u001b[39;00m\n\u001b[1;32m    857\u001b[0m     \u001b[38;5;28;01mif\u001b[39;00m ioargs\u001b[38;5;241m.\u001b[39mencoding \u001b[38;5;129;01mand\u001b[39;00m \u001b[38;5;124m\"\u001b[39m\u001b[38;5;124mb\u001b[39m\u001b[38;5;124m\"\u001b[39m \u001b[38;5;129;01mnot\u001b[39;00m \u001b[38;5;129;01min\u001b[39;00m ioargs\u001b[38;5;241m.\u001b[39mmode:\n\u001b[1;32m    858\u001b[0m         \u001b[38;5;66;03m# Encoding\u001b[39;00m\n\u001b[0;32m--> 859\u001b[0m         handle \u001b[38;5;241m=\u001b[39m \u001b[38;5;28;43mopen\u001b[39;49m\u001b[43m(\u001b[49m\n\u001b[1;32m    860\u001b[0m \u001b[43m            \u001b[49m\u001b[43mhandle\u001b[49m\u001b[43m,\u001b[49m\n\u001b[1;32m    861\u001b[0m \u001b[43m            \u001b[49m\u001b[43mioargs\u001b[49m\u001b[38;5;241;43m.\u001b[39;49m\u001b[43mmode\u001b[49m\u001b[43m,\u001b[49m\n\u001b[1;32m    862\u001b[0m \u001b[43m            \u001b[49m\u001b[43mencoding\u001b[49m\u001b[38;5;241;43m=\u001b[39;49m\u001b[43mioargs\u001b[49m\u001b[38;5;241;43m.\u001b[39;49m\u001b[43mencoding\u001b[49m\u001b[43m,\u001b[49m\n\u001b[1;32m    863\u001b[0m \u001b[43m            \u001b[49m\u001b[43merrors\u001b[49m\u001b[38;5;241;43m=\u001b[39;49m\u001b[43merrors\u001b[49m\u001b[43m,\u001b[49m\n\u001b[1;32m    864\u001b[0m \u001b[43m            \u001b[49m\u001b[43mnewline\u001b[49m\u001b[38;5;241;43m=\u001b[39;49m\u001b[38;5;124;43m\"\u001b[39;49m\u001b[38;5;124;43m\"\u001b[39;49m\u001b[43m,\u001b[49m\n\u001b[1;32m    865\u001b[0m \u001b[43m        \u001b[49m\u001b[43m)\u001b[49m\n\u001b[1;32m    866\u001b[0m     \u001b[38;5;28;01melse\u001b[39;00m:\n\u001b[1;32m    867\u001b[0m         \u001b[38;5;66;03m# Binary mode\u001b[39;00m\n\u001b[1;32m    868\u001b[0m         handle \u001b[38;5;241m=\u001b[39m \u001b[38;5;28mopen\u001b[39m(handle, ioargs\u001b[38;5;241m.\u001b[39mmode)\n",
      "\u001b[0;31mFileNotFoundError\u001b[0m: [Errno 2] No such file or directory: ''"
     ]
    }
   ],
   "source": [
    "df.to_csv('', index = False)"
   ]
  },
  {
   "cell_type": "code",
   "execution_count": null,
   "id": "4baa8189-b2cd-457d-b154-460364e68747",
   "metadata": {},
   "outputs": [],
   "source": []
  }
 ],
 "metadata": {
  "kernelspec": {
   "display_name": "Python 3 (ipykernel)",
   "language": "python",
   "name": "python3"
  },
  "language_info": {
   "codemirror_mode": {
    "name": "ipython",
    "version": 3
   },
   "file_extension": ".py",
   "mimetype": "text/x-python",
   "name": "python",
   "nbconvert_exporter": "python",
   "pygments_lexer": "ipython3",
   "version": "3.8.18"
  }
 },
 "nbformat": 4,
 "nbformat_minor": 5
}
