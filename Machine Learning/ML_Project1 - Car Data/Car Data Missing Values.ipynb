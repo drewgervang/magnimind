{
 "cells": [
  {
   "cell_type": "markdown",
   "id": "cbbac1f2-e1b8-4daa-aa0e-3e4d7caaf0f2",
   "metadata": {},
   "source": [
    "# Cleaning Car Data\n",
    "\n",
    "## Columns:\n",
    "\n",
    "**Categorical Columns**  \n",
    "- [] make_model\n",
    "- [] body_type\n",
    "- [] vat\n",
    "- [] registration_year\n",
    "- [] previous_owners\n",
    "- [] type\n",
    "- [] next_inspection\n",
    "- [] inspection_new\n",
    "- [] body_color\n",
    "- [] paint_type\n",
    "- [] upholstery_color\n",
    "- [] upholstery_material\n",
    "- [] gearing_type\n",
    "- [] fuel_type\n",
    "- [] particulate\n",
    "- [] co2_emission\n",
    "- [] emission_class\n",
    "- [] drive_chain\n",
    "- [] consumption_country\n",
    "- [] consumption_city\n",
    "- [] consumption_combined\n",
    "- [] entertainment_media\n",
    "- [] safety_security\n",
    "- [] comfort_convenience\n",
    "- [] extras\n",
    " \n",
    "**Quantitative Columns**\n",
    "- [] price\n",
    "- [] km\n",
    "- [] hp\n",
    "- [] displacement\n",
    "- [] warranty\n",
    "- [] weight\n",
    "- [] nr_of_doors\n",
    "- [] nr_of_seats\n",
    "- [] cylinders\n",
    "- [] gears\n",
    "\n",
    "\n",
    "---"
   ]
  },
  {
   "cell_type": "code",
   "execution_count": 1008,
   "id": "1fb74b60-50a9-4fa8-8469-4f5a55fdebd6",
   "metadata": {},
   "outputs": [],
   "source": [
    "import pandas as pd\n",
    "import numpy as np\n",
    "\n",
    "df = pd.read_csv(\"cleaned_car_data.csv\")"
   ]
  },
  {
   "cell_type": "code",
   "execution_count": 1009,
   "id": "85cedb5e-f135-4c11-aafc-27a210f6b3d3",
   "metadata": {},
   "outputs": [
    {
     "data": {
      "text/html": [
       "<div>\n",
       "<style scoped>\n",
       "    .dataframe tbody tr th:only-of-type {\n",
       "        vertical-align: middle;\n",
       "    }\n",
       "\n",
       "    .dataframe tbody tr th {\n",
       "        vertical-align: top;\n",
       "    }\n",
       "\n",
       "    .dataframe thead th {\n",
       "        text-align: right;\n",
       "    }\n",
       "</style>\n",
       "<table border=\"1\" class=\"dataframe\">\n",
       "  <thead>\n",
       "    <tr style=\"text-align: right;\">\n",
       "      <th></th>\n",
       "      <th>0</th>\n",
       "      <th>1</th>\n",
       "      <th>2</th>\n",
       "    </tr>\n",
       "  </thead>\n",
       "  <tbody>\n",
       "    <tr>\n",
       "      <th>make_model</th>\n",
       "      <td>Audi A1</td>\n",
       "      <td>Audi A1</td>\n",
       "      <td>Audi A1</td>\n",
       "    </tr>\n",
       "    <tr>\n",
       "      <th>body_type</th>\n",
       "      <td>Sedans</td>\n",
       "      <td>Sedans</td>\n",
       "      <td>Sedans</td>\n",
       "    </tr>\n",
       "    <tr>\n",
       "      <th>price</th>\n",
       "      <td>15770</td>\n",
       "      <td>14500</td>\n",
       "      <td>14640</td>\n",
       "    </tr>\n",
       "    <tr>\n",
       "      <th>vat</th>\n",
       "      <td>VAT deductible</td>\n",
       "      <td>Price negotiable</td>\n",
       "      <td>VAT deductible</td>\n",
       "    </tr>\n",
       "    <tr>\n",
       "      <th>km</th>\n",
       "      <td>56013.0</td>\n",
       "      <td>80000.0</td>\n",
       "      <td>83450.0</td>\n",
       "    </tr>\n",
       "    <tr>\n",
       "      <th>hp</th>\n",
       "      <td>66.0</td>\n",
       "      <td>141.0</td>\n",
       "      <td>85.0</td>\n",
       "    </tr>\n",
       "    <tr>\n",
       "      <th>type</th>\n",
       "      <td>Used</td>\n",
       "      <td>Used</td>\n",
       "      <td>Used</td>\n",
       "    </tr>\n",
       "    <tr>\n",
       "      <th>previous_owners</th>\n",
       "      <td>2.0</td>\n",
       "      <td>NaN</td>\n",
       "      <td>1.0</td>\n",
       "    </tr>\n",
       "    <tr>\n",
       "      <th>next_inspection</th>\n",
       "      <td>2021.0</td>\n",
       "      <td>NaN</td>\n",
       "      <td>NaN</td>\n",
       "    </tr>\n",
       "    <tr>\n",
       "      <th>inspection_new</th>\n",
       "      <td>Yes</td>\n",
       "      <td>NaN</td>\n",
       "      <td>NaN</td>\n",
       "    </tr>\n",
       "    <tr>\n",
       "      <th>warranty</th>\n",
       "      <td>NaN</td>\n",
       "      <td>NaN</td>\n",
       "      <td>NaN</td>\n",
       "    </tr>\n",
       "    <tr>\n",
       "      <th>full_service</th>\n",
       "      <td>['\\n', '\\n']</td>\n",
       "      <td>NaN</td>\n",
       "      <td>NaN</td>\n",
       "    </tr>\n",
       "    <tr>\n",
       "      <th>non-smoking_vehicle</th>\n",
       "      <td>['\\n', '\\n']</td>\n",
       "      <td>NaN</td>\n",
       "      <td>NaN</td>\n",
       "    </tr>\n",
       "    <tr>\n",
       "      <th>null</th>\n",
       "      <td>[]</td>\n",
       "      <td>[]</td>\n",
       "      <td>[]</td>\n",
       "    </tr>\n",
       "    <tr>\n",
       "      <th>offer_number</th>\n",
       "      <td>['\\nLR-062483\\n']</td>\n",
       "      <td>NaN</td>\n",
       "      <td>['\\nAM-95365\\n']</td>\n",
       "    </tr>\n",
       "    <tr>\n",
       "      <th>first_registration</th>\n",
       "      <td>['\\n', '2016', '\\n']</td>\n",
       "      <td>['\\n', '2017', '\\n']</td>\n",
       "      <td>['\\n', '2016', '\\n']</td>\n",
       "    </tr>\n",
       "    <tr>\n",
       "      <th>body_color</th>\n",
       "      <td>Black</td>\n",
       "      <td>Red</td>\n",
       "      <td>Black</td>\n",
       "    </tr>\n",
       "    <tr>\n",
       "      <th>paint_type</th>\n",
       "      <td>Metallic</td>\n",
       "      <td>NaN</td>\n",
       "      <td>Metallic</td>\n",
       "    </tr>\n",
       "    <tr>\n",
       "      <th>nr_of_doors</th>\n",
       "      <td>5.0</td>\n",
       "      <td>3.0</td>\n",
       "      <td>4.0</td>\n",
       "    </tr>\n",
       "    <tr>\n",
       "      <th>nr_of_seats</th>\n",
       "      <td>5.0</td>\n",
       "      <td>4.0</td>\n",
       "      <td>4.0</td>\n",
       "    </tr>\n",
       "    <tr>\n",
       "      <th>model_code</th>\n",
       "      <td>['\\n0588/BDF\\n']</td>\n",
       "      <td>['\\n0588/BCY\\n']</td>\n",
       "      <td>NaN</td>\n",
       "    </tr>\n",
       "    <tr>\n",
       "      <th>gearing_type</th>\n",
       "      <td>Automatic</td>\n",
       "      <td>Automatic</td>\n",
       "      <td>Automatic</td>\n",
       "    </tr>\n",
       "    <tr>\n",
       "      <th>displacement</th>\n",
       "      <td>1422.0</td>\n",
       "      <td>1798.0</td>\n",
       "      <td>1598.0</td>\n",
       "    </tr>\n",
       "    <tr>\n",
       "      <th>cylinders</th>\n",
       "      <td>3.0</td>\n",
       "      <td>4.0</td>\n",
       "      <td>NaN</td>\n",
       "    </tr>\n",
       "    <tr>\n",
       "      <th>weight</th>\n",
       "      <td>1220.0</td>\n",
       "      <td>1255.0</td>\n",
       "      <td>NaN</td>\n",
       "    </tr>\n",
       "    <tr>\n",
       "      <th>drive_chain</th>\n",
       "      <td>front</td>\n",
       "      <td>front</td>\n",
       "      <td>front</td>\n",
       "    </tr>\n",
       "    <tr>\n",
       "      <th>fuel</th>\n",
       "      <td>d</td>\n",
       "      <td>d</td>\n",
       "      <td>d</td>\n",
       "    </tr>\n",
       "    <tr>\n",
       "      <th>consumption</th>\n",
       "      <td>[['3.8 l/100 km (comb)'], ['4.3 l/100 km (city...</td>\n",
       "      <td>[['5.6 l/100 km (comb)'], ['7.1 l/100 km (city...</td>\n",
       "      <td>[['3.8 l/100 km (comb)'], ['4.4 l/100 km (city...</td>\n",
       "    </tr>\n",
       "    <tr>\n",
       "      <th>co2_emission</th>\n",
       "      <td>99.0</td>\n",
       "      <td>129.0</td>\n",
       "      <td>99.0</td>\n",
       "    </tr>\n",
       "    <tr>\n",
       "      <th>emission_class</th>\n",
       "      <td>Euro 6</td>\n",
       "      <td>Euro 6</td>\n",
       "      <td>Euro 6</td>\n",
       "    </tr>\n",
       "    <tr>\n",
       "      <th>comfort_convenience</th>\n",
       "      <td>'Air conditioning', 'Armrest', 'Automatic clim...</td>\n",
       "      <td>'Air conditioning', 'Automatic climate control...</td>\n",
       "      <td>'Air conditioning', 'Cruise control', 'Electri...</td>\n",
       "    </tr>\n",
       "    <tr>\n",
       "      <th>entertainment_media</th>\n",
       "      <td>'Bluetooth', 'Hands-free equipment', 'On-board...</td>\n",
       "      <td>'Bluetooth', 'Hands-free equipment', 'On-board...</td>\n",
       "      <td>'MP3', 'On-board computer'</td>\n",
       "    </tr>\n",
       "    <tr>\n",
       "      <th>extras</th>\n",
       "      <td>['Alloy wheels', 'Catalytic Converter', 'Voice...</td>\n",
       "      <td>['Alloy wheels', 'Sport seats', 'Sport suspens...</td>\n",
       "      <td>['Alloy wheels', 'Voice Control']</td>\n",
       "    </tr>\n",
       "    <tr>\n",
       "      <th>safety_security</th>\n",
       "      <td>['ABS', 'Central door lock', 'Daytime running ...</td>\n",
       "      <td>['ABS', 'Central door lock', 'Central door loc...</td>\n",
       "      <td>['ABS', 'Central door lock', 'Daytime running ...</td>\n",
       "    </tr>\n",
       "    <tr>\n",
       "      <th>gears</th>\n",
       "      <td>NaN</td>\n",
       "      <td>7.0</td>\n",
       "      <td>NaN</td>\n",
       "    </tr>\n",
       "    <tr>\n",
       "      <th>registration_year</th>\n",
       "      <td>2016.0</td>\n",
       "      <td>2017.0</td>\n",
       "      <td>2016.0</td>\n",
       "    </tr>\n",
       "    <tr>\n",
       "      <th>upholstery_material</th>\n",
       "      <td>Cloth</td>\n",
       "      <td>Cloth</td>\n",
       "      <td>Cloth</td>\n",
       "    </tr>\n",
       "    <tr>\n",
       "      <th>upholstery_color</th>\n",
       "      <td>Black</td>\n",
       "      <td>Grey</td>\n",
       "      <td>Black</td>\n",
       "    </tr>\n",
       "    <tr>\n",
       "      <th>particulate</th>\n",
       "      <td>unparticulate</td>\n",
       "      <td>unparticulate</td>\n",
       "      <td>unparticulate</td>\n",
       "    </tr>\n",
       "    <tr>\n",
       "      <th>combined_consumption</th>\n",
       "      <td>3.8</td>\n",
       "      <td>5.6</td>\n",
       "      <td>3.8</td>\n",
       "    </tr>\n",
       "    <tr>\n",
       "      <th>city_consumption</th>\n",
       "      <td>4.3</td>\n",
       "      <td>7.1</td>\n",
       "      <td>4.4</td>\n",
       "    </tr>\n",
       "    <tr>\n",
       "      <th>country_consumption</th>\n",
       "      <td>3.5</td>\n",
       "      <td>4.7</td>\n",
       "      <td>3.4</td>\n",
       "    </tr>\n",
       "  </tbody>\n",
       "</table>\n",
       "</div>"
      ],
      "text/plain": [
       "                                                                      0  \\\n",
       "make_model                                                      Audi A1   \n",
       "body_type                                                        Sedans   \n",
       "price                                                             15770   \n",
       "vat                                                      VAT deductible   \n",
       "km                                                              56013.0   \n",
       "hp                                                                 66.0   \n",
       "type                                                               Used   \n",
       "previous_owners                                                     2.0   \n",
       "next_inspection                                                  2021.0   \n",
       "inspection_new                                                      Yes   \n",
       "warranty                                                            NaN   \n",
       "full_service                                               ['\\n', '\\n']   \n",
       "non-smoking_vehicle                                        ['\\n', '\\n']   \n",
       "null                                                                 []   \n",
       "offer_number                                          ['\\nLR-062483\\n']   \n",
       "first_registration                                 ['\\n', '2016', '\\n']   \n",
       "body_color                                                        Black   \n",
       "paint_type                                                     Metallic   \n",
       "nr_of_doors                                                         5.0   \n",
       "nr_of_seats                                                         5.0   \n",
       "model_code                                             ['\\n0588/BDF\\n']   \n",
       "gearing_type                                                  Automatic   \n",
       "displacement                                                     1422.0   \n",
       "cylinders                                                           3.0   \n",
       "weight                                                           1220.0   \n",
       "drive_chain                                                       front   \n",
       "fuel                                                                  d   \n",
       "consumption           [['3.8 l/100 km (comb)'], ['4.3 l/100 km (city...   \n",
       "co2_emission                                                       99.0   \n",
       "emission_class                                                   Euro 6   \n",
       "comfort_convenience   'Air conditioning', 'Armrest', 'Automatic clim...   \n",
       "entertainment_media   'Bluetooth', 'Hands-free equipment', 'On-board...   \n",
       "extras                ['Alloy wheels', 'Catalytic Converter', 'Voice...   \n",
       "safety_security       ['ABS', 'Central door lock', 'Daytime running ...   \n",
       "gears                                                               NaN   \n",
       "registration_year                                                2016.0   \n",
       "upholstery_material                                               Cloth   \n",
       "upholstery_color                                                  Black   \n",
       "particulate                                               unparticulate   \n",
       "combined_consumption                                                3.8   \n",
       "city_consumption                                                    4.3   \n",
       "country_consumption                                                 3.5   \n",
       "\n",
       "                                                                      1  \\\n",
       "make_model                                                      Audi A1   \n",
       "body_type                                                        Sedans   \n",
       "price                                                             14500   \n",
       "vat                                                    Price negotiable   \n",
       "km                                                              80000.0   \n",
       "hp                                                                141.0   \n",
       "type                                                               Used   \n",
       "previous_owners                                                     NaN   \n",
       "next_inspection                                                     NaN   \n",
       "inspection_new                                                      NaN   \n",
       "warranty                                                            NaN   \n",
       "full_service                                                        NaN   \n",
       "non-smoking_vehicle                                                 NaN   \n",
       "null                                                                 []   \n",
       "offer_number                                                        NaN   \n",
       "first_registration                                 ['\\n', '2017', '\\n']   \n",
       "body_color                                                          Red   \n",
       "paint_type                                                          NaN   \n",
       "nr_of_doors                                                         3.0   \n",
       "nr_of_seats                                                         4.0   \n",
       "model_code                                             ['\\n0588/BCY\\n']   \n",
       "gearing_type                                                  Automatic   \n",
       "displacement                                                     1798.0   \n",
       "cylinders                                                           4.0   \n",
       "weight                                                           1255.0   \n",
       "drive_chain                                                       front   \n",
       "fuel                                                                  d   \n",
       "consumption           [['5.6 l/100 km (comb)'], ['7.1 l/100 km (city...   \n",
       "co2_emission                                                      129.0   \n",
       "emission_class                                                   Euro 6   \n",
       "comfort_convenience   'Air conditioning', 'Automatic climate control...   \n",
       "entertainment_media   'Bluetooth', 'Hands-free equipment', 'On-board...   \n",
       "extras                ['Alloy wheels', 'Sport seats', 'Sport suspens...   \n",
       "safety_security       ['ABS', 'Central door lock', 'Central door loc...   \n",
       "gears                                                               7.0   \n",
       "registration_year                                                2017.0   \n",
       "upholstery_material                                               Cloth   \n",
       "upholstery_color                                                   Grey   \n",
       "particulate                                               unparticulate   \n",
       "combined_consumption                                                5.6   \n",
       "city_consumption                                                    7.1   \n",
       "country_consumption                                                 4.7   \n",
       "\n",
       "                                                                      2  \n",
       "make_model                                                      Audi A1  \n",
       "body_type                                                        Sedans  \n",
       "price                                                             14640  \n",
       "vat                                                      VAT deductible  \n",
       "km                                                              83450.0  \n",
       "hp                                                                 85.0  \n",
       "type                                                               Used  \n",
       "previous_owners                                                     1.0  \n",
       "next_inspection                                                     NaN  \n",
       "inspection_new                                                      NaN  \n",
       "warranty                                                            NaN  \n",
       "full_service                                                        NaN  \n",
       "non-smoking_vehicle                                                 NaN  \n",
       "null                                                                 []  \n",
       "offer_number                                           ['\\nAM-95365\\n']  \n",
       "first_registration                                 ['\\n', '2016', '\\n']  \n",
       "body_color                                                        Black  \n",
       "paint_type                                                     Metallic  \n",
       "nr_of_doors                                                         4.0  \n",
       "nr_of_seats                                                         4.0  \n",
       "model_code                                                          NaN  \n",
       "gearing_type                                                  Automatic  \n",
       "displacement                                                     1598.0  \n",
       "cylinders                                                           NaN  \n",
       "weight                                                              NaN  \n",
       "drive_chain                                                       front  \n",
       "fuel                                                                  d  \n",
       "consumption           [['3.8 l/100 km (comb)'], ['4.4 l/100 km (city...  \n",
       "co2_emission                                                       99.0  \n",
       "emission_class                                                   Euro 6  \n",
       "comfort_convenience   'Air conditioning', 'Cruise control', 'Electri...  \n",
       "entertainment_media                          'MP3', 'On-board computer'  \n",
       "extras                                ['Alloy wheels', 'Voice Control']  \n",
       "safety_security       ['ABS', 'Central door lock', 'Daytime running ...  \n",
       "gears                                                               NaN  \n",
       "registration_year                                                2016.0  \n",
       "upholstery_material                                               Cloth  \n",
       "upholstery_color                                                  Black  \n",
       "particulate                                               unparticulate  \n",
       "combined_consumption                                                3.8  \n",
       "city_consumption                                                    4.4  \n",
       "country_consumption                                                 3.4  "
      ]
     },
     "execution_count": 1009,
     "metadata": {},
     "output_type": "execute_result"
    }
   ],
   "source": [
    "df.head(3).T"
   ]
  },
  {
   "cell_type": "code",
   "execution_count": 1010,
   "id": "e6c9d9bb-fe16-478a-bfd7-58cfba000993",
   "metadata": {},
   "outputs": [
    {
     "name": "stdout",
     "output_type": "stream",
     "text": [
      "<class 'pandas.core.frame.DataFrame'>\n",
      "RangeIndex: 15919 entries, 0 to 15918\n",
      "Data columns (total 42 columns):\n",
      " #   Column                Non-Null Count  Dtype  \n",
      "---  ------                --------------  -----  \n",
      " 0   make_model            15919 non-null  object \n",
      " 1   body_type             15859 non-null  object \n",
      " 2   price                 15919 non-null  int64  \n",
      " 3   vat                   11406 non-null  object \n",
      " 4   km                    14895 non-null  float64\n",
      " 5   hp                    15831 non-null  float64\n",
      " 6   type                  15917 non-null  object \n",
      " 7   previous_owners       9254 non-null   float64\n",
      " 8   next_inspection       2825 non-null   float64\n",
      " 9   inspection_new        3570 non-null   object \n",
      " 10  warranty              4853 non-null   float64\n",
      " 11  full_service          8215 non-null   object \n",
      " 12  non-smoking_vehicle   7177 non-null   object \n",
      " 13  null                  15919 non-null  object \n",
      " 14  offer_number          12744 non-null  object \n",
      " 15  first_registration    14322 non-null  object \n",
      " 16  body_color            15322 non-null  object \n",
      " 17  paint_type            10147 non-null  object \n",
      " 18  nr_of_doors           15707 non-null  float64\n",
      " 19  nr_of_seats           14942 non-null  float64\n",
      " 20  model_code            4978 non-null   object \n",
      " 21  gearing_type          15919 non-null  object \n",
      " 22  displacement          15423 non-null  float64\n",
      " 23  cylinders             10239 non-null  float64\n",
      " 24  weight                8945 non-null   float64\n",
      " 25  drive_chain           9061 non-null   object \n",
      " 26  fuel                  14267 non-null  object \n",
      " 27  consumption           14013 non-null  object \n",
      " 28  co2_emission          13483 non-null  float64\n",
      " 29  emission_class        12291 non-null  object \n",
      " 30  comfort_convenience   14999 non-null  object \n",
      " 31  entertainment_media   14545 non-null  object \n",
      " 32  extras                12957 non-null  object \n",
      " 33  safety_security       14937 non-null  object \n",
      " 34  gears                 11207 non-null  float64\n",
      " 35  registration_year     14322 non-null  float64\n",
      " 36  upholstery_material   11416 non-null  object \n",
      " 37  upholstery_color      9881 non-null   object \n",
      " 38  particulate           15919 non-null  object \n",
      " 39  combined_consumption  13036 non-null  float64\n",
      " 40  city_consumption      13497 non-null  float64\n",
      " 41  country_consumption   12707 non-null  float64\n",
      "dtypes: float64(16), int64(1), object(25)\n",
      "memory usage: 5.1+ MB\n"
     ]
    }
   ],
   "source": [
    "df.info()"
   ]
  },
  {
   "cell_type": "markdown",
   "id": "71b789a1-15ed-4ce2-a4b3-34f677f3a9e5",
   "metadata": {},
   "source": [
    "---\n",
    "\n",
    "## Fill Missing Values Function\n"
   ]
  },
  {
   "cell_type": "markdown",
   "id": "8339649e-0b7b-4e59-8b36-81f2935f7d89",
   "metadata": {},
   "source": [
    "### use q cut on numerical to turn into categorical.\n",
    "### also use other methods"
   ]
  },
  {
   "cell_type": "code",
   "execution_count": 1011,
   "id": "d19047aa-e05c-44e0-9409-045ab9a48a3b",
   "metadata": {},
   "outputs": [],
   "source": [
    "def fill(method, df, column, group_cols=None):\n",
    "    \"\"\"\n",
    "    Fills NaN values in `df[column]` either using the overall mean, median or mode (no grouping)\n",
    "    or group-specific mean, median or mode (group_col provided).\n",
    "    Prints stats about how many NaNs were filled and the final distribution.\n",
    "    \"\"\"\n",
    "    # Debug prints: which column is being filled, and grouping info.\n",
    "    print('Filling column:', column)\n",
    "    print('Grouping by:', group_cols)\n",
    "\n",
    "    # 1. Count NaNs before filling\n",
    "    nan_before = df[column].isnull().sum()\n",
    "\n",
    "    # 2. Fill logic\n",
    "    if method == 'mean':\n",
    "            if group_cols is None:\n",
    "                # Fill all NaN in 'column' with the overall mean\n",
    "                df[column].fillna(df[column].mean(), inplace=True)\n",
    "            else:\n",
    "                # Calculate groupwise mean for each row\n",
    "                group = df.groupby(group_cols)[column].transform(lambda x: x.mean())\n",
    "                # Fill missing values in df[column] with corresponding group mean\n",
    "                df[column].fillna(group, inplace=True)\n",
    "    \n",
    "    elif method == 'median':\n",
    "        if group_cols is None:\n",
    "            # Fill all NaN in 'column' with the overall median\n",
    "            df[column].fillna(df[column].median(), inplace=True)\n",
    "        else:\n",
    "            # Calculate groupwise median for each row\n",
    "            group = df.groupby(group_cols)[column].transform(lambda x: x.median())\n",
    "            # Fill xmissing values in df[column] with corresponding group median\n",
    "            df[column].fillna(group, inplace=True)\n",
    "    \n",
    "    elif method == 'mode':\n",
    "        if group_cols is None:\n",
    "            # Fill all NaN in 'column' with the overall mode\n",
    "            df[column].fillna(df[column].mode().iloc[0], inplace=True)            \n",
    "        else:\n",
    "            # Calculate groupwise mode for each row\n",
    "            group = df.groupby(group_cols)[column]\\\n",
    "            .transform(lambda x: x.mode()[0] if list(x.mode()) != [] else np.nan)\n",
    "            # Fill missing values in df[column] with corresponding group mode\n",
    "            df[column].fillna(group, inplace=True)\n",
    "\n",
    "    # 3. Count NaNs after filling\n",
    "    nan_after = df[column].isnull().sum()\n",
    "    nan_filled = nan_before - nan_after\n",
    "\n",
    "    # 4. Print final stats\n",
    "    print(\"Number of NaN before filling:\", nan_before)\n",
    "    print(\"Number of NaN filled:\", nan_filled)\n",
    "    print(\"Number of NaN after filling:\", nan_after)\n",
    "    print(\"------------------\")\n",
    "    print(df[column].value_counts(dropna=False))"
   ]
  },
  {
   "cell_type": "markdown",
   "id": "64f344b1-899e-4c0d-87ba-bac90d4a37ff",
   "metadata": {
    "jp-MarkdownHeadingCollapsed": true
   },
   "source": [
    "---\n",
    "\n",
    "## Provided Functions"
   ]
  },
  {
   "cell_type": "code",
   "execution_count": 1012,
   "id": "a64f8602-dc70-4510-8c5d-9ef5b141d69c",
   "metadata": {},
   "outputs": [],
   "source": [
    "def fill_most_freq(df, group_col, col_name):\n",
    "    \n",
    "    '''Fills the missing values with the most existing value (mode) in the relevant column according to single-stage grouping'''\n",
    "    \n",
    "    for group in list(df[group_col].unique()):\n",
    "        cond = df[group_col]==group\n",
    "        mode = list(df[cond][col_name].mode())\n",
    "        if mode != [] :\n",
    "            df.loc[cond, col_name] = df.loc[cond, col_name].fillna(df[cond][col_name].mode()[0])\n",
    "        else:\n",
    "            df.loc[cond, col_name] = df.loc[cond, col_name].fillna(df[col_name].mode()[0])\n",
    "    print(\"Number of NaN : \", df[col_name].isnull().sum())\n",
    "    print(\"------------------\")\n",
    "    print(df[col_name].value_counts(dropna=False))"
   ]
  },
  {
   "cell_type": "code",
   "execution_count": 1013,
   "id": "969b5344-5c3c-4d5e-9a55-cbe2fbde21d3",
   "metadata": {},
   "outputs": [],
   "source": [
    "def fill_prop(df, group_col, col_name):\n",
    "    \n",
    "    '''Fills the missing values with \"ffill and bfill method\" according to single-stage grouping'''\n",
    "    \n",
    "    for group in list(df[group_col].unique()):\n",
    "        cond = df[group_col]==group\n",
    "        df.loc[cond, col_name] = df.loc[cond, col_name].fillna(method=\"ffill\").fillna(method=\"bfill\")\n",
    "    df[col_name] = df[col_name].fillna(method=\"ffill\").fillna(method=\"bfill\")\n",
    "    print(\"Number of NaN : \", df[col_name].isnull().sum())\n",
    "    print(\"------------------\")\n",
    "    print(df[col_name].value_counts(dropna=False))"
   ]
  },
  {
   "cell_type": "code",
   "execution_count": 1014,
   "id": "1cf203cb-7340-4a47-9d8d-0dbd5ee19c7a",
   "metadata": {},
   "outputs": [],
   "source": [
    "def double_stage(df, group_col1, group_col2, col_name, method): # method can be either \"mode\" or \"mean\" or \"median\" or \"ffill\"\n",
    "    \n",
    "    '''Fills the missing values with \"mode/mean/median/ffill/bfill method\" according to double-stage grouping'''\n",
    "    \n",
    "    if method == \"mode\":\n",
    "        for group1 in list(df[group_col1].unique()):\n",
    "            for group2 in list(df[group_col2].unique()):\n",
    "                cond1 = df[group_col1]==group1\n",
    "                cond2 = (df[group_col1]==group1) & (df[group_col2]==group2)\n",
    "                mode1 = list(df[cond1][col_name].mode())\n",
    "                mode2 = list(df[cond2][col_name].mode())\n",
    "                if mode2 != [] :\n",
    "                    df.loc[cond2, col_name] = df.loc[cond2, col_name].fillna(df[cond2][col_name].mode()[0])\n",
    "                elif mode1 != [] :\n",
    "                    df.loc[cond2, col_name] = df.loc[cond2, col_name].fillna(df[cond1][col_name].mode()[0])\n",
    "                else:\n",
    "                    df.loc[cond2, col_name] = df.loc[cond2, col_name].fillna(df[col_name].mode()[0])\n",
    "\n",
    "    elif method == \"mean\":\n",
    "        df[col_name].fillna(df.groupby([group_col1, group_col2])[col_name].transform(\"mean\"), inplace = True)\n",
    "        df[col_name].fillna(df.groupby(group_col1)[col_name].transform(\"mean\"), inplace = True)\n",
    "        df[col_name].fillna(df[col_name].mean(), inplace = True)\n",
    "        \n",
    "    elif method == \"median\":\n",
    "        df[col_name].fillna(df.groupby([group_col1, group_col2])[col_name].transform(\"median\"), inplace = True)\n",
    "        df[col_name].fillna(df.groupby(group_col1)[col_name].transform(\"median\"), inplace = True)\n",
    "        df[col_name].fillna(df[col_name].median(), inplace = True)\n",
    "        \n",
    "    elif method == \"ffill\":           \n",
    "        for group1 in list(df[group_col1].unique()):\n",
    "            for group2 in list(df[group_col2].unique()):\n",
    "                cond2 = (df[group_col1]==group1) & (df[group_col2]==group2)\n",
    "                df.loc[cond2, col_name] = df.loc[cond2, col_name].fillna(method=\"ffill\").fillna(method=\"bfill\")\n",
    "                \n",
    "        for group1 in list(df[group_col1].unique()):\n",
    "            cond1 = df[group_col1]==group1\n",
    "            df.loc[cond1, col_name] = df.loc[cond1, col_name].fillna(method=\"ffill\").fillna(method=\"bfill\")            \n",
    "           \n",
    "        df[col_name] = df[col_name].fillna(method=\"ffill\").fillna(method=\"bfill\")\n",
    "    \n",
    "    print(\"Number of NaN : \",df[col_name].isnull().sum())\n",
    "    print(\"------------------\")\n",
    "    print(df[col_name].value_counts(dropna=False))"
   ]
  },
  {
   "cell_type": "markdown",
   "id": "95ac01a4-c289-40d9-bb5d-fe34259df6b1",
   "metadata": {},
   "source": [
    "---\n",
    "\n",
    "## Categorical Columns\n",
    "- [x] make_model\n",
    "- [x] body_type\n",
    "- [x] vat\n",
    "- [x] registration_year\n",
    "- [x] previous_owners\n",
    "- [] type\n",
    "- [x] next_inspection\n",
    "- [x] inspection_new\n",
    "- [x] body_color\n",
    "- [x] paint_type\n",
    "- [] upholstery_color\n",
    "- [] upholstery_material\n",
    "- [x] gearing_type\n",
    "- [] fuel_type\n",
    "- [] particulate\n",
    "- [] co2_emission\n",
    "- [] emission_class\n",
    "- [] drive_chain\n",
    "- [] consumption_country\n",
    "- [] consumption_city\n",
    "- [] consumption_combined\n",
    "- [] entertainment_media\n",
    "- [] safety_security\n",
    "- [] comfort_convenience\n",
    "- [] extras"
   ]
  },
  {
   "cell_type": "markdown",
   "id": "7eaf586a-c221-4542-9c83-ac39714de704",
   "metadata": {
    "jp-MarkdownHeadingCollapsed": true
   },
   "source": [
    "### make_model"
   ]
  },
  {
   "cell_type": "code",
   "execution_count": 1015,
   "id": "619348f1-157c-4f85-8d56-c7da92b4f2fd",
   "metadata": {},
   "outputs": [
    {
     "data": {
      "text/plain": [
       "make_model\n",
       "Audi A3           3097\n",
       "Audi A1           2614\n",
       "Opel Insignia     2598\n",
       "Opel Astra        2526\n",
       "Opel Corsa        2219\n",
       "Renault Clio      1839\n",
       "Renault Espace     991\n",
       "Renault Duster      34\n",
       "Audi A2              1\n",
       "Name: count, dtype: int64"
      ]
     },
     "execution_count": 1015,
     "metadata": {},
     "output_type": "execute_result"
    }
   ],
   "source": [
    "df['make_model'].value_counts(dropna=False)"
   ]
  },
  {
   "cell_type": "markdown",
   "id": "d23154c5-dd8b-4d33-b358-c717f6beb71c",
   "metadata": {
    "jp-MarkdownHeadingCollapsed": true
   },
   "source": [
    "### body_type"
   ]
  },
  {
   "cell_type": "code",
   "execution_count": 1016,
   "id": "3b594c81-4013-4535-aa84-2a2c01ff1ace",
   "metadata": {},
   "outputs": [
    {
     "data": {
      "text/plain": [
       "body_type\n",
       "Sedans           7903\n",
       "Station wagon    3553\n",
       "Compact          3153\n",
       "Van               783\n",
       "Other             290\n",
       "Transporter        88\n",
       "NaN                60\n",
       "Off-Road           56\n",
       "Coupe              25\n",
       "Convertible         8\n",
       "Name: count, dtype: int64"
      ]
     },
     "execution_count": 1016,
     "metadata": {},
     "output_type": "execute_result"
    }
   ],
   "source": [
    "df['body_type'].value_counts(dropna=False)"
   ]
  },
  {
   "cell_type": "code",
   "execution_count": 1017,
   "id": "8ddc855f-e609-47a9-b3db-d487756d13d7",
   "metadata": {},
   "outputs": [
    {
     "data": {
      "text/plain": [
       "make_model\n",
       "Audi A3           3097\n",
       "Audi A1           2614\n",
       "Opel Insignia     2598\n",
       "Opel Astra        2526\n",
       "Opel Corsa        2219\n",
       "Renault Clio      1839\n",
       "Renault Espace     991\n",
       "Renault Duster      34\n",
       "Audi A2              1\n",
       "Name: count, dtype: int64"
      ]
     },
     "execution_count": 1017,
     "metadata": {},
     "output_type": "execute_result"
    }
   ],
   "source": [
    "df['make_model'].value_counts(dropna=False)"
   ]
  },
  {
   "cell_type": "markdown",
   "id": "fed25a0f-a05f-45dd-950c-419fa3c98b0e",
   "metadata": {},
   "source": [
    "#### same make_model same body_type so we can use fill()"
   ]
  },
  {
   "cell_type": "code",
   "execution_count": 1018,
   "id": "6db4ed22-ae0e-416a-aedb-39d692d1ce8b",
   "metadata": {},
   "outputs": [
    {
     "name": "stdout",
     "output_type": "stream",
     "text": [
      "Filling column: body_type\n",
      "Grouping by: make_model\n",
      "Number of NaN before filling: 60\n",
      "Number of NaN filled: 60\n",
      "Number of NaN after filling: 0\n",
      "------------------\n",
      "body_type\n",
      "Sedans           7925\n",
      "Station wagon    3563\n",
      "Compact          3155\n",
      "Van               809\n",
      "Other             290\n",
      "Transporter        88\n",
      "Off-Road           56\n",
      "Coupe              25\n",
      "Convertible         8\n",
      "Name: count, dtype: int64\n"
     ]
    }
   ],
   "source": [
    "fill('mode', df, 'body_type', 'make_model')"
   ]
  },
  {
   "cell_type": "markdown",
   "id": "5d47d324-8735-4b51-a87f-6876d6bf8f43",
   "metadata": {
    "jp-MarkdownHeadingCollapsed": true
   },
   "source": [
    "### vat"
   ]
  },
  {
   "cell_type": "code",
   "execution_count": 1019,
   "id": "01886d44-7f38-4d80-bfcc-1c772e46109c",
   "metadata": {},
   "outputs": [
    {
     "data": {
      "text/plain": [
       "vat\n",
       "VAT deductible      10980\n",
       "NaN                  4513\n",
       "Price negotiable      426\n",
       "Name: count, dtype: int64"
      ]
     },
     "execution_count": 1019,
     "metadata": {},
     "output_type": "execute_result"
    }
   ],
   "source": [
    "df.vat.value_counts(dropna=False)"
   ]
  },
  {
   "cell_type": "code",
   "execution_count": 1020,
   "id": "d0e364cf-d9e9-4dc4-a25f-96bcdb9b90df",
   "metadata": {},
   "outputs": [],
   "source": [
    "df['vat'] = df['vat'].fillna('VAT undeductible') "
   ]
  },
  {
   "cell_type": "markdown",
   "id": "a6e7bb69-bc16-4fa5-93ac-b77a16c18336",
   "metadata": {},
   "source": [
    "* All null values of vat column assigned as 'VAT undeductible'"
   ]
  },
  {
   "cell_type": "markdown",
   "id": "df7c624c-2732-4f05-8768-5d41950a873f",
   "metadata": {
    "jp-MarkdownHeadingCollapsed": true
   },
   "source": [
    "### registration_year (converted to age)"
   ]
  },
  {
   "cell_type": "code",
   "execution_count": 1021,
   "id": "7c4ac3f7-773c-4183-a5e3-ac048a29cb71",
   "metadata": {},
   "outputs": [],
   "source": [
    "df.loc[((df['type'] == 'New') & df.registration_year.isnull()), 'registration_year']= 2019"
   ]
  },
  {
   "cell_type": "markdown",
   "id": "23c506db-01fe-48c8-89cd-3cd490092042",
   "metadata": {},
   "source": [
    " - #### new cars become 2019"
   ]
  },
  {
   "cell_type": "code",
   "execution_count": 1022,
   "id": "5dbfebc5-d086-4071-af89-cb4e63266c69",
   "metadata": {},
   "outputs": [
    {
     "data": {
      "text/plain": [
       "registration_year\n",
       "2016.0    77442.520958\n",
       "2017.0    41754.940709\n",
       "2018.0    18035.239072\n",
       "2019.0     1653.107634\n",
       "Name: km, dtype: float64"
      ]
     },
     "execution_count": 1022,
     "metadata": {},
     "output_type": "execute_result"
    }
   ],
   "source": [
    "df.groupby('registration_year').km.mean()"
   ]
  },
  {
   "cell_type": "code",
   "execution_count": 1023,
   "id": "76d6e8f3-b78c-4770-b41c-3d4f3ed926b0",
   "metadata": {},
   "outputs": [],
   "source": [
    "df.loc[(df['registration_year'].isnull()) & (df.km <= 5000),'registration_year'] =2019"
   ]
  },
  {
   "cell_type": "code",
   "execution_count": 1024,
   "id": "7ed53e84-aefa-4cb6-a0ef-304daa0bfc81",
   "metadata": {},
   "outputs": [],
   "source": [
    "df.loc[(df['registration_year'].isnull()) & (df.km > 50000),'registration_year'] =2016"
   ]
  },
  {
   "cell_type": "code",
   "execution_count": 1025,
   "id": "4fd3ef37-608f-43f4-a88f-ce4bf6cf28d4",
   "metadata": {},
   "outputs": [],
   "source": [
    "df.loc[(df['registration_year'].isnull()) & (df.km < 19000),'registration_year'] =2018"
   ]
  },
  {
   "cell_type": "code",
   "execution_count": 1026,
   "id": "43bc5608-729b-4508-bfc9-b3b76afcb9ef",
   "metadata": {},
   "outputs": [],
   "source": [
    "df.loc[(df['registration_year'].isnull()) & (df.km < 40000),'registration_year'] =2017"
   ]
  },
  {
   "cell_type": "markdown",
   "id": "be30430d-ded2-41e3-8844-94999be09882",
   "metadata": {},
   "source": [
    "- #### otherwise filled based on mileage"
   ]
  },
  {
   "cell_type": "code",
   "execution_count": 1027,
   "id": "e8a8f07d-00fb-4000-b107-82102cf77523",
   "metadata": {},
   "outputs": [
    {
     "data": {
      "text/plain": [
       "registration_year\n",
       "2016.0    16702.052388\n",
       "2017.0    19970.030631\n",
       "2018.0    22544.715092\n",
       "2019.0    24859.973913\n",
       "Name: price, dtype: float64"
      ]
     },
     "execution_count": 1027,
     "metadata": {},
     "output_type": "execute_result"
    }
   ],
   "source": [
    "df[(df['make_model'] == 'Audi A3') & (df['body_type'] == 'Sedans')].groupby('registration_year').price.mean()"
   ]
  },
  {
   "cell_type": "code",
   "execution_count": 1028,
   "id": "c8bb9264-4241-4bda-b4c7-f4eba39ac00d",
   "metadata": {},
   "outputs": [
    {
     "data": {
      "text/plain": [
       "registration_year\n",
       "2016.0    13606.709507\n",
       "2017.0    16995.140917\n",
       "2018.0    21390.167750\n",
       "2019.0    32103.197015\n",
       "Name: price, dtype: float64"
      ]
     },
     "execution_count": 1028,
     "metadata": {},
     "output_type": "execute_result"
    }
   ],
   "source": [
    "df[(df['make_model'] == 'Opel Insignia')].groupby('registration_year').price.mean()"
   ]
  },
  {
   "cell_type": "code",
   "execution_count": 1029,
   "id": "0b5f9e2b-1d0c-4802-86dd-1023501adf2c",
   "metadata": {},
   "outputs": [
    {
     "data": {
      "text/html": [
       "<div>\n",
       "<style scoped>\n",
       "    .dataframe tbody tr th:only-of-type {\n",
       "        vertical-align: middle;\n",
       "    }\n",
       "\n",
       "    .dataframe tbody tr th {\n",
       "        vertical-align: top;\n",
       "    }\n",
       "\n",
       "    .dataframe thead th {\n",
       "        text-align: right;\n",
       "    }\n",
       "</style>\n",
       "<table border=\"1\" class=\"dataframe\">\n",
       "  <thead>\n",
       "    <tr style=\"text-align: right;\">\n",
       "      <th></th>\n",
       "      <th>make_model</th>\n",
       "      <th>body_type</th>\n",
       "      <th>price</th>\n",
       "      <th>vat</th>\n",
       "      <th>km</th>\n",
       "      <th>hp</th>\n",
       "      <th>type</th>\n",
       "      <th>previous_owners</th>\n",
       "      <th>next_inspection</th>\n",
       "      <th>inspection_new</th>\n",
       "      <th>...</th>\n",
       "      <th>extras</th>\n",
       "      <th>safety_security</th>\n",
       "      <th>gears</th>\n",
       "      <th>registration_year</th>\n",
       "      <th>upholstery_material</th>\n",
       "      <th>upholstery_color</th>\n",
       "      <th>particulate</th>\n",
       "      <th>combined_consumption</th>\n",
       "      <th>city_consumption</th>\n",
       "      <th>country_consumption</th>\n",
       "    </tr>\n",
       "  </thead>\n",
       "  <tbody>\n",
       "    <tr>\n",
       "      <th>5237</th>\n",
       "      <td>Audi A3</td>\n",
       "      <td>Sedans</td>\n",
       "      <td>25400</td>\n",
       "      <td>VAT undeductible</td>\n",
       "      <td>NaN</td>\n",
       "      <td>85.0</td>\n",
       "      <td>NaN</td>\n",
       "      <td>NaN</td>\n",
       "      <td>NaN</td>\n",
       "      <td>NaN</td>\n",
       "      <td>...</td>\n",
       "      <td>['Alloy wheels']</td>\n",
       "      <td>['ABS', 'Central door lock', 'Driver-side airb...</td>\n",
       "      <td>7.0</td>\n",
       "      <td>NaN</td>\n",
       "      <td>Cloth</td>\n",
       "      <td>NaN</td>\n",
       "      <td>unparticulate</td>\n",
       "      <td>3.9</td>\n",
       "      <td>4.1</td>\n",
       "      <td>3.7</td>\n",
       "    </tr>\n",
       "    <tr>\n",
       "      <th>5329</th>\n",
       "      <td>Audi A3</td>\n",
       "      <td>Sedans</td>\n",
       "      <td>24900</td>\n",
       "      <td>VAT undeductible</td>\n",
       "      <td>NaN</td>\n",
       "      <td>85.0</td>\n",
       "      <td>Pre-registered</td>\n",
       "      <td>NaN</td>\n",
       "      <td>NaN</td>\n",
       "      <td>NaN</td>\n",
       "      <td>...</td>\n",
       "      <td>['Alloy wheels']</td>\n",
       "      <td>['ABS', 'Central door lock', 'Driver-side airb...</td>\n",
       "      <td>7.0</td>\n",
       "      <td>NaN</td>\n",
       "      <td>Cloth</td>\n",
       "      <td>NaN</td>\n",
       "      <td>unparticulate</td>\n",
       "      <td>3.9</td>\n",
       "      <td>4.1</td>\n",
       "      <td>3.7</td>\n",
       "    </tr>\n",
       "    <tr>\n",
       "      <th>12550</th>\n",
       "      <td>Opel Insignia</td>\n",
       "      <td>Sedans</td>\n",
       "      <td>33800</td>\n",
       "      <td>VAT undeductible</td>\n",
       "      <td>NaN</td>\n",
       "      <td>100.0</td>\n",
       "      <td>Employee's car</td>\n",
       "      <td>NaN</td>\n",
       "      <td>NaN</td>\n",
       "      <td>NaN</td>\n",
       "      <td>...</td>\n",
       "      <td>['Alloy wheels', 'Sport package', 'Touch scree...</td>\n",
       "      <td>['ABS', 'Blind spot monitor', 'Central door lo...</td>\n",
       "      <td>6.0</td>\n",
       "      <td>NaN</td>\n",
       "      <td>Part leather</td>\n",
       "      <td>Black</td>\n",
       "      <td>unparticulate</td>\n",
       "      <td>5.4</td>\n",
       "      <td>7.0</td>\n",
       "      <td>4.6</td>\n",
       "    </tr>\n",
       "    <tr>\n",
       "      <th>12882</th>\n",
       "      <td>Opel Insignia</td>\n",
       "      <td>Station wagon</td>\n",
       "      <td>31318</td>\n",
       "      <td>VAT deductible</td>\n",
       "      <td>NaN</td>\n",
       "      <td>100.0</td>\n",
       "      <td>Used</td>\n",
       "      <td>NaN</td>\n",
       "      <td>NaN</td>\n",
       "      <td>NaN</td>\n",
       "      <td>...</td>\n",
       "      <td>['Alloy wheels', 'Sport seats']</td>\n",
       "      <td>['ABS', 'Central door lock', 'Driver-side airb...</td>\n",
       "      <td>6.0</td>\n",
       "      <td>NaN</td>\n",
       "      <td>Full leather</td>\n",
       "      <td>Black</td>\n",
       "      <td>unparticulate</td>\n",
       "      <td>4.3</td>\n",
       "      <td>NaN</td>\n",
       "      <td>NaN</td>\n",
       "    </tr>\n",
       "  </tbody>\n",
       "</table>\n",
       "<p>4 rows × 42 columns</p>\n",
       "</div>"
      ],
      "text/plain": [
       "          make_model      body_type  price               vat  km     hp  \\\n",
       "5237         Audi A3         Sedans  25400  VAT undeductible NaN   85.0   \n",
       "5329         Audi A3         Sedans  24900  VAT undeductible NaN   85.0   \n",
       "12550  Opel Insignia         Sedans  33800  VAT undeductible NaN  100.0   \n",
       "12882  Opel Insignia  Station wagon  31318    VAT deductible NaN  100.0   \n",
       "\n",
       "                 type  previous_owners  next_inspection inspection_new  ...  \\\n",
       "5237              NaN              NaN              NaN            NaN  ...   \n",
       "5329   Pre-registered              NaN              NaN            NaN  ...   \n",
       "12550  Employee's car              NaN              NaN            NaN  ...   \n",
       "12882            Used              NaN              NaN            NaN  ...   \n",
       "\n",
       "                                                  extras  \\\n",
       "5237                                    ['Alloy wheels']   \n",
       "5329                                    ['Alloy wheels']   \n",
       "12550  ['Alloy wheels', 'Sport package', 'Touch scree...   \n",
       "12882                    ['Alloy wheels', 'Sport seats']   \n",
       "\n",
       "                                         safety_security gears  \\\n",
       "5237   ['ABS', 'Central door lock', 'Driver-side airb...   7.0   \n",
       "5329   ['ABS', 'Central door lock', 'Driver-side airb...   7.0   \n",
       "12550  ['ABS', 'Blind spot monitor', 'Central door lo...   6.0   \n",
       "12882  ['ABS', 'Central door lock', 'Driver-side airb...   6.0   \n",
       "\n",
       "      registration_year upholstery_material upholstery_color    particulate  \\\n",
       "5237                NaN               Cloth              NaN  unparticulate   \n",
       "5329                NaN               Cloth              NaN  unparticulate   \n",
       "12550               NaN        Part leather            Black  unparticulate   \n",
       "12882               NaN        Full leather            Black  unparticulate   \n",
       "\n",
       "      combined_consumption  city_consumption  country_consumption  \n",
       "5237                   3.9               4.1                  3.7  \n",
       "5329                   3.9               4.1                  3.7  \n",
       "12550                  5.4               7.0                  4.6  \n",
       "12882                  4.3               NaN                  NaN  \n",
       "\n",
       "[4 rows x 42 columns]"
      ]
     },
     "execution_count": 1029,
     "metadata": {},
     "output_type": "execute_result"
    }
   ],
   "source": [
    "df.loc[(df['registration_year'].isnull())]"
   ]
  },
  {
   "cell_type": "code",
   "execution_count": 1030,
   "id": "cc4d7c6b-826b-4f2f-a820-16a992c8fa9a",
   "metadata": {},
   "outputs": [],
   "source": [
    "df['registration_year']=df['registration_year'].fillna(2019)"
   ]
  },
  {
   "cell_type": "code",
   "execution_count": 1031,
   "id": "7d8e4b2d-9cf4-464c-8886-6feaec9318ed",
   "metadata": {},
   "outputs": [],
   "source": [
    "df['registration_year'] = 2019 - df['registration_year']\n",
    "\n",
    "df = df.rename(columns = {'registration_year': 'age'})"
   ]
  },
  {
   "cell_type": "code",
   "execution_count": 1032,
   "id": "75fec4d2-e03e-4670-b3a9-5260bc8ed8c6",
   "metadata": {},
   "outputs": [
    {
     "data": {
      "text/plain": [
       "age\n",
       "1.0    4525\n",
       "0.0    4434\n",
       "3.0    3679\n",
       "2.0    3281\n",
       "Name: count, dtype: int64"
      ]
     },
     "execution_count": 1032,
     "metadata": {},
     "output_type": "execute_result"
    }
   ],
   "source": [
    "df['age'].value_counts(dropna=False)"
   ]
  },
  {
   "cell_type": "markdown",
   "id": "01ac1a91-be0f-4a1f-ac4f-83a451f6e3b2",
   "metadata": {},
   "source": [
    "- #### year column converted to age column"
   ]
  },
  {
   "cell_type": "markdown",
   "id": "18aa3302-5ce3-4d9a-9d6a-e341a305da92",
   "metadata": {
    "jp-MarkdownHeadingCollapsed": true
   },
   "source": [
    "### previous owners"
   ]
  },
  {
   "cell_type": "code",
   "execution_count": 1033,
   "id": "3099790e-262e-4615-9b53-ddab6bcae495",
   "metadata": {},
   "outputs": [],
   "source": [
    "index=df[df[\"km\"]<10].index"
   ]
  },
  {
   "cell_type": "code",
   "execution_count": 1034,
   "id": "a0116ce0-7e66-46f4-83cf-dc8fb02ef78b",
   "metadata": {},
   "outputs": [],
   "source": [
    "df.loc[index,\"previous_owners\"]=0.0"
   ]
  },
  {
   "cell_type": "code",
   "execution_count": 1035,
   "id": "ba77c8e4-76a2-4e0c-a5ca-c94a6c394858",
   "metadata": {},
   "outputs": [],
   "source": [
    "df.loc[index,\"previous_owners\"]=0.0"
   ]
  },
  {
   "cell_type": "code",
   "execution_count": 1036,
   "id": "86173427-232b-403a-9197-002aa0212a41",
   "metadata": {},
   "outputs": [],
   "source": [
    "df.loc[(df[\"type\"]==\"New\") & (df[\"previous_owners\"].isnull()),\"previous_owners\"]=1.0"
   ]
  },
  {
   "cell_type": "code",
   "execution_count": 1037,
   "id": "d7e63a13-1785-49f5-b10e-cffb078b1f40",
   "metadata": {},
   "outputs": [],
   "source": [
    "df.loc[((df[\"age\"]==0) | (df[\"km\"]<5000)) & (df[\"previous_owners\"].isnull()),\"previous_owners\"]=1.0"
   ]
  },
  {
   "cell_type": "code",
   "execution_count": 1038,
   "id": "437de8d3-8518-46f6-b9a1-db5f9536ebfe",
   "metadata": {},
   "outputs": [],
   "source": [
    "mode_group_po = df.groupby(['age'])['previous_owners'].transform(lambda x: x.mode()[0] if list(x.mode()) != [] else np.nan)"
   ]
  },
  {
   "cell_type": "code",
   "execution_count": 1039,
   "id": "f5a1483f-7745-42e1-95ff-e8691f7f4bef",
   "metadata": {},
   "outputs": [],
   "source": [
    "df[\"previous_owners\"].fillna(mode_group_po, inplace=True)"
   ]
  },
  {
   "cell_type": "code",
   "execution_count": 1040,
   "id": "e14a0c8b-27b3-4a69-ab0a-e0cc6082bc00",
   "metadata": {},
   "outputs": [
    {
     "data": {
      "text/plain": [
       "previous_owners\n",
       "1.0    14287\n",
       "0.0      835\n",
       "2.0      778\n",
       "3.0       17\n",
       "4.0        2\n",
       "Name: count, dtype: int64"
      ]
     },
     "execution_count": 1040,
     "metadata": {},
     "output_type": "execute_result"
    }
   ],
   "source": [
    "df[\"previous_owners\"].value_counts(dropna=False)"
   ]
  },
  {
   "cell_type": "markdown",
   "id": "5952fe9c-8d69-4f38-9f96-d4fd90195849",
   "metadata": {
    "jp-MarkdownHeadingCollapsed": true
   },
   "source": [
    "### type"
   ]
  },
  {
   "cell_type": "code",
   "execution_count": 1041,
   "id": "704fb3a3-f549-4c62-9340-75b954123910",
   "metadata": {},
   "outputs": [
    {
     "data": {
      "text/plain": [
       "type\n",
       "Used              11096\n",
       "New                1650\n",
       "Pre-registered     1364\n",
       "Employee's car     1011\n",
       "Demonstration       796\n",
       "NaN                   2\n",
       "Name: count, dtype: int64"
      ]
     },
     "execution_count": 1041,
     "metadata": {},
     "output_type": "execute_result"
    }
   ],
   "source": [
    "df['type'].value_counts(dropna=False)"
   ]
  },
  {
   "cell_type": "markdown",
   "id": "478cde7a-fa2e-4e94-8bd7-023e4c21118d",
   "metadata": {},
   "source": [
    "#### Only 2 NaN so replaced with mode"
   ]
  },
  {
   "cell_type": "code",
   "execution_count": 1042,
   "id": "9c44882d-5188-42fb-880a-3d79608227f9",
   "metadata": {},
   "outputs": [
    {
     "name": "stdout",
     "output_type": "stream",
     "text": [
      "Filling column: type\n",
      "Grouping by: None\n",
      "Number of NaN before filling: 2\n",
      "Number of NaN filled: 2\n",
      "Number of NaN after filling: 0\n",
      "------------------\n",
      "type\n",
      "Used              11098\n",
      "New                1650\n",
      "Pre-registered     1364\n",
      "Employee's car     1011\n",
      "Demonstration       796\n",
      "Name: count, dtype: int64\n"
     ]
    }
   ],
   "source": [
    "fill('mode', df, 'type')"
   ]
  },
  {
   "cell_type": "markdown",
   "id": "5739a625-181e-4555-a998-21036c0c050b",
   "metadata": {
    "jp-MarkdownHeadingCollapsed": true
   },
   "source": [
    "### next_inspection (dropped)"
   ]
  },
  {
   "cell_type": "code",
   "execution_count": 1043,
   "id": "c6008d99-1133-4b34-9fb0-65bd9f9faa87",
   "metadata": {},
   "outputs": [
    {
     "data": {
      "text/plain": [
       "next_inspection\n",
       "NaN       13094\n",
       "2021.0     1401\n",
       "2020.0      557\n",
       "2022.0      483\n",
       "2019.0      336\n",
       "2018.0       26\n",
       "2017.0        7\n",
       "2023.0        5\n",
       "2001.0        5\n",
       "2016.0        3\n",
       "2014.0        1\n",
       "1921.0        1\n",
       "Name: count, dtype: int64"
      ]
     },
     "execution_count": 1043,
     "metadata": {},
     "output_type": "execute_result"
    }
   ],
   "source": [
    "df['next_inspection'].value_counts(dropna=False)"
   ]
  },
  {
   "cell_type": "code",
   "execution_count": 1044,
   "id": "c932bc4d-2722-414d-96bb-63f526848e27",
   "metadata": {},
   "outputs": [],
   "source": [
    "df.drop([\"next_inspection\"],axis=1,inplace=True)"
   ]
  },
  {
   "cell_type": "markdown",
   "id": "78cab97e-4860-4e94-8782-ca4dad0aa8d6",
   "metadata": {
    "jp-MarkdownHeadingCollapsed": true
   },
   "source": [
    "### inspection_new"
   ]
  },
  {
   "cell_type": "code",
   "execution_count": 1045,
   "id": "bc09b803-d857-4468-aeca-c7b20ed4cc1e",
   "metadata": {},
   "outputs": [],
   "source": [
    "df['inspection_new'].fillna('No', inplace=True)"
   ]
  },
  {
   "cell_type": "code",
   "execution_count": 1046,
   "id": "31a0c66e-515f-4a38-8a8d-8a5fcf687060",
   "metadata": {},
   "outputs": [
    {
     "data": {
      "text/plain": [
       "inspection_new\n",
       "No     12349\n",
       "Yes     3570\n",
       "Name: count, dtype: int64"
      ]
     },
     "execution_count": 1046,
     "metadata": {},
     "output_type": "execute_result"
    }
   ],
   "source": [
    "df['inspection_new'].value_counts(dropna=False)"
   ]
  },
  {
   "cell_type": "markdown",
   "id": "931226b5-5dd7-40dc-b945-7d1138ee3d2d",
   "metadata": {
    "jp-MarkdownHeadingCollapsed": true
   },
   "source": [
    "### body_color"
   ]
  },
  {
   "cell_type": "code",
   "execution_count": 1047,
   "id": "113b9a8d-8a71-428d-a5d4-a575ff487b88",
   "metadata": {},
   "outputs": [
    {
     "data": {
      "text/plain": [
       "body_color\n",
       "Black     3745\n",
       "Grey      3505\n",
       "White     3406\n",
       "Silver    1647\n",
       "Blue      1431\n",
       "Red        957\n",
       "NaN        597\n",
       "Brown      289\n",
       "Green      154\n",
       "Beige      108\n",
       "Yellow      51\n",
       "Violet      18\n",
       "Bronze       6\n",
       "Orange       3\n",
       "Gold         2\n",
       "Name: count, dtype: int64"
      ]
     },
     "execution_count": 1047,
     "metadata": {},
     "output_type": "execute_result"
    }
   ],
   "source": [
    "df['body_color'].value_counts(dropna=False)"
   ]
  },
  {
   "cell_type": "code",
   "execution_count": 1048,
   "id": "f9e22aa0-757d-4b0d-9e6d-0499be06a777",
   "metadata": {},
   "outputs": [
    {
     "name": "stdout",
     "output_type": "stream",
     "text": [
      "Filling column: body_color\n",
      "Grouping by: ['make_model', 'body_type']\n",
      "Number of NaN before filling: 597\n",
      "Number of NaN filled: 594\n",
      "Number of NaN after filling: 3\n",
      "------------------\n",
      "body_color\n",
      "Black     3941\n",
      "Grey      3836\n",
      "White     3469\n",
      "Silver    1647\n",
      "Blue      1431\n",
      "Red        957\n",
      "Brown      289\n",
      "Green      158\n",
      "Beige      108\n",
      "Yellow      51\n",
      "Violet      18\n",
      "Bronze       6\n",
      "Orange       3\n",
      "NaN          3\n",
      "Gold         2\n",
      "Name: count, dtype: int64\n"
     ]
    }
   ],
   "source": [
    "fill('mode', df, 'body_color', ['make_model', 'body_type'])"
   ]
  },
  {
   "cell_type": "code",
   "execution_count": 1049,
   "id": "7b09e28b-084f-42b5-8818-ecd252559a2f",
   "metadata": {},
   "outputs": [
    {
     "name": "stdout",
     "output_type": "stream",
     "text": [
      "Filling column: body_color\n",
      "Grouping by: ['make_model']\n",
      "Number of NaN before filling: 3\n",
      "Number of NaN filled: 3\n",
      "Number of NaN after filling: 0\n",
      "------------------\n",
      "body_color\n",
      "Black     3941\n",
      "Grey      3839\n",
      "White     3469\n",
      "Silver    1647\n",
      "Blue      1431\n",
      "Red        957\n",
      "Brown      289\n",
      "Green      158\n",
      "Beige      108\n",
      "Yellow      51\n",
      "Violet      18\n",
      "Bronze       6\n",
      "Orange       3\n",
      "Gold         2\n",
      "Name: count, dtype: int64\n"
     ]
    }
   ],
   "source": [
    "fill('mode', df, 'body_color', ['make_model'])"
   ]
  },
  {
   "cell_type": "markdown",
   "id": "5f6431a2-1fc3-4286-855c-f65055f347d5",
   "metadata": {
    "jp-MarkdownHeadingCollapsed": true
   },
   "source": [
    "### paint_type"
   ]
  },
  {
   "cell_type": "code",
   "execution_count": 1050,
   "id": "c07c0dad-e0a3-4c83-bd94-91bf0239d3da",
   "metadata": {},
   "outputs": [
    {
     "name": "stdout",
     "output_type": "stream",
     "text": [
      "Filling column: paint_type\n",
      "Grouping by: ['make_model', 'body_type']\n",
      "Number of NaN before filling: 5772\n",
      "Number of NaN filled: 5761\n",
      "Number of NaN after filling: 11\n",
      "------------------\n",
      "paint_type\n",
      "Metallic       15512\n",
      "Uni/basic        390\n",
      "NaN               11\n",
      "Perl effect        6\n",
      "Name: count, dtype: int64\n"
     ]
    }
   ],
   "source": [
    "fill('mode', df, 'paint_type', ['make_model', 'body_type'])"
   ]
  },
  {
   "cell_type": "code",
   "execution_count": 1051,
   "id": "b672b093-45f8-472e-a04f-bcb9e2e6a4a2",
   "metadata": {},
   "outputs": [
    {
     "name": "stdout",
     "output_type": "stream",
     "text": [
      "Filling column: paint_type\n",
      "Grouping by: make_model\n",
      "Number of NaN before filling: 11\n",
      "Number of NaN filled: 11\n",
      "Number of NaN after filling: 0\n",
      "------------------\n",
      "paint_type\n",
      "Metallic       15523\n",
      "Uni/basic        390\n",
      "Perl effect        6\n",
      "Name: count, dtype: int64\n"
     ]
    }
   ],
   "source": [
    "fill('mode', df, 'paint_type', 'make_model')"
   ]
  },
  {
   "cell_type": "markdown",
   "id": "e212cccf-0620-449c-8dd8-053b962b293a",
   "metadata": {
    "jp-MarkdownHeadingCollapsed": true
   },
   "source": [
    "### upholstery_color"
   ]
  },
  {
   "cell_type": "code",
   "execution_count": 1052,
   "id": "e1db85c1-4b75-4f50-8d9a-4e9fe9425383",
   "metadata": {},
   "outputs": [],
   "source": [
    "df.drop(['upholstery_color'], axis=1, inplace=True)"
   ]
  },
  {
   "cell_type": "markdown",
   "id": "98e2f73a-ab93-446f-9553-b4a6ebe96540",
   "metadata": {
    "jp-MarkdownHeadingCollapsed": true
   },
   "source": [
    "### upholstery_material"
   ]
  },
  {
   "cell_type": "code",
   "execution_count": 1053,
   "id": "230b7c94-6290-4db3-a245-7e57bc9012f8",
   "metadata": {},
   "outputs": [
    {
     "data": {
      "text/plain": [
       "upholstery_material\n",
       "Cloth           8423\n",
       "NaN             4503\n",
       "Part leather    1499\n",
       "Full leather    1009\n",
       "Other            368\n",
       "Velour            60\n",
       "alcantara         57\n",
       "Name: count, dtype: int64"
      ]
     },
     "execution_count": 1053,
     "metadata": {},
     "output_type": "execute_result"
    }
   ],
   "source": [
    "df['upholstery_material'].value_counts(dropna=False)"
   ]
  },
  {
   "cell_type": "markdown",
   "id": "254a3e22-879b-4fad-a34a-b6a4f5d0e1e7",
   "metadata": {
    "jp-MarkdownHeadingCollapsed": true
   },
   "source": [
    "### gearing_type"
   ]
  },
  {
   "cell_type": "code",
   "execution_count": 1054,
   "id": "b0d4d4c6-3135-4146-814b-c99efdb35ecb",
   "metadata": {},
   "outputs": [
    {
     "data": {
      "text/plain": [
       "gearing_type\n",
       "Manual            8153\n",
       "Automatic         7297\n",
       "Semi-automatic     469\n",
       "Name: count, dtype: int64"
      ]
     },
     "execution_count": 1054,
     "metadata": {},
     "output_type": "execute_result"
    }
   ],
   "source": [
    "df['gearing_type'].value_counts(dropna=False)"
   ]
  },
  {
   "cell_type": "markdown",
   "id": "c2947199-4a68-41f8-9b2b-36aea7514c65",
   "metadata": {
    "jp-MarkdownHeadingCollapsed": true
   },
   "source": [
    "### fuel"
   ]
  },
  {
   "cell_type": "code",
   "execution_count": 1055,
   "id": "78a4fe5b-fd1e-4ed9-a9f7-2fdbd385c219",
   "metadata": {},
   "outputs": [
    {
     "data": {
      "text/plain": [
       "0          d\n",
       "1          d\n",
       "2          d\n",
       "3          d\n",
       "4          d\n",
       "        ... \n",
       "15914    NaN\n",
       "15915      d\n",
       "15916      -\n",
       "15917      -\n",
       "15918      o\n",
       "Name: fuel, Length: 15919, dtype: object"
      ]
     },
     "execution_count": 1055,
     "metadata": {},
     "output_type": "execute_result"
    }
   ],
   "source": [
    "df['fuel']"
   ]
  },
  {
   "cell_type": "markdown",
   "id": "422de094-a947-485a-b429-961424a7dd26",
   "metadata": {},
   "source": [
    "### co2_emission"
   ]
  },
  {
   "cell_type": "code",
   "execution_count": 1056,
   "id": "8cb237c6-6275-4b83-84ae-1ac2ee07a2c1",
   "metadata": {},
   "outputs": [
    {
     "data": {
      "text/plain": [
       "co2_emission\n",
       "NaN      2436\n",
       "120.0     740\n",
       "99.0      545\n",
       "97.0      537\n",
       "104.0     501\n",
       "         ... \n",
       "51.0        1\n",
       "165.0       1\n",
       "331.0       1\n",
       "80.0        1\n",
       "193.0       1\n",
       "Name: count, Length: 120, dtype: int64"
      ]
     },
     "execution_count": 1056,
     "metadata": {},
     "output_type": "execute_result"
    }
   ],
   "source": [
    "df['co2_emission'].value_counts(dropna=False)"
   ]
  },
  {
   "cell_type": "markdown",
   "id": "88a865dc-5b40-4239-a7d2-19e47194e90c",
   "metadata": {},
   "source": [
    "- [] ERROR GOES AWAY WHEN CONVERT TO CATEGORICAL"
   ]
  },
  {
   "cell_type": "code",
   "execution_count": null,
   "id": "110de2ea-4e4f-4949-966f-77198aae870b",
   "metadata": {},
   "outputs": [],
   "source": [
    "fill(\"median\", df, 'co2_emission', ['combined_emissions'])"
   ]
  },
  {
   "cell_type": "markdown",
   "id": "7da85b23-28e8-4b3d-893f-479a5ac7aabc",
   "metadata": {},
   "source": [
    "### emission_class"
   ]
  },
  {
   "cell_type": "code",
   "execution_count": null,
   "id": "9ab8d9c5-3c13-445f-9537-a77408c8bb8f",
   "metadata": {
    "scrolled": true
   },
   "outputs": [],
   "source": []
  },
  {
   "cell_type": "code",
   "execution_count": null,
   "id": "5648c2cd-9358-4589-ab25-f09eac503429",
   "metadata": {},
   "outputs": [],
   "source": [
    "df['emission_class'].value_counts(dropna=False)"
   ]
  },
  {
   "cell_type": "markdown",
   "id": "d69c1037-6cb7-408d-ae2f-732ef3bc699b",
   "metadata": {},
   "source": [
    "### drive_chain"
   ]
  },
  {
   "cell_type": "code",
   "execution_count": null,
   "id": "8b6d153e-881b-4c6b-99ea-cfb153af7542",
   "metadata": {},
   "outputs": [],
   "source": []
  },
  {
   "cell_type": "code",
   "execution_count": null,
   "id": "fd6bd7d4-9c2e-4f39-aaab-ac2884817514",
   "metadata": {},
   "outputs": [],
   "source": [
    "df['drive_chain'].value_counts(dropna=False)"
   ]
  },
  {
   "cell_type": "markdown",
   "id": "0dfe212a-8b63-4ffe-b74b-aa516236804f",
   "metadata": {},
   "source": [
    "### consumption l/100 km "
   ]
  },
  {
   "cell_type": "code",
   "execution_count": null,
   "id": "3b23496b-6bed-473a-997a-b2e2ca4ede1c",
   "metadata": {},
   "outputs": [],
   "source": []
  },
  {
   "cell_type": "code",
   "execution_count": null,
   "id": "424dad41-32f8-4af5-be1d-5ddc6546c254",
   "metadata": {},
   "outputs": [],
   "source": [
    "df['combined_emissions'].value_counts(dropna=False).index"
   ]
  },
  {
   "cell_type": "code",
   "execution_count": null,
   "id": "de4e0224-8a29-4e9f-99e8-b53463ea759c",
   "metadata": {},
   "outputs": [],
   "source": []
  },
  {
   "cell_type": "code",
   "execution_count": null,
   "id": "fdc69bae-1e2c-494d-8d56-0427ca239535",
   "metadata": {},
   "outputs": [],
   "source": [
    "df['city_emissions'].value_counts(dropna=False).index"
   ]
  },
  {
   "cell_type": "code",
   "execution_count": null,
   "id": "d746c627-1c1d-4e49-bf2a-7ccf403dcaa2",
   "metadata": {},
   "outputs": [],
   "source": []
  },
  {
   "cell_type": "code",
   "execution_count": null,
   "id": "7fc3319a-f4b5-4a03-a58a-eda3b31dfc7b",
   "metadata": {},
   "outputs": [],
   "source": [
    "df['country_emissions'].value_counts(dropna=False).index"
   ]
  },
  {
   "cell_type": "markdown",
   "id": "384c9e7e-7ecb-46bb-ada8-e83b1a17f476",
   "metadata": {},
   "source": [
    "### country_version"
   ]
  },
  {
   "cell_type": "code",
   "execution_count": null,
   "id": "1e242568-0aee-4196-b042-1d09b7db7849",
   "metadata": {},
   "outputs": [],
   "source": []
  },
  {
   "cell_type": "code",
   "execution_count": null,
   "id": "01b0922c-6dbf-4f60-bcf6-0a71c4f349de",
   "metadata": {},
   "outputs": [],
   "source": [
    "df['country_version'].value_counts(dropna=False)"
   ]
  },
  {
   "cell_type": "markdown",
   "id": "7ec97b62-3d79-4121-ac93-45f9c6aed996",
   "metadata": {},
   "source": [
    "### entertainment_media"
   ]
  },
  {
   "cell_type": "code",
   "execution_count": null,
   "id": "31e7da95-64aa-412a-9304-24ed9e9dcf3b",
   "metadata": {},
   "outputs": [],
   "source": [
    "df['entertainment_media']"
   ]
  },
  {
   "cell_type": "code",
   "execution_count": null,
   "id": "7525130c-c54c-44c1-b9fa-b00f5572d13f",
   "metadata": {},
   "outputs": [],
   "source": [
    "df['entertainment_media'] = df['entertainment_media'].astype('str').str.replace('[','').str.replace(\"]\",'')"
   ]
  },
  {
   "cell_type": "markdown",
   "id": "0c469a5e-d0da-4c34-b9fb-5308efc5dd1e",
   "metadata": {},
   "source": [
    "#### This column was not changed as it will be transformed with getdummy function later"
   ]
  },
  {
   "cell_type": "markdown",
   "id": "4ac52db9-5c02-4d85-a9a7-2bf75e02eb09",
   "metadata": {},
   "source": [
    "### safety_security"
   ]
  },
  {
   "cell_type": "code",
   "execution_count": null,
   "id": "207082cc-66b5-4bef-9b48-61f245858541",
   "metadata": {},
   "outputs": [],
   "source": [
    "df['safety_security']"
   ]
  },
  {
   "cell_type": "markdown",
   "id": "ccdadb63-be05-4c27-8224-0e08be68e53b",
   "metadata": {},
   "source": [
    "#### This column was not changed as it will be transformed with getdummy function later"
   ]
  },
  {
   "cell_type": "markdown",
   "id": "a1b5b9ad-451c-47f2-ad86-738669560229",
   "metadata": {},
   "source": [
    "### comfort_convenience"
   ]
  },
  {
   "cell_type": "code",
   "execution_count": null,
   "id": "aacccbd9-e1cd-4b54-9916-6066b898d9d0",
   "metadata": {},
   "outputs": [],
   "source": []
  },
  {
   "cell_type": "code",
   "execution_count": null,
   "id": "07ba6066-bdc5-4cf3-8bd2-d49540dc68a4",
   "metadata": {},
   "outputs": [],
   "source": [
    "df['comfort_convenience']"
   ]
  },
  {
   "cell_type": "markdown",
   "id": "dbe0eb7b-ca81-4c2e-92b2-9774d4d4919c",
   "metadata": {},
   "source": [
    "### extras"
   ]
  },
  {
   "cell_type": "code",
   "execution_count": null,
   "id": "07e63f95-31ec-4bf9-a8c5-54161bdefef3",
   "metadata": {},
   "outputs": [],
   "source": []
  },
  {
   "cell_type": "code",
   "execution_count": null,
   "id": "f5fe3bf5-8f69-4681-bceb-da5334a5b95e",
   "metadata": {},
   "outputs": [],
   "source": [
    "df['extras']"
   ]
  },
  {
   "cell_type": "markdown",
   "id": "74fa6bcf-feac-4b2a-9006-3f7309a9316b",
   "metadata": {},
   "source": [
    "---\n",
    "\n",
    "## Quantitative Columns\n",
    "- [] price\n",
    "- [] km\n",
    "- [] hp\n",
    "- [] displacement\n",
    "- [] warranty\n",
    "- [] weight\n",
    "- [] nr_of_doors\n",
    "- [] nr_of_seats\n",
    "- [] cylinders\n",
    "- [] gears"
   ]
  },
  {
   "cell_type": "markdown",
   "id": "de080554-8725-4092-916b-39e2aeedd175",
   "metadata": {
    "jp-MarkdownHeadingCollapsed": true
   },
   "source": [
    "### price"
   ]
  },
  {
   "cell_type": "code",
   "execution_count": null,
   "id": "fe2b939b-f8a3-4887-b7da-32ecae315a69",
   "metadata": {},
   "outputs": [],
   "source": [
    "df['price'].value_counts(dropna=False)"
   ]
  },
  {
   "cell_type": "code",
   "execution_count": null,
   "id": "628657b2-e6bc-4293-bb22-9b7e9586e720",
   "metadata": {},
   "outputs": [],
   "source": [
    "df['price'].isnull().values.any()"
   ]
  },
  {
   "cell_type": "markdown",
   "id": "b8ec3c0a-d8d5-43fa-b246-b7be429d52b7",
   "metadata": {},
   "source": [
    "### km"
   ]
  },
  {
   "cell_type": "code",
   "execution_count": null,
   "id": "4e6fa561-eb01-4ee9-96c6-fa0748d46e18",
   "metadata": {},
   "outputs": [],
   "source": [
    "df['km'].value_counts(dropna=False)"
   ]
  },
  {
   "cell_type": "code",
   "execution_count": null,
   "id": "88fe5792-0e76-49b5-ae38-9882755b22cf",
   "metadata": {},
   "outputs": [],
   "source": [
    "fill('median', df, 'km', ['make_model', 'body_type', 'age'])"
   ]
  },
  {
   "cell_type": "markdown",
   "id": "e81bfaa9-ad48-4711-af21-222fdb8733d4",
   "metadata": {
    "jp-MarkdownHeadingCollapsed": true
   },
   "source": [
    "### hp"
   ]
  },
  {
   "cell_type": "code",
   "execution_count": null,
   "id": "19009d0a-ba25-40b5-b091-d24a0ea86c8b",
   "metadata": {},
   "outputs": [],
   "source": [
    "df['hp'].isnull().sum()"
   ]
  },
  {
   "cell_type": "code",
   "execution_count": null,
   "id": "cae26452-1aed-4915-968e-52c9ccc1f3b3",
   "metadata": {},
   "outputs": [],
   "source": [
    "fill('median', df, 'hp')"
   ]
  },
  {
   "cell_type": "markdown",
   "id": "50001a34-d93b-42c0-adaf-504e0f6faa1d",
   "metadata": {},
   "source": [
    "### displacement"
   ]
  },
  {
   "cell_type": "code",
   "execution_count": null,
   "id": "73ac027f-936e-4c81-bf49-2f5664e2b0b6",
   "metadata": {},
   "outputs": [],
   "source": [
    "df['displacement'].isnull().sum()"
   ]
  },
  {
   "cell_type": "code",
   "execution_count": null,
   "id": "dd784445-536d-4e39-8267-a11ac0ed3d00",
   "metadata": {},
   "outputs": [],
   "source": [
    "fill(\"median\", df, 'displacement', 'weight')"
   ]
  },
  {
   "cell_type": "markdown",
   "id": "86c13cce-f250-4516-bc89-3ac5c48a1c6e",
   "metadata": {
    "jp-MarkdownHeadingCollapsed": true
   },
   "source": [
    "### warranty"
   ]
  },
  {
   "cell_type": "code",
   "execution_count": null,
   "id": "900358e4-f6ba-4266-89c1-73287aa249c0",
   "metadata": {},
   "outputs": [],
   "source": [
    "df['warranty'].isnull().sum()"
   ]
  },
  {
   "cell_type": "code",
   "execution_count": null,
   "id": "1babf446-7208-4954-b685-fdeff6506973",
   "metadata": {},
   "outputs": [],
   "source": [
    "fill('median', df, 'warranty')"
   ]
  },
  {
   "cell_type": "markdown",
   "id": "740604e2-e3d8-4618-904b-55ac7401e9b2",
   "metadata": {},
   "source": [
    "### weight"
   ]
  },
  {
   "cell_type": "code",
   "execution_count": null,
   "id": "f3ac0e68-0916-44e0-b14a-cd6c76bba3b5",
   "metadata": {},
   "outputs": [],
   "source": [
    "df['weight'].isnull().sum()"
   ]
  },
  {
   "cell_type": "code",
   "execution_count": null,
   "id": "129c7104-5bd3-408a-8fcf-ebe087b9198b",
   "metadata": {},
   "outputs": [],
   "source": [
    "fill(\"median\", df, 'weight', 'displacement')"
   ]
  },
  {
   "cell_type": "code",
   "execution_count": null,
   "id": "d551e13d-b9cc-46b9-b0a6-141fc4f3b624",
   "metadata": {},
   "outputs": [],
   "source": []
  },
  {
   "cell_type": "markdown",
   "id": "9b7978d9-3bc5-4e12-bfd9-229565144482",
   "metadata": {
    "jp-MarkdownHeadingCollapsed": true
   },
   "source": [
    "### nr_of_doors"
   ]
  },
  {
   "cell_type": "code",
   "execution_count": null,
   "id": "a66452d4-af0b-451d-b666-3ba5681c339e",
   "metadata": {},
   "outputs": [],
   "source": [
    "df['nr_of_doors'].value_counts()"
   ]
  },
  {
   "cell_type": "markdown",
   "id": "437da9fc-b759-486c-ac28-269d787d945d",
   "metadata": {
    "jp-MarkdownHeadingCollapsed": true
   },
   "source": [
    "### nr_of_seats"
   ]
  },
  {
   "cell_type": "code",
   "execution_count": null,
   "id": "d4b52158-fcb0-49ad-9ed9-914e6858fa20",
   "metadata": {},
   "outputs": [],
   "source": [
    "df['nr_of_seats'].value_counts()"
   ]
  },
  {
   "cell_type": "markdown",
   "id": "d76deeb3-368a-439d-8c53-1e84a667908e",
   "metadata": {},
   "source": [
    "### cylinders"
   ]
  },
  {
   "cell_type": "code",
   "execution_count": null,
   "id": "9caa0104-216e-4e42-baeb-b79b1bfee02f",
   "metadata": {},
   "outputs": [],
   "source": [
    "df['cylinders'].value_counts(dropna=False)"
   ]
  },
  {
   "cell_type": "markdown",
   "id": "cde376bb-caa1-45cb-ab96-547b2ee4feea",
   "metadata": {},
   "source": [
    "### gears"
   ]
  },
  {
   "cell_type": "code",
   "execution_count": null,
   "id": "9602f096-49cd-4b9d-9d26-2a15695239a7",
   "metadata": {},
   "outputs": [],
   "source": [
    "df['gears'].value_counts(dropna=False)"
   ]
  },
  {
   "cell_type": "markdown",
   "id": "38e0eaa6-6815-440e-8295-3819270d972f",
   "metadata": {},
   "source": [
    "---"
   ]
  },
  {
   "cell_type": "code",
   "execution_count": null,
   "id": "be09d9db-0b16-482c-92f2-41a1773e5ea0",
   "metadata": {},
   "outputs": [],
   "source": [
    "df.info()"
   ]
  },
  {
   "cell_type": "markdown",
   "id": "48fe85ed-4ce2-4bf4-8972-86d0f1005371",
   "metadata": {},
   "source": []
  },
  {
   "cell_type": "code",
   "execution_count": null,
   "id": "f7cbb530-8511-4338-9f56-16402dd1f837",
   "metadata": {},
   "outputs": [],
   "source": [
    "# df.to_csv(\"\", index=False)"
   ]
  }
 ],
 "metadata": {
  "kernelspec": {
   "display_name": "Python 3 (ipykernel)",
   "language": "python",
   "name": "python3"
  },
  "language_info": {
   "codemirror_mode": {
    "name": "ipython",
    "version": 3
   },
   "file_extension": ".py",
   "mimetype": "text/x-python",
   "name": "python",
   "nbconvert_exporter": "python",
   "pygments_lexer": "ipython3",
   "version": "3.8.18"
  }
 },
 "nbformat": 4,
 "nbformat_minor": 5
}
