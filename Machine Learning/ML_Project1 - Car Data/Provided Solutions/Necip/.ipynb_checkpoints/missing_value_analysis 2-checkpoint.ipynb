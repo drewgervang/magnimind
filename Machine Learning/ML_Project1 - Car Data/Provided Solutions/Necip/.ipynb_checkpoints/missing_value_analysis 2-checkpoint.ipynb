{
 "cells": [
  {
   "cell_type": "markdown",
   "id": "fa3c5105",
   "metadata": {},
   "source": [
    "# Phase-2 Handling Missing Values"
   ]
  },
  {
   "cell_type": "code",
   "execution_count": 1,
   "id": "1f28deec",
   "metadata": {},
   "outputs": [
    {
     "name": "stderr",
     "output_type": "stream",
     "text": [
      "c:\\Users\\Necip\\anaconda3\\Lib\\site-packages\\pandas\\core\\arrays\\masked.py:60: UserWarning: Pandas requires version '1.3.6' or newer of 'bottleneck' (version '1.3.5' currently installed).\n",
      "  from pandas.core import (\n"
     ]
    }
   ],
   "source": [
    "import matplotlib.pyplot as plt\n",
    "%matplotlib inline\n",
    "import numpy as np\n",
    "import pandas as pd\n",
    "import seaborn as sns\n",
    "import warnings;\n",
    "warnings.filterwarnings(\"ignore\")\n",
    "import re\n",
    "#pd.set_option(\"display.max_columns\",None)\n",
    "#pd.set_option(\"display.max_rows\",None)"
   ]
  },
  {
   "cell_type": "code",
   "execution_count": 2,
   "id": "35d1c08c",
   "metadata": {},
   "outputs": [],
   "source": [
    "df=pd.read_csv(\"Capstone_new.csv\")"
   ]
  },
  {
   "cell_type": "markdown",
   "id": "8c253cab",
   "metadata": {},
   "source": [
    "### 1) Body Type"
   ]
  },
  {
   "cell_type": "code",
   "execution_count": 6,
   "id": "7b163870",
   "metadata": {},
   "outputs": [
    {
     "data": {
      "text/plain": [
       "body_type\n",
       "Sedans           7903\n",
       "Station wagon    3553\n",
       "Compact          3153\n",
       "Van               783\n",
       "Other             290\n",
       "Transporter        88\n",
       "NaN                60\n",
       "Off-Road           56\n",
       "Coupe              25\n",
       "Convertible         8\n",
       "Name: count, dtype: int64"
      ]
     },
     "execution_count": 6,
     "metadata": {},
     "output_type": "execute_result"
    }
   ],
   "source": [
    "df[\"body_type\"].value_counts(dropna=False)"
   ]
  },
  {
   "cell_type": "code",
   "execution_count": 7,
   "id": "32406a66",
   "metadata": {},
   "outputs": [
    {
     "data": {
      "text/html": [
       "<div>\n",
       "<style scoped>\n",
       "    .dataframe tbody tr th:only-of-type {\n",
       "        vertical-align: middle;\n",
       "    }\n",
       "\n",
       "    .dataframe tbody tr th {\n",
       "        vertical-align: top;\n",
       "    }\n",
       "\n",
       "    .dataframe thead th {\n",
       "        text-align: right;\n",
       "    }\n",
       "</style>\n",
       "<table border=\"1\" class=\"dataframe\">\n",
       "  <thead>\n",
       "    <tr style=\"text-align: right;\">\n",
       "      <th></th>\n",
       "      <th>make_model</th>\n",
       "      <th>body_type</th>\n",
       "      <th>price</th>\n",
       "      <th>vat</th>\n",
       "      <th>km</th>\n",
       "      <th>registration</th>\n",
       "      <th>prev_owner</th>\n",
       "      <th>hp</th>\n",
       "      <th>Type</th>\n",
       "      <th>Next Inspection</th>\n",
       "      <th>...</th>\n",
       "      <th>\\nEntertainment &amp; Media\\n</th>\n",
       "      <th>\\nExtras\\n</th>\n",
       "      <th>\\nSafety &amp; Security\\n</th>\n",
       "      <th>Gears</th>\n",
       "      <th>Country version</th>\n",
       "      <th>upholstery_material</th>\n",
       "      <th>upholstery_color</th>\n",
       "      <th>Consumption_combined</th>\n",
       "      <th>Consumption_city</th>\n",
       "      <th>Consumption_country</th>\n",
       "    </tr>\n",
       "  </thead>\n",
       "  <tbody>\n",
       "  </tbody>\n",
       "</table>\n",
       "<p>0 rows × 38 columns</p>\n",
       "</div>"
      ],
      "text/plain": [
       "Empty DataFrame\n",
       "Columns: [make_model, body_type, price, vat, km, registration, prev_owner, hp, Type, Next Inspection, Inspection new, Warranty(months), Body Color, Paint Type, Body Color Original, Upholstery, Nr. of Doors, Nr. of Seats, Model Code, Gearing Type, Displacement, Cylinders, Weight, Drive chain, Fuel, CO2 Emission(g CO2/km), Emission Class, \n",
       "Comfort & Convenience\n",
       ", \n",
       "Entertainment & Media\n",
       ", \n",
       "Extras\n",
       ", \n",
       "Safety & Security\n",
       ", Gears, Country version, upholstery_material, upholstery_color, Consumption_combined, Consumption_city, Consumption_country]\n",
       "Index: []\n",
       "\n",
       "[0 rows x 38 columns]"
      ]
     },
     "execution_count": 7,
     "metadata": {},
     "output_type": "execute_result"
    }
   ],
   "source": [
    "df[df[\"body_type\"] == np.nan]"
   ]
  },
  {
   "cell_type": "code",
   "execution_count": 9,
   "id": "b240ac18",
   "metadata": {},
   "outputs": [
    {
     "data": {
      "text/plain": [
       "0        Sedans\n",
       "1        Sedans\n",
       "2        Sedans\n",
       "3        Sedans\n",
       "4        Sedans\n",
       "          ...  \n",
       "15914       Van\n",
       "15915       Van\n",
       "15916       Van\n",
       "15917       Van\n",
       "15918       Van\n",
       "Name: body_type, Length: 15919, dtype: object"
      ]
     },
     "execution_count": 9,
     "metadata": {},
     "output_type": "execute_result"
    }
   ],
   "source": [
    "df.groupby('make_model')['body_type'].transform(lambda x: x.mode()[0])"
   ]
  },
  {
   "cell_type": "code",
   "execution_count": 10,
   "id": "7f1f1b39",
   "metadata": {},
   "outputs": [],
   "source": [
    "df[\"body_type\"].fillna(df.groupby('make_model')['body_type'].transform(lambda x: x.mode()[0]), inplace=True)"
   ]
  },
  {
   "cell_type": "markdown",
   "id": "95bfa2b7",
   "metadata": {},
   "source": [
    "### 2) Registration"
   ]
  },
  {
   "cell_type": "code",
   "execution_count": 12,
   "id": "94aaee20",
   "metadata": {},
   "outputs": [
    {
     "data": {
      "text/plain": [
       "122     NaN\n",
       "710     NaN\n",
       "734     NaN\n",
       "741     NaN\n",
       "743     NaN\n",
       "         ..\n",
       "15892   NaN\n",
       "15902   NaN\n",
       "15907   NaN\n",
       "15912   NaN\n",
       "15914   NaN\n",
       "Name: registration, Length: 1547, dtype: float64"
      ]
     },
     "execution_count": 12,
     "metadata": {},
     "output_type": "execute_result"
    }
   ],
   "source": [
    "df.loc[((df['Type'] == 'New') & df.registration.isnull()), 'registration'] "
   ]
  },
  {
   "cell_type": "code",
   "execution_count": 13,
   "id": "27a53b39",
   "metadata": {},
   "outputs": [],
   "source": [
    "df.loc[((df['Type'] == 'New') & df.registration.isnull()), 'registration'] = 2019 "
   ]
  },
  {
   "cell_type": "code",
   "execution_count": 14,
   "id": "a7eecf07",
   "metadata": {},
   "outputs": [
    {
     "data": {
      "text/plain": [
       "registration\n",
       "2016.0    77442.520958\n",
       "2017.0    41754.940709\n",
       "2018.0    18035.239072\n",
       "2019.0     1653.107634\n",
       "Name: km, dtype: float64"
      ]
     },
     "execution_count": 14,
     "metadata": {},
     "output_type": "execute_result"
    }
   ],
   "source": [
    "df.groupby('registration').km.mean()"
   ]
  },
  {
   "cell_type": "markdown",
   "id": "ec3caf88",
   "metadata": {},
   "source": [
    "* Since the registration of all new cars is 2019, null values of year column of new cars filled with 2019."
   ]
  },
  {
   "cell_type": "code",
   "execution_count": 15,
   "id": "0a348a97",
   "metadata": {},
   "outputs": [],
   "source": [
    "df.loc[(df['registration'].isnull()) & (df.km <= 5000),'registration'] =2019"
   ]
  },
  {
   "cell_type": "code",
   "execution_count": 16,
   "id": "54892c3a",
   "metadata": {},
   "outputs": [],
   "source": [
    "df.loc[(df['registration'].isnull()) & (df.km > 50000),'registration'] =2016"
   ]
  },
  {
   "cell_type": "code",
   "execution_count": 17,
   "id": "fd358c87",
   "metadata": {},
   "outputs": [],
   "source": [
    "df.loc[(df['registration'].isnull()) & (df.km < 19000),'registration'] =2018"
   ]
  },
  {
   "cell_type": "code",
   "execution_count": 18,
   "id": "57e03a00",
   "metadata": {},
   "outputs": [],
   "source": [
    "df.loc[(df['registration'].isnull()) & (df.km < 40000),'registration'] =2017"
   ]
  },
  {
   "cell_type": "markdown",
   "id": "7d3b5e85",
   "metadata": {},
   "source": [
    "* Rest of the null values were filled according to km of autos."
   ]
  },
  {
   "cell_type": "code",
   "execution_count": 19,
   "id": "d804c7d1",
   "metadata": {},
   "outputs": [
    {
     "data": {
      "text/plain": [
       "registration\n",
       "2016.0    16702.052388\n",
       "2017.0    19970.030631\n",
       "2018.0    22544.715092\n",
       "2019.0    24859.973913\n",
       "Name: price, dtype: float64"
      ]
     },
     "execution_count": 19,
     "metadata": {},
     "output_type": "execute_result"
    }
   ],
   "source": [
    "df[(df['make_model'] == 'Audi A3') & (df['body_type'] == 'Sedans')].groupby('registration').price.mean()"
   ]
  },
  {
   "cell_type": "code",
   "execution_count": 20,
   "id": "b763ec2c",
   "metadata": {},
   "outputs": [
    {
     "data": {
      "text/plain": [
       "registration\n",
       "2016.0    13606.709507\n",
       "2017.0    16995.140917\n",
       "2018.0    21390.167750\n",
       "2019.0    32103.197015\n",
       "Name: price, dtype: float64"
      ]
     },
     "execution_count": 20,
     "metadata": {},
     "output_type": "execute_result"
    }
   ],
   "source": [
    "df[(df['make_model'] == 'Opel Insignia')].groupby('registration').price.mean()"
   ]
  },
  {
   "cell_type": "code",
   "execution_count": 21,
   "id": "97837f7a",
   "metadata": {},
   "outputs": [
    {
     "data": {
      "text/html": [
       "<div>\n",
       "<style scoped>\n",
       "    .dataframe tbody tr th:only-of-type {\n",
       "        vertical-align: middle;\n",
       "    }\n",
       "\n",
       "    .dataframe tbody tr th {\n",
       "        vertical-align: top;\n",
       "    }\n",
       "\n",
       "    .dataframe thead th {\n",
       "        text-align: right;\n",
       "    }\n",
       "</style>\n",
       "<table border=\"1\" class=\"dataframe\">\n",
       "  <thead>\n",
       "    <tr style=\"text-align: right;\">\n",
       "      <th></th>\n",
       "      <th>make_model</th>\n",
       "      <th>body_type</th>\n",
       "      <th>price</th>\n",
       "      <th>vat</th>\n",
       "      <th>km</th>\n",
       "      <th>registration</th>\n",
       "      <th>prev_owner</th>\n",
       "      <th>hp</th>\n",
       "      <th>Type</th>\n",
       "      <th>Next Inspection</th>\n",
       "      <th>...</th>\n",
       "      <th>\\nEntertainment &amp; Media\\n</th>\n",
       "      <th>\\nExtras\\n</th>\n",
       "      <th>\\nSafety &amp; Security\\n</th>\n",
       "      <th>Gears</th>\n",
       "      <th>Country version</th>\n",
       "      <th>upholstery_material</th>\n",
       "      <th>upholstery_color</th>\n",
       "      <th>Consumption_combined</th>\n",
       "      <th>Consumption_city</th>\n",
       "      <th>Consumption_country</th>\n",
       "    </tr>\n",
       "  </thead>\n",
       "  <tbody>\n",
       "    <tr>\n",
       "      <th>5237</th>\n",
       "      <td>Audi A3</td>\n",
       "      <td>Sedans</td>\n",
       "      <td>25400</td>\n",
       "      <td>NaN</td>\n",
       "      <td>NaN</td>\n",
       "      <td>NaN</td>\n",
       "      <td>NaN</td>\n",
       "      <td>85.0</td>\n",
       "      <td>NaN</td>\n",
       "      <td>NaN</td>\n",
       "      <td>...</td>\n",
       "      <td>['Bluetooth', 'Hands-free equipment']</td>\n",
       "      <td>['Alloy wheels']</td>\n",
       "      <td>['ABS', 'Central door lock', 'Driver-side airb...</td>\n",
       "      <td>7.0</td>\n",
       "      <td>NaN</td>\n",
       "      <td>Cloth</td>\n",
       "      <td>NaN</td>\n",
       "      <td>3.9</td>\n",
       "      <td>4.1</td>\n",
       "      <td>3.7</td>\n",
       "    </tr>\n",
       "    <tr>\n",
       "      <th>5329</th>\n",
       "      <td>Audi A3</td>\n",
       "      <td>Sedans</td>\n",
       "      <td>24900</td>\n",
       "      <td>NaN</td>\n",
       "      <td>NaN</td>\n",
       "      <td>NaN</td>\n",
       "      <td>NaN</td>\n",
       "      <td>85.0</td>\n",
       "      <td>Pre-registered</td>\n",
       "      <td>NaN</td>\n",
       "      <td>...</td>\n",
       "      <td>['Bluetooth', 'Hands-free equipment']</td>\n",
       "      <td>['Alloy wheels']</td>\n",
       "      <td>['ABS', 'Central door lock', 'Driver-side airb...</td>\n",
       "      <td>7.0</td>\n",
       "      <td>NaN</td>\n",
       "      <td>Cloth</td>\n",
       "      <td>NaN</td>\n",
       "      <td>3.9</td>\n",
       "      <td>4.1</td>\n",
       "      <td>3.7</td>\n",
       "    </tr>\n",
       "    <tr>\n",
       "      <th>12550</th>\n",
       "      <td>Opel Insignia</td>\n",
       "      <td>Sedans</td>\n",
       "      <td>33800</td>\n",
       "      <td>NaN</td>\n",
       "      <td>NaN</td>\n",
       "      <td>NaN</td>\n",
       "      <td>NaN</td>\n",
       "      <td>100.0</td>\n",
       "      <td>Employee's car</td>\n",
       "      <td>NaN</td>\n",
       "      <td>...</td>\n",
       "      <td>['Bluetooth', 'Hands-free equipment', 'MP3', '...</td>\n",
       "      <td>['Alloy wheels', 'Sport package', 'Touch scree...</td>\n",
       "      <td>['ABS', 'Blind spot monitor', 'Central door lo...</td>\n",
       "      <td>6.0</td>\n",
       "      <td>NaN</td>\n",
       "      <td>Part leather</td>\n",
       "      <td>Black</td>\n",
       "      <td>5.4</td>\n",
       "      <td>7.0</td>\n",
       "      <td>4.6</td>\n",
       "    </tr>\n",
       "    <tr>\n",
       "      <th>12882</th>\n",
       "      <td>Opel Insignia</td>\n",
       "      <td>Station wagon</td>\n",
       "      <td>31318</td>\n",
       "      <td>VAT deductible</td>\n",
       "      <td>NaN</td>\n",
       "      <td>NaN</td>\n",
       "      <td>NaN</td>\n",
       "      <td>100.0</td>\n",
       "      <td>Used</td>\n",
       "      <td>NaN</td>\n",
       "      <td>...</td>\n",
       "      <td>['Bluetooth', 'On-board computer']</td>\n",
       "      <td>['Alloy wheels', 'Sport seats']</td>\n",
       "      <td>['ABS', 'Central door lock', 'Driver-side airb...</td>\n",
       "      <td>6.0</td>\n",
       "      <td>NaN</td>\n",
       "      <td>Full leather</td>\n",
       "      <td>Black</td>\n",
       "      <td>4.3</td>\n",
       "      <td>NaN</td>\n",
       "      <td>NaN</td>\n",
       "    </tr>\n",
       "  </tbody>\n",
       "</table>\n",
       "<p>4 rows × 38 columns</p>\n",
       "</div>"
      ],
      "text/plain": [
       "          make_model      body_type  price             vat  km  registration  \\\n",
       "5237         Audi A3         Sedans  25400             NaN NaN           NaN   \n",
       "5329         Audi A3         Sedans  24900             NaN NaN           NaN   \n",
       "12550  Opel Insignia         Sedans  33800             NaN NaN           NaN   \n",
       "12882  Opel Insignia  Station wagon  31318  VAT deductible NaN           NaN   \n",
       "\n",
       "       prev_owner     hp            Type Next Inspection  ...  \\\n",
       "5237          NaN   85.0             NaN             NaN  ...   \n",
       "5329          NaN   85.0  Pre-registered             NaN  ...   \n",
       "12550         NaN  100.0  Employee's car             NaN  ...   \n",
       "12882         NaN  100.0            Used             NaN  ...   \n",
       "\n",
       "                               \\nEntertainment & Media\\n  \\\n",
       "5237               ['Bluetooth', 'Hands-free equipment']   \n",
       "5329               ['Bluetooth', 'Hands-free equipment']   \n",
       "12550  ['Bluetooth', 'Hands-free equipment', 'MP3', '...   \n",
       "12882                 ['Bluetooth', 'On-board computer']   \n",
       "\n",
       "                                              \\nExtras\\n  \\\n",
       "5237                                    ['Alloy wheels']   \n",
       "5329                                    ['Alloy wheels']   \n",
       "12550  ['Alloy wheels', 'Sport package', 'Touch scree...   \n",
       "12882                    ['Alloy wheels', 'Sport seats']   \n",
       "\n",
       "                                   \\nSafety & Security\\n Gears  \\\n",
       "5237   ['ABS', 'Central door lock', 'Driver-side airb...   7.0   \n",
       "5329   ['ABS', 'Central door lock', 'Driver-side airb...   7.0   \n",
       "12550  ['ABS', 'Blind spot monitor', 'Central door lo...   6.0   \n",
       "12882  ['ABS', 'Central door lock', 'Driver-side airb...   6.0   \n",
       "\n",
       "      Country version upholstery_material  upholstery_color  \\\n",
       "5237              NaN               Cloth               NaN   \n",
       "5329              NaN               Cloth               NaN   \n",
       "12550             NaN        Part leather             Black   \n",
       "12882             NaN        Full leather             Black   \n",
       "\n",
       "       Consumption_combined Consumption_city Consumption_country  \n",
       "5237                    3.9              4.1                 3.7  \n",
       "5329                    3.9              4.1                 3.7  \n",
       "12550                   5.4              7.0                 4.6  \n",
       "12882                   4.3              NaN                 NaN  \n",
       "\n",
       "[4 rows x 38 columns]"
      ]
     },
     "execution_count": 21,
     "metadata": {},
     "output_type": "execute_result"
    }
   ],
   "source": [
    "df.loc[(df['registration'].isnull())]"
   ]
  },
  {
   "cell_type": "code",
   "execution_count": 22,
   "id": "aaab0a47",
   "metadata": {},
   "outputs": [],
   "source": [
    "df['registration']=df['registration'].fillna(2019)"
   ]
  },
  {
   "cell_type": "code",
   "execution_count": 23,
   "id": "d42944df",
   "metadata": {},
   "outputs": [],
   "source": [
    "df['registration'] = 2019 - df['registration']\n",
    "\n",
    "df = df.rename(columns = {'registration': 'age'})"
   ]
  },
  {
   "cell_type": "markdown",
   "id": "821b2f6c",
   "metadata": {},
   "source": [
    "* year column converted to age column"
   ]
  },
  {
   "cell_type": "markdown",
   "id": "3a175740",
   "metadata": {},
   "source": [
    "### 3) VAT"
   ]
  },
  {
   "cell_type": "code",
   "execution_count": 15,
   "id": "f8595723",
   "metadata": {},
   "outputs": [
    {
     "data": {
      "text/plain": [
       "VAT deductible      10980\n",
       "NaN                  4513\n",
       "Price negotiable      426\n",
       "Name: vat, dtype: int64"
      ]
     },
     "execution_count": 15,
     "metadata": {},
     "output_type": "execute_result"
    }
   ],
   "source": [
    "df.vat.value_counts(dropna=False)"
   ]
  },
  {
   "cell_type": "code",
   "execution_count": 16,
   "id": "7054bd14",
   "metadata": {},
   "outputs": [],
   "source": [
    "df['vat'] = df['vat'].fillna('VAT undeductible') "
   ]
  },
  {
   "cell_type": "markdown",
   "id": "14b6593c",
   "metadata": {},
   "source": [
    "* All null values of vat column assigned as 'VAT undeductible'"
   ]
  },
  {
   "cell_type": "markdown",
   "id": "98363895",
   "metadata": {},
   "source": [
    "### 4) KM"
   ]
  },
  {
   "cell_type": "code",
   "execution_count": 24,
   "id": "3f909b44",
   "metadata": {},
   "outputs": [],
   "source": [
    "median_group_km = df.groupby(['make_model','body_type','age']).km.transform(lambda x: x.median())"
   ]
  },
  {
   "cell_type": "code",
   "execution_count": 25,
   "id": "16ecb5a0",
   "metadata": {},
   "outputs": [],
   "source": [
    "df[\"km\"].fillna(median_group_km, inplace=True)"
   ]
  },
  {
   "cell_type": "code",
   "execution_count": 26,
   "id": "b2ac6dd5",
   "metadata": {},
   "outputs": [],
   "source": [
    "df[\"km\"].fillna(df.groupby(['make_model','age']).km.transform(lambda x: x.median()), inplace=True)"
   ]
  },
  {
   "cell_type": "markdown",
   "id": "90c89e2c",
   "metadata": {},
   "source": [
    "* km column filled with groups age, make_model and body_type"
   ]
  },
  {
   "cell_type": "markdown",
   "id": "17bfea39",
   "metadata": {},
   "source": [
    "### 5) Previous Owner"
   ]
  },
  {
   "cell_type": "code",
   "execution_count": 29,
   "id": "b02de247",
   "metadata": {},
   "outputs": [],
   "source": [
    "index=df[df[\"km\"]<10].index"
   ]
  },
  {
   "cell_type": "code",
   "execution_count": 30,
   "id": "d1b15818",
   "metadata": {},
   "outputs": [],
   "source": [
    "df.loc[index,\"prev_owner\"]=0.0"
   ]
  },
  {
   "cell_type": "code",
   "execution_count": 31,
   "id": "567c382e",
   "metadata": {},
   "outputs": [],
   "source": [
    "df.loc[(df[\"Type\"]==\"New\") & (df[\"prev_owner\"].isnull()),\"prev_owner\"]=1.0"
   ]
  },
  {
   "cell_type": "code",
   "execution_count": 32,
   "id": "68835ec4",
   "metadata": {},
   "outputs": [],
   "source": [
    "df.loc[((df[\"age\"]==2019) | (df[\"km\"]<5000)) & (df[\"prev_owner\"].isnull()),\"prev_owner\"]=1.0"
   ]
  },
  {
   "cell_type": "code",
   "execution_count": 33,
   "id": "2132dee4",
   "metadata": {},
   "outputs": [],
   "source": [
    "mode_group_po = df.groupby(['age'])['prev_owner'].transform(lambda x: x.mode()[0] if list(x.mode()) != [] else np.nan)"
   ]
  },
  {
   "cell_type": "code",
   "execution_count": 34,
   "id": "6230167c",
   "metadata": {},
   "outputs": [],
   "source": [
    "df[\"prev_owner\"].fillna(mode_group_po, inplace=True)"
   ]
  },
  {
   "cell_type": "markdown",
   "id": "724791e7",
   "metadata": {},
   "source": [
    "### hp "
   ]
  },
  {
   "cell_type": "code",
   "execution_count": 35,
   "id": "1ffd5461",
   "metadata": {},
   "outputs": [],
   "source": [
    "mode_hp = df[~(df['Displacement'].isnull())]\\\n",
    "              .groupby(['make_model','body_type','Displacement'])['hp']\\\n",
    "              .transform(lambda x: x.mode()[0] if list(x.mode()) != [] else np.nan)"
   ]
  },
  {
   "cell_type": "code",
   "execution_count": 36,
   "id": "f55021a3",
   "metadata": {},
   "outputs": [],
   "source": [
    "df.loc[~(df['Displacement'].isnull()),\"hp\"] = df.loc[~(df['Displacement'].isnull()),\"hp\"].fillna(mode_hp)"
   ]
  },
  {
   "cell_type": "code",
   "execution_count": 37,
   "id": "16874ab5",
   "metadata": {},
   "outputs": [],
   "source": [
    "mode_hp1 = df[~(df['Cylinders'].isnull())]\\\n",
    "              .groupby(['make_model','body_type','Cylinders'])['hp']\\\n",
    "              .transform(lambda x: x.mode()[0] if list(x.mode()) != [] else np.nan)"
   ]
  },
  {
   "cell_type": "code",
   "execution_count": 38,
   "id": "c861410b",
   "metadata": {},
   "outputs": [],
   "source": [
    "df.loc[~(df['Cylinders'].isnull()),\"hp\"] = df.loc[~(df['Cylinders'].isnull()),\"hp\"].fillna(mode_hp1)"
   ]
  },
  {
   "cell_type": "code",
   "execution_count": 39,
   "id": "b3965401",
   "metadata": {},
   "outputs": [],
   "source": [
    "mode_hp2 = df.groupby(['make_model','body_type'])['hp']\\\n",
    "              .transform(lambda x: x.mode()[0] if list(x.mode()) != [] else np.nan)"
   ]
  },
  {
   "cell_type": "code",
   "execution_count": 40,
   "id": "43e72aab",
   "metadata": {},
   "outputs": [],
   "source": [
    "df['hp'] = df['hp'].fillna(mode_hp2)"
   ]
  },
  {
   "cell_type": "markdown",
   "id": "9a046855",
   "metadata": {},
   "source": [
    " ### 7) Type"
   ]
  },
  {
   "cell_type": "code",
   "execution_count": 41,
   "id": "2329bb62",
   "metadata": {},
   "outputs": [],
   "source": [
    "df['Type'] = df['Type'].fillna('Used')"
   ]
  },
  {
   "cell_type": "markdown",
   "id": "decc2793",
   "metadata": {},
   "source": [
    "### 8) Next Inspection"
   ]
  },
  {
   "cell_type": "code",
   "execution_count": 33,
   "id": "112bc3b6",
   "metadata": {},
   "outputs": [],
   "source": [
    "df.drop([\"Next Inspection\"],axis=1,inplace=True)"
   ]
  },
  {
   "cell_type": "markdown",
   "id": "fe44779e",
   "metadata": {},
   "source": [
    "### 9) Inspection New"
   ]
  },
  {
   "cell_type": "code",
   "execution_count": 34,
   "id": "969425e7",
   "metadata": {},
   "outputs": [
    {
     "data": {
      "text/plain": [
       "NaN    11987\n",
       "Yes     3932\n",
       "Name: Inspection new, dtype: int64"
      ]
     },
     "execution_count": 34,
     "metadata": {},
     "output_type": "execute_result"
    }
   ],
   "source": [
    "df['Inspection new'].value_counts(dropna=False)"
   ]
  },
  {
   "cell_type": "code",
   "execution_count": 35,
   "id": "725226ce",
   "metadata": {},
   "outputs": [],
   "source": [
    "df['Inspection new'] = df['Inspection new'].fillna('No')"
   ]
  },
  {
   "cell_type": "markdown",
   "id": "992634b0",
   "metadata": {},
   "source": [
    "### 10) Warranty(months)"
   ]
  },
  {
   "cell_type": "code",
   "execution_count": 36,
   "id": "806d4880",
   "metadata": {},
   "outputs": [],
   "source": [
    "df['Warranty(months)'] = df['Warranty(months)'].fillna(0.0)"
   ]
  },
  {
   "cell_type": "markdown",
   "id": "31cd6e88",
   "metadata": {},
   "source": [
    "* warranty column was filled with 0's"
   ]
  },
  {
   "cell_type": "markdown",
   "id": "babf1ef5",
   "metadata": {},
   "source": [
    "### 11) Body Color"
   ]
  },
  {
   "cell_type": "code",
   "execution_count": 37,
   "id": "9bbc2b46",
   "metadata": {},
   "outputs": [],
   "source": [
    "mode_color = df.groupby(['make_model','body_type'])['Body Color']\\\n",
    "              .transform(lambda x: x.mode()[0] if list(x.mode()) != [] else np.nan)"
   ]
  },
  {
   "cell_type": "code",
   "execution_count": 38,
   "id": "66e9d3ad",
   "metadata": {},
   "outputs": [],
   "source": [
    "df['Body Color'] = df['Body Color'].fillna(mode_color)"
   ]
  },
  {
   "cell_type": "code",
   "execution_count": 39,
   "id": "68b40987",
   "metadata": {},
   "outputs": [],
   "source": [
    "mode_color1 = df.groupby(['make_model'])['Body Color']\\\n",
    "              .transform(lambda x: x.mode()[0] if list(x.mode()) != [] else np.nan)"
   ]
  },
  {
   "cell_type": "code",
   "execution_count": 40,
   "id": "023d4d00",
   "metadata": {},
   "outputs": [],
   "source": [
    "df['Body Color'] = df['Body Color'].fillna(mode_color1)"
   ]
  },
  {
   "cell_type": "markdown",
   "id": "c994076e",
   "metadata": {},
   "source": [
    "* body_color column was filled according to groups make_model, body_type"
   ]
  },
  {
   "cell_type": "markdown",
   "id": "f0b0bf17",
   "metadata": {},
   "source": [
    "### 11) Paint Type"
   ]
  },
  {
   "cell_type": "code",
   "execution_count": 41,
   "id": "4f8356aa",
   "metadata": {},
   "outputs": [],
   "source": [
    "mode_paint = df.groupby(['make_model','body_type'])['Paint Type']\\\n",
    "              .transform(lambda x: x.mode()[0] if list(x.mode()) != [] else np.nan)"
   ]
  },
  {
   "cell_type": "code",
   "execution_count": 42,
   "id": "8602761a",
   "metadata": {},
   "outputs": [],
   "source": [
    "df['Paint Type'] = df['Paint Type'].fillna(mode_paint)"
   ]
  },
  {
   "cell_type": "code",
   "execution_count": 43,
   "id": "53f07c33",
   "metadata": {},
   "outputs": [],
   "source": [
    "mode_paint1 = df.groupby(['make_model'])['Paint Type']\\\n",
    "              .transform(lambda x: x.mode()[0] if list(x.mode()) != [] else np.nan)"
   ]
  },
  {
   "cell_type": "code",
   "execution_count": 44,
   "id": "29b281a7",
   "metadata": {},
   "outputs": [],
   "source": [
    "df['Paint Type'] = df['Paint Type'].fillna(mode_paint1)"
   ]
  },
  {
   "cell_type": "markdown",
   "id": "ed25c3f7",
   "metadata": {},
   "source": [
    "* paint_type column was filled according to groups make_model, body_type"
   ]
  },
  {
   "cell_type": "markdown",
   "id": "2f5bd01f",
   "metadata": {},
   "source": [
    "### 12) Body Color Original"
   ]
  },
  {
   "cell_type": "code",
   "execution_count": 45,
   "id": "0f569947",
   "metadata": {},
   "outputs": [],
   "source": [
    "df.drop([\"Body Color Original\"],axis=1,inplace=True)"
   ]
  },
  {
   "cell_type": "markdown",
   "id": "25f0d897",
   "metadata": {},
   "source": [
    "### 13) Nr. of Doors"
   ]
  },
  {
   "cell_type": "code",
   "execution_count": 46,
   "id": "e2c4418a",
   "metadata": {},
   "outputs": [],
   "source": [
    "mode_nr_doors = df.groupby(['make_model','body_type'])['Nr. of Doors']\\\n",
    "              .transform(lambda x: x.mode()[0] if list(x.mode()) != [] else np.nan)"
   ]
  },
  {
   "cell_type": "code",
   "execution_count": 47,
   "id": "86d06393",
   "metadata": {},
   "outputs": [],
   "source": [
    "df['Nr. of Doors'] = df['Nr. of Doors'].fillna(mode_nr_doors)"
   ]
  },
  {
   "cell_type": "code",
   "execution_count": 48,
   "id": "2805d123",
   "metadata": {},
   "outputs": [],
   "source": [
    "mode_nr_doors1 = df.groupby(['make_model'])['Nr. of Doors']\\\n",
    "              .transform(lambda x: x.mode()[0] if list(x.mode()) != [] else np.nan)"
   ]
  },
  {
   "cell_type": "code",
   "execution_count": 49,
   "id": "6d158e74",
   "metadata": {},
   "outputs": [],
   "source": [
    "df['Nr. of Doors'] = df['Nr. of Doors'].fillna(mode_nr_doors1)"
   ]
  },
  {
   "cell_type": "markdown",
   "id": "0db721dd",
   "metadata": {},
   "source": [
    "* nr. of seats column was filled according to groups make_model, body_type"
   ]
  },
  {
   "cell_type": "markdown",
   "id": "86757537",
   "metadata": {},
   "source": [
    "### 14) Nr. of Seats"
   ]
  },
  {
   "cell_type": "code",
   "execution_count": 50,
   "id": "0b442211",
   "metadata": {},
   "outputs": [],
   "source": [
    "mode_nr_seats = df.groupby(['make_model','body_type'])['Nr. of Seats']\\\n",
    "              .transform(lambda x: x.mode()[0] if list(x.mode()) != [] else np.nan)"
   ]
  },
  {
   "cell_type": "code",
   "execution_count": 51,
   "id": "65124485",
   "metadata": {},
   "outputs": [],
   "source": [
    "df['Nr. of Seats'] = df['Nr. of Seats'].fillna(mode_nr_seats)"
   ]
  },
  {
   "cell_type": "code",
   "execution_count": 52,
   "id": "5997d93f",
   "metadata": {},
   "outputs": [],
   "source": [
    "mode_nr_seats1 = df.groupby(['make_model'])['Nr. of Seats']\\\n",
    "              .transform(lambda x: x.mode()[0] if list(x.mode()) != [] else np.nan)"
   ]
  },
  {
   "cell_type": "code",
   "execution_count": 53,
   "id": "b8b7f815",
   "metadata": {},
   "outputs": [],
   "source": [
    "df['Nr. of Seats'] = df['Nr. of Seats'].fillna(mode_nr_seats1)"
   ]
  },
  {
   "cell_type": "markdown",
   "id": "2f811a17",
   "metadata": {},
   "source": [
    "* nr_of_seats column was filled according to groups make_model, body_type"
   ]
  },
  {
   "cell_type": "markdown",
   "id": "8e5e673e",
   "metadata": {},
   "source": [
    "### Model Code"
   ]
  },
  {
   "cell_type": "code",
   "execution_count": 54,
   "id": "9fb5eefc",
   "metadata": {},
   "outputs": [],
   "source": [
    "df.drop(['Model Code'],axis=1,inplace=True)"
   ]
  },
  {
   "cell_type": "markdown",
   "id": "dde0c534",
   "metadata": {},
   "source": [
    "### 15) Gearing Type"
   ]
  },
  {
   "cell_type": "code",
   "execution_count": 55,
   "id": "980138ba",
   "metadata": {},
   "outputs": [
    {
     "data": {
      "text/plain": [
       "Manual            8153\n",
       "Automatic         7297\n",
       "Semi-automatic     469\n",
       "Name: Gearing Type, dtype: int64"
      ]
     },
     "execution_count": 55,
     "metadata": {},
     "output_type": "execute_result"
    }
   ],
   "source": [
    "df['Gearing Type'].value_counts(dropna=False)"
   ]
  },
  {
   "cell_type": "markdown",
   "id": "0a4ec089",
   "metadata": {},
   "source": [
    "### 16) Displacement"
   ]
  },
  {
   "cell_type": "code",
   "execution_count": 56,
   "id": "d6c67d5b",
   "metadata": {},
   "outputs": [],
   "source": [
    "mode_displacement = df.groupby(['make_model','body_type','hp'])['Displacement']\\\n",
    "              .transform(lambda x: x.mode()[0] if list(x.mode()) != [] else np.nan)"
   ]
  },
  {
   "cell_type": "code",
   "execution_count": 57,
   "id": "27c74eff",
   "metadata": {},
   "outputs": [],
   "source": [
    "df['Displacement'] = df['Displacement'].fillna(mode_displacement)"
   ]
  },
  {
   "cell_type": "code",
   "execution_count": 58,
   "id": "9367ffe7",
   "metadata": {},
   "outputs": [],
   "source": [
    "mode_displacement1 = df.groupby(['make_model','body_type'])['Displacement']\\\n",
    "              .transform(lambda x: x.mode()[0] if list(x.mode()) != [] else np.nan)"
   ]
  },
  {
   "cell_type": "code",
   "execution_count": 59,
   "id": "c22d1f99",
   "metadata": {},
   "outputs": [],
   "source": [
    "df['Displacement'] = df['Displacement'].fillna(mode_displacement1)"
   ]
  },
  {
   "cell_type": "code",
   "execution_count": 60,
   "id": "84622a7c",
   "metadata": {},
   "outputs": [],
   "source": [
    "mode_displacement2 = df.groupby(['make_model'])['Displacement']\\\n",
    "              .transform(lambda x: x.mode()[0] if list(x.mode()) != [] else np.nan)"
   ]
  },
  {
   "cell_type": "code",
   "execution_count": 61,
   "id": "3d8e163f",
   "metadata": {},
   "outputs": [],
   "source": [
    "df['Displacement'] = df['Displacement'].fillna(mode_displacement2)"
   ]
  },
  {
   "cell_type": "markdown",
   "id": "90d1e561",
   "metadata": {},
   "source": [
    "* Displacement column was filled according to groups hp, make_model, body_type"
   ]
  },
  {
   "cell_type": "markdown",
   "id": "1ad76940",
   "metadata": {},
   "source": [
    "### 16) Weight"
   ]
  },
  {
   "cell_type": "code",
   "execution_count": 62,
   "id": "3343a400",
   "metadata": {},
   "outputs": [],
   "source": [
    "mode_weight = df.groupby(['make_model', 'Displacement'])['Weight']\\\n",
    "              .transform(lambda x: x.mode()[0] if list(x.mode()) != [] else np.nan)"
   ]
  },
  {
   "cell_type": "code",
   "execution_count": 63,
   "id": "3eb1f564",
   "metadata": {},
   "outputs": [],
   "source": [
    "df['Weight'] = df['Weight'].fillna(mode_weight)"
   ]
  },
  {
   "cell_type": "code",
   "execution_count": 64,
   "id": "c7399702",
   "metadata": {},
   "outputs": [],
   "source": [
    "mode_weight1 = df.groupby(['make_model'])['Weight']\\\n",
    "              .transform(lambda x: x.mode()[0] if list(x.mode()) != [] else np.nan)"
   ]
  },
  {
   "cell_type": "code",
   "execution_count": 65,
   "id": "d060f127",
   "metadata": {},
   "outputs": [],
   "source": [
    "df['Weight'] = df['Weight'].fillna(mode_weight1)"
   ]
  },
  {
   "cell_type": "code",
   "execution_count": 66,
   "id": "b914964a",
   "metadata": {},
   "outputs": [],
   "source": [
    "mode_weight2 = df.groupby(['make_model', 'hp'])['Weight']\\\n",
    "              .transform(lambda x: x.mode()[0] if list(x.mode()) != [] else np.nan)"
   ]
  },
  {
   "cell_type": "code",
   "execution_count": 67,
   "id": "1fd5ea2e",
   "metadata": {},
   "outputs": [],
   "source": [
    "df['Weight'] = df['Weight'].fillna(mode_weight2)"
   ]
  },
  {
   "cell_type": "code",
   "execution_count": 68,
   "id": "fe74fefd",
   "metadata": {},
   "outputs": [],
   "source": [
    "mode_weight3 = df.groupby(['body_type'])['Weight']\\\n",
    "              .transform(lambda x: x.mode()[0] if list(x.mode()) != [] else np.nan)"
   ]
  },
  {
   "cell_type": "code",
   "execution_count": 69,
   "id": "a03e3cee",
   "metadata": {},
   "outputs": [],
   "source": [
    "df['Weight'] = df['Weight'].fillna(mode_weight3)"
   ]
  },
  {
   "cell_type": "markdown",
   "id": "859dcbeb",
   "metadata": {},
   "source": [
    "* weight column was filled according to groups hp, make_model, body_type"
   ]
  },
  {
   "cell_type": "markdown",
   "id": "514c08e0",
   "metadata": {},
   "source": [
    "### 17) Cylinders"
   ]
  },
  {
   "cell_type": "code",
   "execution_count": 70,
   "id": "f748e474",
   "metadata": {},
   "outputs": [],
   "source": [
    "mode_cylinders = df.groupby(['make_model', 'Displacement'])['Cylinders']\\\n",
    "              .transform(lambda x: x.mode()[0] if list(x.mode()) != [] else np.nan)"
   ]
  },
  {
   "cell_type": "code",
   "execution_count": 71,
   "id": "917344d7",
   "metadata": {},
   "outputs": [],
   "source": [
    "df['Cylinders'] = df['Cylinders'].fillna(mode_cylinders)"
   ]
  },
  {
   "cell_type": "code",
   "execution_count": 72,
   "id": "e1c5f2d1",
   "metadata": {},
   "outputs": [],
   "source": [
    "mode_cylinders1 = df.groupby(['make_model', 'Weight'])['Cylinders']\\\n",
    "              .transform(lambda x: x.mode()[0] if list(x.mode()) != [] else np.nan)"
   ]
  },
  {
   "cell_type": "code",
   "execution_count": 73,
   "id": "e2e29cd9",
   "metadata": {},
   "outputs": [],
   "source": [
    "df['Cylinders'] = df['Cylinders'].fillna(mode_cylinders1)"
   ]
  },
  {
   "cell_type": "code",
   "execution_count": 74,
   "id": "08d669c3",
   "metadata": {},
   "outputs": [],
   "source": [
    "mode_cylinders2 = df.groupby(['make_model'])['Cylinders']\\\n",
    "              .transform(lambda x: x.mode()[0] if list(x.mode()) != [] else np.nan)"
   ]
  },
  {
   "cell_type": "code",
   "execution_count": 75,
   "id": "6ad28c01",
   "metadata": {},
   "outputs": [],
   "source": [
    "df['Cylinders'] = df['Cylinders'].fillna(mode_cylinders2)"
   ]
  },
  {
   "cell_type": "code",
   "execution_count": 76,
   "id": "bf5cc118",
   "metadata": {},
   "outputs": [],
   "source": [
    "df['Cylinders'] = df['Cylinders'].fillna(4.0)"
   ]
  },
  {
   "cell_type": "markdown",
   "id": "b0d4ec32",
   "metadata": {},
   "source": [
    "* cylinders column was filled according to groups displacement, weight, make_mode"
   ]
  },
  {
   "cell_type": "markdown",
   "id": "b5c866da",
   "metadata": {},
   "source": [
    "### 18) Drive Chain"
   ]
  },
  {
   "cell_type": "code",
   "execution_count": 77,
   "id": "4bf15eff",
   "metadata": {},
   "outputs": [],
   "source": [
    "mode_drive_chain = df.groupby(['make_model', 'body_type'])['Drive chain']\\\n",
    "              .transform(lambda x: x.mode()[0] if list(x.mode()) != [] else np.nan)"
   ]
  },
  {
   "cell_type": "code",
   "execution_count": 78,
   "id": "b722986e",
   "metadata": {},
   "outputs": [],
   "source": [
    "df['Drive chain'] = df['Drive chain'].fillna(mode_drive_chain)"
   ]
  },
  {
   "cell_type": "code",
   "execution_count": 79,
   "id": "672f3f7b",
   "metadata": {},
   "outputs": [],
   "source": [
    "mode_drive_chain1 = df.groupby(['make_model'])['Drive chain']\\\n",
    "              .transform(lambda x: x.mode()[0] if list(x.mode()) != [] else np.nan)"
   ]
  },
  {
   "cell_type": "code",
   "execution_count": 80,
   "id": "3821d829",
   "metadata": {},
   "outputs": [],
   "source": [
    "df['Drive chain'] = df['Drive chain'].fillna(mode_drive_chain1)"
   ]
  },
  {
   "cell_type": "markdown",
   "id": "97a3acee",
   "metadata": {},
   "source": [
    "* drive_chain column was filled according to groups make_model and body type"
   ]
  },
  {
   "cell_type": "markdown",
   "id": "3115fb4f",
   "metadata": {},
   "source": [
    "### 19) Fuel"
   ]
  },
  {
   "cell_type": "code",
   "execution_count": 81,
   "id": "56ccd277",
   "metadata": {},
   "outputs": [
    {
     "data": {
      "text/plain": [
       "Benzine    8549\n",
       "Diesel     7299\n",
       "Gas          64\n",
       "Others        7\n",
       "Name: Fuel, dtype: int64"
      ]
     },
     "execution_count": 81,
     "metadata": {},
     "output_type": "execute_result"
    }
   ],
   "source": [
    "df['Fuel'].value_counts(dropna=False)"
   ]
  },
  {
   "cell_type": "markdown",
   "id": "8622b299",
   "metadata": {},
   "source": [
    "### 20) CO2 Emission(g CO2/km)"
   ]
  },
  {
   "cell_type": "code",
   "execution_count": 82,
   "id": "6b4a0a6b",
   "metadata": {},
   "outputs": [],
   "source": [
    "mode_CO2 = df.groupby(['make_model','Displacement'])['CO2 Emission(g CO2/km)']\\\n",
    "              .transform(lambda x: x.mode()[0] if list(x.mode()) != [] else np.nan)"
   ]
  },
  {
   "cell_type": "code",
   "execution_count": 83,
   "id": "ed1e434d",
   "metadata": {},
   "outputs": [],
   "source": [
    "df['CO2 Emission(g CO2/km)'] = df['CO2 Emission(g CO2/km)'].fillna(mode_CO2)"
   ]
  },
  {
   "cell_type": "code",
   "execution_count": 84,
   "id": "6fa0c9dc",
   "metadata": {},
   "outputs": [],
   "source": [
    "mode_CO2_1 = df.groupby(['make_model'])['CO2 Emission(g CO2/km)']\\\n",
    "              .transform(lambda x: x.mode()[0] if list(x.mode()) != [] else np.nan)"
   ]
  },
  {
   "cell_type": "code",
   "execution_count": 85,
   "id": "7374c8d5",
   "metadata": {},
   "outputs": [],
   "source": [
    "df['CO2 Emission(g CO2/km)'] = df['CO2 Emission(g CO2/km)'].fillna(mode_CO2_1)"
   ]
  },
  {
   "cell_type": "code",
   "execution_count": 86,
   "id": "908e7328",
   "metadata": {},
   "outputs": [],
   "source": [
    "mode_CO2_2 = df.groupby(['body_type'])['CO2 Emission(g CO2/km)']\\\n",
    "              .transform(lambda x: x.mode()[0] if list(x.mode()) != [] else np.nan)"
   ]
  },
  {
   "cell_type": "code",
   "execution_count": 87,
   "id": "5e438cd7",
   "metadata": {},
   "outputs": [],
   "source": [
    "df['CO2 Emission(g CO2/km)'] = df['CO2 Emission(g CO2/km)'].fillna(mode_CO2_2)"
   ]
  },
  {
   "cell_type": "markdown",
   "id": "9a957519",
   "metadata": {},
   "source": [
    "* 'CO2 Emission(g CO2/km)' column was filled according to groups make_model,displacement and body type"
   ]
  },
  {
   "cell_type": "markdown",
   "id": "ecf0732e",
   "metadata": {},
   "source": [
    "### 21) Emission Class"
   ]
  },
  {
   "cell_type": "code",
   "execution_count": 88,
   "id": "fa16ae56",
   "metadata": {},
   "outputs": [],
   "source": [
    "mode_Emision_C= df.groupby(['CO2 Emission(g CO2/km)'])['Emission Class']\\\n",
    "              .transform(lambda x: x.mode()[0] if list(x.mode()) != [] else np.nan)"
   ]
  },
  {
   "cell_type": "code",
   "execution_count": 89,
   "id": "a0c40a51",
   "metadata": {},
   "outputs": [],
   "source": [
    "df['Emission Class'] = df['Emission Class'].fillna(mode_Emision_C)"
   ]
  },
  {
   "cell_type": "code",
   "execution_count": 90,
   "id": "9bad431d",
   "metadata": {},
   "outputs": [],
   "source": [
    "mode_Emision_C1= df.groupby(['age'])['Emission Class']\\\n",
    "              .transform(lambda x: x.mode()[0] if list(x.mode()) != [] else np.nan)"
   ]
  },
  {
   "cell_type": "code",
   "execution_count": 91,
   "id": "352a9e76",
   "metadata": {},
   "outputs": [],
   "source": [
    "df['Emission Class'] = df['Emission Class'].fillna(mode_Emision_C1)"
   ]
  },
  {
   "cell_type": "markdown",
   "id": "ea24ba21",
   "metadata": {},
   "source": [
    "* emission class column was filled according to groups co2 emission and age"
   ]
  },
  {
   "cell_type": "markdown",
   "id": "6703309d",
   "metadata": {},
   "source": [
    "### 22) Gears"
   ]
  },
  {
   "cell_type": "code",
   "execution_count": 92,
   "id": "56cc883e",
   "metadata": {},
   "outputs": [],
   "source": [
    "mode_Gears= df.groupby(['make_model','Gearing Type'])['Gears']\\\n",
    "              .transform(lambda x: x.mode()[0] if list(x.mode()) != [] else np.nan)"
   ]
  },
  {
   "cell_type": "code",
   "execution_count": 93,
   "id": "b3112578",
   "metadata": {},
   "outputs": [],
   "source": [
    "df['Gears'] = df['Gears'].fillna(mode_Gears)"
   ]
  },
  {
   "cell_type": "code",
   "execution_count": 94,
   "id": "dafbc21b",
   "metadata": {},
   "outputs": [],
   "source": [
    "mode_Gears1= df.groupby(['Gearing Type'])['Gears']\\\n",
    "              .transform(lambda x: x.mode()[0] if list(x.mode()) != [] else np.nan)"
   ]
  },
  {
   "cell_type": "code",
   "execution_count": 95,
   "id": "71a8b26d",
   "metadata": {},
   "outputs": [],
   "source": [
    "df['Gears'] = df['Gears'].fillna(mode_Gears1)"
   ]
  },
  {
   "cell_type": "markdown",
   "id": "75f32085",
   "metadata": {},
   "source": [
    "* gears column was filled according to groups make model and gear type"
   ]
  },
  {
   "cell_type": "markdown",
   "id": "033a8459",
   "metadata": {},
   "source": [
    "### 23) Country version"
   ]
  },
  {
   "cell_type": "code",
   "execution_count": 96,
   "id": "4dc9cba8",
   "metadata": {},
   "outputs": [],
   "source": [
    "df.drop(['Country version'], axis=1, inplace=True)"
   ]
  },
  {
   "cell_type": "markdown",
   "id": "9e68230e",
   "metadata": {},
   "source": [
    "### 24) Upholstery Material"
   ]
  },
  {
   "cell_type": "code",
   "execution_count": 97,
   "id": "6dfd253c",
   "metadata": {},
   "outputs": [
    {
     "data": {
      "text/plain": [
       "Cloth           8423\n",
       "NaN             4503\n",
       "Part leather    1499\n",
       "Full leather    1009\n",
       "Other            368\n",
       "Velour            60\n",
       "alcantara         57\n",
       "Name: upholstery_material, dtype: int64"
      ]
     },
     "execution_count": 97,
     "metadata": {},
     "output_type": "execute_result"
    }
   ],
   "source": [
    "df['upholstery_material'].value_counts(dropna=False)"
   ]
  },
  {
   "cell_type": "markdown",
   "id": "2194be31",
   "metadata": {},
   "source": [
    "### 25) Upholstrey Color"
   ]
  },
  {
   "cell_type": "code",
   "execution_count": 98,
   "id": "c306e621",
   "metadata": {},
   "outputs": [],
   "source": [
    "df.drop(['upholstery_color'], axis=1, inplace=True)"
   ]
  },
  {
   "cell_type": "markdown",
   "id": "87fc4e16",
   "metadata": {},
   "source": [
    "### 26) Consumption Combined"
   ]
  },
  {
   "cell_type": "code",
   "execution_count": 99,
   "id": "8f465818",
   "metadata": {},
   "outputs": [],
   "source": [
    "coms = ((df['Consumption_city']+df['Consumption_country'])/2)"
   ]
  },
  {
   "cell_type": "code",
   "execution_count": 100,
   "id": "92aa3905",
   "metadata": {},
   "outputs": [],
   "source": [
    "df['Consumption_combined'] = df['Consumption_combined'].fillna(coms)"
   ]
  },
  {
   "cell_type": "code",
   "execution_count": 101,
   "id": "26a8862e",
   "metadata": {},
   "outputs": [],
   "source": [
    "mode_Cons= df.groupby(['CO2 Emission(g CO2/km)'])['Consumption_combined']\\\n",
    "              .transform(lambda x: x.mode()[0] if list(x.mode()) != [] else np.nan)"
   ]
  },
  {
   "cell_type": "code",
   "execution_count": 102,
   "id": "5fbe7794",
   "metadata": {},
   "outputs": [],
   "source": [
    "df['Consumption_combined'] = df['Consumption_combined'].fillna(mode_Cons)"
   ]
  },
  {
   "cell_type": "code",
   "execution_count": 103,
   "id": "8d02be6c",
   "metadata": {},
   "outputs": [],
   "source": [
    "mode_Cons1= df.groupby(['Displacement'])['Consumption_combined']\\\n",
    "              .transform(lambda x: x.mode()[0] if list(x.mode()) != [] else np.nan)"
   ]
  },
  {
   "cell_type": "code",
   "execution_count": 104,
   "id": "ed73b168",
   "metadata": {},
   "outputs": [],
   "source": [
    "df['Consumption_combined'] = df['Consumption_combined'].fillna(mode_Cons1)"
   ]
  },
  {
   "cell_type": "code",
   "execution_count": 105,
   "id": "0edfcf03",
   "metadata": {},
   "outputs": [],
   "source": [
    "mode_Cons2= df.groupby(['make_model'])['Consumption_combined']\\\n",
    "              .transform(lambda x: x.mode()[0] if list(x.mode()) != [] else np.nan)"
   ]
  },
  {
   "cell_type": "code",
   "execution_count": 106,
   "id": "5b7689a6",
   "metadata": {},
   "outputs": [],
   "source": [
    "df['Consumption_combined'] = df['Consumption_combined'].fillna(mode_Cons2)"
   ]
  },
  {
   "cell_type": "markdown",
   "id": "7bc90b8f",
   "metadata": {},
   "source": [
    "* comsumption column first was filled with the mean of 'consumption_city','consumption_country' columns. Then was filled according to the column make_model."
   ]
  },
  {
   "cell_type": "markdown",
   "id": "07f465d5",
   "metadata": {},
   "source": [
    "## Filled data was saved to a csv file called \"missings_filled_step2.csv\""
   ]
  },
  {
   "cell_type": "code",
   "execution_count": 107,
   "id": "007eb3a4",
   "metadata": {},
   "outputs": [],
   "source": [
    "df.to_csv(\"missings_filled_step2.csv\", index=False)"
   ]
  },
  {
   "cell_type": "code",
   "execution_count": null,
   "id": "156b1b1c",
   "metadata": {},
   "outputs": [],
   "source": []
  }
 ],
 "metadata": {
  "kernelspec": {
   "display_name": "Python 3 (ipykernel)",
   "language": "python",
   "name": "python3"
  },
  "language_info": {
   "codemirror_mode": {
    "name": "ipython",
    "version": 3
   },
   "file_extension": ".py",
   "mimetype": "text/x-python",
   "name": "python",
   "nbconvert_exporter": "python",
   "pygments_lexer": "ipython3",
   "version": "3.8.18"
  }
 },
 "nbformat": 4,
 "nbformat_minor": 5
}
