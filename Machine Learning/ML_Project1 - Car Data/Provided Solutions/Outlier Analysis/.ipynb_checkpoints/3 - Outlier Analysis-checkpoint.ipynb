{
 "cells": [
  {
   "cell_type": "markdown",
   "id": "e9918bb2-8b42-483d-bbce-b9dc0ce6246e",
   "metadata": {},
   "source": []
  },
  {
   "cell_type": "markdown",
   "id": "a7657ad5-49d8-4adf-8e45-046d41a2376c",
   "metadata": {},
   "source": [
    "# 3 - [] Outlier Analysis\n",
    "\n",
    "**Categorical Columns**  \n",
    "- [] make_model\n",
    "- [] body_type\n",
    "- [] vat\n",
    "- [] registration_year\n",
    "- [] previous_owners\n",
    "- [] type\n",
    "- [] next_inspection\n",
    "- [] inspection_new\n",
    "- [] body_color\n",
    "- [] paint_type\n",
    "- [] upholstery_color\n",
    "- [] upholstery_material\n",
    "- [] gearing_type\n",
    "- [] fuel\n",
    "- [] co2_emission\n",
    "- [] emission_class\n",
    "- [] drive_chain\n",
    "- [] entertainment_media\n",
    "- [] safety_security\n",
    "- [] comfort_convenience\n",
    "- [] extras\n",
    " \n",
    "**Quantitative Columns**\n",
    "- [] price\n",
    "- [] km\n",
    "- [] consumption_country\n",
    "- [] consumption_city\n",
    "- [] consumption_combined\n",
    "- [] hp\n",
    "- [] displacement\n",
    "- [] warranty\n",
    "- [] weight\n",
    "- [] nr_of_doors\n",
    "- [] nr_of_seats\n",
    "- [] cylinders\n",
    "- [] gears\n",
    "\n",
    "\n",
    "---"
   ]
  },
  {
   "cell_type": "markdown",
   "id": "4dfb8ef9-bb4b-42d6-9f75-e964f6f47ced",
   "metadata": {},
   "source": [
    "## Categorical Columns\n",
    "- [] make_model\n",
    "- [] body_type\n",
    "- [] vat\n",
    "- [] registration_year\n",
    "- [] previous_owners\n",
    "- [] type\n",
    "- [] next_inspection\n",
    "- [] inspection_new\n",
    "- [] body_color\n",
    "- [] paint_type\n",
    "- [] upholstery_color\n",
    "- [] upholstery_material\n",
    "- [] gearing_type\n",
    "- [] fuel\n",
    "- [] co2_emission\n",
    "- [] emission_class\n",
    "- [] drive_chain\n",
    "- [] entertainment_media\n",
    "- [] safety_security\n",
    "- [] comfort_convenience\n",
    "- [] extras"
   ]
  },
  {
   "cell_type": "markdown",
   "id": "34dadb18-448b-4e8e-8860-a56cdbddb385",
   "metadata": {},
   "source": [
    "## Quantitative Columns\n",
    "- [] price\n",
    "- [] km\n",
    "- [] consumption_country\n",
    "- [] consumption_city\n",
    "- [] consumption_combined\n",
    "- [] hp\n",
    "- [] displacement\n",
    "- [] warranty\n",
    "- [] weight\n",
    "- [] nr_of_doors\n",
    "- [] nr_of_seats\n",
    "- [] cylinders\n",
    "- [] gears\n"
   ]
  }
 ],
 "metadata": {
  "kernelspec": {
   "display_name": "Python 3 (ipykernel)",
   "language": "python",
   "name": "python3"
  },
  "language_info": {
   "codemirror_mode": {
    "name": "ipython",
    "version": 3
   },
   "file_extension": ".py",
   "mimetype": "text/x-python",
   "name": "python",
   "nbconvert_exporter": "python",
   "pygments_lexer": "ipython3",
   "version": "3.8.18"
  }
 },
 "nbformat": 4,
 "nbformat_minor": 5
}
