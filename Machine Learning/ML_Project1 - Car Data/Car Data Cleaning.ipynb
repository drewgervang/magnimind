{
 "cells": [
  {
   "cell_type": "markdown",
   "id": "cbbac1f2-e1b8-4daa-aa0e-3e4d7caaf0f2",
   "metadata": {},
   "source": [
    "# Cleaning Car Data\n",
    "\n",
    "## Columns:\n",
    "\n",
    "**General Columns** \n",
    "- url: url of autos \n",
    "- short_description, description: Description of autos (in English and German) written by users \n",
    "\n",
    "**Categorical Columns**  \n",
    "- make_model, make, model: Model of autos. Ex:Audi A1 \n",
    "- body_type, body: Body type of autos Example: van, sedans\n",
    "- vat: VAT deductible, price negotiable \n",
    "- registration, first_registration: First registration date and year of autos. \n",
    "- prev_owner, previous_owners: Number of previous owners\n",
    "- type: new or used \n",
    "- next_inspection, inspection_new: information about inspection (inspection date,..) \n",
    "- body_color, body_color_original: Color of auto Ex: Black, red\n",
    "- paint_type: Paint type of auto Ex: Metallic, Uni/basic \n",
    "- upholstery: Upholstery information (texture, color) \n",
    "- gearing_type: Type of gear Ex: automatic, manual \n",
    "- fuel Ex: diesel, benzine \n",
    "- co2_emission, emission_class, emission_label: emission information \n",
    "- drive_chain: drive chain Ex: front,rear, 4WD \n",
    "- consumption: consumption of auto in city, country and combination (lt/100 km) \n",
    "- country_version \n",
    "- entertainment_media \n",
    "- safety_security \n",
    "- comfort_convenience \n",
    "- extras \n",
    "\n",
    "**Quantitative Columns**\n",
    "- price: Price of cars \n",
    "- km: km of autos \n",
    "- hp: horsepower of autos (kW) \n",
    "- displacement: displacement of autos (cc) \n",
    "- warranty: warranty period (month) \n",
    "- weight: weight of auto (kg) \n",
    "- nr_of_doors: number of doors \n",
    "- nr_of_seats : number of seats \n",
    "- cylinders: number of cylinders \n",
    "- gears: number of gears\n",
    "\n",
    "---"
   ]
  },
  {
   "cell_type": "code",
   "execution_count": 415,
   "id": "1fb74b60-50a9-4fa8-8469-4f5a55fdebd6",
   "metadata": {},
   "outputs": [],
   "source": [
    "import numpy as np\n",
    "import pandas as pd\n",
    "\n",
    "\n",
    "df = pd.read_json('scout_car.json', lines=True)\n",
    "df.columns = df.columns.str.lower().str.replace(' ', '_').str.replace('.', '').str.replace('_&_', '_').str.strip()"
   ]
  },
  {
   "cell_type": "code",
   "execution_count": 416,
   "id": "85cedb5e-f135-4c11-aafc-27a210f6b3d3",
   "metadata": {},
   "outputs": [
    {
     "data": {
      "text/html": [
       "<div>\n",
       "<style scoped>\n",
       "    .dataframe tbody tr th:only-of-type {\n",
       "        vertical-align: middle;\n",
       "    }\n",
       "\n",
       "    .dataframe tbody tr th {\n",
       "        vertical-align: top;\n",
       "    }\n",
       "\n",
       "    .dataframe thead th {\n",
       "        text-align: right;\n",
       "    }\n",
       "</style>\n",
       "<table border=\"1\" class=\"dataframe\">\n",
       "  <thead>\n",
       "    <tr style=\"text-align: right;\">\n",
       "      <th></th>\n",
       "      <th>0</th>\n",
       "      <th>1</th>\n",
       "      <th>2</th>\n",
       "    </tr>\n",
       "  </thead>\n",
       "  <tbody>\n",
       "    <tr>\n",
       "      <th>url</th>\n",
       "      <td>https://www.autoscout24.com//offers/audi-a1-sp...</td>\n",
       "      <td>https://www.autoscout24.com//offers/audi-a1-1-...</td>\n",
       "      <td>https://www.autoscout24.com//offers/audi-a1-sp...</td>\n",
       "    </tr>\n",
       "    <tr>\n",
       "      <th>make_model</th>\n",
       "      <td>Audi A1</td>\n",
       "      <td>Audi A1</td>\n",
       "      <td>Audi A1</td>\n",
       "    </tr>\n",
       "    <tr>\n",
       "      <th>short_description</th>\n",
       "      <td>Sportback 1.4 TDI S-tronic Xenon Navi Klima</td>\n",
       "      <td>1.8 TFSI sport</td>\n",
       "      <td>Sportback 1.6 TDI S tronic Einparkhilfe plus+m...</td>\n",
       "    </tr>\n",
       "    <tr>\n",
       "      <th>body_type</th>\n",
       "      <td>Sedans</td>\n",
       "      <td>Sedans</td>\n",
       "      <td>Sedans</td>\n",
       "    </tr>\n",
       "    <tr>\n",
       "      <th>price</th>\n",
       "      <td>15770</td>\n",
       "      <td>14500</td>\n",
       "      <td>14640</td>\n",
       "    </tr>\n",
       "    <tr>\n",
       "      <th>vat</th>\n",
       "      <td>VAT deductible</td>\n",
       "      <td>Price negotiable</td>\n",
       "      <td>VAT deductible</td>\n",
       "    </tr>\n",
       "    <tr>\n",
       "      <th>km</th>\n",
       "      <td>56,013 km</td>\n",
       "      <td>80,000 km</td>\n",
       "      <td>83,450 km</td>\n",
       "    </tr>\n",
       "    <tr>\n",
       "      <th>registration</th>\n",
       "      <td>01/2016</td>\n",
       "      <td>03/2017</td>\n",
       "      <td>02/2016</td>\n",
       "    </tr>\n",
       "    <tr>\n",
       "      <th>prev_owner</th>\n",
       "      <td>2 previous owners</td>\n",
       "      <td>None</td>\n",
       "      <td>1 previous owner</td>\n",
       "    </tr>\n",
       "    <tr>\n",
       "      <th>kw</th>\n",
       "      <td>NaN</td>\n",
       "      <td>NaN</td>\n",
       "      <td>NaN</td>\n",
       "    </tr>\n",
       "    <tr>\n",
       "      <th>hp</th>\n",
       "      <td>66 kW</td>\n",
       "      <td>141 kW</td>\n",
       "      <td>85 kW</td>\n",
       "    </tr>\n",
       "    <tr>\n",
       "      <th>type</th>\n",
       "      <td>[, Used, , Diesel (Particulate Filter)]</td>\n",
       "      <td>[, Used, , Gasoline]</td>\n",
       "      <td>[, Used, , Diesel (Particulate Filter)]</td>\n",
       "    </tr>\n",
       "    <tr>\n",
       "      <th>previous_owners</th>\n",
       "      <td>\\n2\\n</td>\n",
       "      <td>NaN</td>\n",
       "      <td>\\n1\\n</td>\n",
       "    </tr>\n",
       "    <tr>\n",
       "      <th>next_inspection</th>\n",
       "      <td>[\\n06/2021\\n, \\n99 g CO2/km (comb)\\n]</td>\n",
       "      <td>NaN</td>\n",
       "      <td>NaN</td>\n",
       "    </tr>\n",
       "    <tr>\n",
       "      <th>inspection_new</th>\n",
       "      <td>[\\nYes\\n, \\nEuro 6\\n]</td>\n",
       "      <td>NaN</td>\n",
       "      <td>NaN</td>\n",
       "    </tr>\n",
       "    <tr>\n",
       "      <th>warranty</th>\n",
       "      <td>[\\n, \\n, \\n4 (Green)\\n]</td>\n",
       "      <td>NaN</td>\n",
       "      <td>[\\n, \\n, \\n99 g CO2/km (comb)\\n]</td>\n",
       "    </tr>\n",
       "    <tr>\n",
       "      <th>full_service</th>\n",
       "      <td>[\\n, \\n]</td>\n",
       "      <td>NaN</td>\n",
       "      <td>NaN</td>\n",
       "    </tr>\n",
       "    <tr>\n",
       "      <th>non-smoking_vehicle</th>\n",
       "      <td>[\\n, \\n]</td>\n",
       "      <td>NaN</td>\n",
       "      <td>NaN</td>\n",
       "    </tr>\n",
       "    <tr>\n",
       "      <th>null</th>\n",
       "      <td>[]</td>\n",
       "      <td>[]</td>\n",
       "      <td>[]</td>\n",
       "    </tr>\n",
       "    <tr>\n",
       "      <th>make</th>\n",
       "      <td>\\nAudi\\n</td>\n",
       "      <td>\\nAudi\\n</td>\n",
       "      <td>\\nAudi\\n</td>\n",
       "    </tr>\n",
       "    <tr>\n",
       "      <th>model</th>\n",
       "      <td>[\\n, A1, \\n]</td>\n",
       "      <td>[\\n, A1, \\n]</td>\n",
       "      <td>[\\n, A1, \\n]</td>\n",
       "    </tr>\n",
       "    <tr>\n",
       "      <th>offer_number</th>\n",
       "      <td>[\\nLR-062483\\n]</td>\n",
       "      <td>NaN</td>\n",
       "      <td>[\\nAM-95365\\n]</td>\n",
       "    </tr>\n",
       "    <tr>\n",
       "      <th>first_registration</th>\n",
       "      <td>[\\n, 2016, \\n]</td>\n",
       "      <td>[\\n, 2017, \\n]</td>\n",
       "      <td>[\\n, 2016, \\n]</td>\n",
       "    </tr>\n",
       "    <tr>\n",
       "      <th>body_color</th>\n",
       "      <td>[\\n, Black, \\n]</td>\n",
       "      <td>[\\n, Red, \\n]</td>\n",
       "      <td>[\\n, Black, \\n]</td>\n",
       "    </tr>\n",
       "    <tr>\n",
       "      <th>paint_type</th>\n",
       "      <td>[\\nMetallic\\n]</td>\n",
       "      <td>NaN</td>\n",
       "      <td>[\\nMetallic\\n]</td>\n",
       "    </tr>\n",
       "    <tr>\n",
       "      <th>body_color_original</th>\n",
       "      <td>[\\nMythosschwarz\\n]</td>\n",
       "      <td>NaN</td>\n",
       "      <td>[\\nmythosschwarz metallic\\n]</td>\n",
       "    </tr>\n",
       "    <tr>\n",
       "      <th>upholstery</th>\n",
       "      <td>[\\nCloth, Black\\n]</td>\n",
       "      <td>[\\nCloth, Grey\\n]</td>\n",
       "      <td>[\\nCloth, Black\\n]</td>\n",
       "    </tr>\n",
       "    <tr>\n",
       "      <th>body</th>\n",
       "      <td>[\\n, Sedans, \\n]</td>\n",
       "      <td>[\\n, Sedans, \\n]</td>\n",
       "      <td>[\\n, Sedans, \\n]</td>\n",
       "    </tr>\n",
       "    <tr>\n",
       "      <th>nr_of_doors</th>\n",
       "      <td>[\\n5\\n]</td>\n",
       "      <td>[\\n3\\n]</td>\n",
       "      <td>[\\n4\\n]</td>\n",
       "    </tr>\n",
       "    <tr>\n",
       "      <th>nr_of_seats</th>\n",
       "      <td>[\\n5\\n]</td>\n",
       "      <td>[\\n4\\n]</td>\n",
       "      <td>[\\n4\\n]</td>\n",
       "    </tr>\n",
       "    <tr>\n",
       "      <th>model_code</th>\n",
       "      <td>[\\n0588/BDF\\n]</td>\n",
       "      <td>[\\n0588/BCY\\n]</td>\n",
       "      <td>NaN</td>\n",
       "    </tr>\n",
       "    <tr>\n",
       "      <th>gearing_type</th>\n",
       "      <td>[\\n, Automatic, \\n]</td>\n",
       "      <td>[\\n, Automatic, \\n]</td>\n",
       "      <td>[\\n, Automatic, \\n]</td>\n",
       "    </tr>\n",
       "    <tr>\n",
       "      <th>displacement</th>\n",
       "      <td>[\\n1,422 cc\\n]</td>\n",
       "      <td>[\\n1,798 cc\\n]</td>\n",
       "      <td>[\\n1,598 cc\\n]</td>\n",
       "    </tr>\n",
       "    <tr>\n",
       "      <th>cylinders</th>\n",
       "      <td>[\\n3\\n]</td>\n",
       "      <td>[\\n4\\n]</td>\n",
       "      <td>NaN</td>\n",
       "    </tr>\n",
       "    <tr>\n",
       "      <th>weight</th>\n",
       "      <td>[\\n1,220 kg\\n]</td>\n",
       "      <td>[\\n1,255 kg\\n]</td>\n",
       "      <td>NaN</td>\n",
       "    </tr>\n",
       "    <tr>\n",
       "      <th>drive_chain</th>\n",
       "      <td>[\\nfront\\n]</td>\n",
       "      <td>[\\nfront\\n]</td>\n",
       "      <td>[\\nfront\\n]</td>\n",
       "    </tr>\n",
       "    <tr>\n",
       "      <th>fuel</th>\n",
       "      <td>[\\n, Diesel (Particulate Filter), \\n]</td>\n",
       "      <td>[\\n, Gasoline, \\n]</td>\n",
       "      <td>[\\n, Diesel (Particulate Filter), \\n]</td>\n",
       "    </tr>\n",
       "    <tr>\n",
       "      <th>consumption</th>\n",
       "      <td>[[3.8 l/100 km (comb)], [4.3 l/100 km (city)],...</td>\n",
       "      <td>[[5.6 l/100 km (comb)], [7.1 l/100 km (city)],...</td>\n",
       "      <td>[[3.8 l/100 km (comb)], [4.4 l/100 km (city)],...</td>\n",
       "    </tr>\n",
       "    <tr>\n",
       "      <th>co2_emission</th>\n",
       "      <td>[\\n99 g CO2/km (comb)\\n]</td>\n",
       "      <td>[\\n129 g CO2/km (comb)\\n]</td>\n",
       "      <td>[\\n99 g CO2/km (comb)\\n]</td>\n",
       "    </tr>\n",
       "    <tr>\n",
       "      <th>emission_class</th>\n",
       "      <td>[\\nEuro 6\\n]</td>\n",
       "      <td>[\\nEuro 6\\n]</td>\n",
       "      <td>[\\nEuro 6\\n]</td>\n",
       "    </tr>\n",
       "    <tr>\n",
       "      <th>comfort_convenience</th>\n",
       "      <td>[Air conditioning, Armrest, Automatic climate ...</td>\n",
       "      <td>[Air conditioning, Automatic climate control, ...</td>\n",
       "      <td>[Air conditioning, Cruise control, Electrical ...</td>\n",
       "    </tr>\n",
       "    <tr>\n",
       "      <th>entertainment_media</th>\n",
       "      <td>[Bluetooth, Hands-free equipment, On-board com...</td>\n",
       "      <td>[Bluetooth, Hands-free equipment, On-board com...</td>\n",
       "      <td>[MP3, On-board computer]</td>\n",
       "    </tr>\n",
       "    <tr>\n",
       "      <th>extras</th>\n",
       "      <td>[Alloy wheels, Catalytic Converter, Voice Cont...</td>\n",
       "      <td>[Alloy wheels, Sport seats, Sport suspension, ...</td>\n",
       "      <td>[Alloy wheels, Voice Control]</td>\n",
       "    </tr>\n",
       "    <tr>\n",
       "      <th>safety_security</th>\n",
       "      <td>[ABS, Central door lock, Daytime running light...</td>\n",
       "      <td>[ABS, Central door lock, Central door lock wit...</td>\n",
       "      <td>[ABS, Central door lock, Daytime running light...</td>\n",
       "    </tr>\n",
       "    <tr>\n",
       "      <th>description</th>\n",
       "      <td>[\\n, Sicherheit:,  , Deaktivierung für Beifahr...</td>\n",
       "      <td>[\\nLangstreckenfahrzeug daher die hohe Kilomet...</td>\n",
       "      <td>[\\n, Fahrzeug-Nummer: AM-95365,  , Ehem. UPE 2...</td>\n",
       "    </tr>\n",
       "    <tr>\n",
       "      <th>emission_label</th>\n",
       "      <td>NaN</td>\n",
       "      <td>[\\n4 (Green)\\n]</td>\n",
       "      <td>[\\n4 (Green)\\n]</td>\n",
       "    </tr>\n",
       "    <tr>\n",
       "      <th>gears</th>\n",
       "      <td>NaN</td>\n",
       "      <td>[\\n7\\n]</td>\n",
       "      <td>NaN</td>\n",
       "    </tr>\n",
       "    <tr>\n",
       "      <th>country_version</th>\n",
       "      <td>NaN</td>\n",
       "      <td>NaN</td>\n",
       "      <td>NaN</td>\n",
       "    </tr>\n",
       "    <tr>\n",
       "      <th>electricity_consumption</th>\n",
       "      <td>NaN</td>\n",
       "      <td>NaN</td>\n",
       "      <td>NaN</td>\n",
       "    </tr>\n",
       "    <tr>\n",
       "      <th>last_service_date</th>\n",
       "      <td>NaN</td>\n",
       "      <td>NaN</td>\n",
       "      <td>NaN</td>\n",
       "    </tr>\n",
       "    <tr>\n",
       "      <th>other_fuel_types</th>\n",
       "      <td>NaN</td>\n",
       "      <td>NaN</td>\n",
       "      <td>NaN</td>\n",
       "    </tr>\n",
       "    <tr>\n",
       "      <th>availability</th>\n",
       "      <td>NaN</td>\n",
       "      <td>NaN</td>\n",
       "      <td>NaN</td>\n",
       "    </tr>\n",
       "    <tr>\n",
       "      <th>last_timing_belt_service_date</th>\n",
       "      <td>NaN</td>\n",
       "      <td>NaN</td>\n",
       "      <td>NaN</td>\n",
       "    </tr>\n",
       "    <tr>\n",
       "      <th>available_from</th>\n",
       "      <td>NaN</td>\n",
       "      <td>NaN</td>\n",
       "      <td>NaN</td>\n",
       "    </tr>\n",
       "  </tbody>\n",
       "</table>\n",
       "</div>"
      ],
      "text/plain": [
       "                                                                               0  \\\n",
       "url                            https://www.autoscout24.com//offers/audi-a1-sp...   \n",
       "make_model                                                               Audi A1   \n",
       "short_description                    Sportback 1.4 TDI S-tronic Xenon Navi Klima   \n",
       "body_type                                                                 Sedans   \n",
       "price                                                                      15770   \n",
       "vat                                                               VAT deductible   \n",
       "km                                                                     56,013 km   \n",
       "registration                                                             01/2016   \n",
       "prev_owner                                                     2 previous owners   \n",
       "kw                                                                           NaN   \n",
       "hp                                                                         66 kW   \n",
       "type                                     [, Used, , Diesel (Particulate Filter)]   \n",
       "previous_owners                                                            \\n2\\n   \n",
       "next_inspection                            [\\n06/2021\\n, \\n99 g CO2/km (comb)\\n]   \n",
       "inspection_new                                             [\\nYes\\n, \\nEuro 6\\n]   \n",
       "warranty                                                 [\\n, \\n, \\n4 (Green)\\n]   \n",
       "full_service                                                            [\\n, \\n]   \n",
       "non-smoking_vehicle                                                     [\\n, \\n]   \n",
       "null                                                                          []   \n",
       "make                                                                    \\nAudi\\n   \n",
       "model                                                               [\\n, A1, \\n]   \n",
       "offer_number                                                     [\\nLR-062483\\n]   \n",
       "first_registration                                                [\\n, 2016, \\n]   \n",
       "body_color                                                       [\\n, Black, \\n]   \n",
       "paint_type                                                        [\\nMetallic\\n]   \n",
       "body_color_original                                          [\\nMythosschwarz\\n]   \n",
       "upholstery                                                    [\\nCloth, Black\\n]   \n",
       "body                                                            [\\n, Sedans, \\n]   \n",
       "nr_of_doors                                                              [\\n5\\n]   \n",
       "nr_of_seats                                                              [\\n5\\n]   \n",
       "model_code                                                        [\\n0588/BDF\\n]   \n",
       "gearing_type                                                 [\\n, Automatic, \\n]   \n",
       "displacement                                                      [\\n1,422 cc\\n]   \n",
       "cylinders                                                                [\\n3\\n]   \n",
       "weight                                                            [\\n1,220 kg\\n]   \n",
       "drive_chain                                                          [\\nfront\\n]   \n",
       "fuel                                       [\\n, Diesel (Particulate Filter), \\n]   \n",
       "consumption                    [[3.8 l/100 km (comb)], [4.3 l/100 km (city)],...   \n",
       "co2_emission                                            [\\n99 g CO2/km (comb)\\n]   \n",
       "emission_class                                                      [\\nEuro 6\\n]   \n",
       "comfort_convenience            [Air conditioning, Armrest, Automatic climate ...   \n",
       "entertainment_media            [Bluetooth, Hands-free equipment, On-board com...   \n",
       "extras                         [Alloy wheels, Catalytic Converter, Voice Cont...   \n",
       "safety_security                [ABS, Central door lock, Daytime running light...   \n",
       "description                    [\\n, Sicherheit:,  , Deaktivierung für Beifahr...   \n",
       "emission_label                                                               NaN   \n",
       "gears                                                                        NaN   \n",
       "country_version                                                              NaN   \n",
       "electricity_consumption                                                      NaN   \n",
       "last_service_date                                                            NaN   \n",
       "other_fuel_types                                                             NaN   \n",
       "availability                                                                 NaN   \n",
       "last_timing_belt_service_date                                                NaN   \n",
       "available_from                                                               NaN   \n",
       "\n",
       "                                                                               1  \\\n",
       "url                            https://www.autoscout24.com//offers/audi-a1-1-...   \n",
       "make_model                                                               Audi A1   \n",
       "short_description                                                 1.8 TFSI sport   \n",
       "body_type                                                                 Sedans   \n",
       "price                                                                      14500   \n",
       "vat                                                             Price negotiable   \n",
       "km                                                                     80,000 km   \n",
       "registration                                                             03/2017   \n",
       "prev_owner                                                                  None   \n",
       "kw                                                                           NaN   \n",
       "hp                                                                        141 kW   \n",
       "type                                                        [, Used, , Gasoline]   \n",
       "previous_owners                                                              NaN   \n",
       "next_inspection                                                              NaN   \n",
       "inspection_new                                                               NaN   \n",
       "warranty                                                                     NaN   \n",
       "full_service                                                                 NaN   \n",
       "non-smoking_vehicle                                                          NaN   \n",
       "null                                                                          []   \n",
       "make                                                                    \\nAudi\\n   \n",
       "model                                                               [\\n, A1, \\n]   \n",
       "offer_number                                                                 NaN   \n",
       "first_registration                                                [\\n, 2017, \\n]   \n",
       "body_color                                                         [\\n, Red, \\n]   \n",
       "paint_type                                                                   NaN   \n",
       "body_color_original                                                          NaN   \n",
       "upholstery                                                     [\\nCloth, Grey\\n]   \n",
       "body                                                            [\\n, Sedans, \\n]   \n",
       "nr_of_doors                                                              [\\n3\\n]   \n",
       "nr_of_seats                                                              [\\n4\\n]   \n",
       "model_code                                                        [\\n0588/BCY\\n]   \n",
       "gearing_type                                                 [\\n, Automatic, \\n]   \n",
       "displacement                                                      [\\n1,798 cc\\n]   \n",
       "cylinders                                                                [\\n4\\n]   \n",
       "weight                                                            [\\n1,255 kg\\n]   \n",
       "drive_chain                                                          [\\nfront\\n]   \n",
       "fuel                                                          [\\n, Gasoline, \\n]   \n",
       "consumption                    [[5.6 l/100 km (comb)], [7.1 l/100 km (city)],...   \n",
       "co2_emission                                           [\\n129 g CO2/km (comb)\\n]   \n",
       "emission_class                                                      [\\nEuro 6\\n]   \n",
       "comfort_convenience            [Air conditioning, Automatic climate control, ...   \n",
       "entertainment_media            [Bluetooth, Hands-free equipment, On-board com...   \n",
       "extras                         [Alloy wheels, Sport seats, Sport suspension, ...   \n",
       "safety_security                [ABS, Central door lock, Central door lock wit...   \n",
       "description                    [\\nLangstreckenfahrzeug daher die hohe Kilomet...   \n",
       "emission_label                                                   [\\n4 (Green)\\n]   \n",
       "gears                                                                    [\\n7\\n]   \n",
       "country_version                                                              NaN   \n",
       "electricity_consumption                                                      NaN   \n",
       "last_service_date                                                            NaN   \n",
       "other_fuel_types                                                             NaN   \n",
       "availability                                                                 NaN   \n",
       "last_timing_belt_service_date                                                NaN   \n",
       "available_from                                                               NaN   \n",
       "\n",
       "                                                                               2  \n",
       "url                            https://www.autoscout24.com//offers/audi-a1-sp...  \n",
       "make_model                                                               Audi A1  \n",
       "short_description              Sportback 1.6 TDI S tronic Einparkhilfe plus+m...  \n",
       "body_type                                                                 Sedans  \n",
       "price                                                                      14640  \n",
       "vat                                                               VAT deductible  \n",
       "km                                                                     83,450 km  \n",
       "registration                                                             02/2016  \n",
       "prev_owner                                                      1 previous owner  \n",
       "kw                                                                           NaN  \n",
       "hp                                                                         85 kW  \n",
       "type                                     [, Used, , Diesel (Particulate Filter)]  \n",
       "previous_owners                                                            \\n1\\n  \n",
       "next_inspection                                                              NaN  \n",
       "inspection_new                                                               NaN  \n",
       "warranty                                        [\\n, \\n, \\n99 g CO2/km (comb)\\n]  \n",
       "full_service                                                                 NaN  \n",
       "non-smoking_vehicle                                                          NaN  \n",
       "null                                                                          []  \n",
       "make                                                                    \\nAudi\\n  \n",
       "model                                                               [\\n, A1, \\n]  \n",
       "offer_number                                                      [\\nAM-95365\\n]  \n",
       "first_registration                                                [\\n, 2016, \\n]  \n",
       "body_color                                                       [\\n, Black, \\n]  \n",
       "paint_type                                                        [\\nMetallic\\n]  \n",
       "body_color_original                                 [\\nmythosschwarz metallic\\n]  \n",
       "upholstery                                                    [\\nCloth, Black\\n]  \n",
       "body                                                            [\\n, Sedans, \\n]  \n",
       "nr_of_doors                                                              [\\n4\\n]  \n",
       "nr_of_seats                                                              [\\n4\\n]  \n",
       "model_code                                                                   NaN  \n",
       "gearing_type                                                 [\\n, Automatic, \\n]  \n",
       "displacement                                                      [\\n1,598 cc\\n]  \n",
       "cylinders                                                                    NaN  \n",
       "weight                                                                       NaN  \n",
       "drive_chain                                                          [\\nfront\\n]  \n",
       "fuel                                       [\\n, Diesel (Particulate Filter), \\n]  \n",
       "consumption                    [[3.8 l/100 km (comb)], [4.4 l/100 km (city)],...  \n",
       "co2_emission                                            [\\n99 g CO2/km (comb)\\n]  \n",
       "emission_class                                                      [\\nEuro 6\\n]  \n",
       "comfort_convenience            [Air conditioning, Cruise control, Electrical ...  \n",
       "entertainment_media                                     [MP3, On-board computer]  \n",
       "extras                                             [Alloy wheels, Voice Control]  \n",
       "safety_security                [ABS, Central door lock, Daytime running light...  \n",
       "description                    [\\n, Fahrzeug-Nummer: AM-95365,  , Ehem. UPE 2...  \n",
       "emission_label                                                   [\\n4 (Green)\\n]  \n",
       "gears                                                                        NaN  \n",
       "country_version                                                              NaN  \n",
       "electricity_consumption                                                      NaN  \n",
       "last_service_date                                                            NaN  \n",
       "other_fuel_types                                                             NaN  \n",
       "availability                                                                 NaN  \n",
       "last_timing_belt_service_date                                                NaN  \n",
       "available_from                                                               NaN  "
      ]
     },
     "execution_count": 416,
     "metadata": {},
     "output_type": "execute_result"
    }
   ],
   "source": [
    "df.head(3).T"
   ]
  },
  {
   "cell_type": "code",
   "execution_count": 417,
   "id": "e6c9d9bb-fe16-478a-bfd7-58cfba000993",
   "metadata": {},
   "outputs": [
    {
     "name": "stdout",
     "output_type": "stream",
     "text": [
      "<class 'pandas.core.frame.DataFrame'>\n",
      "RangeIndex: 15919 entries, 0 to 15918\n",
      "Data columns (total 54 columns):\n",
      " #   Column                         Non-Null Count  Dtype  \n",
      "---  ------                         --------------  -----  \n",
      " 0   url                            15919 non-null  object \n",
      " 1   make_model                     15919 non-null  object \n",
      " 2   short_description              15873 non-null  object \n",
      " 3   body_type                      15859 non-null  object \n",
      " 4   price                          15919 non-null  int64  \n",
      " 5   vat                            11406 non-null  object \n",
      " 6   km                             15919 non-null  object \n",
      " 7   registration                   15919 non-null  object \n",
      " 8   prev_owner                     9091 non-null   object \n",
      " 9   kw                             0 non-null      float64\n",
      " 10  hp                             15919 non-null  object \n",
      " 11  type                           15917 non-null  object \n",
      " 12  previous_owners                9279 non-null   object \n",
      " 13  next_inspection                3535 non-null   object \n",
      " 14  inspection_new                 3932 non-null   object \n",
      " 15  warranty                       10499 non-null  object \n",
      " 16  full_service                   8215 non-null   object \n",
      " 17  non-smoking_vehicle            7177 non-null   object \n",
      " 18  null                           15919 non-null  object \n",
      " 19  make                           15919 non-null  object \n",
      " 20  model                          15919 non-null  object \n",
      " 21  offer_number                   12744 non-null  object \n",
      " 22  first_registration             14322 non-null  object \n",
      " 23  body_color                     15322 non-null  object \n",
      " 24  paint_type                     10147 non-null  object \n",
      " 25  body_color_original            12160 non-null  object \n",
      " 26  upholstery                     12199 non-null  object \n",
      " 27  body                           15859 non-null  object \n",
      " 28  nr_of_doors                    15707 non-null  object \n",
      " 29  nr_of_seats                    14942 non-null  object \n",
      " 30  model_code                     4978 non-null   object \n",
      " 31  gearing_type                   15919 non-null  object \n",
      " 32  displacement                   15423 non-null  object \n",
      " 33  cylinders                      10239 non-null  object \n",
      " 34  weight                         8945 non-null   object \n",
      " 35  drive_chain                    9061 non-null   object \n",
      " 36  fuel                           15919 non-null  object \n",
      " 37  consumption                    14013 non-null  object \n",
      " 38  co2_emission                   14111 non-null  object \n",
      " 39  emission_class                 12898 non-null  object \n",
      " 40  comfort_convenience            14999 non-null  object \n",
      " 41  entertainment_media            14545 non-null  object \n",
      " 42  extras                         12957 non-null  object \n",
      " 43  safety_security                14937 non-null  object \n",
      " 44  description                    15919 non-null  object \n",
      " 45  emission_label                 3985 non-null   object \n",
      " 46  gears                          11207 non-null  object \n",
      " 47  country_version                7586 non-null   object \n",
      " 48  electricity_consumption        137 non-null    object \n",
      " 49  last_service_date              566 non-null    object \n",
      " 50  other_fuel_types               880 non-null    object \n",
      " 51  availability                   635 non-null    object \n",
      " 52  last_timing_belt_service_date  16 non-null     object \n",
      " 53  available_from                 272 non-null    object \n",
      "dtypes: float64(1), int64(1), object(52)\n",
      "memory usage: 6.6+ MB\n"
     ]
    }
   ],
   "source": [
    "df.info()"
   ]
  },
  {
   "cell_type": "markdown",
   "id": "376b70f6-3912-4559-a806-4901230e6eb4",
   "metadata": {
    "jp-MarkdownHeadingCollapsed": true
   },
   "source": [
    "---\n",
    "\n",
    "## Droping columns that have missing values more than 90%."
   ]
  },
  {
   "cell_type": "code",
   "execution_count": 418,
   "id": "fd99e597-3d0e-4e67-b9bc-f670cc816df2",
   "metadata": {},
   "outputs": [],
   "source": [
    "def df_nans(df, limit):\n",
    "    missing = df.isnull().sum()*100 / df.shape[0]\n",
    "    return missing.loc[lambda x : x >= limit]\n",
    "\n",
    "def column_nans(serial):\n",
    "    # display percentage of nans in a Series\n",
    "    return serial.isnull().sum()*100 / serial.shape[0]"
   ]
  },
  {
   "cell_type": "code",
   "execution_count": 419,
   "id": "7e074c0f-c954-4016-8af1-f1f399537962",
   "metadata": {},
   "outputs": [
    {
     "data": {
      "text/plain": [
       "kw                               100.000000\n",
       "electricity_consumption           99.139393\n",
       "last_service_date                 96.444500\n",
       "other_fuel_types                  94.472015\n",
       "availability                      96.011056\n",
       "last_timing_belt_service_date     99.899491\n",
       "available_from                    98.291350\n",
       "dtype: float64"
      ]
     },
     "execution_count": 419,
     "metadata": {},
     "output_type": "execute_result"
    }
   ],
   "source": [
    "df_nans(df, 90)"
   ]
  },
  {
   "cell_type": "code",
   "execution_count": 420,
   "id": "df0de71f-333d-4c73-a091-6c32028c6445",
   "metadata": {},
   "outputs": [
    {
     "data": {
      "text/plain": [
       "Index(['kw', 'electricity_consumption', 'last_service_date',\n",
       "       'other_fuel_types', 'availability', 'last_timing_belt_service_date',\n",
       "       'available_from'],\n",
       "      dtype='object')"
      ]
     },
     "execution_count": 420,
     "metadata": {},
     "output_type": "execute_result"
    }
   ],
   "source": [
    "drop_columns = df_nans(df, 90).index\n",
    "drop_columns"
   ]
  },
  {
   "cell_type": "code",
   "execution_count": 421,
   "id": "2ddc9097-0f01-4424-b31c-a48c74e4932d",
   "metadata": {},
   "outputs": [],
   "source": [
    "df.drop(drop_columns, axis=1, inplace=True)"
   ]
  },
  {
   "cell_type": "code",
   "execution_count": 422,
   "id": "d4436867-b996-4c27-9f1f-2116337fec8f",
   "metadata": {},
   "outputs": [
    {
     "data": {
      "text/plain": [
       "Index(['url', 'make_model', 'short_description', 'body_type', 'price', 'vat',\n",
       "       'km', 'registration', 'prev_owner', 'hp', 'type', 'previous_owners',\n",
       "       'next_inspection', 'inspection_new', 'warranty', 'full_service',\n",
       "       'non-smoking_vehicle', 'null', 'make', 'model', 'offer_number',\n",
       "       'first_registration', 'body_color', 'paint_type', 'body_color_original',\n",
       "       'upholstery', 'body', 'nr_of_doors', 'nr_of_seats', 'model_code',\n",
       "       'gearing_type', 'displacement', 'cylinders', 'weight', 'drive_chain',\n",
       "       'fuel', 'consumption', 'co2_emission', 'emission_class',\n",
       "       'comfort_convenience', 'entertainment_media', 'extras',\n",
       "       'safety_security', 'description', 'emission_label', 'gears',\n",
       "       'country_version'],\n",
       "      dtype='object')"
      ]
     },
     "execution_count": 422,
     "metadata": {},
     "output_type": "execute_result"
    }
   ],
   "source": [
    "df.columns"
   ]
  },
  {
   "cell_type": "markdown",
   "id": "5b4a28fb-f22e-4ac9-96ef-f5d467b6b1c7",
   "metadata": {},
   "source": [
    "---\n",
    "\n",
    "## Helper Functions"
   ]
  },
  {
   "cell_type": "code",
   "execution_count": 423,
   "id": "9c501b0c-a41f-4d5a-962a-9aa45a6930da",
   "metadata": {},
   "outputs": [],
   "source": [
    "def safe_strip(x):\n",
    "    if isinstance(x, list) and len(x) > 1:\n",
    "        return x[1].strip()\n",
    "    return x  # Return the original if it's not a list or too short\n",
    "\n",
    "df['body'] = df['body'].apply(safe_strip)"
   ]
  },
  {
   "cell_type": "code",
   "execution_count": 424,
   "id": "cba7c39a-81e2-4c3a-9f1c-a0aca1414498",
   "metadata": {},
   "outputs": [],
   "source": [
    "def combine_columns(p1,p2):\n",
    "    if p1 == p2:\n",
    "        return p1\n",
    "    elif np.isnan(p1) :\n",
    "        if np.isnan(p2):\n",
    "            return np.nan\n",
    "        else:\n",
    "            return p2\n",
    "    elif np.isnan(p2):\n",
    "        if np.isnan(p1):\n",
    "            return np.nan\n",
    "        else:\n",
    "            return p1\n",
    "    else:\n",
    "        return 'conflict'\n",
    "\n",
    "#df.apply(lambda x: combine_columns(x[''],x['']), axis=1)"
   ]
  },
  {
   "cell_type": "markdown",
   "id": "ef39f82c-e84c-4b85-a880-8345d73905cb",
   "metadata": {},
   "source": [
    "---\n",
    "\n",
    "## General Columns\n",
    "- [x] url: url of autos\n",
    "- [x] short_description, description: Description of autos (in English and German) written by users"
   ]
  },
  {
   "cell_type": "markdown",
   "id": "a6832cbc-c881-4be0-a931-a9c41b4e8a36",
   "metadata": {},
   "source": [
    "### url"
   ]
  },
  {
   "cell_type": "markdown",
   "id": "70f1c48c-b35d-48b1-8735-917635b54fcd",
   "metadata": {
    "jp-MarkdownHeadingCollapsed": true
   },
   "source": [
    "#### dropped becuase data not needed"
   ]
  },
  {
   "cell_type": "code",
   "execution_count": 425,
   "id": "c90af760-4bf0-48f3-8087-211fc3e41db9",
   "metadata": {},
   "outputs": [],
   "source": [
    "df = df.drop(['url'], axis=1)"
   ]
  },
  {
   "cell_type": "markdown",
   "id": "e6686425-8b44-408c-b08c-7f9bd0788fb8",
   "metadata": {
    "jp-MarkdownHeadingCollapsed": true
   },
   "source": [
    "### short_description"
   ]
  },
  {
   "cell_type": "code",
   "execution_count": 426,
   "id": "3d480fd6-df00-43ec-92f6-39ec3d35f224",
   "metadata": {},
   "outputs": [],
   "source": [
    "df = df.drop(['short_description'], axis=1)"
   ]
  },
  {
   "cell_type": "markdown",
   "id": "c0fd4b0b-bb0c-4bd1-9f82-08f4623a93d2",
   "metadata": {},
   "source": [
    "#### dropped because data elsewhere in dataframe"
   ]
  },
  {
   "cell_type": "markdown",
   "id": "aba9340a-e95e-49e6-91e7-f41ddc4a9269",
   "metadata": {
    "jp-MarkdownHeadingCollapsed": true
   },
   "source": [
    "### description column"
   ]
  },
  {
   "cell_type": "markdown",
   "id": "c8842c70-5da3-40b5-8b27-f8fd4e2d918e",
   "metadata": {},
   "source": [
    "#### Dropped because it includes German description of car written by users"
   ]
  },
  {
   "cell_type": "code",
   "execution_count": 427,
   "id": "eee0270a-779f-49c7-b598-8e1cd5c83777",
   "metadata": {},
   "outputs": [
    {
     "data": {
      "text/plain": [
       "0        [\\n, Sicherheit:,  , Deaktivierung für Beifahr...\n",
       "1        [\\nLangstreckenfahrzeug daher die hohe Kilomet...\n",
       "2        [\\n, Fahrzeug-Nummer: AM-95365,  , Ehem. UPE 2...\n",
       "3        [\\nAudi A1: , - 1e eigenaar , - Perfecte staat...\n",
       "4        [\\n, Technik & Sicherheit:, Xenon plus, Klimaa...\n",
       "                               ...                        \n",
       "15914    [\\nVettura visionabile nella sede in Via Roma ...\n",
       "15915    [\\nDach: Panorama-Glas-Schiebedach, Lackierung...\n",
       "15916    [\\n, Getriebe:,  Automatik, Technik:,  Bordcom...\n",
       "15917    [\\nDEK:[2691331], Renault Espace Blue dCi 200C...\n",
       "15918    [\\n, Sicherheit Airbags:,  , Seitenairbag,  , ...\n",
       "Name: description, Length: 15919, dtype: object"
      ]
     },
     "execution_count": 427,
     "metadata": {},
     "output_type": "execute_result"
    }
   ],
   "source": [
    "df['description']"
   ]
  },
  {
   "cell_type": "code",
   "execution_count": 428,
   "id": "75140865-7941-4304-9426-9728ba08499a",
   "metadata": {},
   "outputs": [],
   "source": [
    "df.drop('description',axis=1,inplace=True)"
   ]
  },
  {
   "cell_type": "markdown",
   "id": "95ac01a4-c289-40d9-bb5d-fe34259df6b1",
   "metadata": {},
   "source": [
    "## Categorical Columns\n",
    "- [x] make_model, make, model: Model of autos. Ex:Audi A1 \n",
    "- [x] body_type: Body type of autos Example: van, sedans\n",
    "- [x] body: Body type of autos Example: van, sedans\n",
    "- [x] vat: VAT deductible\n",
    "- [x] registration: First registration date and year of autos. \n",
    "- [x] first_registration: First registration date and year of autos. \n",
    "- [x] prev_owner: Number of previous owners\n",
    "- [x] previous_owners: Number of previous owners\n",
    "- [x] type: new or used \n",
    "- [x] next_inspection: information about inspection (inspection date,..) \n",
    "- [x] inspection_new: information about inspection (inspection date,..) \n",
    "- [x] body_color: Color of auto Ex: Black, red\n",
    "- [x] body_color_original: Color of auto Ex: Black, red\n",
    "- [x] paint_type: Paint type of auto Ex: Metallic, Uni/basic \n",
    "- [] upholstery: Upholstery information (texture, color) \n",
    "- [x] gearing_type: Type of gear Ex: automatic, manual \n",
    "- [] fuel Ex: diesel, benzine \n",
    "- [x] co2_emission\n",
    "- [] emission_class\n",
    "- [x] emission_label\n",
    "- [x] drive_chain: drive chain Ex: front,rear, 4WD \n",
    "- [x] consumption: consumption of auto in city, country and combination (lt/100 km) \n",
    "- [x] country_version \n",
    "- [x] entertainment_media \n",
    "- [x] safety_security\n",
    "- [x] comfort_convenience \n",
    "- [x] extras "
   ]
  },
  {
   "cell_type": "markdown",
   "id": "7eaf586a-c221-4542-9c83-ac39714de704",
   "metadata": {},
   "source": [
    "### make_model, make and model (drop make and model)"
   ]
  },
  {
   "cell_type": "markdown",
   "id": "87b6fdd3-1fcc-4436-b845-d7e04eeb4292",
   "metadata": {
    "jp-MarkdownHeadingCollapsed": true
   },
   "source": [
    "#### Drop make and model because they are redundent with make_model"
   ]
  },
  {
   "cell_type": "code",
   "execution_count": 429,
   "id": "039c7d08-3c47-4cd0-8c23-f00d789ddab8",
   "metadata": {},
   "outputs": [],
   "source": [
    "df = df.drop(['make', 'model'], axis=1)"
   ]
  },
  {
   "cell_type": "code",
   "execution_count": 430,
   "id": "619348f1-157c-4f85-8d56-c7da92b4f2fd",
   "metadata": {},
   "outputs": [
    {
     "data": {
      "text/plain": [
       "make_model\n",
       "Audi A3           3097\n",
       "Audi A1           2614\n",
       "Opel Insignia     2598\n",
       "Opel Astra        2526\n",
       "Opel Corsa        2219\n",
       "Renault Clio      1839\n",
       "Renault Espace     991\n",
       "Renault Duster      34\n",
       "Audi A2              1\n",
       "Name: count, dtype: int64"
      ]
     },
     "execution_count": 430,
     "metadata": {},
     "output_type": "execute_result"
    }
   ],
   "source": [
    "df['make_model'].value_counts(dropna=False)"
   ]
  },
  {
   "cell_type": "markdown",
   "id": "d23154c5-dd8b-4d33-b358-c717f6beb71c",
   "metadata": {
    "jp-MarkdownHeadingCollapsed": true
   },
   "source": [
    "### body_type and body (drop body)"
   ]
  },
  {
   "cell_type": "code",
   "execution_count": 431,
   "id": "3b594c81-4013-4535-aa84-2a2c01ff1ace",
   "metadata": {},
   "outputs": [
    {
     "data": {
      "text/plain": [
       "body_type\n",
       "Sedans           7903\n",
       "Station wagon    3553\n",
       "Compact          3153\n",
       "Van               783\n",
       "Other             290\n",
       "Transporter        88\n",
       "None               60\n",
       "Off-Road           56\n",
       "Coupe              25\n",
       "Convertible         8\n",
       "Name: count, dtype: int64"
      ]
     },
     "execution_count": 431,
     "metadata": {},
     "output_type": "execute_result"
    }
   ],
   "source": [
    "df['body_type'].value_counts(dropna=False)"
   ]
  },
  {
   "cell_type": "code",
   "execution_count": 432,
   "id": "e339216b-0925-4b48-a5aa-43604b7f4072",
   "metadata": {},
   "outputs": [
    {
     "data": {
      "text/plain": [
       "body\n",
       "Sedans           7903\n",
       "Station wagon    3553\n",
       "Compact          3153\n",
       "Van               783\n",
       "Other             290\n",
       "Transporter        88\n",
       "NaN                60\n",
       "Off-Road           56\n",
       "Coupe              25\n",
       "Convertible         8\n",
       "Name: count, dtype: int64"
      ]
     },
     "execution_count": 432,
     "metadata": {},
     "output_type": "execute_result"
    }
   ],
   "source": [
    "df['body'].value_counts(dropna=False)"
   ]
  },
  {
   "cell_type": "markdown",
   "id": "baa5e9ec-d165-46d5-9752-2154a234aad9",
   "metadata": {},
   "source": [
    "#### body_type and body are the same, can drop body"
   ]
  },
  {
   "cell_type": "code",
   "execution_count": 433,
   "id": "6c3ec10e-6529-4b8f-ba67-522ef0259f77",
   "metadata": {},
   "outputs": [],
   "source": [
    "df.drop('body', axis=1, inplace=True)"
   ]
  },
  {
   "cell_type": "markdown",
   "id": "5d47d324-8735-4b51-a87f-6876d6bf8f43",
   "metadata": {
    "jp-MarkdownHeadingCollapsed": true
   },
   "source": [
    "### vat"
   ]
  },
  {
   "cell_type": "code",
   "execution_count": 434,
   "id": "a14c61cb-6d8d-4aec-b6de-d351c97218ab",
   "metadata": {},
   "outputs": [
    {
     "data": {
      "text/plain": [
       "vat\n",
       "VAT deductible      10980\n",
       "None                 4513\n",
       "Price negotiable      426\n",
       "Name: count, dtype: int64"
      ]
     },
     "execution_count": 434,
     "metadata": {},
     "output_type": "execute_result"
    }
   ],
   "source": [
    "df['vat'].value_counts(dropna=False)"
   ]
  },
  {
   "cell_type": "markdown",
   "id": "df7c624c-2732-4f05-8768-5d41950a873f",
   "metadata": {
    "jp-MarkdownHeadingCollapsed": true
   },
   "source": [
    "### registration and registration_year (merge and drop registration)"
   ]
  },
  {
   "cell_type": "code",
   "execution_count": 435,
   "id": "786b358b-6a70-490a-bbfa-b79df02e3118",
   "metadata": {},
   "outputs": [],
   "source": [
    "df['registration'] = df['registration'].replace('-/-', np.nan)\n",
    "df['registration'] = pd.DatetimeIndex(df['registration'])\n",
    "df['registration_year'] = pd.DatetimeIndex(df['registration']).year"
   ]
  },
  {
   "cell_type": "code",
   "execution_count": 436,
   "id": "7c4ac3f7-773c-4183-a5e3-ac048a29cb71",
   "metadata": {},
   "outputs": [
    {
     "data": {
      "text/plain": [
       "registration_year\n",
       "2018.0    4522\n",
       "2016.0    3674\n",
       "2017.0    3273\n",
       "2019.0    2853\n",
       "NaN       1597\n",
       "Name: count, dtype: int64"
      ]
     },
     "execution_count": 436,
     "metadata": {},
     "output_type": "execute_result"
    }
   ],
   "source": [
    "df['registration_year'].value_counts(dropna=False)"
   ]
  },
  {
   "cell_type": "markdown",
   "id": "24d2bfab-bc79-4091-b50c-0225928693bf",
   "metadata": {},
   "source": [
    "#### drop registration b/c no longer needed"
   ]
  },
  {
   "cell_type": "code",
   "execution_count": 437,
   "id": "0e8436ec-efbc-4211-a2db-00d176607d7c",
   "metadata": {},
   "outputs": [],
   "source": [
    "df.drop('registration', axis=1, inplace=True)"
   ]
  },
  {
   "cell_type": "markdown",
   "id": "18aa3302-5ce3-4d9a-9d6a-e341a305da92",
   "metadata": {
    "jp-MarkdownHeadingCollapsed": true
   },
   "source": [
    "### prev_owner and previous_owners (drop prev_owner)"
   ]
  },
  {
   "cell_type": "code",
   "execution_count": 438,
   "id": "4424776e-968b-4017-a8a0-8a7f4b72e66a",
   "metadata": {},
   "outputs": [],
   "source": [
    "df['prev_owner'] = df['prev_owner'].str.findall('\\d+').str[0].astype(\"float\")"
   ]
  },
  {
   "cell_type": "code",
   "execution_count": 439,
   "id": "0affea85-9543-40e7-a46e-6b2fd2995c2b",
   "metadata": {},
   "outputs": [
    {
     "data": {
      "text/plain": [
       "prev_owner\n",
       "1.0    8294\n",
       "NaN    6828\n",
       "2.0     778\n",
       "3.0      17\n",
       "4.0       2\n",
       "Name: count, dtype: int64"
      ]
     },
     "execution_count": 439,
     "metadata": {},
     "output_type": "execute_result"
    }
   ],
   "source": [
    "df['prev_owner'].value_counts(dropna=False)"
   ]
  },
  {
   "cell_type": "code",
   "execution_count": 440,
   "id": "b9880308-63d4-42ea-a1f1-ef0003fefc86",
   "metadata": {},
   "outputs": [],
   "source": [
    "df['previous_owners'] = df['previous_owners'].str.findall('\\d+').str[0].astype(\"float\")"
   ]
  },
  {
   "cell_type": "code",
   "execution_count": 441,
   "id": "d3c729fc-6cd4-4ed2-ab5c-a2648d02ac10",
   "metadata": {},
   "outputs": [
    {
     "data": {
      "text/plain": [
       "previous_owners\n",
       "1.0    8101\n",
       "NaN    6870\n",
       "2.0     766\n",
       "0.0     163\n",
       "3.0      17\n",
       "4.0       2\n",
       "Name: count, dtype: int64"
      ]
     },
     "execution_count": 441,
     "metadata": {},
     "output_type": "execute_result"
    }
   ],
   "source": [
    "df['previous_owners'].value_counts(dropna=False)"
   ]
  },
  {
   "cell_type": "code",
   "execution_count": 442,
   "id": "5a7b9150-c3d9-4a65-b969-34dee7720609",
   "metadata": {},
   "outputs": [],
   "source": [
    "df['previous_owners'] = df.apply(lambda x: combine_columns(x['prev_owner'],x['previous_owners']), axis=1)"
   ]
  },
  {
   "cell_type": "code",
   "execution_count": 443,
   "id": "a7876e69-70bf-40e9-be5e-722c4a2daf96",
   "metadata": {},
   "outputs": [],
   "source": [
    "df = df.drop(['prev_owner'], axis=1)"
   ]
  },
  {
   "cell_type": "markdown",
   "id": "7ea79c62-ae1d-4489-bd58-3f2d3b5c01b3",
   "metadata": {},
   "source": [
    "#### drop prev_owner because redundent with previous_owners"
   ]
  },
  {
   "cell_type": "code",
   "execution_count": 444,
   "id": "5e07b55e-67dc-46eb-9c41-2f8acb4a7467",
   "metadata": {},
   "outputs": [
    {
     "data": {
      "text/plain": [
       "previous_owners\n",
       "1.0    8294\n",
       "NaN    6665\n",
       "2.0     778\n",
       "0.0     163\n",
       "3.0      17\n",
       "4.0       2\n",
       "Name: count, dtype: int64"
      ]
     },
     "execution_count": 444,
     "metadata": {},
     "output_type": "execute_result"
    }
   ],
   "source": [
    "df['previous_owners'].value_counts(dropna=False)"
   ]
  },
  {
   "cell_type": "markdown",
   "id": "5952fe9c-8d69-4f38-9f96-d4fd90195849",
   "metadata": {
    "jp-MarkdownHeadingCollapsed": true
   },
   "source": [
    "### type"
   ]
  },
  {
   "cell_type": "code",
   "execution_count": 445,
   "id": "f38c923e-f049-4388-be53-430a837cd133",
   "metadata": {},
   "outputs": [],
   "source": [
    "df['type'] = df['type'].str[1]"
   ]
  },
  {
   "cell_type": "code",
   "execution_count": 446,
   "id": "704fb3a3-f549-4c62-9340-75b954123910",
   "metadata": {},
   "outputs": [
    {
     "data": {
      "text/plain": [
       "type\n",
       "Used              11096\n",
       "New                1650\n",
       "Pre-registered     1364\n",
       "Employee's car     1011\n",
       "Demonstration       796\n",
       "NaN                   2\n",
       "Name: count, dtype: int64"
      ]
     },
     "execution_count": 446,
     "metadata": {},
     "output_type": "execute_result"
    }
   ],
   "source": [
    "df['type'].value_counts(dropna=False)"
   ]
  },
  {
   "cell_type": "markdown",
   "id": "5739a625-181e-4555-a998-21036c0c050b",
   "metadata": {
    "jp-MarkdownHeadingCollapsed": true
   },
   "source": [
    "### next_inspection"
   ]
  },
  {
   "cell_type": "code",
   "execution_count": 447,
   "id": "0c88201e-70f6-4496-85c7-734ea046fd0d",
   "metadata": {},
   "outputs": [],
   "source": [
    "df['next_inspection'] = df['next_inspection'].str[0].str.strip().astype(\"string\")\n",
    "df['next_inspection'] = pd.DatetimeIndex(df['next_inspection'])\n",
    "df['next_inspection'] = pd.DatetimeIndex(df['next_inspection']).year"
   ]
  },
  {
   "cell_type": "code",
   "execution_count": 448,
   "id": "c6008d99-1133-4b34-9fb0-65bd9f9faa87",
   "metadata": {},
   "outputs": [
    {
     "data": {
      "text/plain": [
       "next_inspection\n",
       "NaN       13094\n",
       "2021.0     1401\n",
       "2020.0      557\n",
       "2022.0      483\n",
       "2019.0      336\n",
       "2018.0       26\n",
       "2017.0        7\n",
       "2023.0        5\n",
       "2001.0        5\n",
       "2016.0        3\n",
       "2014.0        1\n",
       "1921.0        1\n",
       "Name: count, dtype: int64"
      ]
     },
     "execution_count": 448,
     "metadata": {},
     "output_type": "execute_result"
    }
   ],
   "source": [
    "df['next_inspection'].value_counts(dropna=False)"
   ]
  },
  {
   "cell_type": "markdown",
   "id": "99392fb1-da7f-4e32-8e3f-926fcdb54e3a",
   "metadata": {
    "jp-MarkdownHeadingCollapsed": true
   },
   "source": [
    "### inspection_new"
   ]
  },
  {
   "cell_type": "code",
   "execution_count": 449,
   "id": "760d5ba2-70bb-463c-b0e5-3ccba3f84e21",
   "metadata": {},
   "outputs": [
    {
     "data": {
      "text/plain": [
       "0                     [\\nYes\\n, \\nEuro 6\\n]\n",
       "1                                       NaN\n",
       "2                                       NaN\n",
       "3                                       NaN\n",
       "4        [\\nYes\\n, \\n109 g CO2/km (comb)\\n]\n",
       "                        ...                \n",
       "15914                                   NaN\n",
       "15915                                   NaN\n",
       "15916           [\\nYes\\n, \\nEuro 6d-TEMP\\n]\n",
       "15917                                   NaN\n",
       "15918    [\\nYes\\n, \\n153 g CO2/km (comb)\\n]\n",
       "Name: inspection_new, Length: 15919, dtype: object"
      ]
     },
     "execution_count": 449,
     "metadata": {},
     "output_type": "execute_result"
    }
   ],
   "source": [
    "df['inspection_new']"
   ]
  },
  {
   "cell_type": "code",
   "execution_count": 450,
   "id": "6f1fcef4-64e3-48b1-a15a-ddf7a1c4cdcd",
   "metadata": {},
   "outputs": [],
   "source": [
    "df['inspection_new'] = df['inspection_new'].str[0].str.strip()"
   ]
  },
  {
   "cell_type": "code",
   "execution_count": 451,
   "id": "83d4e6bc-1235-4a25-893c-8fa398bbe29f",
   "metadata": {},
   "outputs": [
    {
     "data": {
      "text/plain": [
       "inspection_new\n",
       "NaN    11987\n",
       "Yes     3570\n",
       "         362\n",
       "Name: count, dtype: int64"
      ]
     },
     "execution_count": 451,
     "metadata": {},
     "output_type": "execute_result"
    }
   ],
   "source": [
    "df['inspection_new'].value_counts(dropna=False)"
   ]
  },
  {
   "cell_type": "markdown",
   "id": "931226b5-5dd7-40dc-b945-7d1138ee3d2d",
   "metadata": {
    "jp-MarkdownHeadingCollapsed": true
   },
   "source": [
    "### body_color"
   ]
  },
  {
   "cell_type": "code",
   "execution_count": 452,
   "id": "f9e22aa0-757d-4b0d-9e6d-0499be06a777",
   "metadata": {},
   "outputs": [],
   "source": [
    "df['body_color'] = df['body_color'].str[1]"
   ]
  },
  {
   "cell_type": "code",
   "execution_count": 453,
   "id": "113b9a8d-8a71-428d-a5d4-a575ff487b88",
   "metadata": {},
   "outputs": [
    {
     "data": {
      "text/plain": [
       "body_color\n",
       "Black     3745\n",
       "Grey      3505\n",
       "White     3406\n",
       "Silver    1647\n",
       "Blue      1431\n",
       "Red        957\n",
       "NaN        597\n",
       "Brown      289\n",
       "Green      154\n",
       "Beige      108\n",
       "Yellow      51\n",
       "Violet      18\n",
       "Bronze       6\n",
       "Orange       3\n",
       "Gold         2\n",
       "Name: count, dtype: int64"
      ]
     },
     "execution_count": 453,
     "metadata": {},
     "output_type": "execute_result"
    }
   ],
   "source": [
    "df['body_color'].value_counts(dropna=False)"
   ]
  },
  {
   "cell_type": "markdown",
   "id": "a4829d57-9890-4e27-98bd-d2d7bf1d3c40",
   "metadata": {
    "jp-MarkdownHeadingCollapsed": true
   },
   "source": [
    "### body_color_original (dropped)"
   ]
  },
  {
   "cell_type": "code",
   "execution_count": 454,
   "id": "5fd49b48-b1ea-45a1-8427-604f24882368",
   "metadata": {},
   "outputs": [],
   "source": [
    "df['body_color_original'] = df['body_color_original'].str[0].str[1:-1]"
   ]
  },
  {
   "cell_type": "code",
   "execution_count": 455,
   "id": "1415d1bd-dddd-4037-b131-91831bfcbde1",
   "metadata": {},
   "outputs": [
    {
     "data": {
      "text/plain": [
       "body_color_original\n",
       "NaN                              3759\n",
       "Onyx Schwarz                      338\n",
       "Bianco                            282\n",
       "Mythosschwarz Metallic            238\n",
       "Brillantschwarz                   216\n",
       "                                 ... \n",
       "Rouge-Braun (G0Y)                   1\n",
       "VARI COLRI DISPONIBILI              1\n",
       "Kokosnussbraun Metallic             1\n",
       "Farbe frei wählbar                  1\n",
       "Perlmutt-Weiß Metallic (Weiß)       1\n",
       "Name: count, Length: 1928, dtype: int64"
      ]
     },
     "execution_count": 455,
     "metadata": {},
     "output_type": "execute_result"
    }
   ],
   "source": [
    "df['body_color_original'].value_counts(dropna=False)"
   ]
  },
  {
   "cell_type": "code",
   "execution_count": 456,
   "id": "dbe92185-e73f-4065-9ff4-055ad255403f",
   "metadata": {},
   "outputs": [
    {
     "data": {
      "text/plain": [
       "3759"
      ]
     },
     "execution_count": 456,
     "metadata": {},
     "output_type": "execute_result"
    }
   ],
   "source": [
    "df['body_color_original'].isnull().sum()"
   ]
  },
  {
   "cell_type": "code",
   "execution_count": 457,
   "id": "814fce75-8543-4278-b67c-d7a3456d9885",
   "metadata": {},
   "outputs": [],
   "source": [
    "#import statsmodels.api as sm\n",
    "#from statsmodels.formula.api import ols\n",
    "#model = ols('price ~ C(body_color_original)', data=df).fit()\n",
    "#anova_table = sm.stats.anova_lm(model, typ=2)\n",
    "#anova_table"
   ]
  },
  {
   "cell_type": "markdown",
   "id": "415d8cb3-577a-4dff-927f-032651e63596",
   "metadata": {},
   "source": [
    "#### This column also can be dropped"
   ]
  },
  {
   "cell_type": "code",
   "execution_count": 458,
   "id": "5c637741-8c0d-4709-824c-50d1664b9a69",
   "metadata": {},
   "outputs": [],
   "source": [
    "df.drop('body_color_original',axis=1,inplace=True)"
   ]
  },
  {
   "cell_type": "markdown",
   "id": "5708a00d-5024-4795-a7c5-4a30812142b6",
   "metadata": {
    "jp-MarkdownHeadingCollapsed": true
   },
   "source": [
    "### paint_type"
   ]
  },
  {
   "cell_type": "code",
   "execution_count": 459,
   "id": "09e4a852-b982-41d2-8028-0d546f4658d0",
   "metadata": {},
   "outputs": [],
   "source": [
    "df['paint_type'] = df['paint_type'].str[0].str.strip()"
   ]
  },
  {
   "cell_type": "code",
   "execution_count": 460,
   "id": "43c0beca-641c-4426-9ada-acb173e37cdb",
   "metadata": {},
   "outputs": [
    {
     "data": {
      "text/plain": [
       "0        Metallic\n",
       "1             NaN\n",
       "2        Metallic\n",
       "3        Metallic\n",
       "4        Metallic\n",
       "           ...   \n",
       "15914    Metallic\n",
       "15915    Metallic\n",
       "15916         NaN\n",
       "15917         NaN\n",
       "15918    Metallic\n",
       "Name: paint_type, Length: 15919, dtype: object"
      ]
     },
     "execution_count": 460,
     "metadata": {},
     "output_type": "execute_result"
    }
   ],
   "source": [
    "df['paint_type']"
   ]
  },
  {
   "cell_type": "markdown",
   "id": "98e2f73a-ab93-446f-9553-b4a6ebe96540",
   "metadata": {
    "jp-MarkdownHeadingCollapsed": true
   },
   "source": [
    "### upholstery (dropped and upholstery_color and upholstery_material columns created)"
   ]
  },
  {
   "cell_type": "code",
   "execution_count": 461,
   "id": "7d7f53ba-02d9-4dd9-9e3b-c793942433f1",
   "metadata": {},
   "outputs": [],
   "source": [
    "df['upholstery_material'] = df['upholstery'].str[0].str.replace('\\n','').str.split(', ').str[0]"
   ]
  },
  {
   "cell_type": "code",
   "execution_count": 462,
   "id": "480cd87c-6c2c-40b7-8328-a8e588d5014e",
   "metadata": {},
   "outputs": [],
   "source": [
    "list_color = ['Black','Grey','Brown','Beige', 'Blue', 'White']\n",
    "for i in list_color:\n",
    "    df['upholstery_material'] = df['upholstery_material'].replace(i,np.nan)"
   ]
  },
  {
   "cell_type": "code",
   "execution_count": 463,
   "id": "516b1dca-6d85-44d2-b845-6037605d46ba",
   "metadata": {},
   "outputs": [
    {
     "data": {
      "text/plain": [
       "upholstery_material\n",
       "Cloth           8423\n",
       "NaN             4503\n",
       "Part leather    1499\n",
       "Full leather    1009\n",
       "Other            368\n",
       "Velour            60\n",
       "alcantara         57\n",
       "Name: count, dtype: int64"
      ]
     },
     "execution_count": 463,
     "metadata": {},
     "output_type": "execute_result"
    }
   ],
   "source": [
    "df['upholstery_material'].value_counts(dropna=False)"
   ]
  },
  {
   "cell_type": "code",
   "execution_count": 464,
   "id": "5a6a4437-cd31-464e-b4db-5e9159245e3e",
   "metadata": {},
   "outputs": [
    {
     "data": {
      "text/plain": [
       "upholstery_material\n",
       "Cloth           8423\n",
       "NaN             4503\n",
       "Part leather    1499\n",
       "Full leather    1009\n",
       "Other            368\n",
       "Velour            60\n",
       "alcantara         57\n",
       "Name: count, dtype: int64"
      ]
     },
     "execution_count": 464,
     "metadata": {},
     "output_type": "execute_result"
    }
   ],
   "source": [
    "df['upholstery_material'].value_counts(dropna=False)"
   ]
  },
  {
   "cell_type": "code",
   "execution_count": 465,
   "id": "9a55e3de-a413-46d9-a675-51e234395745",
   "metadata": {},
   "outputs": [],
   "source": [
    "df['upholstery_color'] = df['upholstery'].str[0].str.replace('\\n','').str.replace(', ','')"
   ]
  },
  {
   "cell_type": "code",
   "execution_count": 466,
   "id": "856ea333-68f7-4d38-92e2-42ba00186bc5",
   "metadata": {},
   "outputs": [],
   "source": [
    "list_uph_mat = ['Cloth', 'Part leather', 'Full leather', 'Other', 'Velour', 'alcantara']\n",
    "for i in list_uph_mat:\n",
    "    df['upholstery_color'] = df['upholstery_color'].str.replace(i,'')"
   ]
  },
  {
   "cell_type": "code",
   "execution_count": 467,
   "id": "0590ee8f-c2d7-4d18-8b2e-72483a49499c",
   "metadata": {},
   "outputs": [],
   "source": [
    "df['upholstery_color'] = df['upholstery_color'].replace('',np.nan)"
   ]
  },
  {
   "cell_type": "code",
   "execution_count": 468,
   "id": "041769b2-6ab5-4688-936f-3f93377d3505",
   "metadata": {},
   "outputs": [
    {
     "data": {
      "text/plain": [
       "upholstery_color\n",
       "Black     8201\n",
       "NaN       6038\n",
       "Grey      1376\n",
       "Brown      207\n",
       "Beige       54\n",
       "Blue        16\n",
       "White       13\n",
       "Red          9\n",
       "Yellow       4\n",
       "Orange       1\n",
       "Name: count, dtype: int64"
      ]
     },
     "execution_count": 468,
     "metadata": {},
     "output_type": "execute_result"
    }
   ],
   "source": [
    "df['upholstery_color'].value_counts(dropna=False)"
   ]
  },
  {
   "cell_type": "markdown",
   "id": "d2cb352b-ccc6-4280-8107-5a320d3fff3e",
   "metadata": {},
   "source": [
    "#### upholstery column cleaned and by this column two columns called upholstery_color and upholstery_material were created. upholstery column can be dropped."
   ]
  },
  {
   "cell_type": "code",
   "execution_count": 469,
   "id": "c94636df-2046-427a-9697-b2c2ab341221",
   "metadata": {},
   "outputs": [],
   "source": [
    "df = df.drop('upholstery', axis=1)"
   ]
  },
  {
   "cell_type": "markdown",
   "id": "254a3e22-879b-4fad-a34a-b6a4f5d0e1e7",
   "metadata": {},
   "source": [
    "### gearing_type"
   ]
  },
  {
   "cell_type": "code",
   "execution_count": 470,
   "id": "0b9108b8-b173-4407-a416-05bc83b42489",
   "metadata": {},
   "outputs": [],
   "source": [
    "df['gearing_type'] = df['gearing_type'].str[1]"
   ]
  },
  {
   "cell_type": "code",
   "execution_count": 471,
   "id": "b0d4d4c6-3135-4146-814b-c99efdb35ecb",
   "metadata": {},
   "outputs": [
    {
     "data": {
      "text/plain": [
       "gearing_type\n",
       "Manual            8153\n",
       "Automatic         7297\n",
       "Semi-automatic     469\n",
       "Name: count, dtype: int64"
      ]
     },
     "execution_count": 471,
     "metadata": {},
     "output_type": "execute_result"
    }
   ],
   "source": [
    "df['gearing_type'].value_counts(dropna=False)"
   ]
  },
  {
   "cell_type": "markdown",
   "id": "87bd54f3-6a84-4cd6-b7c5-b793d7e09075",
   "metadata": {},
   "source": [
    "### fuel"
   ]
  },
  {
   "cell_type": "code",
   "execution_count": 472,
   "id": "d2df3a2d-ed8e-4448-a308-a70d017d942a",
   "metadata": {},
   "outputs": [
    {
     "data": {
      "text/plain": [
       "0                    [\\n, Diesel (Particulate Filter), \\n]\n",
       "1                                       [\\n, Gasoline, \\n]\n",
       "2                    [\\n, Diesel (Particulate Filter), \\n]\n",
       "3                    [\\n, Diesel (Particulate Filter), \\n]\n",
       "4                    [\\n, Diesel (Particulate Filter), \\n]\n",
       "                               ...                        \n",
       "15914                [\\n, Diesel (Particulate Filter), \\n]\n",
       "15915    [\\n, Super 95 / Super Plus 98 (Particulate Fil...\n",
       "15916                                     [\\n, Diesel, \\n]\n",
       "15917                                     [\\n, Diesel, \\n]\n",
       "15918                                   [\\n, Super 95, \\n]\n",
       "Name: fuel, Length: 15919, dtype: object"
      ]
     },
     "execution_count": 472,
     "metadata": {},
     "output_type": "execute_result"
    }
   ],
   "source": [
    "df['fuel']"
   ]
  },
  {
   "cell_type": "code",
   "execution_count": 393,
   "id": "029c5498-6523-48d4-b91d-a1deda980b97",
   "metadata": {},
   "outputs": [],
   "source": [
    "df['fuel'] = df.type.str[3]"
   ]
  },
  {
   "cell_type": "code",
   "execution_count": 394,
   "id": "2d59eab9-9b83-4f83-a8b7-4eb833114cf4",
   "metadata": {},
   "outputs": [],
   "source": [
    "benzine = df.type.str[3].str.contains('Benzine', na=False, regex=True)"
   ]
  },
  {
   "cell_type": "code",
   "execution_count": 395,
   "id": "d5c23349-1c48-4ec1-a8fc-ffd9f013de1a",
   "metadata": {},
   "outputs": [
    {
     "data": {
      "text/plain": [
       "Series([], Name: count, dtype: int64)"
      ]
     },
     "execution_count": 395,
     "metadata": {},
     "output_type": "execute_result"
    }
   ],
   "source": [
    "df['fuel'][benzine].value_counts()"
   ]
  },
  {
   "cell_type": "code",
   "execution_count": 396,
   "id": "0926565f-87df-45eb-b27a-a7b97aa97e5f",
   "metadata": {},
   "outputs": [],
   "source": [
    "particulate = df.type.str[3].str.contains('Particulate', na=False, regex=True)"
   ]
  },
  {
   "cell_type": "code",
   "execution_count": 397,
   "id": "a332c57e-55ef-4627-8134-d72f85c390b3",
   "metadata": {},
   "outputs": [],
   "source": [
    "df['particulate']='unparticulate'"
   ]
  },
  {
   "cell_type": "code",
   "execution_count": 398,
   "id": "a299f53d-0e8d-437a-9443-19a05ee86020",
   "metadata": {},
   "outputs": [],
   "source": [
    "df.loc[particulate,'particulate']='particulate'"
   ]
  },
  {
   "cell_type": "code",
   "execution_count": 399,
   "id": "1711d518-b450-4205-9350-35ccc66f69f2",
   "metadata": {},
   "outputs": [
    {
     "data": {
      "text/plain": [
       "particulate\n",
       "unparticulate    15919\n",
       "Name: count, dtype: int64"
      ]
     },
     "execution_count": 399,
     "metadata": {},
     "output_type": "execute_result"
    }
   ],
   "source": [
    "df['particulate'].value_counts()"
   ]
  },
  {
   "cell_type": "code",
   "execution_count": 400,
   "id": "ebcc5940-77f8-42e6-b74a-7193bc679d5a",
   "metadata": {},
   "outputs": [],
   "source": [
    "df.loc[benzine,'fuel'] = 'benzine'"
   ]
  },
  {
   "cell_type": "code",
   "execution_count": 401,
   "id": "b9b1dbd6-ef9b-4ea8-aec0-5b9bfc4aa135",
   "metadata": {},
   "outputs": [
    {
     "data": {
      "text/plain": [
       "Series([], Name: count, dtype: int64)"
      ]
     },
     "execution_count": 401,
     "metadata": {},
     "output_type": "execute_result"
    }
   ],
   "source": [
    "df['fuel'][df['fuel'] == 'benzine'].value_counts()"
   ]
  },
  {
   "cell_type": "code",
   "execution_count": 402,
   "id": "9c9f9fd3-4685-4df5-8ec2-04b394fad2a7",
   "metadata": {},
   "outputs": [],
   "source": [
    "super = df.type.str[3].str.contains('Super', na=False, regex=True)"
   ]
  },
  {
   "cell_type": "code",
   "execution_count": 403,
   "id": "d8e9ba00-8e7f-44a0-940e-5fff4c546d7a",
   "metadata": {},
   "outputs": [],
   "source": [
    "gasoline = df.type.str[3].str.contains('Gasoline', na=False, regex=True)"
   ]
  },
  {
   "cell_type": "code",
   "execution_count": 404,
   "id": "c9731cd3-5e65-41a1-9370-e9a9cd0e7c68",
   "metadata": {},
   "outputs": [],
   "source": [
    "df.loc[super,'fuel'] = 'benzine'"
   ]
  },
  {
   "cell_type": "code",
   "execution_count": 405,
   "id": "1711674c-fefb-486a-aacd-da580e5f144d",
   "metadata": {},
   "outputs": [],
   "source": [
    "df.loc[gasoline,'fuel'] = 'benzine'"
   ]
  },
  {
   "cell_type": "code",
   "execution_count": 406,
   "id": "65f486e8-33d3-497f-9ca5-0db64db562e5",
   "metadata": {},
   "outputs": [
    {
     "data": {
      "text/plain": [
       "fuel\n",
       "d    11096\n",
       "-     1364\n",
       "l     1011\n",
       "o      796\n",
       "Name: count, dtype: int64"
      ]
     },
     "execution_count": 406,
     "metadata": {},
     "output_type": "execute_result"
    }
   ],
   "source": [
    "df['fuel'].value_counts()"
   ]
  },
  {
   "cell_type": "code",
   "execution_count": 407,
   "id": "2141a654-c9b6-4077-8414-89c58447ec34",
   "metadata": {},
   "outputs": [],
   "source": [
    "gas = df['fuel'].isin(['LPG','Liquid petroleum gas (LPG)',\\\n",
    "                              'CNG','CNG (Particulate Filter)',\\\n",
    "                              'Biogas','Domestic gas H'])\n",
    "          "
   ]
  },
  {
   "cell_type": "code",
   "execution_count": 408,
   "id": "76e0bd55-6b01-4893-82ef-00507dcde851",
   "metadata": {},
   "outputs": [],
   "source": [
    "df.loc[gas,'fuel'] = 'gas'"
   ]
  },
  {
   "cell_type": "code",
   "execution_count": 409,
   "id": "9f54703d-40c3-4dc4-a379-de4263829c46",
   "metadata": {},
   "outputs": [
    {
     "data": {
      "text/plain": [
       "fuel\n",
       "d    11096\n",
       "-     1364\n",
       "l     1011\n",
       "o      796\n",
       "Name: count, dtype: int64"
      ]
     },
     "execution_count": 409,
     "metadata": {},
     "output_type": "execute_result"
    }
   ],
   "source": [
    "df['fuel'].value_counts()"
   ]
  },
  {
   "cell_type": "code",
   "execution_count": 410,
   "id": "3bb27001-3610-429b-af6d-459a91e44d15",
   "metadata": {},
   "outputs": [],
   "source": [
    "diesel = df['fuel'].isin(['Diesel (Particulate Filter)', 'Diesel'])"
   ]
  },
  {
   "cell_type": "code",
   "execution_count": 411,
   "id": "08b33042-bca7-4d21-ab2b-3bebaa57b9bc",
   "metadata": {},
   "outputs": [],
   "source": [
    "df.loc[diesel,'fuel'] = 'diesel'"
   ]
  },
  {
   "cell_type": "code",
   "execution_count": 412,
   "id": "f7f843e9-bbca-4971-8cf1-d862b18d9db1",
   "metadata": {},
   "outputs": [],
   "source": [
    "others = df['fuel'].isin(['Others', 'Others (Particulate Filter)', 'Electric'])"
   ]
  },
  {
   "cell_type": "code",
   "execution_count": 413,
   "id": "1004febf-7ffb-4395-b16a-45b6231fbd13",
   "metadata": {},
   "outputs": [],
   "source": [
    "df.loc[others,'fuel'] = 'others'"
   ]
  },
  {
   "cell_type": "code",
   "execution_count": 414,
   "id": "b9cd124a-06cc-4d4c-83f4-79a4cb120a23",
   "metadata": {},
   "outputs": [
    {
     "data": {
      "text/plain": [
       "fuel\n",
       "d      11096\n",
       "NaN     1652\n",
       "-       1364\n",
       "l       1011\n",
       "o        796\n",
       "Name: count, dtype: int64"
      ]
     },
     "execution_count": 414,
     "metadata": {},
     "output_type": "execute_result"
    }
   ],
   "source": [
    "df['fuel'].value_counts(dropna=False)"
   ]
  },
  {
   "cell_type": "markdown",
   "id": "422de094-a947-485a-b429-961424a7dd26",
   "metadata": {},
   "source": [
    "### co2_emission"
   ]
  },
  {
   "cell_type": "code",
   "execution_count": null,
   "id": "3959cbaa-5f30-42a3-a4fb-cb8ca85ca38a",
   "metadata": {},
   "outputs": [],
   "source": [
    "df['co2_emission'] = df['co2_emission'].str[0].str.strip().str.findall('\\d+').str[0].astype(\"float\")"
   ]
  },
  {
   "cell_type": "code",
   "execution_count": null,
   "id": "8cb237c6-6275-4b83-84ae-1ac2ee07a2c1",
   "metadata": {},
   "outputs": [],
   "source": [
    "df['co2_emission'].value_counts(dropna=False)"
   ]
  },
  {
   "cell_type": "markdown",
   "id": "7da85b23-28e8-4b3d-893f-479a5ac7aabc",
   "metadata": {
    "jp-MarkdownHeadingCollapsed": true
   },
   "source": [
    "### emission_class"
   ]
  },
  {
   "cell_type": "code",
   "execution_count": null,
   "id": "9ab8d9c5-3c13-445f-9537-a77408c8bb8f",
   "metadata": {
    "scrolled": true
   },
   "outputs": [],
   "source": [
    "df['emission_class'] = df['emission_class'].str[0].str.replace('\\n','')"
   ]
  },
  {
   "cell_type": "code",
   "execution_count": null,
   "id": "5648c2cd-9358-4589-ab25-f09eac503429",
   "metadata": {},
   "outputs": [],
   "source": [
    "df['emission_class'].value_counts(dropna=False)"
   ]
  },
  {
   "cell_type": "code",
   "execution_count": null,
   "id": "4016b0ff-a737-493e-a810-a3f67107e200",
   "metadata": {},
   "outputs": [],
   "source": [
    "df['emission_class'].replace(['Euro 6','Euro 6d-TEMP','Euro 6d', 'Euro 6c'], 'Euro 6', inplace = True)"
   ]
  },
  {
   "cell_type": "markdown",
   "id": "c4e8d3d8-611c-431a-b70b-4797bacc7145",
   "metadata": {
    "jp-MarkdownHeadingCollapsed": true
   },
   "source": [
    "### emission_label (dropped)"
   ]
  },
  {
   "cell_type": "code",
   "execution_count": null,
   "id": "34c2889b-4e77-4667-bd81-487dab546624",
   "metadata": {},
   "outputs": [],
   "source": [
    "#df['emission_label'] = df['emission_label'].str[0].str.findall('\\((.*?)\\)').str[0]"
   ]
  },
  {
   "cell_type": "code",
   "execution_count": null,
   "id": "0aaead71-828e-4dfb-822d-3f7ef1f748dc",
   "metadata": {},
   "outputs": [],
   "source": [
    "df['emission_label'].value_counts(dropna=False)\n"
   ]
  },
  {
   "cell_type": "code",
   "execution_count": null,
   "id": "7b16369e-33eb-44ca-a616-fc8033873c0c",
   "metadata": {},
   "outputs": [],
   "source": [
    "df['emission_label'] = df['emission_label'].str[0].str.strip().str.replace(')', '').str.replace('(', '')"
   ]
  },
  {
   "cell_type": "code",
   "execution_count": null,
   "id": "955c5701-a5e6-44c5-b6de-31909abc3b88",
   "metadata": {},
   "outputs": [],
   "source": [
    "df['emission_label'].value_counts(dropna=False)"
   ]
  },
  {
   "cell_type": "code",
   "execution_count": null,
   "id": "6e2ac555-f787-4e1a-be76-38b7151b9ec4",
   "metadata": {},
   "outputs": [],
   "source": [
    "df.drop('emission_label',axis=1,inplace=True)"
   ]
  },
  {
   "cell_type": "markdown",
   "id": "d69c1037-6cb7-408d-ae2f-732ef3bc699b",
   "metadata": {
    "jp-MarkdownHeadingCollapsed": true
   },
   "source": [
    "### drive_chain"
   ]
  },
  {
   "cell_type": "code",
   "execution_count": null,
   "id": "8b6d153e-881b-4c6b-99ea-cfb153af7542",
   "metadata": {},
   "outputs": [],
   "source": [
    "df['drive_chain'] = df['drive_chain'].str[0].str.strip()"
   ]
  },
  {
   "cell_type": "code",
   "execution_count": null,
   "id": "fd6bd7d4-9c2e-4f39-aaab-ac2884817514",
   "metadata": {},
   "outputs": [],
   "source": [
    "df['drive_chain'].value_counts(dropna=False)"
   ]
  },
  {
   "cell_type": "markdown",
   "id": "0dfe212a-8b63-4ffe-b74b-aa516236804f",
   "metadata": {
    "jp-MarkdownHeadingCollapsed": true
   },
   "source": [
    "### consumption l/100 km (turned into city, country and combined consumption columns"
   ]
  },
  {
   "cell_type": "code",
   "execution_count": null,
   "id": "3b23496b-6bed-473a-997a-b2e2ca4ede1c",
   "metadata": {},
   "outputs": [],
   "source": [
    "# comb\n",
    "df['combined_consumption'] = df['consumption'].str[0].str[0].str.replace('l/100 km (comb)', '').str.replace('kg/100 km (comb)', '').replace('\\n', 'NaN').astype(\"float\")"
   ]
  },
  {
   "cell_type": "code",
   "execution_count": null,
   "id": "424dad41-32f8-4af5-be1d-5ddc6546c254",
   "metadata": {},
   "outputs": [],
   "source": [
    "df['combined_consumption'].value_counts(dropna=False)"
   ]
  },
  {
   "cell_type": "code",
   "execution_count": null,
   "id": "de4e0224-8a29-4e9f-99e8-b53463ea759c",
   "metadata": {},
   "outputs": [],
   "source": [
    "# city\n",
    "df['city_consumption'] = df['consumption'].str[1].str[0].str.replace('l/100 km (city)', '').str.replace('kg/100 km (city)', '').replace('\\n', 'NaN').astype(\"float\")"
   ]
  },
  {
   "cell_type": "code",
   "execution_count": null,
   "id": "fdc69bae-1e2c-494d-8d56-0427ca239535",
   "metadata": {},
   "outputs": [],
   "source": [
    "df['city_consumption'].value_counts(dropna=False)"
   ]
  },
  {
   "cell_type": "code",
   "execution_count": null,
   "id": "75f5a296-63a5-4657-beb8-058074597f2d",
   "metadata": {},
   "outputs": [],
   "source": [
    "df['combined_consumption'].value_counts(dropna=False)"
   ]
  },
  {
   "cell_type": "code",
   "execution_count": null,
   "id": "d746c627-1c1d-4e49-bf2a-7ccf403dcaa2",
   "metadata": {},
   "outputs": [],
   "source": [
    "# country\n",
    "df['country_consumption'] = df['consumption'].str[2].str[0].str.replace('l/100 km (country)', '').str.replace('kg/100 km (country)', '').replace('\\n', 'NaN').astype(\"float\")"
   ]
  },
  {
   "cell_type": "code",
   "execution_count": null,
   "id": "35ca125c-4541-414f-9fbb-d71e8cd6b3b6",
   "metadata": {},
   "outputs": [],
   "source": [
    "df['combined_consumption'].value_counts(dropna=False)"
   ]
  },
  {
   "cell_type": "markdown",
   "id": "384c9e7e-7ecb-46bb-ada8-e83b1a17f476",
   "metadata": {
    "jp-MarkdownHeadingCollapsed": true
   },
   "source": [
    "### country_version"
   ]
  },
  {
   "cell_type": "code",
   "execution_count": null,
   "id": "1e242568-0aee-4196-b042-1d09b7db7849",
   "metadata": {},
   "outputs": [],
   "source": [
    "df['country_version'] = df['country_version'].str[0].str.strip()"
   ]
  },
  {
   "cell_type": "code",
   "execution_count": null,
   "id": "01b0922c-6dbf-4f60-bcf6-0a71c4f349de",
   "metadata": {},
   "outputs": [],
   "source": [
    "df['country_version'].value_counts(dropna=False)"
   ]
  },
  {
   "cell_type": "markdown",
   "id": "5121745d-4c0e-4973-ad39-efc968392f33",
   "metadata": {},
   "source": [
    "#### This column can be dropped."
   ]
  },
  {
   "cell_type": "code",
   "execution_count": null,
   "id": "c90ccebe-5164-44ad-9865-fa76fd10ac4b",
   "metadata": {},
   "outputs": [],
   "source": [
    "df.drop('country_version',axis=1,inplace=True)"
   ]
  },
  {
   "cell_type": "markdown",
   "id": "7ec97b62-3d79-4121-ac93-45f9c6aed996",
   "metadata": {
    "jp-MarkdownHeadingCollapsed": true
   },
   "source": [
    "### entertainment_media"
   ]
  },
  {
   "cell_type": "code",
   "execution_count": null,
   "id": "31e7da95-64aa-412a-9304-24ed9e9dcf3b",
   "metadata": {},
   "outputs": [],
   "source": [
    "df['entertainment_media']"
   ]
  },
  {
   "cell_type": "code",
   "execution_count": null,
   "id": "7525130c-c54c-44c1-b9fa-b00f5572d13f",
   "metadata": {},
   "outputs": [],
   "source": [
    "df['entertainment_media'] = df['entertainment_media'].astype('str').str.replace('[','').str.replace(\"]\",'')"
   ]
  },
  {
   "cell_type": "markdown",
   "id": "0c469a5e-d0da-4c34-b9fb-5308efc5dd1e",
   "metadata": {},
   "source": [
    "#### This column was not changed as it will be transformed with getdummy function later"
   ]
  },
  {
   "cell_type": "markdown",
   "id": "4ac52db9-5c02-4d85-a9a7-2bf75e02eb09",
   "metadata": {
    "jp-MarkdownHeadingCollapsed": true
   },
   "source": [
    "### safety_security"
   ]
  },
  {
   "cell_type": "code",
   "execution_count": null,
   "id": "207082cc-66b5-4bef-9b48-61f245858541",
   "metadata": {},
   "outputs": [],
   "source": [
    "df['safety_security']"
   ]
  },
  {
   "cell_type": "markdown",
   "id": "ccdadb63-be05-4c27-8224-0e08be68e53b",
   "metadata": {},
   "source": [
    "#### This column was not changed as it will be transformed with getdummy function later"
   ]
  },
  {
   "cell_type": "markdown",
   "id": "a1b5b9ad-451c-47f2-ad86-738669560229",
   "metadata": {
    "jp-MarkdownHeadingCollapsed": true
   },
   "source": [
    "### comfort_convenience"
   ]
  },
  {
   "cell_type": "code",
   "execution_count": null,
   "id": "aacccbd9-e1cd-4b54-9916-6066b898d9d0",
   "metadata": {},
   "outputs": [],
   "source": [
    "df['comfort_convenience'] = df['comfort_convenience'].astype('str').str.replace('[','').str.replace(\"]\",'')"
   ]
  },
  {
   "cell_type": "code",
   "execution_count": null,
   "id": "b7d8c9e4-decf-416c-945c-89b6e9879b66",
   "metadata": {},
   "outputs": [],
   "source": [
    "df['comfort_convenience'].astype('str').str.replace('[','').str.replace(\"]\",'').str.get_dummies(sep=\",\")"
   ]
  },
  {
   "cell_type": "code",
   "execution_count": null,
   "id": "07ba6066-bdc5-4cf3-8bd2-d49540dc68a4",
   "metadata": {},
   "outputs": [],
   "source": [
    "df['comfort_convenience']"
   ]
  },
  {
   "cell_type": "markdown",
   "id": "6681cb3a-f9eb-47cb-a2a1-79846359e1d9",
   "metadata": {},
   "source": [
    "#### This column was not changed as it will be transformed with getdummy function later"
   ]
  },
  {
   "cell_type": "markdown",
   "id": "dbe0eb7b-ca81-4c2e-92b2-9774d4d4919c",
   "metadata": {
    "jp-MarkdownHeadingCollapsed": true
   },
   "source": [
    "### extras"
   ]
  },
  {
   "cell_type": "code",
   "execution_count": null,
   "id": "1acb7c90-fd17-4c5d-8ed0-a44b1db76e6b",
   "metadata": {},
   "outputs": [],
   "source": [
    "df['extras'].astype('str').str.replace('[','').str.replace(\"]\",'').str.get_dummies(sep=', ').sum()"
   ]
  },
  {
   "cell_type": "code",
   "execution_count": null,
   "id": "c2d86c39-97b7-4d40-b770-818f66455958",
   "metadata": {},
   "outputs": [],
   "source": [
    "df['extras']"
   ]
  },
  {
   "cell_type": "markdown",
   "id": "fce6eb0e-1ad1-4875-be38-70443052a292",
   "metadata": {},
   "source": [
    "#### This column was not changed as it will be transformed with getdummy function later"
   ]
  },
  {
   "cell_type": "markdown",
   "id": "de401315-8d71-4d99-93d9-c5993deab4da",
   "metadata": {},
   "source": [
    "#### "
   ]
  },
  {
   "cell_type": "markdown",
   "id": "b5ffdd1f-7ae9-4971-aa48-b4adbb8b4d8b",
   "metadata": {},
   "source": [
    "---\n",
    "\n",
    "## Quantitative Columns\n",
    "- [x] price: Price of cars \n",
    "- [x] km: km of autos \n",
    "- [x] hp: horsepower of autos (kW) \n",
    "- [x] displacement: displacement of autos (cc) \n",
    "- [] warranty: warranty period (month)\n",
    "- [x] weight: weight of auto (kg) \n",
    "- [x] nr_of_doors: number of doors \n",
    "- [x] nr_of_seats : number of seats \n",
    "- [x] cylinders: number of cylinders \n",
    "- [x] gears: number of gears"
   ]
  },
  {
   "cell_type": "markdown",
   "id": "de080554-8725-4092-916b-39e2aeedd175",
   "metadata": {
    "jp-MarkdownHeadingCollapsed": true
   },
   "source": [
    "### price"
   ]
  },
  {
   "cell_type": "code",
   "execution_count": null,
   "id": "fe2b939b-f8a3-4887-b7da-32ecae315a69",
   "metadata": {},
   "outputs": [],
   "source": [
    "df['price'].astype(\"float\")"
   ]
  },
  {
   "cell_type": "code",
   "execution_count": null,
   "id": "628657b2-e6bc-4293-bb22-9b7e9586e720",
   "metadata": {},
   "outputs": [],
   "source": [
    "df['price'].value_counts(dropna=False)"
   ]
  },
  {
   "cell_type": "markdown",
   "id": "b8ec3c0a-d8d5-43fa-b246-b7be429d52b7",
   "metadata": {
    "jp-MarkdownHeadingCollapsed": true
   },
   "source": [
    "### km"
   ]
  },
  {
   "cell_type": "code",
   "execution_count": null,
   "id": "88fe5792-0e76-49b5-ae38-9882755b22cf",
   "metadata": {},
   "outputs": [],
   "source": [
    "df['km'] = df['km'].str.replace(',', '').str.findall('\\d+').str[0].astype(\"float\")"
   ]
  },
  {
   "cell_type": "code",
   "execution_count": null,
   "id": "4e6fa561-eb01-4ee9-96c6-fa0748d46e18",
   "metadata": {},
   "outputs": [],
   "source": [
    "df['km'].value_counts(dropna=False).index"
   ]
  },
  {
   "cell_type": "markdown",
   "id": "e81bfaa9-ad48-4711-af21-222fdb8733d4",
   "metadata": {
    "jp-MarkdownHeadingCollapsed": true
   },
   "source": [
    "### hp"
   ]
  },
  {
   "cell_type": "code",
   "execution_count": null,
   "id": "cc528df1-a993-4935-bedf-e750cb6f8468",
   "metadata": {},
   "outputs": [],
   "source": [
    "df['hp'] = df['hp'].str.replace(',', '').str.findall('\\d+').str[0].astype(\"float\")"
   ]
  },
  {
   "cell_type": "code",
   "execution_count": null,
   "id": "19009d0a-ba25-40b5-b091-d24a0ea86c8b",
   "metadata": {},
   "outputs": [],
   "source": [
    "df['hp'].value_counts().index"
   ]
  },
  {
   "cell_type": "markdown",
   "id": "50001a34-d93b-42c0-adaf-504e0f6faa1d",
   "metadata": {
    "jp-MarkdownHeadingCollapsed": true
   },
   "source": [
    "### displacement"
   ]
  },
  {
   "cell_type": "code",
   "execution_count": null,
   "id": "73ac027f-936e-4c81-bf49-2f5664e2b0b6",
   "metadata": {},
   "outputs": [],
   "source": [
    "df['displacement'] = df['displacement'].str[0].str.replace(',', '').str.findall('\\d+').str[0].astype(\"float\")"
   ]
  },
  {
   "cell_type": "code",
   "execution_count": null,
   "id": "dd784445-536d-4e39-8267-a11ac0ed3d00",
   "metadata": {},
   "outputs": [],
   "source": [
    "df['displacement'].value_counts().index"
   ]
  },
  {
   "cell_type": "markdown",
   "id": "86c13cce-f250-4516-bc89-3ac5c48a1c6e",
   "metadata": {
    "jp-MarkdownHeadingCollapsed": true
   },
   "source": [
    "### warranty"
   ]
  },
  {
   "cell_type": "code",
   "execution_count": null,
   "id": "6aa00dbe-c47d-48c4-930d-8c3a77f5b674",
   "metadata": {},
   "outputs": [],
   "source": [
    "df['warranty']"
   ]
  },
  {
   "cell_type": "code",
   "execution_count": null,
   "id": "837225a7-ec4e-449d-96cb-bd48f60623a1",
   "metadata": {
    "scrolled": true
   },
   "outputs": [],
   "source": [
    "import re\n",
    "def clean_warranty(a):\n",
    "    if type(a) == list:\n",
    "        b = re.findall(r'\\d+', a[0])\n",
    "        if len(b)== 0:\n",
    "            return np.nan\n",
    "        else:\n",
    "            return b[0]\n",
    "    elif type(a) ==str:\n",
    "        b = re.findall(r'\\d+', a)\n",
    "        if len(b)== 0:\n",
    "            return np.nan\n",
    "        else:\n",
    "            return b[0]\n",
    "    else:\n",
    "        return a"
   ]
  },
  {
   "cell_type": "code",
   "execution_count": null,
   "id": "09da0a0c-824b-41bf-9a73-ff3aa3270032",
   "metadata": {},
   "outputs": [],
   "source": [
    "df['warranty'] = df['warranty'].apply(clean_warranty)"
   ]
  },
  {
   "cell_type": "code",
   "execution_count": null,
   "id": "a0db40f1-45f3-4bfa-9c79-5e8a1c1df827",
   "metadata": {},
   "outputs": [],
   "source": [
    "df['warranty'] = df['warranty'].astype('float')"
   ]
  },
  {
   "cell_type": "code",
   "execution_count": null,
   "id": "900358e4-f6ba-4266-89c1-73287aa249c0",
   "metadata": {},
   "outputs": [],
   "source": [
    "df['warranty'].value_counts(dropna=False)"
   ]
  },
  {
   "cell_type": "markdown",
   "id": "740604e2-e3d8-4618-904b-55ac7401e9b2",
   "metadata": {
    "jp-MarkdownHeadingCollapsed": true
   },
   "source": [
    "### weight"
   ]
  },
  {
   "cell_type": "code",
   "execution_count": null,
   "id": "129c7104-5bd3-408a-8fcf-ebe087b9198b",
   "metadata": {},
   "outputs": [],
   "source": [
    "df['weight'] = df['weight'].str[0].str.replace(',', '').str.findall('\\d+').str[0].astype(\"float\")"
   ]
  },
  {
   "cell_type": "code",
   "execution_count": null,
   "id": "f3ac0e68-0916-44e0-b14a-cd6c76bba3b5",
   "metadata": {},
   "outputs": [],
   "source": [
    "df['weight'].value_counts().index"
   ]
  },
  {
   "cell_type": "markdown",
   "id": "9b7978d9-3bc5-4e12-bfd9-229565144482",
   "metadata": {
    "jp-MarkdownHeadingCollapsed": true
   },
   "source": [
    "### nr_of_doors"
   ]
  },
  {
   "cell_type": "code",
   "execution_count": null,
   "id": "78471a54-fb78-4ae0-8269-b042f0abb0f8",
   "metadata": {},
   "outputs": [],
   "source": [
    "df['nr_of_doors'] = df['nr_of_doors'].str[0].str.findall('\\d+').str[0]"
   ]
  },
  {
   "cell_type": "code",
   "execution_count": null,
   "id": "a66452d4-af0b-451d-b666-3ba5681c339e",
   "metadata": {},
   "outputs": [],
   "source": [
    "df['nr_of_doors'].value_counts()"
   ]
  },
  {
   "cell_type": "markdown",
   "id": "437da9fc-b759-486c-ac28-269d787d945d",
   "metadata": {
    "jp-MarkdownHeadingCollapsed": true
   },
   "source": [
    "### nr_of_seats"
   ]
  },
  {
   "cell_type": "code",
   "execution_count": null,
   "id": "63d09202-e68e-4089-b867-477d2a5fd846",
   "metadata": {},
   "outputs": [],
   "source": [
    "df['nr_of_seats'] = df['nr_of_seats'].str[0].str.findall('\\d+').str[0]"
   ]
  },
  {
   "cell_type": "code",
   "execution_count": null,
   "id": "d4b52158-fcb0-49ad-9ed9-914e6858fa20",
   "metadata": {},
   "outputs": [],
   "source": [
    "df['nr_of_seats'].value_counts()"
   ]
  },
  {
   "cell_type": "markdown",
   "id": "d76deeb3-368a-439d-8c53-1e84a667908e",
   "metadata": {
    "jp-MarkdownHeadingCollapsed": true
   },
   "source": [
    "### cylinders"
   ]
  },
  {
   "cell_type": "code",
   "execution_count": null,
   "id": "f7eb3dbc-7ebc-4584-bae7-c25908c09daf",
   "metadata": {},
   "outputs": [],
   "source": [
    "df['cylinders'] = df['cylinders'].str[0].str.findall('\\d+').str[0]\n"
   ]
  },
  {
   "cell_type": "code",
   "execution_count": null,
   "id": "9caa0104-216e-4e42-baeb-b79b1bfee02f",
   "metadata": {},
   "outputs": [],
   "source": [
    "df['cylinders'].value_counts(dropna=False)"
   ]
  },
  {
   "cell_type": "markdown",
   "id": "cde376bb-caa1-45cb-ab96-547b2ee4feea",
   "metadata": {
    "jp-MarkdownHeadingCollapsed": true
   },
   "source": [
    "### gears"
   ]
  },
  {
   "cell_type": "code",
   "execution_count": null,
   "id": "0ddb906d-e248-4756-a729-093874134546",
   "metadata": {},
   "outputs": [],
   "source": [
    "df['gears'] = df['gears'].str[0].str.findall('\\d+').str[0]\n"
   ]
  },
  {
   "cell_type": "code",
   "execution_count": null,
   "id": "9602f096-49cd-4b9d-9d26-2a15695239a7",
   "metadata": {},
   "outputs": [],
   "source": [
    "df['gears'].value_counts(dropna=False)"
   ]
  },
  {
   "cell_type": "markdown",
   "id": "a6b76c7e-af93-4294-8ec5-feaa3c52cc08",
   "metadata": {},
   "source": [
    "## create csv"
   ]
  },
  {
   "cell_type": "code",
   "execution_count": null,
   "id": "be09d9db-0b16-482c-92f2-41a1773e5ea0",
   "metadata": {},
   "outputs": [],
   "source": [
    "df.info()"
   ]
  },
  {
   "cell_type": "markdown",
   "id": "48fe85ed-4ce2-4bf4-8972-86d0f1005371",
   "metadata": {},
   "source": [
    "### Save to new csv after clean data before going to filling null values.\n",
    "- Every step use a new notebook."
   ]
  },
  {
   "cell_type": "code",
   "execution_count": null,
   "id": "f7cbb530-8511-4338-9f56-16402dd1f837",
   "metadata": {},
   "outputs": [],
   "source": [
    "df.to_csv(\"cleaned_car_data.csv\", index=False)"
   ]
  }
 ],
 "metadata": {
  "kernelspec": {
   "display_name": "Python 3 (ipykernel)",
   "language": "python",
   "name": "python3"
  },
  "language_info": {
   "codemirror_mode": {
    "name": "ipython",
    "version": 3
   },
   "file_extension": ".py",
   "mimetype": "text/x-python",
   "name": "python",
   "nbconvert_exporter": "python",
   "pygments_lexer": "ipython3",
   "version": "3.8.18"
  }
 },
 "nbformat": 4,
 "nbformat_minor": 5
}
