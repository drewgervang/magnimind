{
 "cells": [
  {
   "cell_type": "markdown",
   "id": "3c09e75a-7b82-4a1d-8410-3473f61e1ae7",
   "metadata": {},
   "source": [
    "# Assignment 2\n",
    "\n",
    "## Step 1. Loading Dataset\n",
    "\n",
    "Load the Prima Indians Onset of Diabates dataset. It is a standard machine learning dataset available for free download from the UCI Machine Learning repository. It describes patient medical record data for Pima Indians and whether they had an onset of diabetes within five years. It is a binary classification problem (onset of diabetes as 1 or not as 0)\n",
    "\n",
    "- NTP: Number of times pregnant.\n",
    "- PGC: Plasma glucose concentration a 2 hours in an oral glucose tolerance test. 3. Diastolic blood pressure (mm Hg).\n",
    "- TSFT: Triceps skin fold thickness (mm).\n",
    "- 2hSI: 2-Hour serum insulin (mu U/ml).\n",
    "- BMI: Body mass index.\n",
    "- DPF: Diabetes pedigree function.\n",
    "- Age: Age (years).\n",
    "- OnDiab: Class, onset of diabetes within five years."
   ]
  },
  {
   "cell_type": "code",
   "execution_count": 6,
   "id": "ebd86f8c-07e7-4d6b-b27a-5d18ba567366",
   "metadata": {},
   "outputs": [],
   "source": [
    "import pandas as pd\n",
    "import numpy as np\n",
    "\n",
    "diabates_dataset = pd.read_csv('diabetes.csv')"
   ]
  },
  {
   "cell_type": "markdown",
   "id": "7bec9ab9-7d9c-4900-bd10-75d1f846d991",
   "metadata": {},
   "source": [
    "- Set the dataset columns names to ['NTP', 'PGC','DBP','TSFT','2hSI','BMI','DPF','Age','OnDiab'].\n",
    "- Print the size of the data set.\n",
    "- Print the first 10 observations of your data set"
   ]
  },
  {
   "cell_type": "code",
   "execution_count": 20,
   "id": "453cbc6c-df77-40a5-9242-0a7be5727d9f",
   "metadata": {},
   "outputs": [
    {
     "name": "stdout",
     "output_type": "stream",
     "text": [
      "NTP        1.000\n",
      "PGC       85.000\n",
      "DBP       66.000\n",
      "TSFT      29.000\n",
      "2hSI       0.000\n",
      "BMI       26.600\n",
      "DPF        0.351\n",
      "Age       31.000\n",
      "OnDiab     0.000\n",
      "Name: 0, dtype: float64\n",
      "Size of dataset:  6903\n"
     ]
    },
    {
     "data": {
      "text/html": [
       "<div>\n",
       "<style scoped>\n",
       "    .dataframe tbody tr th:only-of-type {\n",
       "        vertical-align: middle;\n",
       "    }\n",
       "\n",
       "    .dataframe tbody tr th {\n",
       "        vertical-align: top;\n",
       "    }\n",
       "\n",
       "    .dataframe thead th {\n",
       "        text-align: right;\n",
       "    }\n",
       "</style>\n",
       "<table border=\"1\" class=\"dataframe\">\n",
       "  <thead>\n",
       "    <tr style=\"text-align: right;\">\n",
       "      <th></th>\n",
       "      <th>NTP</th>\n",
       "      <th>PGC</th>\n",
       "      <th>DBP</th>\n",
       "      <th>TSFT</th>\n",
       "      <th>2hSI</th>\n",
       "      <th>BMI</th>\n",
       "      <th>DPF</th>\n",
       "      <th>Age</th>\n",
       "      <th>OnDiab</th>\n",
       "    </tr>\n",
       "  </thead>\n",
       "  <tbody>\n",
       "    <tr>\n",
       "      <th>0</th>\n",
       "      <td>1</td>\n",
       "      <td>85</td>\n",
       "      <td>66</td>\n",
       "      <td>29</td>\n",
       "      <td>0</td>\n",
       "      <td>26.6</td>\n",
       "      <td>0.351</td>\n",
       "      <td>31</td>\n",
       "      <td>0</td>\n",
       "    </tr>\n",
       "    <tr>\n",
       "      <th>1</th>\n",
       "      <td>8</td>\n",
       "      <td>183</td>\n",
       "      <td>64</td>\n",
       "      <td>0</td>\n",
       "      <td>0</td>\n",
       "      <td>23.3</td>\n",
       "      <td>0.672</td>\n",
       "      <td>32</td>\n",
       "      <td>1</td>\n",
       "    </tr>\n",
       "    <tr>\n",
       "      <th>2</th>\n",
       "      <td>1</td>\n",
       "      <td>89</td>\n",
       "      <td>66</td>\n",
       "      <td>23</td>\n",
       "      <td>94</td>\n",
       "      <td>28.1</td>\n",
       "      <td>0.167</td>\n",
       "      <td>21</td>\n",
       "      <td>0</td>\n",
       "    </tr>\n",
       "    <tr>\n",
       "      <th>3</th>\n",
       "      <td>0</td>\n",
       "      <td>137</td>\n",
       "      <td>40</td>\n",
       "      <td>35</td>\n",
       "      <td>168</td>\n",
       "      <td>43.1</td>\n",
       "      <td>2.288</td>\n",
       "      <td>33</td>\n",
       "      <td>1</td>\n",
       "    </tr>\n",
       "    <tr>\n",
       "      <th>4</th>\n",
       "      <td>5</td>\n",
       "      <td>116</td>\n",
       "      <td>74</td>\n",
       "      <td>0</td>\n",
       "      <td>0</td>\n",
       "      <td>25.6</td>\n",
       "      <td>0.201</td>\n",
       "      <td>30</td>\n",
       "      <td>0</td>\n",
       "    </tr>\n",
       "    <tr>\n",
       "      <th>5</th>\n",
       "      <td>3</td>\n",
       "      <td>78</td>\n",
       "      <td>50</td>\n",
       "      <td>32</td>\n",
       "      <td>88</td>\n",
       "      <td>31.0</td>\n",
       "      <td>0.248</td>\n",
       "      <td>26</td>\n",
       "      <td>1</td>\n",
       "    </tr>\n",
       "    <tr>\n",
       "      <th>6</th>\n",
       "      <td>10</td>\n",
       "      <td>115</td>\n",
       "      <td>0</td>\n",
       "      <td>0</td>\n",
       "      <td>0</td>\n",
       "      <td>35.3</td>\n",
       "      <td>0.134</td>\n",
       "      <td>29</td>\n",
       "      <td>0</td>\n",
       "    </tr>\n",
       "    <tr>\n",
       "      <th>7</th>\n",
       "      <td>2</td>\n",
       "      <td>197</td>\n",
       "      <td>70</td>\n",
       "      <td>45</td>\n",
       "      <td>543</td>\n",
       "      <td>30.5</td>\n",
       "      <td>0.158</td>\n",
       "      <td>53</td>\n",
       "      <td>1</td>\n",
       "    </tr>\n",
       "    <tr>\n",
       "      <th>8</th>\n",
       "      <td>8</td>\n",
       "      <td>125</td>\n",
       "      <td>96</td>\n",
       "      <td>0</td>\n",
       "      <td>0</td>\n",
       "      <td>0.0</td>\n",
       "      <td>0.232</td>\n",
       "      <td>54</td>\n",
       "      <td>1</td>\n",
       "    </tr>\n",
       "    <tr>\n",
       "      <th>9</th>\n",
       "      <td>4</td>\n",
       "      <td>110</td>\n",
       "      <td>92</td>\n",
       "      <td>0</td>\n",
       "      <td>0</td>\n",
       "      <td>37.6</td>\n",
       "      <td>0.191</td>\n",
       "      <td>30</td>\n",
       "      <td>0</td>\n",
       "    </tr>\n",
       "  </tbody>\n",
       "</table>\n",
       "</div>"
      ],
      "text/plain": [
       "   NTP  PGC  DBP  TSFT  2hSI   BMI    DPF  Age  OnDiab\n",
       "0    1   85   66    29     0  26.6  0.351   31       0\n",
       "1    8  183   64     0     0  23.3  0.672   32       1\n",
       "2    1   89   66    23    94  28.1  0.167   21       0\n",
       "3    0  137   40    35   168  43.1  2.288   33       1\n",
       "4    5  116   74     0     0  25.6  0.201   30       0\n",
       "5    3   78   50    32    88  31.0  0.248   26       1\n",
       "6   10  115    0     0     0  35.3  0.134   29       0\n",
       "7    2  197   70    45   543  30.5  0.158   53       1\n",
       "8    8  125   96     0     0   0.0  0.232   54       1\n",
       "9    4  110   92     0     0  37.6  0.191   30       0"
      ]
     },
     "execution_count": 20,
     "metadata": {},
     "output_type": "execute_result"
    }
   ],
   "source": [
    "diabates_dataset.columns = ['NTP', 'PGC','DBP','TSFT','2hSI','BMI','DPF','Age','OnDiab']\n",
    "print(\"Size of dataset: \", diabates_dataset.size)\n",
    "diabates_dataset.head(10)"
   ]
  },
  {
   "cell_type": "markdown",
   "id": "a73706de-a177-4c46-bde9-60bd0717a16e",
   "metadata": {},
   "source": [
    "## Step 2: Data type and description for each attribute\n",
    "- Print the data type for each attribute using dtypes method of a pandas data frame"
   ]
  },
  {
   "cell_type": "code",
   "execution_count": 50,
   "id": "578eab0d-0fde-4002-a4a8-737b2080336d",
   "metadata": {},
   "outputs": [
    {
     "name": "stdout",
     "output_type": "stream",
     "text": [
      "Features dtype:\n",
      "NTP <class 'float'>\n",
      "PGC <class 'float'>\n",
      "DBP <class 'float'>\n",
      "TSFT <class 'float'>\n",
      "2hSI <class 'float'>\n",
      "BMI <class 'float'>\n",
      "DPF <class 'float'>\n",
      "Age <class 'float'>\n",
      "OnDiab <class 'float'>\n"
     ]
    }
   ],
   "source": [
    "print(\"Features dtype:\")\n",
    "i = 0\n",
    "for x in diabates_dataset.iloc[0]: \n",
    "    print(diabates_dataset.columns[i], type(x))\n",
    "    i += 1"
   ]
  },
  {
   "cell_type": "markdown",
   "id": "73edabec-f412-476b-a585-8ba979f2e03c",
   "metadata": {},
   "source": [
    "Descriptive statistics can give you great insight into the properties of each attribute. Often you can create more summaries than you have time to review. The describe() function on the Pandas DataFrame lists 8 statistical properties of each attribute. They are: Count, Mean, Standard Deviation, Minimum Value, 25th Percentile, 50th Percentile (Median), 75th Percentile, Maximum Value."
   ]
  },
  {
   "cell_type": "code",
   "execution_count": 51,
   "id": "bb9b3357-64ce-4e12-9de9-add618b1e73d",
   "metadata": {},
   "outputs": [
    {
     "data": {
      "text/html": [
       "<div>\n",
       "<style scoped>\n",
       "    .dataframe tbody tr th:only-of-type {\n",
       "        vertical-align: middle;\n",
       "    }\n",
       "\n",
       "    .dataframe tbody tr th {\n",
       "        vertical-align: top;\n",
       "    }\n",
       "\n",
       "    .dataframe thead th {\n",
       "        text-align: right;\n",
       "    }\n",
       "</style>\n",
       "<table border=\"1\" class=\"dataframe\">\n",
       "  <thead>\n",
       "    <tr style=\"text-align: right;\">\n",
       "      <th></th>\n",
       "      <th>NTP</th>\n",
       "      <th>PGC</th>\n",
       "      <th>DBP</th>\n",
       "      <th>TSFT</th>\n",
       "      <th>2hSI</th>\n",
       "      <th>BMI</th>\n",
       "      <th>DPF</th>\n",
       "      <th>Age</th>\n",
       "      <th>OnDiab</th>\n",
       "    </tr>\n",
       "  </thead>\n",
       "  <tbody>\n",
       "    <tr>\n",
       "      <th>count</th>\n",
       "      <td>767.000000</td>\n",
       "      <td>767.000000</td>\n",
       "      <td>767.000000</td>\n",
       "      <td>767.000000</td>\n",
       "      <td>767.000000</td>\n",
       "      <td>767.000000</td>\n",
       "      <td>767.000000</td>\n",
       "      <td>767.000000</td>\n",
       "      <td>767.000000</td>\n",
       "    </tr>\n",
       "    <tr>\n",
       "      <th>mean</th>\n",
       "      <td>3.842243</td>\n",
       "      <td>120.859192</td>\n",
       "      <td>69.101695</td>\n",
       "      <td>20.517601</td>\n",
       "      <td>79.903520</td>\n",
       "      <td>31.990482</td>\n",
       "      <td>0.471674</td>\n",
       "      <td>33.219035</td>\n",
       "      <td>0.348110</td>\n",
       "    </tr>\n",
       "    <tr>\n",
       "      <th>std</th>\n",
       "      <td>3.370877</td>\n",
       "      <td>31.978468</td>\n",
       "      <td>19.368155</td>\n",
       "      <td>15.954059</td>\n",
       "      <td>115.283105</td>\n",
       "      <td>7.889091</td>\n",
       "      <td>0.331497</td>\n",
       "      <td>11.752296</td>\n",
       "      <td>0.476682</td>\n",
       "    </tr>\n",
       "    <tr>\n",
       "      <th>min</th>\n",
       "      <td>0.000000</td>\n",
       "      <td>0.000000</td>\n",
       "      <td>0.000000</td>\n",
       "      <td>0.000000</td>\n",
       "      <td>0.000000</td>\n",
       "      <td>0.000000</td>\n",
       "      <td>0.078000</td>\n",
       "      <td>21.000000</td>\n",
       "      <td>0.000000</td>\n",
       "    </tr>\n",
       "    <tr>\n",
       "      <th>25%</th>\n",
       "      <td>1.000000</td>\n",
       "      <td>99.000000</td>\n",
       "      <td>62.000000</td>\n",
       "      <td>0.000000</td>\n",
       "      <td>0.000000</td>\n",
       "      <td>27.300000</td>\n",
       "      <td>0.243500</td>\n",
       "      <td>24.000000</td>\n",
       "      <td>0.000000</td>\n",
       "    </tr>\n",
       "    <tr>\n",
       "      <th>50%</th>\n",
       "      <td>3.000000</td>\n",
       "      <td>117.000000</td>\n",
       "      <td>72.000000</td>\n",
       "      <td>23.000000</td>\n",
       "      <td>32.000000</td>\n",
       "      <td>32.000000</td>\n",
       "      <td>0.371000</td>\n",
       "      <td>29.000000</td>\n",
       "      <td>0.000000</td>\n",
       "    </tr>\n",
       "    <tr>\n",
       "      <th>75%</th>\n",
       "      <td>6.000000</td>\n",
       "      <td>140.000000</td>\n",
       "      <td>80.000000</td>\n",
       "      <td>32.000000</td>\n",
       "      <td>127.500000</td>\n",
       "      <td>36.600000</td>\n",
       "      <td>0.625000</td>\n",
       "      <td>41.000000</td>\n",
       "      <td>1.000000</td>\n",
       "    </tr>\n",
       "    <tr>\n",
       "      <th>max</th>\n",
       "      <td>17.000000</td>\n",
       "      <td>199.000000</td>\n",
       "      <td>122.000000</td>\n",
       "      <td>99.000000</td>\n",
       "      <td>846.000000</td>\n",
       "      <td>67.100000</td>\n",
       "      <td>2.420000</td>\n",
       "      <td>81.000000</td>\n",
       "      <td>1.000000</td>\n",
       "    </tr>\n",
       "  </tbody>\n",
       "</table>\n",
       "</div>"
      ],
      "text/plain": [
       "              NTP         PGC         DBP        TSFT        2hSI         BMI  \\\n",
       "count  767.000000  767.000000  767.000000  767.000000  767.000000  767.000000   \n",
       "mean     3.842243  120.859192   69.101695   20.517601   79.903520   31.990482   \n",
       "std      3.370877   31.978468   19.368155   15.954059  115.283105    7.889091   \n",
       "min      0.000000    0.000000    0.000000    0.000000    0.000000    0.000000   \n",
       "25%      1.000000   99.000000   62.000000    0.000000    0.000000   27.300000   \n",
       "50%      3.000000  117.000000   72.000000   23.000000   32.000000   32.000000   \n",
       "75%      6.000000  140.000000   80.000000   32.000000  127.500000   36.600000   \n",
       "max     17.000000  199.000000  122.000000   99.000000  846.000000   67.100000   \n",
       "\n",
       "              DPF         Age      OnDiab  \n",
       "count  767.000000  767.000000  767.000000  \n",
       "mean     0.471674   33.219035    0.348110  \n",
       "std      0.331497   11.752296    0.476682  \n",
       "min      0.078000   21.000000    0.000000  \n",
       "25%      0.243500   24.000000    0.000000  \n",
       "50%      0.371000   29.000000    0.000000  \n",
       "75%      0.625000   41.000000    1.000000  \n",
       "max      2.420000   81.000000    1.000000  "
      ]
     },
     "execution_count": 51,
     "metadata": {},
     "output_type": "execute_result"
    }
   ],
   "source": [
    "diabates_dataset.describe()"
   ]
  },
  {
   "cell_type": "markdown",
   "id": "70974e33-7aaa-4bfe-86af-96ccf06f4af8",
   "metadata": {},
   "source": [
    "On classication problems you need to know how balanced the class values are. Highly imbalanced problems (a lot more observations for one class than another) are common and may need special handling in the data preparation stage of your project. You can quickly get an idea of the distribution of the OnDiab attribute in Pandas. \n",
    "\n",
    "- Group your data by OnDiab attribute and use the size method to count the number of different values of class attribute"
   ]
  },
  {
   "cell_type": "code",
   "execution_count": 71,
   "id": "9da11079-9ba6-4216-8d15-427fea7d4472",
   "metadata": {},
   "outputs": [
    {
     "data": {
      "text/plain": [
       "OnDiab\n",
       "0    500\n",
       "1    267\n",
       "dtype: int64"
      ]
     },
     "execution_count": 71,
     "metadata": {},
     "output_type": "execute_result"
    }
   ],
   "source": [
    "diabates_dataset.groupby(['OnDiab']).size()"
   ]
  },
  {
   "cell_type": "markdown",
   "id": "2f5927bb-ec21-4183-b8e0-638575a7748d",
   "metadata": {},
   "source": [
    "## Step 3: Draw the histogram of your data attributes.\n",
    "\n",
    "A fast way to get an idea of the distribution of each attribute is to look at histograms. Histograms group data into bins and provide you a count of the number of observations in each bin. From the shape of the bins you can quickly get a feeling for whether an attribute is Gaussian, skewed or even has an exponential distribution. It can also help you see possible outliers.\n",
    "\n",
    "- Use hist() method of pandas data frame to plot the histograms."
   ]
  },
  {
   "cell_type": "code",
   "execution_count": 73,
   "id": "038cf647-56ae-4ea3-831d-3b0cf90f224a",
   "metadata": {},
   "outputs": [
    {
     "data": {
      "text/plain": [
       "array([[<Axes: title={'center': 'NTP'}>, <Axes: title={'center': 'PGC'}>,\n",
       "        <Axes: title={'center': 'DBP'}>],\n",
       "       [<Axes: title={'center': 'TSFT'}>,\n",
       "        <Axes: title={'center': '2hSI'}>,\n",
       "        <Axes: title={'center': 'BMI'}>],\n",
       "       [<Axes: title={'center': 'DPF'}>, <Axes: title={'center': 'Age'}>,\n",
       "        <Axes: >]], dtype=object)"
      ]
     },
     "execution_count": 73,
     "metadata": {},
     "output_type": "execute_result"
    },
    {
     "data": {
      "image/png": "[encoded data removed]",
      "text/plain": [
       "<Figure size 640x480 with 9 Axes>"
      ]
     },
     "metadata": {},
     "output_type": "display_data"
    }
   ],
   "source": [
    "diabates_dataset.drop(['OnDiab'], axis=1).hist()"
   ]
  },
  {
   "cell_type": "markdown",
   "id": "474edad0-afb0-4b02-a306-b815136c8f85",
   "metadata": {},
   "source": [
    "## Step 4: Running a Classifier\n",
    "\n",
    "- Separate your dataset into feature set X and target variable y. Your target variable is OnDiab.\n",
    "- Split your dataset into train and test datasets, keep the test dataset size as 0.25 using test_size parameter of train_test_split. Set the random seed top 7 using random_state parameter of train_test_split. Make a stratified split.\n",
    "- Train KNearestNeighbor classifer on your train dataset and print the score on the the test dataset. Set number of neighbors to 5."
   ]
  },
  {
   "cell_type": "code",
   "execution_count": 94,
   "id": "bec6ac99-11da-48cf-988f-9de1f4ca5582",
   "metadata": {},
   "outputs": [],
   "source": [
    "from sklearn.model_selection import train_test_split\n",
    "\n",
    "X = diabates_dataset.drop(['OnDiab'], axis=1)\n",
    "y = diabates_dataset.loc[:,'OnDiab']"
   ]
  },
  {
   "cell_type": "code",
   "execution_count": 95,
   "id": "e5392a86-0006-4def-871b-b64d3d3acefe",
   "metadata": {},
   "outputs": [],
   "source": [
    "X_train, X_test, y_train, y_test = train_test_split(X, y, test_size=0.25, random_state=7, stratify=y)\n",
    "\n",
    "#stratify: makes sure there is an equal distribution - between percentage of \n",
    "\n",
    "#imbalanced data set use stratify=y - 900 zeros and 100 ones of sample\n",
    "\n",
    "#always write stratify = y"
   ]
  },
  {
   "cell_type": "code",
   "execution_count": 98,
   "id": "ce6ff529-ad9f-4117-9269-95028a2ff7fa",
   "metadata": {},
   "outputs": [
    {
     "name": "stdout",
     "output_type": "stream",
     "text": [
      "Accurcy:  0.7135416666666666\n"
     ]
    }
   ],
   "source": [
    "from sklearn.neighbors import KNeighborsClassifier\n",
    "knn = KNeighborsClassifier(n_neighbors=5)\n",
    "knn.fit(X_train, y_train)\n",
    "print(\"Accurcy: \", knn.score(X_test, y_test))"
   ]
  },
  {
   "cell_type": "markdown",
   "id": "b97582bc-0dce-4b27-9d0b-14f366389b3c",
   "metadata": {},
   "source": [
    "## Step 5 : Grid Search\n",
    "\n",
    "- Import GridSearchCV from sklearn.model_selection\n",
    "- Split your data into train and test datasets\n",
    "- For neighbors=1 to 30, compute GridSearchCV for train dataset with kfold=10.\n",
    "- Print the best cross validation score\n",
    "- Print the best parameter\n",
    "- Print the test score"
   ]
  },
  {
   "cell_type": "code",
   "execution_count": 100,
   "id": "578fb28e-5e1a-4994-a726-4044f6a52611",
   "metadata": {},
   "outputs": [],
   "source": [
    "from sklearn.model_selection import GridSearchCV"
   ]
  },
  {
   "cell_type": "code",
   "execution_count": 101,
   "id": "19d61d68-6c81-41f2-b95a-5e92170f8411",
   "metadata": {},
   "outputs": [],
   "source": [
    "X_train, X_test, y_train, y_test = train_test_split(X, y, test_size=0.25, random_state=7, stratify=y)"
   ]
  },
  {
   "cell_type": "code",
   "execution_count": 104,
   "id": "a5ebfa26-7422-4c12-9cfe-29039c183a44",
   "metadata": {},
   "outputs": [
    {
     "name": "stdout",
     "output_type": "stream",
     "text": [
      "Best mean cross-validation score:  0.7267695099818512\n",
      "Best parameters:  {'n_neighbors': 29}\n",
      "Test-set score:  0.765625\n"
     ]
    }
   ],
   "source": [
    "param_grid = {'n_neighbors': np.arange(1, 30, 2)}\n",
    "grid = GridSearchCV(KNeighborsClassifier(), param_grid=param_grid, cv=10,\n",
    "                    return_train_score=True)\n",
    "grid.fit(X_train, y_train)\n",
    "print(\"Best mean cross-validation score: \", grid.best_score_)\n",
    "print(\"Best parameters: \", grid.best_params_)\n",
    "print(\"Test-set score: \", grid.score(X_test, y_test))"
   ]
  },
  {
   "cell_type": "code",
   "execution_count": null,
   "id": "611898fb-7ed3-4ea5-9790-fd030769244d",
   "metadata": {},
   "outputs": [],
   "source": []
  }
 ],
 "metadata": {
  "kernelspec": {
   "display_name": "Python 3 (ipykernel)",
   "language": "python",
   "name": "python3"
  },
  "language_info": {
   "codemirror_mode": {
    "name": "ipython",
    "version": 3
   },
   "file_extension": ".py",
   "mimetype": "text/x-python",
   "name": "python",
   "nbconvert_exporter": "python",
   "pygments_lexer": "ipython3",
   "version": "3.8.18"
  }
 },
 "nbformat": 4,
 "nbformat_minor": 5
}
