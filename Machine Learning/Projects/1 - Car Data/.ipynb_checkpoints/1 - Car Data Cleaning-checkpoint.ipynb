{
 "cells": [
  {
   "cell_type": "markdown",
   "id": "cbbac1f2-e1b8-4daa-aa0e-3e4d7caaf0f2",
   "metadata": {},
   "source": [
    "# Phase 1 - Cleaning Car Data\n",
    "\n",
    "## Columns:\n",
    "\n",
    "**General Columns** \n",
    "- url: url of autos \n",
    "- short_description, description: Description of autos (in English and German) written by users \n",
    "\n",
    "**Categorical Columns**  \n",
    "- make_model, make, model: Model of autos. Ex:Audi A1 \n",
    "- body_type, body: Body type of autos Example: van, sedans\n",
    "- vat: VAT deductible, price negotiable \n",
    "- registration, first_registration: First registration date and year of autos. \n",
    "- type: new or used \n",
    "- next_inspection, inspection_new: information about inspection (inspection date,..) \n",
    "- body_color, body_color_original: Color of auto Ex: Black, red\n",
    "- paint_type: Paint type of auto Ex: Metallic, Uni/basic \n",
    "- upholstery: Upholstery information (texture, color) \n",
    "- gearing_type: Type of gear Ex: automatic, manual \n",
    "- fuel Ex: diesel, benzine \n",
    "- emission_class, emission_label: emission information \n",
    "- drive_chain: drive chain Ex: front,rear, 4WD \n",
    "- country_version \n",
    "- entertainment_media \n",
    "- safety_security \n",
    "- comfort_convenience \n",
    "- extras \n",
    "\n",
    "**Quantitative Columns**\n",
    "- co2_emission\n",
    "- consumption: consumption of auto in city, country and combination (lt/100 km) \n",
    "- price: Price of cars \n",
    "- km: km of autos \n",
    "- hp: horsepower of autos (kW) \n",
    "- displacement: displacement of autos (cc) \n",
    "- warranty: warranty period (month)\n",
    "- prev_owner, previous_owners: Number of previous owners\n",
    "- weight: weight of auto (kg) \n",
    "- nr_of_doors: number of doors \n",
    "- nr_of_seats : number of seats \n",
    "- cylinders: number of cylinders \n",
    "- gears: number of gears\n",
    "\n",
    "---"
   ]
  },
  {
   "cell_type": "code",
   "execution_count": 1,
   "id": "1fb74b60-50a9-4fa8-8469-4f5a55fdebd6",
   "metadata": {},
   "outputs": [],
   "source": [
    "import numpy as np\n",
    "import pandas as pd\n",
    "\n",
    "\n",
    "df = pd.read_json('scout_car.json', lines=True)\n",
    "df.columns = df.columns.str.lower().str.replace(' ', '_').str.replace('.', '').str.replace('_&_', '_').str.strip()"
   ]
  },
  {
   "cell_type": "code",
   "execution_count": 2,
   "id": "85cedb5e-f135-4c11-aafc-27a210f6b3d3",
   "metadata": {},
   "outputs": [
    {
     "data": {
      "text/html": [
       "<div>\n",
       "<style scoped>\n",
       "    .dataframe tbody tr th:only-of-type {\n",
       "        vertical-align: middle;\n",
       "    }\n",
       "\n",
       "    .dataframe tbody tr th {\n",
       "        vertical-align: top;\n",
       "    }\n",
       "\n",
       "    .dataframe thead th {\n",
       "        text-align: right;\n",
       "    }\n",
       "</style>\n",
       "<table border=\"1\" class=\"dataframe\">\n",
       "  <thead>\n",
       "    <tr style=\"text-align: right;\">\n",
       "      <th></th>\n",
       "      <th>0</th>\n",
       "      <th>1</th>\n",
       "      <th>2</th>\n",
       "    </tr>\n",
       "  </thead>\n",
       "  <tbody>\n",
       "    <tr>\n",
       "      <th>url</th>\n",
       "      <td>https://www.autoscout24.com//offers/audi-a1-sp...</td>\n",
       "      <td>https://www.autoscout24.com//offers/audi-a1-1-...</td>\n",
       "      <td>https://www.autoscout24.com//offers/audi-a1-sp...</td>\n",
       "    </tr>\n",
       "    <tr>\n",
       "      <th>make_model</th>\n",
       "      <td>Audi A1</td>\n",
       "      <td>Audi A1</td>\n",
       "      <td>Audi A1</td>\n",
       "    </tr>\n",
       "    <tr>\n",
       "      <th>short_description</th>\n",
       "      <td>Sportback 1.4 TDI S-tronic Xenon Navi Klima</td>\n",
       "      <td>1.8 TFSI sport</td>\n",
       "      <td>Sportback 1.6 TDI S tronic Einparkhilfe plus+m...</td>\n",
       "    </tr>\n",
       "    <tr>\n",
       "      <th>body_type</th>\n",
       "      <td>Sedans</td>\n",
       "      <td>Sedans</td>\n",
       "      <td>Sedans</td>\n",
       "    </tr>\n",
       "    <tr>\n",
       "      <th>price</th>\n",
       "      <td>15770</td>\n",
       "      <td>14500</td>\n",
       "      <td>14640</td>\n",
       "    </tr>\n",
       "    <tr>\n",
       "      <th>vat</th>\n",
       "      <td>VAT deductible</td>\n",
       "      <td>Price negotiable</td>\n",
       "      <td>VAT deductible</td>\n",
       "    </tr>\n",
       "    <tr>\n",
       "      <th>km</th>\n",
       "      <td>56,013 km</td>\n",
       "      <td>80,000 km</td>\n",
       "      <td>83,450 km</td>\n",
       "    </tr>\n",
       "    <tr>\n",
       "      <th>registration</th>\n",
       "      <td>01/2016</td>\n",
       "      <td>03/2017</td>\n",
       "      <td>02/2016</td>\n",
       "    </tr>\n",
       "    <tr>\n",
       "      <th>prev_owner</th>\n",
       "      <td>2 previous owners</td>\n",
       "      <td>None</td>\n",
       "      <td>1 previous owner</td>\n",
       "    </tr>\n",
       "    <tr>\n",
       "      <th>kw</th>\n",
       "      <td>NaN</td>\n",
       "      <td>NaN</td>\n",
       "      <td>NaN</td>\n",
       "    </tr>\n",
       "    <tr>\n",
       "      <th>hp</th>\n",
       "      <td>66 kW</td>\n",
       "      <td>141 kW</td>\n",
       "      <td>85 kW</td>\n",
       "    </tr>\n",
       "    <tr>\n",
       "      <th>type</th>\n",
       "      <td>[, Used, , Diesel (Particulate Filter)]</td>\n",
       "      <td>[, Used, , Gasoline]</td>\n",
       "      <td>[, Used, , Diesel (Particulate Filter)]</td>\n",
       "    </tr>\n",
       "    <tr>\n",
       "      <th>previous_owners</th>\n",
       "      <td>\\n2\\n</td>\n",
       "      <td>NaN</td>\n",
       "      <td>\\n1\\n</td>\n",
       "    </tr>\n",
       "    <tr>\n",
       "      <th>next_inspection</th>\n",
       "      <td>[\\n06/2021\\n, \\n99 g CO2/km (comb)\\n]</td>\n",
       "      <td>NaN</td>\n",
       "      <td>NaN</td>\n",
       "    </tr>\n",
       "    <tr>\n",
       "      <th>inspection_new</th>\n",
       "      <td>[\\nYes\\n, \\nEuro 6\\n]</td>\n",
       "      <td>NaN</td>\n",
       "      <td>NaN</td>\n",
       "    </tr>\n",
       "    <tr>\n",
       "      <th>warranty</th>\n",
       "      <td>[\\n, \\n, \\n4 (Green)\\n]</td>\n",
       "      <td>NaN</td>\n",
       "      <td>[\\n, \\n, \\n99 g CO2/km (comb)\\n]</td>\n",
       "    </tr>\n",
       "    <tr>\n",
       "      <th>full_service</th>\n",
       "      <td>[\\n, \\n]</td>\n",
       "      <td>NaN</td>\n",
       "      <td>NaN</td>\n",
       "    </tr>\n",
       "    <tr>\n",
       "      <th>non-smoking_vehicle</th>\n",
       "      <td>[\\n, \\n]</td>\n",
       "      <td>NaN</td>\n",
       "      <td>NaN</td>\n",
       "    </tr>\n",
       "    <tr>\n",
       "      <th>null</th>\n",
       "      <td>[]</td>\n",
       "      <td>[]</td>\n",
       "      <td>[]</td>\n",
       "    </tr>\n",
       "    <tr>\n",
       "      <th>make</th>\n",
       "      <td>\\nAudi\\n</td>\n",
       "      <td>\\nAudi\\n</td>\n",
       "      <td>\\nAudi\\n</td>\n",
       "    </tr>\n",
       "    <tr>\n",
       "      <th>model</th>\n",
       "      <td>[\\n, A1, \\n]</td>\n",
       "      <td>[\\n, A1, \\n]</td>\n",
       "      <td>[\\n, A1, \\n]</td>\n",
       "    </tr>\n",
       "    <tr>\n",
       "      <th>offer_number</th>\n",
       "      <td>[\\nLR-062483\\n]</td>\n",
       "      <td>NaN</td>\n",
       "      <td>[\\nAM-95365\\n]</td>\n",
       "    </tr>\n",
       "    <tr>\n",
       "      <th>first_registration</th>\n",
       "      <td>[\\n, 2016, \\n]</td>\n",
       "      <td>[\\n, 2017, \\n]</td>\n",
       "      <td>[\\n, 2016, \\n]</td>\n",
       "    </tr>\n",
       "    <tr>\n",
       "      <th>body_color</th>\n",
       "      <td>[\\n, Black, \\n]</td>\n",
       "      <td>[\\n, Red, \\n]</td>\n",
       "      <td>[\\n, Black, \\n]</td>\n",
       "    </tr>\n",
       "    <tr>\n",
       "      <th>paint_type</th>\n",
       "      <td>[\\nMetallic\\n]</td>\n",
       "      <td>NaN</td>\n",
       "      <td>[\\nMetallic\\n]</td>\n",
       "    </tr>\n",
       "    <tr>\n",
       "      <th>body_color_original</th>\n",
       "      <td>[\\nMythosschwarz\\n]</td>\n",
       "      <td>NaN</td>\n",
       "      <td>[\\nmythosschwarz metallic\\n]</td>\n",
       "    </tr>\n",
       "    <tr>\n",
       "      <th>upholstery</th>\n",
       "      <td>[\\nCloth, Black\\n]</td>\n",
       "      <td>[\\nCloth, Grey\\n]</td>\n",
       "      <td>[\\nCloth, Black\\n]</td>\n",
       "    </tr>\n",
       "    <tr>\n",
       "      <th>body</th>\n",
       "      <td>[\\n, Sedans, \\n]</td>\n",
       "      <td>[\\n, Sedans, \\n]</td>\n",
       "      <td>[\\n, Sedans, \\n]</td>\n",
       "    </tr>\n",
       "    <tr>\n",
       "      <th>nr_of_doors</th>\n",
       "      <td>[\\n5\\n]</td>\n",
       "      <td>[\\n3\\n]</td>\n",
       "      <td>[\\n4\\n]</td>\n",
       "    </tr>\n",
       "    <tr>\n",
       "      <th>nr_of_seats</th>\n",
       "      <td>[\\n5\\n]</td>\n",
       "      <td>[\\n4\\n]</td>\n",
       "      <td>[\\n4\\n]</td>\n",
       "    </tr>\n",
       "    <tr>\n",
       "      <th>model_code</th>\n",
       "      <td>[\\n0588/BDF\\n]</td>\n",
       "      <td>[\\n0588/BCY\\n]</td>\n",
       "      <td>NaN</td>\n",
       "    </tr>\n",
       "    <tr>\n",
       "      <th>gearing_type</th>\n",
       "      <td>[\\n, Automatic, \\n]</td>\n",
       "      <td>[\\n, Automatic, \\n]</td>\n",
       "      <td>[\\n, Automatic, \\n]</td>\n",
       "    </tr>\n",
       "    <tr>\n",
       "      <th>displacement</th>\n",
       "      <td>[\\n1,422 cc\\n]</td>\n",
       "      <td>[\\n1,798 cc\\n]</td>\n",
       "      <td>[\\n1,598 cc\\n]</td>\n",
       "    </tr>\n",
       "    <tr>\n",
       "      <th>cylinders</th>\n",
       "      <td>[\\n3\\n]</td>\n",
       "      <td>[\\n4\\n]</td>\n",
       "      <td>NaN</td>\n",
       "    </tr>\n",
       "    <tr>\n",
       "      <th>weight</th>\n",
       "      <td>[\\n1,220 kg\\n]</td>\n",
       "      <td>[\\n1,255 kg\\n]</td>\n",
       "      <td>NaN</td>\n",
       "    </tr>\n",
       "    <tr>\n",
       "      <th>drive_chain</th>\n",
       "      <td>[\\nfront\\n]</td>\n",
       "      <td>[\\nfront\\n]</td>\n",
       "      <td>[\\nfront\\n]</td>\n",
       "    </tr>\n",
       "    <tr>\n",
       "      <th>fuel</th>\n",
       "      <td>[\\n, Diesel (Particulate Filter), \\n]</td>\n",
       "      <td>[\\n, Gasoline, \\n]</td>\n",
       "      <td>[\\n, Diesel (Particulate Filter), \\n]</td>\n",
       "    </tr>\n",
       "    <tr>\n",
       "      <th>consumption</th>\n",
       "      <td>[[3.8 l/100 km (comb)], [4.3 l/100 km (city)],...</td>\n",
       "      <td>[[5.6 l/100 km (comb)], [7.1 l/100 km (city)],...</td>\n",
       "      <td>[[3.8 l/100 km (comb)], [4.4 l/100 km (city)],...</td>\n",
       "    </tr>\n",
       "    <tr>\n",
       "      <th>co2_emission</th>\n",
       "      <td>[\\n99 g CO2/km (comb)\\n]</td>\n",
       "      <td>[\\n129 g CO2/km (comb)\\n]</td>\n",
       "      <td>[\\n99 g CO2/km (comb)\\n]</td>\n",
       "    </tr>\n",
       "    <tr>\n",
       "      <th>emission_class</th>\n",
       "      <td>[\\nEuro 6\\n]</td>\n",
       "      <td>[\\nEuro 6\\n]</td>\n",
       "      <td>[\\nEuro 6\\n]</td>\n",
       "    </tr>\n",
       "    <tr>\n",
       "      <th>comfort_convenience</th>\n",
       "      <td>[Air conditioning, Armrest, Automatic climate ...</td>\n",
       "      <td>[Air conditioning, Automatic climate control, ...</td>\n",
       "      <td>[Air conditioning, Cruise control, Electrical ...</td>\n",
       "    </tr>\n",
       "    <tr>\n",
       "      <th>entertainment_media</th>\n",
       "      <td>[Bluetooth, Hands-free equipment, On-board com...</td>\n",
       "      <td>[Bluetooth, Hands-free equipment, On-board com...</td>\n",
       "      <td>[MP3, On-board computer]</td>\n",
       "    </tr>\n",
       "    <tr>\n",
       "      <th>extras</th>\n",
       "      <td>[Alloy wheels, Catalytic Converter, Voice Cont...</td>\n",
       "      <td>[Alloy wheels, Sport seats, Sport suspension, ...</td>\n",
       "      <td>[Alloy wheels, Voice Control]</td>\n",
       "    </tr>\n",
       "    <tr>\n",
       "      <th>safety_security</th>\n",
       "      <td>[ABS, Central door lock, Daytime running light...</td>\n",
       "      <td>[ABS, Central door lock, Central door lock wit...</td>\n",
       "      <td>[ABS, Central door lock, Daytime running light...</td>\n",
       "    </tr>\n",
       "    <tr>\n",
       "      <th>description</th>\n",
       "      <td>[\\n, Sicherheit:,  , Deaktivierung für Beifahr...</td>\n",
       "      <td>[\\nLangstreckenfahrzeug daher die hohe Kilomet...</td>\n",
       "      <td>[\\n, Fahrzeug-Nummer: AM-95365,  , Ehem. UPE 2...</td>\n",
       "    </tr>\n",
       "    <tr>\n",
       "      <th>emission_label</th>\n",
       "      <td>NaN</td>\n",
       "      <td>[\\n4 (Green)\\n]</td>\n",
       "      <td>[\\n4 (Green)\\n]</td>\n",
       "    </tr>\n",
       "    <tr>\n",
       "      <th>gears</th>\n",
       "      <td>NaN</td>\n",
       "      <td>[\\n7\\n]</td>\n",
       "      <td>NaN</td>\n",
       "    </tr>\n",
       "    <tr>\n",
       "      <th>country_version</th>\n",
       "      <td>NaN</td>\n",
       "      <td>NaN</td>\n",
       "      <td>NaN</td>\n",
       "    </tr>\n",
       "    <tr>\n",
       "      <th>electricity_consumption</th>\n",
       "      <td>NaN</td>\n",
       "      <td>NaN</td>\n",
       "      <td>NaN</td>\n",
       "    </tr>\n",
       "    <tr>\n",
       "      <th>last_service_date</th>\n",
       "      <td>NaN</td>\n",
       "      <td>NaN</td>\n",
       "      <td>NaN</td>\n",
       "    </tr>\n",
       "    <tr>\n",
       "      <th>other_fuel_types</th>\n",
       "      <td>NaN</td>\n",
       "      <td>NaN</td>\n",
       "      <td>NaN</td>\n",
       "    </tr>\n",
       "    <tr>\n",
       "      <th>availability</th>\n",
       "      <td>NaN</td>\n",
       "      <td>NaN</td>\n",
       "      <td>NaN</td>\n",
       "    </tr>\n",
       "    <tr>\n",
       "      <th>last_timing_belt_service_date</th>\n",
       "      <td>NaN</td>\n",
       "      <td>NaN</td>\n",
       "      <td>NaN</td>\n",
       "    </tr>\n",
       "    <tr>\n",
       "      <th>available_from</th>\n",
       "      <td>NaN</td>\n",
       "      <td>NaN</td>\n",
       "      <td>NaN</td>\n",
       "    </tr>\n",
       "  </tbody>\n",
       "</table>\n",
       "</div>"
      ],
      "text/plain": [
       "                                                                               0  \\\n",
       "url                            https://www.autoscout24.com//offers/audi-a1-sp...   \n",
       "make_model                                                               Audi A1   \n",
       "short_description                    Sportback 1.4 TDI S-tronic Xenon Navi Klima   \n",
       "body_type                                                                 Sedans   \n",
       "price                                                                      15770   \n",
       "vat                                                               VAT deductible   \n",
       "km                                                                     56,013 km   \n",
       "registration                                                             01/2016   \n",
       "prev_owner                                                     2 previous owners   \n",
       "kw                                                                           NaN   \n",
       "hp                                                                         66 kW   \n",
       "type                                     [, Used, , Diesel (Particulate Filter)]   \n",
       "previous_owners                                                            \\n2\\n   \n",
       "next_inspection                            [\\n06/2021\\n, \\n99 g CO2/km (comb)\\n]   \n",
       "inspection_new                                             [\\nYes\\n, \\nEuro 6\\n]   \n",
       "warranty                                                 [\\n, \\n, \\n4 (Green)\\n]   \n",
       "full_service                                                            [\\n, \\n]   \n",
       "non-smoking_vehicle                                                     [\\n, \\n]   \n",
       "null                                                                          []   \n",
       "make                                                                    \\nAudi\\n   \n",
       "model                                                               [\\n, A1, \\n]   \n",
       "offer_number                                                     [\\nLR-062483\\n]   \n",
       "first_registration                                                [\\n, 2016, \\n]   \n",
       "body_color                                                       [\\n, Black, \\n]   \n",
       "paint_type                                                        [\\nMetallic\\n]   \n",
       "body_color_original                                          [\\nMythosschwarz\\n]   \n",
       "upholstery                                                    [\\nCloth, Black\\n]   \n",
       "body                                                            [\\n, Sedans, \\n]   \n",
       "nr_of_doors                                                              [\\n5\\n]   \n",
       "nr_of_seats                                                              [\\n5\\n]   \n",
       "model_code                                                        [\\n0588/BDF\\n]   \n",
       "gearing_type                                                 [\\n, Automatic, \\n]   \n",
       "displacement                                                      [\\n1,422 cc\\n]   \n",
       "cylinders                                                                [\\n3\\n]   \n",
       "weight                                                            [\\n1,220 kg\\n]   \n",
       "drive_chain                                                          [\\nfront\\n]   \n",
       "fuel                                       [\\n, Diesel (Particulate Filter), \\n]   \n",
       "consumption                    [[3.8 l/100 km (comb)], [4.3 l/100 km (city)],...   \n",
       "co2_emission                                            [\\n99 g CO2/km (comb)\\n]   \n",
       "emission_class                                                      [\\nEuro 6\\n]   \n",
       "comfort_convenience            [Air conditioning, Armrest, Automatic climate ...   \n",
       "entertainment_media            [Bluetooth, Hands-free equipment, On-board com...   \n",
       "extras                         [Alloy wheels, Catalytic Converter, Voice Cont...   \n",
       "safety_security                [ABS, Central door lock, Daytime running light...   \n",
       "description                    [\\n, Sicherheit:,  , Deaktivierung für Beifahr...   \n",
       "emission_label                                                               NaN   \n",
       "gears                                                                        NaN   \n",
       "country_version                                                              NaN   \n",
       "electricity_consumption                                                      NaN   \n",
       "last_service_date                                                            NaN   \n",
       "other_fuel_types                                                             NaN   \n",
       "availability                                                                 NaN   \n",
       "last_timing_belt_service_date                                                NaN   \n",
       "available_from                                                               NaN   \n",
       "\n",
       "                                                                               1  \\\n",
       "url                            https://www.autoscout24.com//offers/audi-a1-1-...   \n",
       "make_model                                                               Audi A1   \n",
       "short_description                                                 1.8 TFSI sport   \n",
       "body_type                                                                 Sedans   \n",
       "price                                                                      14500   \n",
       "vat                                                             Price negotiable   \n",
       "km                                                                     80,000 km   \n",
       "registration                                                             03/2017   \n",
       "prev_owner                                                                  None   \n",
       "kw                                                                           NaN   \n",
       "hp                                                                        141 kW   \n",
       "type                                                        [, Used, , Gasoline]   \n",
       "previous_owners                                                              NaN   \n",
       "next_inspection                                                              NaN   \n",
       "inspection_new                                                               NaN   \n",
       "warranty                                                                     NaN   \n",
       "full_service                                                                 NaN   \n",
       "non-smoking_vehicle                                                          NaN   \n",
       "null                                                                          []   \n",
       "make                                                                    \\nAudi\\n   \n",
       "model                                                               [\\n, A1, \\n]   \n",
       "offer_number                                                                 NaN   \n",
       "first_registration                                                [\\n, 2017, \\n]   \n",
       "body_color                                                         [\\n, Red, \\n]   \n",
       "paint_type                                                                   NaN   \n",
       "body_color_original                                                          NaN   \n",
       "upholstery                                                     [\\nCloth, Grey\\n]   \n",
       "body                                                            [\\n, Sedans, \\n]   \n",
       "nr_of_doors                                                              [\\n3\\n]   \n",
       "nr_of_seats                                                              [\\n4\\n]   \n",
       "model_code                                                        [\\n0588/BCY\\n]   \n",
       "gearing_type                                                 [\\n, Automatic, \\n]   \n",
       "displacement                                                      [\\n1,798 cc\\n]   \n",
       "cylinders                                                                [\\n4\\n]   \n",
       "weight                                                            [\\n1,255 kg\\n]   \n",
       "drive_chain                                                          [\\nfront\\n]   \n",
       "fuel                                                          [\\n, Gasoline, \\n]   \n",
       "consumption                    [[5.6 l/100 km (comb)], [7.1 l/100 km (city)],...   \n",
       "co2_emission                                           [\\n129 g CO2/km (comb)\\n]   \n",
       "emission_class                                                      [\\nEuro 6\\n]   \n",
       "comfort_convenience            [Air conditioning, Automatic climate control, ...   \n",
       "entertainment_media            [Bluetooth, Hands-free equipment, On-board com...   \n",
       "extras                         [Alloy wheels, Sport seats, Sport suspension, ...   \n",
       "safety_security                [ABS, Central door lock, Central door lock wit...   \n",
       "description                    [\\nLangstreckenfahrzeug daher die hohe Kilomet...   \n",
       "emission_label                                                   [\\n4 (Green)\\n]   \n",
       "gears                                                                    [\\n7\\n]   \n",
       "country_version                                                              NaN   \n",
       "electricity_consumption                                                      NaN   \n",
       "last_service_date                                                            NaN   \n",
       "other_fuel_types                                                             NaN   \n",
       "availability                                                                 NaN   \n",
       "last_timing_belt_service_date                                                NaN   \n",
       "available_from                                                               NaN   \n",
       "\n",
       "                                                                               2  \n",
       "url                            https://www.autoscout24.com//offers/audi-a1-sp...  \n",
       "make_model                                                               Audi A1  \n",
       "short_description              Sportback 1.6 TDI S tronic Einparkhilfe plus+m...  \n",
       "body_type                                                                 Sedans  \n",
       "price                                                                      14640  \n",
       "vat                                                               VAT deductible  \n",
       "km                                                                     83,450 km  \n",
       "registration                                                             02/2016  \n",
       "prev_owner                                                      1 previous owner  \n",
       "kw                                                                           NaN  \n",
       "hp                                                                         85 kW  \n",
       "type                                     [, Used, , Diesel (Particulate Filter)]  \n",
       "previous_owners                                                            \\n1\\n  \n",
       "next_inspection                                                              NaN  \n",
       "inspection_new                                                               NaN  \n",
       "warranty                                        [\\n, \\n, \\n99 g CO2/km (comb)\\n]  \n",
       "full_service                                                                 NaN  \n",
       "non-smoking_vehicle                                                          NaN  \n",
       "null                                                                          []  \n",
       "make                                                                    \\nAudi\\n  \n",
       "model                                                               [\\n, A1, \\n]  \n",
       "offer_number                                                      [\\nAM-95365\\n]  \n",
       "first_registration                                                [\\n, 2016, \\n]  \n",
       "body_color                                                       [\\n, Black, \\n]  \n",
       "paint_type                                                        [\\nMetallic\\n]  \n",
       "body_color_original                                 [\\nmythosschwarz metallic\\n]  \n",
       "upholstery                                                    [\\nCloth, Black\\n]  \n",
       "body                                                            [\\n, Sedans, \\n]  \n",
       "nr_of_doors                                                              [\\n4\\n]  \n",
       "nr_of_seats                                                              [\\n4\\n]  \n",
       "model_code                                                                   NaN  \n",
       "gearing_type                                                 [\\n, Automatic, \\n]  \n",
       "displacement                                                      [\\n1,598 cc\\n]  \n",
       "cylinders                                                                    NaN  \n",
       "weight                                                                       NaN  \n",
       "drive_chain                                                          [\\nfront\\n]  \n",
       "fuel                                       [\\n, Diesel (Particulate Filter), \\n]  \n",
       "consumption                    [[3.8 l/100 km (comb)], [4.4 l/100 km (city)],...  \n",
       "co2_emission                                            [\\n99 g CO2/km (comb)\\n]  \n",
       "emission_class                                                      [\\nEuro 6\\n]  \n",
       "comfort_convenience            [Air conditioning, Cruise control, Electrical ...  \n",
       "entertainment_media                                     [MP3, On-board computer]  \n",
       "extras                                             [Alloy wheels, Voice Control]  \n",
       "safety_security                [ABS, Central door lock, Daytime running light...  \n",
       "description                    [\\n, Fahrzeug-Nummer: AM-95365,  , Ehem. UPE 2...  \n",
       "emission_label                                                   [\\n4 (Green)\\n]  \n",
       "gears                                                                        NaN  \n",
       "country_version                                                              NaN  \n",
       "electricity_consumption                                                      NaN  \n",
       "last_service_date                                                            NaN  \n",
       "other_fuel_types                                                             NaN  \n",
       "availability                                                                 NaN  \n",
       "last_timing_belt_service_date                                                NaN  \n",
       "available_from                                                               NaN  "
      ]
     },
     "execution_count": 2,
     "metadata": {},
     "output_type": "execute_result"
    }
   ],
   "source": [
    "df.head(3).T"
   ]
  },
  {
   "cell_type": "code",
   "execution_count": 3,
   "id": "e6c9d9bb-fe16-478a-bfd7-58cfba000993",
   "metadata": {},
   "outputs": [
    {
     "name": "stdout",
     "output_type": "stream",
     "text": [
      "<class 'pandas.core.frame.DataFrame'>\n",
      "RangeIndex: 15919 entries, 0 to 15918\n",
      "Data columns (total 54 columns):\n",
      " #   Column                         Non-Null Count  Dtype  \n",
      "---  ------                         --------------  -----  \n",
      " 0   url                            15919 non-null  object \n",
      " 1   make_model                     15919 non-null  object \n",
      " 2   short_description              15873 non-null  object \n",
      " 3   body_type                      15859 non-null  object \n",
      " 4   price                          15919 non-null  int64  \n",
      " 5   vat                            11406 non-null  object \n",
      " 6   km                             15919 non-null  object \n",
      " 7   registration                   15919 non-null  object \n",
      " 8   prev_owner                     9091 non-null   object \n",
      " 9   kw                             0 non-null      float64\n",
      " 10  hp                             15919 non-null  object \n",
      " 11  type                           15917 non-null  object \n",
      " 12  previous_owners                9279 non-null   object \n",
      " 13  next_inspection                3535 non-null   object \n",
      " 14  inspection_new                 3932 non-null   object \n",
      " 15  warranty                       10499 non-null  object \n",
      " 16  full_service                   8215 non-null   object \n",
      " 17  non-smoking_vehicle            7177 non-null   object \n",
      " 18  null                           15919 non-null  object \n",
      " 19  make                           15919 non-null  object \n",
      " 20  model                          15919 non-null  object \n",
      " 21  offer_number                   12744 non-null  object \n",
      " 22  first_registration             14322 non-null  object \n",
      " 23  body_color                     15322 non-null  object \n",
      " 24  paint_type                     10147 non-null  object \n",
      " 25  body_color_original            12160 non-null  object \n",
      " 26  upholstery                     12199 non-null  object \n",
      " 27  body                           15859 non-null  object \n",
      " 28  nr_of_doors                    15707 non-null  object \n",
      " 29  nr_of_seats                    14942 non-null  object \n",
      " 30  model_code                     4978 non-null   object \n",
      " 31  gearing_type                   15919 non-null  object \n",
      " 32  displacement                   15423 non-null  object \n",
      " 33  cylinders                      10239 non-null  object \n",
      " 34  weight                         8945 non-null   object \n",
      " 35  drive_chain                    9061 non-null   object \n",
      " 36  fuel                           15919 non-null  object \n",
      " 37  consumption                    14013 non-null  object \n",
      " 38  co2_emission                   14111 non-null  object \n",
      " 39  emission_class                 12898 non-null  object \n",
      " 40  comfort_convenience            14999 non-null  object \n",
      " 41  entertainment_media            14545 non-null  object \n",
      " 42  extras                         12957 non-null  object \n",
      " 43  safety_security                14937 non-null  object \n",
      " 44  description                    15919 non-null  object \n",
      " 45  emission_label                 3985 non-null   object \n",
      " 46  gears                          11207 non-null  object \n",
      " 47  country_version                7586 non-null   object \n",
      " 48  electricity_consumption        137 non-null    object \n",
      " 49  last_service_date              566 non-null    object \n",
      " 50  other_fuel_types               880 non-null    object \n",
      " 51  availability                   635 non-null    object \n",
      " 52  last_timing_belt_service_date  16 non-null     object \n",
      " 53  available_from                 272 non-null    object \n",
      "dtypes: float64(1), int64(1), object(52)\n",
      "memory usage: 6.6+ MB\n"
     ]
    }
   ],
   "source": [
    "df.info()"
   ]
  },
  {
   "cell_type": "markdown",
   "id": "376b70f6-3912-4559-a806-4901230e6eb4",
   "metadata": {
    "jp-MarkdownHeadingCollapsed": true
   },
   "source": [
    "---\n",
    "\n",
    "## Droping columns that have missing values more than 90%."
   ]
  },
  {
   "cell_type": "code",
   "execution_count": 4,
   "id": "fd99e597-3d0e-4e67-b9bc-f670cc816df2",
   "metadata": {},
   "outputs": [],
   "source": [
    "def df_nans(df, limit):\n",
    "    missing = df.isnull().sum()*100 / df.shape[0]\n",
    "    return missing.loc[lambda x : x >= limit]\n",
    "\n",
    "def column_nans(serial):\n",
    "    # display percentage of nans in a Series\n",
    "    return serial.isnull().sum()*100 / serial.shape[0]"
   ]
  },
  {
   "cell_type": "code",
   "execution_count": 5,
   "id": "7e074c0f-c954-4016-8af1-f1f399537962",
   "metadata": {},
   "outputs": [
    {
     "data": {
      "text/plain": [
       "kw                               100.000000\n",
       "electricity_consumption           99.139393\n",
       "last_service_date                 96.444500\n",
       "other_fuel_types                  94.472015\n",
       "availability                      96.011056\n",
       "last_timing_belt_service_date     99.899491\n",
       "available_from                    98.291350\n",
       "dtype: float64"
      ]
     },
     "execution_count": 5,
     "metadata": {},
     "output_type": "execute_result"
    }
   ],
   "source": [
    "df_nans(df, 90)"
   ]
  },
  {
   "cell_type": "code",
   "execution_count": 6,
   "id": "df0de71f-333d-4c73-a091-6c32028c6445",
   "metadata": {},
   "outputs": [
    {
     "data": {
      "text/plain": [
       "Index(['kw', 'electricity_consumption', 'last_service_date',\n",
       "       'other_fuel_types', 'availability', 'last_timing_belt_service_date',\n",
       "       'available_from'],\n",
       "      dtype='object')"
      ]
     },
     "execution_count": 6,
     "metadata": {},
     "output_type": "execute_result"
    }
   ],
   "source": [
    "drop_columns = df_nans(df, 90).index\n",
    "drop_columns"
   ]
  },
  {
   "cell_type": "code",
   "execution_count": 7,
   "id": "2ddc9097-0f01-4424-b31c-a48c74e4932d",
   "metadata": {},
   "outputs": [],
   "source": [
    "df.drop(drop_columns, axis=1, inplace=True)"
   ]
  },
  {
   "cell_type": "code",
   "execution_count": 8,
   "id": "d4436867-b996-4c27-9f1f-2116337fec8f",
   "metadata": {},
   "outputs": [
    {
     "data": {
      "text/plain": [
       "Index(['url', 'make_model', 'short_description', 'body_type', 'price', 'vat',\n",
       "       'km', 'registration', 'prev_owner', 'hp', 'type', 'previous_owners',\n",
       "       'next_inspection', 'inspection_new', 'warranty', 'full_service',\n",
       "       'non-smoking_vehicle', 'null', 'make', 'model', 'offer_number',\n",
       "       'first_registration', 'body_color', 'paint_type', 'body_color_original',\n",
       "       'upholstery', 'body', 'nr_of_doors', 'nr_of_seats', 'model_code',\n",
       "       'gearing_type', 'displacement', 'cylinders', 'weight', 'drive_chain',\n",
       "       'fuel', 'consumption', 'co2_emission', 'emission_class',\n",
       "       'comfort_convenience', 'entertainment_media', 'extras',\n",
       "       'safety_security', 'description', 'emission_label', 'gears',\n",
       "       'country_version'],\n",
       "      dtype='object')"
      ]
     },
     "execution_count": 8,
     "metadata": {},
     "output_type": "execute_result"
    }
   ],
   "source": [
    "df.columns"
   ]
  },
  {
   "cell_type": "markdown",
   "id": "5b4a28fb-f22e-4ac9-96ef-f5d467b6b1c7",
   "metadata": {
    "jp-MarkdownHeadingCollapsed": true
   },
   "source": [
    "---\n",
    "\n",
    "## Helper Functions"
   ]
  },
  {
   "cell_type": "code",
   "execution_count": 9,
   "id": "9c501b0c-a41f-4d5a-962a-9aa45a6930da",
   "metadata": {},
   "outputs": [],
   "source": [
    "def safe_strip(x):\n",
    "    if isinstance(x, list) and len(x) > 1:\n",
    "        return x[1].strip()\n",
    "    return x  # Return the original if it's not a list or too short\n",
    "\n",
    "df['body'] = df['body'].apply(safe_strip)"
   ]
  },
  {
   "cell_type": "code",
   "execution_count": 10,
   "id": "cba7c39a-81e2-4c3a-9f1c-a0aca1414498",
   "metadata": {},
   "outputs": [],
   "source": [
    "def combine_columns(p1,p2):\n",
    "    if p1 == p2:\n",
    "        return p1\n",
    "    elif np.isnan(p1) :\n",
    "        if np.isnan(p2):\n",
    "            return np.nan\n",
    "        else:\n",
    "            return p2\n",
    "    elif np.isnan(p2):\n",
    "        if np.isnan(p1):\n",
    "            return np.nan\n",
    "        else:\n",
    "            return p1\n",
    "    else:\n",
    "        return 'conflict'\n",
    "\n",
    "#df.apply(lambda x: combine_columns(x[''],x['']), axis=1)"
   ]
  },
  {
   "cell_type": "markdown",
   "id": "ef39f82c-e84c-4b85-a880-8345d73905cb",
   "metadata": {
    "jp-MarkdownHeadingCollapsed": true
   },
   "source": [
    "---\n",
    "\n",
    "## General Columns\n",
    "- [x] url: url of autos\n",
    "- [x] short_description, description: Description of autos (in English and German) written by users"
   ]
  },
  {
   "cell_type": "markdown",
   "id": "a6832cbc-c881-4be0-a931-a9c41b4e8a36",
   "metadata": {},
   "source": [
    "### url"
   ]
  },
  {
   "cell_type": "markdown",
   "id": "70f1c48c-b35d-48b1-8735-917635b54fcd",
   "metadata": {
    "jp-MarkdownHeadingCollapsed": true
   },
   "source": [
    "#### dropped becuase data not needed"
   ]
  },
  {
   "cell_type": "code",
   "execution_count": 11,
   "id": "c90af760-4bf0-48f3-8087-211fc3e41db9",
   "metadata": {},
   "outputs": [],
   "source": [
    "df = df.drop(['url'], axis=1)"
   ]
  },
  {
   "cell_type": "markdown",
   "id": "e6686425-8b44-408c-b08c-7f9bd0788fb8",
   "metadata": {
    "jp-MarkdownHeadingCollapsed": true
   },
   "source": [
    "### short_description"
   ]
  },
  {
   "cell_type": "code",
   "execution_count": 12,
   "id": "3d480fd6-df00-43ec-92f6-39ec3d35f224",
   "metadata": {},
   "outputs": [],
   "source": [
    "df = df.drop(['short_description'], axis=1)"
   ]
  },
  {
   "cell_type": "markdown",
   "id": "c0fd4b0b-bb0c-4bd1-9f82-08f4623a93d2",
   "metadata": {},
   "source": [
    "#### dropped because data elsewhere in dataframe"
   ]
  },
  {
   "cell_type": "markdown",
   "id": "aba9340a-e95e-49e6-91e7-f41ddc4a9269",
   "metadata": {
    "jp-MarkdownHeadingCollapsed": true
   },
   "source": [
    "### description column"
   ]
  },
  {
   "cell_type": "markdown",
   "id": "c8842c70-5da3-40b5-8b27-f8fd4e2d918e",
   "metadata": {},
   "source": [
    "#### Dropped because it includes German description of car written by users"
   ]
  },
  {
   "cell_type": "code",
   "execution_count": 13,
   "id": "eee0270a-779f-49c7-b598-8e1cd5c83777",
   "metadata": {},
   "outputs": [
    {
     "data": {
      "text/plain": [
       "0        [\\n, Sicherheit:,  , Deaktivierung für Beifahr...\n",
       "1        [\\nLangstreckenfahrzeug daher die hohe Kilomet...\n",
       "2        [\\n, Fahrzeug-Nummer: AM-95365,  , Ehem. UPE 2...\n",
       "3        [\\nAudi A1: , - 1e eigenaar , - Perfecte staat...\n",
       "4        [\\n, Technik & Sicherheit:, Xenon plus, Klimaa...\n",
       "                               ...                        \n",
       "15914    [\\nVettura visionabile nella sede in Via Roma ...\n",
       "15915    [\\nDach: Panorama-Glas-Schiebedach, Lackierung...\n",
       "15916    [\\n, Getriebe:,  Automatik, Technik:,  Bordcom...\n",
       "15917    [\\nDEK:[2691331], Renault Espace Blue dCi 200C...\n",
       "15918    [\\n, Sicherheit Airbags:,  , Seitenairbag,  , ...\n",
       "Name: description, Length: 15919, dtype: object"
      ]
     },
     "execution_count": 13,
     "metadata": {},
     "output_type": "execute_result"
    }
   ],
   "source": [
    "df['description']"
   ]
  },
  {
   "cell_type": "code",
   "execution_count": 14,
   "id": "75140865-7941-4304-9426-9728ba08499a",
   "metadata": {},
   "outputs": [],
   "source": [
    "df.drop('description',axis=1,inplace=True)"
   ]
  },
  {
   "cell_type": "markdown",
   "id": "7eaf586a-c221-4542-9c83-ac39714de704",
   "metadata": {},
   "source": [
    "### make_model, make and model (drop make and model)"
   ]
  },
  {
   "cell_type": "markdown",
   "id": "54816bf9-1c53-4013-a35a-1d9e81bdaee4",
   "metadata": {},
   "source": [
    "---\n",
    "\n",
    "## Categorical Columns\n",
    "- [x] make_model, make, model: Model of autos. Ex:Audi A1 \n",
    "- [x] body_type: Body type of autos Example: van, sedans\n",
    "- [x] body: Body type of autos Example: van, sedans\n",
    "- [x] vat: VAT deductible\n",
    "- [x] registration: First registration date and year of autos. \n",
    "- [x] first_registration: First registration date and year of autos. \n",
    "- [x] type: new or used \n",
    "- [x] next_inspection: information about inspection (inspection date,..) \n",
    "- [x] inspection_new: information about inspection (inspection date,..) \n",
    "- [x] body_color: Color of auto Ex: Black, red\n",
    "- [x] body_color_original: Color of auto Ex: Black, red\n",
    "- [x] paint_type: Paint type of auto Ex: Metallic, Uni/basic \n",
    "- [x] upholstery: Upholstery information (texture, color) \n",
    "- [x] gearing_type: Type of gear Ex: automatic, manual \n",
    "- [x] fuel Ex: diesel, benzine \n",
    "- [x] emission_class\n",
    "- [x] emission_label\n",
    "- [x] drive_chain: drive chain Ex: front,rear, 4WD \n",
    "- [x] country_version \n",
    "- [x] entertainment_media \n",
    "- [x] safety_security\n",
    "- [x] comfort_convenience \n",
    "- [x] extras "
   ]
  },
  {
   "cell_type": "markdown",
   "id": "87b6fdd3-1fcc-4436-b845-d7e04eeb4292",
   "metadata": {
    "jp-MarkdownHeadingCollapsed": true
   },
   "source": [
    "#### Drop make and model because they are redundent with make_model"
   ]
  },
  {
   "cell_type": "code",
   "execution_count": 15,
   "id": "039c7d08-3c47-4cd0-8c23-f00d789ddab8",
   "metadata": {},
   "outputs": [],
   "source": [
    "df = df.drop(['make', 'model'], axis=1)"
   ]
  },
  {
   "cell_type": "code",
   "execution_count": 16,
   "id": "619348f1-157c-4f85-8d56-c7da92b4f2fd",
   "metadata": {},
   "outputs": [
    {
     "data": {
      "text/plain": [
       "make_model\n",
       "Audi A3           3097\n",
       "Audi A1           2614\n",
       "Opel Insignia     2598\n",
       "Opel Astra        2526\n",
       "Opel Corsa        2219\n",
       "Renault Clio      1839\n",
       "Renault Espace     991\n",
       "Renault Duster      34\n",
       "Audi A2              1\n",
       "Name: count, dtype: int64"
      ]
     },
     "execution_count": 16,
     "metadata": {},
     "output_type": "execute_result"
    }
   ],
   "source": [
    "df['make_model'].value_counts(dropna=False)"
   ]
  },
  {
   "cell_type": "markdown",
   "id": "d23154c5-dd8b-4d33-b358-c717f6beb71c",
   "metadata": {
    "jp-MarkdownHeadingCollapsed": true
   },
   "source": [
    "### body_type and body (drop body)"
   ]
  },
  {
   "cell_type": "code",
   "execution_count": 17,
   "id": "3b594c81-4013-4535-aa84-2a2c01ff1ace",
   "metadata": {},
   "outputs": [
    {
     "data": {
      "text/plain": [
       "body_type\n",
       "Sedans           7903\n",
       "Station wagon    3553\n",
       "Compact          3153\n",
       "Van               783\n",
       "Other             290\n",
       "Transporter        88\n",
       "None               60\n",
       "Off-Road           56\n",
       "Coupe              25\n",
       "Convertible         8\n",
       "Name: count, dtype: int64"
      ]
     },
     "execution_count": 17,
     "metadata": {},
     "output_type": "execute_result"
    }
   ],
   "source": [
    "df['body_type'].value_counts(dropna=False)"
   ]
  },
  {
   "cell_type": "code",
   "execution_count": 18,
   "id": "e339216b-0925-4b48-a5aa-43604b7f4072",
   "metadata": {},
   "outputs": [
    {
     "data": {
      "text/plain": [
       "body\n",
       "Sedans           7903\n",
       "Station wagon    3553\n",
       "Compact          3153\n",
       "Van               783\n",
       "Other             290\n",
       "Transporter        88\n",
       "NaN                60\n",
       "Off-Road           56\n",
       "Coupe              25\n",
       "Convertible         8\n",
       "Name: count, dtype: int64"
      ]
     },
     "execution_count": 18,
     "metadata": {},
     "output_type": "execute_result"
    }
   ],
   "source": [
    "df['body'].value_counts(dropna=False)"
   ]
  },
  {
   "cell_type": "markdown",
   "id": "baa5e9ec-d165-46d5-9752-2154a234aad9",
   "metadata": {},
   "source": [
    "#### body_type and body are the same, can drop body"
   ]
  },
  {
   "cell_type": "code",
   "execution_count": 19,
   "id": "6c3ec10e-6529-4b8f-ba67-522ef0259f77",
   "metadata": {},
   "outputs": [],
   "source": [
    "df.drop('body', axis=1, inplace=True)"
   ]
  },
  {
   "cell_type": "markdown",
   "id": "5d47d324-8735-4b51-a87f-6876d6bf8f43",
   "metadata": {
    "jp-MarkdownHeadingCollapsed": true
   },
   "source": [
    "### vat"
   ]
  },
  {
   "cell_type": "code",
   "execution_count": 20,
   "id": "a14c61cb-6d8d-4aec-b6de-d351c97218ab",
   "metadata": {},
   "outputs": [
    {
     "data": {
      "text/plain": [
       "vat\n",
       "VAT deductible      10980\n",
       "None                 4513\n",
       "Price negotiable      426\n",
       "Name: count, dtype: int64"
      ]
     },
     "execution_count": 20,
     "metadata": {},
     "output_type": "execute_result"
    }
   ],
   "source": [
    "df['vat'].value_counts(dropna=False)"
   ]
  },
  {
   "cell_type": "markdown",
   "id": "df7c624c-2732-4f05-8768-5d41950a873f",
   "metadata": {},
   "source": [
    "### registration and registration_year (merge and drop registration)"
   ]
  },
  {
   "cell_type": "code",
   "execution_count": 21,
   "id": "786b358b-6a70-490a-bbfa-b79df02e3118",
   "metadata": {},
   "outputs": [],
   "source": [
    "df['registration'] = df['registration'].replace('-/-', np.nan)\n",
    "df['registration'] = pd.DatetimeIndex(df['registration'])\n",
    "df['registration_year'] = pd.DatetimeIndex(df['registration']).year"
   ]
  },
  {
   "cell_type": "code",
   "execution_count": 22,
   "id": "7c4ac3f7-773c-4183-a5e3-ac048a29cb71",
   "metadata": {},
   "outputs": [
    {
     "data": {
      "text/plain": [
       "registration_year\n",
       "2018.0    4522\n",
       "2016.0    3674\n",
       "2017.0    3273\n",
       "2019.0    2853\n",
       "NaN       1597\n",
       "Name: count, dtype: int64"
      ]
     },
     "execution_count": 22,
     "metadata": {},
     "output_type": "execute_result"
    }
   ],
   "source": [
    "df['registration_year'].value_counts(dropna=False)"
   ]
  },
  {
   "cell_type": "markdown",
   "id": "24d2bfab-bc79-4091-b50c-0225928693bf",
   "metadata": {},
   "source": [
    "#### drop registration b/c no longer needed"
   ]
  },
  {
   "cell_type": "code",
   "execution_count": 23,
   "id": "0e8436ec-efbc-4211-a2db-00d176607d7c",
   "metadata": {},
   "outputs": [],
   "source": [
    "df.drop('registration', axis=1, inplace=True)"
   ]
  },
  {
   "cell_type": "markdown",
   "id": "5952fe9c-8d69-4f38-9f96-d4fd90195849",
   "metadata": {
    "jp-MarkdownHeadingCollapsed": true
   },
   "source": [
    "### type"
   ]
  },
  {
   "cell_type": "code",
   "execution_count": 24,
   "id": "f38c923e-f049-4388-be53-430a837cd133",
   "metadata": {},
   "outputs": [],
   "source": [
    "df['type'] = df['type'].str[1]"
   ]
  },
  {
   "cell_type": "code",
   "execution_count": 25,
   "id": "704fb3a3-f549-4c62-9340-75b954123910",
   "metadata": {},
   "outputs": [
    {
     "data": {
      "text/plain": [
       "type\n",
       "Used              11096\n",
       "New                1650\n",
       "Pre-registered     1364\n",
       "Employee's car     1011\n",
       "Demonstration       796\n",
       "NaN                   2\n",
       "Name: count, dtype: int64"
      ]
     },
     "execution_count": 25,
     "metadata": {},
     "output_type": "execute_result"
    }
   ],
   "source": [
    "df['type'].value_counts(dropna=False)"
   ]
  },
  {
   "cell_type": "markdown",
   "id": "5739a625-181e-4555-a998-21036c0c050b",
   "metadata": {
    "jp-MarkdownHeadingCollapsed": true
   },
   "source": [
    "### next_inspection"
   ]
  },
  {
   "cell_type": "code",
   "execution_count": 26,
   "id": "0c88201e-70f6-4496-85c7-734ea046fd0d",
   "metadata": {},
   "outputs": [],
   "source": [
    "df['next_inspection'] = df['next_inspection'].str[0].str.strip().astype(\"string\")\n",
    "df['next_inspection'] = pd.DatetimeIndex(df['next_inspection'])\n",
    "df['next_inspection'] = pd.DatetimeIndex(df['next_inspection']).year"
   ]
  },
  {
   "cell_type": "code",
   "execution_count": 27,
   "id": "c6008d99-1133-4b34-9fb0-65bd9f9faa87",
   "metadata": {},
   "outputs": [
    {
     "data": {
      "text/plain": [
       "next_inspection\n",
       "NaN       13094\n",
       "2021.0     1401\n",
       "2020.0      557\n",
       "2022.0      483\n",
       "2019.0      336\n",
       "2018.0       26\n",
       "2017.0        7\n",
       "2023.0        5\n",
       "2001.0        5\n",
       "2016.0        3\n",
       "2014.0        1\n",
       "1921.0        1\n",
       "Name: count, dtype: int64"
      ]
     },
     "execution_count": 27,
     "metadata": {},
     "output_type": "execute_result"
    }
   ],
   "source": [
    "df['next_inspection'].value_counts(dropna=False)"
   ]
  },
  {
   "cell_type": "markdown",
   "id": "99392fb1-da7f-4e32-8e3f-926fcdb54e3a",
   "metadata": {
    "jp-MarkdownHeadingCollapsed": true
   },
   "source": [
    "### inspection_new"
   ]
  },
  {
   "cell_type": "code",
   "execution_count": 28,
   "id": "760d5ba2-70bb-463c-b0e5-3ccba3f84e21",
   "metadata": {},
   "outputs": [
    {
     "data": {
      "text/plain": [
       "0                     [\\nYes\\n, \\nEuro 6\\n]\n",
       "1                                       NaN\n",
       "2                                       NaN\n",
       "3                                       NaN\n",
       "4        [\\nYes\\n, \\n109 g CO2/km (comb)\\n]\n",
       "                        ...                \n",
       "15914                                   NaN\n",
       "15915                                   NaN\n",
       "15916           [\\nYes\\n, \\nEuro 6d-TEMP\\n]\n",
       "15917                                   NaN\n",
       "15918    [\\nYes\\n, \\n153 g CO2/km (comb)\\n]\n",
       "Name: inspection_new, Length: 15919, dtype: object"
      ]
     },
     "execution_count": 28,
     "metadata": {},
     "output_type": "execute_result"
    }
   ],
   "source": [
    "df['inspection_new']"
   ]
  },
  {
   "cell_type": "code",
   "execution_count": 29,
   "id": "6f1fcef4-64e3-48b1-a15a-ddf7a1c4cdcd",
   "metadata": {},
   "outputs": [],
   "source": [
    "df['inspection_new'] = df['inspection_new'].str[0].str.strip()"
   ]
  },
  {
   "cell_type": "code",
   "execution_count": 30,
   "id": "83d4e6bc-1235-4a25-893c-8fa398bbe29f",
   "metadata": {},
   "outputs": [
    {
     "data": {
      "text/plain": [
       "inspection_new\n",
       "NaN    11987\n",
       "Yes     3570\n",
       "         362\n",
       "Name: count, dtype: int64"
      ]
     },
     "execution_count": 30,
     "metadata": {},
     "output_type": "execute_result"
    }
   ],
   "source": [
    "df['inspection_new'].value_counts(dropna=False)"
   ]
  },
  {
   "cell_type": "markdown",
   "id": "931226b5-5dd7-40dc-b945-7d1138ee3d2d",
   "metadata": {
    "jp-MarkdownHeadingCollapsed": true
   },
   "source": [
    "### body_color"
   ]
  },
  {
   "cell_type": "code",
   "execution_count": 31,
   "id": "f9e22aa0-757d-4b0d-9e6d-0499be06a777",
   "metadata": {},
   "outputs": [],
   "source": [
    "df['body_color'] = df['body_color'].str[1]"
   ]
  },
  {
   "cell_type": "code",
   "execution_count": 32,
   "id": "113b9a8d-8a71-428d-a5d4-a575ff487b88",
   "metadata": {},
   "outputs": [
    {
     "data": {
      "text/plain": [
       "body_color\n",
       "Black     3745\n",
       "Grey      3505\n",
       "White     3406\n",
       "Silver    1647\n",
       "Blue      1431\n",
       "Red        957\n",
       "NaN        597\n",
       "Brown      289\n",
       "Green      154\n",
       "Beige      108\n",
       "Yellow      51\n",
       "Violet      18\n",
       "Bronze       6\n",
       "Orange       3\n",
       "Gold         2\n",
       "Name: count, dtype: int64"
      ]
     },
     "execution_count": 32,
     "metadata": {},
     "output_type": "execute_result"
    }
   ],
   "source": [
    "df['body_color'].value_counts(dropna=False)"
   ]
  },
  {
   "cell_type": "markdown",
   "id": "a4829d57-9890-4e27-98bd-d2d7bf1d3c40",
   "metadata": {
    "jp-MarkdownHeadingCollapsed": true
   },
   "source": [
    "### body_color_original (dropped)"
   ]
  },
  {
   "cell_type": "code",
   "execution_count": 33,
   "id": "5fd49b48-b1ea-45a1-8427-604f24882368",
   "metadata": {},
   "outputs": [],
   "source": [
    "df['body_color_original'] = df['body_color_original'].str[0].str[1:-1]"
   ]
  },
  {
   "cell_type": "code",
   "execution_count": 34,
   "id": "1415d1bd-dddd-4037-b131-91831bfcbde1",
   "metadata": {},
   "outputs": [
    {
     "data": {
      "text/plain": [
       "body_color_original\n",
       "NaN                              3759\n",
       "Onyx Schwarz                      338\n",
       "Bianco                            282\n",
       "Mythosschwarz Metallic            238\n",
       "Brillantschwarz                   216\n",
       "                                 ... \n",
       "Rouge-Braun (G0Y)                   1\n",
       "VARI COLRI DISPONIBILI              1\n",
       "Kokosnussbraun Metallic             1\n",
       "Farbe frei wählbar                  1\n",
       "Perlmutt-Weiß Metallic (Weiß)       1\n",
       "Name: count, Length: 1928, dtype: int64"
      ]
     },
     "execution_count": 34,
     "metadata": {},
     "output_type": "execute_result"
    }
   ],
   "source": [
    "df['body_color_original'].value_counts(dropna=False)"
   ]
  },
  {
   "cell_type": "code",
   "execution_count": 35,
   "id": "dbe92185-e73f-4065-9ff4-055ad255403f",
   "metadata": {},
   "outputs": [
    {
     "data": {
      "text/plain": [
       "3759"
      ]
     },
     "execution_count": 35,
     "metadata": {},
     "output_type": "execute_result"
    }
   ],
   "source": [
    "df['body_color_original'].isnull().sum()"
   ]
  },
  {
   "cell_type": "code",
   "execution_count": 36,
   "id": "814fce75-8543-4278-b67c-d7a3456d9885",
   "metadata": {},
   "outputs": [],
   "source": [
    "#import statsmodels.api as sm\n",
    "#from statsmodels.formula.api import ols\n",
    "#model = ols('price ~ C(body_color_original)', data=df).fit()\n",
    "#anova_table = sm.stats.anova_lm(model, typ=2)\n",
    "#anova_table"
   ]
  },
  {
   "cell_type": "markdown",
   "id": "415d8cb3-577a-4dff-927f-032651e63596",
   "metadata": {},
   "source": [
    "#### This column also can be dropped"
   ]
  },
  {
   "cell_type": "code",
   "execution_count": 37,
   "id": "5c637741-8c0d-4709-824c-50d1664b9a69",
   "metadata": {},
   "outputs": [],
   "source": [
    "df.drop('body_color_original',axis=1,inplace=True)"
   ]
  },
  {
   "cell_type": "markdown",
   "id": "5708a00d-5024-4795-a7c5-4a30812142b6",
   "metadata": {
    "jp-MarkdownHeadingCollapsed": true
   },
   "source": [
    "### paint_type"
   ]
  },
  {
   "cell_type": "code",
   "execution_count": 38,
   "id": "09e4a852-b982-41d2-8028-0d546f4658d0",
   "metadata": {},
   "outputs": [],
   "source": [
    "df['paint_type'] = df['paint_type'].str[0].str.strip()"
   ]
  },
  {
   "cell_type": "code",
   "execution_count": 39,
   "id": "43c0beca-641c-4426-9ada-acb173e37cdb",
   "metadata": {},
   "outputs": [
    {
     "data": {
      "text/plain": [
       "0        Metallic\n",
       "1             NaN\n",
       "2        Metallic\n",
       "3        Metallic\n",
       "4        Metallic\n",
       "           ...   \n",
       "15914    Metallic\n",
       "15915    Metallic\n",
       "15916         NaN\n",
       "15917         NaN\n",
       "15918    Metallic\n",
       "Name: paint_type, Length: 15919, dtype: object"
      ]
     },
     "execution_count": 39,
     "metadata": {},
     "output_type": "execute_result"
    }
   ],
   "source": [
    "df['paint_type']"
   ]
  },
  {
   "cell_type": "markdown",
   "id": "98e2f73a-ab93-446f-9553-b4a6ebe96540",
   "metadata": {
    "jp-MarkdownHeadingCollapsed": true
   },
   "source": [
    "### upholstery (dropped and upholstery_color and upholstery_material columns created)"
   ]
  },
  {
   "cell_type": "code",
   "execution_count": 40,
   "id": "7d7f53ba-02d9-4dd9-9e3b-c793942433f1",
   "metadata": {},
   "outputs": [],
   "source": [
    "df['upholstery_material'] = df['upholstery'].str[0].str.replace('\\n','').str.split(', ').str[0]"
   ]
  },
  {
   "cell_type": "code",
   "execution_count": 41,
   "id": "480cd87c-6c2c-40b7-8328-a8e588d5014e",
   "metadata": {},
   "outputs": [],
   "source": [
    "list_color = ['Black','Grey','Brown','Beige', 'Blue', 'White']\n",
    "for i in list_color:\n",
    "    df['upholstery_material'] = df['upholstery_material'].replace(i,np.nan)"
   ]
  },
  {
   "cell_type": "code",
   "execution_count": 42,
   "id": "516b1dca-6d85-44d2-b845-6037605d46ba",
   "metadata": {},
   "outputs": [
    {
     "data": {
      "text/plain": [
       "upholstery_material\n",
       "Cloth           8423\n",
       "NaN             4503\n",
       "Part leather    1499\n",
       "Full leather    1009\n",
       "Other            368\n",
       "Velour            60\n",
       "alcantara         57\n",
       "Name: count, dtype: int64"
      ]
     },
     "execution_count": 42,
     "metadata": {},
     "output_type": "execute_result"
    }
   ],
   "source": [
    "df['upholstery_material'].value_counts(dropna=False)"
   ]
  },
  {
   "cell_type": "code",
   "execution_count": 43,
   "id": "5a6a4437-cd31-464e-b4db-5e9159245e3e",
   "metadata": {},
   "outputs": [
    {
     "data": {
      "text/plain": [
       "upholstery_material\n",
       "Cloth           8423\n",
       "NaN             4503\n",
       "Part leather    1499\n",
       "Full leather    1009\n",
       "Other            368\n",
       "Velour            60\n",
       "alcantara         57\n",
       "Name: count, dtype: int64"
      ]
     },
     "execution_count": 43,
     "metadata": {},
     "output_type": "execute_result"
    }
   ],
   "source": [
    "df['upholstery_material'].value_counts(dropna=False)"
   ]
  },
  {
   "cell_type": "code",
   "execution_count": 44,
   "id": "9a55e3de-a413-46d9-a675-51e234395745",
   "metadata": {},
   "outputs": [],
   "source": [
    "df['upholstery_color'] = df['upholstery'].str[0].str.replace('\\n','').str.replace(', ','')"
   ]
  },
  {
   "cell_type": "code",
   "execution_count": 45,
   "id": "856ea333-68f7-4d38-92e2-42ba00186bc5",
   "metadata": {},
   "outputs": [],
   "source": [
    "list_uph_mat = ['Cloth', 'Part leather', 'Full leather', 'Other', 'Velour', 'alcantara']\n",
    "for i in list_uph_mat:\n",
    "    df['upholstery_color'] = df['upholstery_color'].str.replace(i,'')"
   ]
  },
  {
   "cell_type": "code",
   "execution_count": 46,
   "id": "0590ee8f-c2d7-4d18-8b2e-72483a49499c",
   "metadata": {},
   "outputs": [],
   "source": [
    "df['upholstery_color'] = df['upholstery_color'].replace('',np.nan)"
   ]
  },
  {
   "cell_type": "code",
   "execution_count": 47,
   "id": "041769b2-6ab5-4688-936f-3f93377d3505",
   "metadata": {},
   "outputs": [
    {
     "data": {
      "text/plain": [
       "upholstery_color\n",
       "Black     8201\n",
       "NaN       6038\n",
       "Grey      1376\n",
       "Brown      207\n",
       "Beige       54\n",
       "Blue        16\n",
       "White       13\n",
       "Red          9\n",
       "Yellow       4\n",
       "Orange       1\n",
       "Name: count, dtype: int64"
      ]
     },
     "execution_count": 47,
     "metadata": {},
     "output_type": "execute_result"
    }
   ],
   "source": [
    "df['upholstery_color'].value_counts(dropna=False)"
   ]
  },
  {
   "cell_type": "markdown",
   "id": "d2cb352b-ccc6-4280-8107-5a320d3fff3e",
   "metadata": {},
   "source": [
    "#### upholstery column cleaned and by this column two columns called upholstery_color and upholstery_material were created. upholstery column can be dropped."
   ]
  },
  {
   "cell_type": "code",
   "execution_count": 48,
   "id": "c94636df-2046-427a-9697-b2c2ab341221",
   "metadata": {},
   "outputs": [],
   "source": [
    "df = df.drop('upholstery', axis=1)"
   ]
  },
  {
   "cell_type": "markdown",
   "id": "254a3e22-879b-4fad-a34a-b6a4f5d0e1e7",
   "metadata": {
    "jp-MarkdownHeadingCollapsed": true
   },
   "source": [
    "### gearing_type"
   ]
  },
  {
   "cell_type": "code",
   "execution_count": 49,
   "id": "0b9108b8-b173-4407-a416-05bc83b42489",
   "metadata": {},
   "outputs": [],
   "source": [
    "df['gearing_type'] = df['gearing_type'].str[1]"
   ]
  },
  {
   "cell_type": "code",
   "execution_count": 50,
   "id": "b0d4d4c6-3135-4146-814b-c99efdb35ecb",
   "metadata": {},
   "outputs": [
    {
     "data": {
      "text/plain": [
       "gearing_type\n",
       "Manual            8153\n",
       "Automatic         7297\n",
       "Semi-automatic     469\n",
       "Name: count, dtype: int64"
      ]
     },
     "execution_count": 50,
     "metadata": {},
     "output_type": "execute_result"
    }
   ],
   "source": [
    "df['gearing_type'].value_counts(dropna=False)"
   ]
  },
  {
   "cell_type": "markdown",
   "id": "87bd54f3-6a84-4cd6-b7c5-b793d7e09075",
   "metadata": {},
   "source": [
    "### fuel"
   ]
  },
  {
   "cell_type": "code",
   "execution_count": 51,
   "id": "93ab2c17-93ec-49ff-b4ea-cdad4ae57874",
   "metadata": {},
   "outputs": [],
   "source": [
    "df['fuel'] = df['fuel'].str[1].str.split(\"/\").str[0].str.strip()"
   ]
  },
  {
   "cell_type": "code",
   "execution_count": 52,
   "id": "589cf124-2c01-41ac-ac77-a62b671b0dfb",
   "metadata": {},
   "outputs": [
    {
     "data": {
      "text/plain": [
       "fuel\n",
       "Diesel (Particulate Filter)          4315\n",
       "Super 95                             4100\n",
       "Gasoline                             3175\n",
       "Diesel                               2984\n",
       "Regular                               503\n",
       "Super E10 95                          402\n",
       "Super 95 (Particulate Filter)         268\n",
       "Gasoline (Particulate Filter)          77\n",
       "CNG                                    33\n",
       "LPG                                    16\n",
       "Super Plus 98                          11\n",
       "Liquid petroleum gas (LPG)             10\n",
       "Super E10 95 (Particulate Filter)       7\n",
       "Electric                                5\n",
       "Others                                  5\n",
       "CNG (Particulate Filter)                3\n",
       "Super Plus E10 98                       2\n",
       "Others (Particulate Filter)             1\n",
       "Biogas                                  1\n",
       "Domestic gas H                          1\n",
       "Name: count, dtype: int64"
      ]
     },
     "execution_count": 52,
     "metadata": {},
     "output_type": "execute_result"
    }
   ],
   "source": [
    "df['fuel'].value_counts(dropna=False)"
   ]
  },
  {
   "cell_type": "code",
   "execution_count": 53,
   "id": "ba197e01-d3ec-45fb-bb81-5059a3a0eeec",
   "metadata": {},
   "outputs": [],
   "source": [
    "df['fuel'] = df.fuel.str.split(\"(\").str[0].str.strip()"
   ]
  },
  {
   "cell_type": "code",
   "execution_count": 54,
   "id": "1d064098-4e8c-4ad4-a936-f2ffc990fa2a",
   "metadata": {},
   "outputs": [
    {
     "data": {
      "text/plain": [
       "fuel\n",
       "Diesel                  7299\n",
       "Super 95                4368\n",
       "Gasoline                3252\n",
       "Regular                  503\n",
       "Super E10 95             409\n",
       "CNG                       36\n",
       "LPG                       16\n",
       "Super Plus 98             11\n",
       "Liquid petroleum gas      10\n",
       "Others                     6\n",
       "Electric                   5\n",
       "Super Plus E10 98          2\n",
       "Biogas                     1\n",
       "Domestic gas H             1\n",
       "Name: count, dtype: int64"
      ]
     },
     "execution_count": 54,
     "metadata": {},
     "output_type": "execute_result"
    }
   ],
   "source": [
    "df['fuel'].value_counts(dropna=False)"
   ]
  },
  {
   "cell_type": "code",
   "execution_count": 55,
   "id": "88522625-4d0c-4863-807f-c18f96864845",
   "metadata": {},
   "outputs": [],
   "source": [
    "benzine = [\"Gasoline\", \"Super 95\", \"Regular\", \"Super E10 95\", \"Super Plus 98\", \"Super Plus E10 98\", \"Others\"]\n",
    "lpg = [\"LPG\", \"Liquid petroleum gas\", \"CNG\", \"Biogas\", \"Domestic gas H\"]\n",
    "\n",
    "def fueltype(x):\n",
    "    if x in benzine:\n",
    "        return \"Benzine\"\n",
    "    elif x in lpg:\n",
    "        return \"LPG/CNG\"\n",
    "    else:\n",
    "        return x"
   ]
  },
  {
   "cell_type": "code",
   "execution_count": 56,
   "id": "59cf2271-5853-428f-84dc-2ce23fbeb842",
   "metadata": {},
   "outputs": [],
   "source": [
    "df['fuel'] = df['fuel'].apply(fueltype)"
   ]
  },
  {
   "cell_type": "code",
   "execution_count": 57,
   "id": "60d47f37-4b60-4de7-a7ad-95f40126561b",
   "metadata": {},
   "outputs": [
    {
     "data": {
      "text/plain": [
       "fuel\n",
       "Benzine     8551\n",
       "Diesel      7299\n",
       "LPG/CNG       64\n",
       "Electric       5\n",
       "Name: count, dtype: int64"
      ]
     },
     "execution_count": 57,
     "metadata": {},
     "output_type": "execute_result"
    }
   ],
   "source": [
    "df['fuel'].value_counts(dropna=False)"
   ]
  },
  {
   "cell_type": "code",
   "execution_count": 58,
   "id": "8386b7fd-b0ff-4047-ba58-5a7f0478937f",
   "metadata": {},
   "outputs": [
    {
     "data": {
      "text/html": [
       "<div>\n",
       "<style scoped>\n",
       "    .dataframe tbody tr th:only-of-type {\n",
       "        vertical-align: middle;\n",
       "    }\n",
       "\n",
       "    .dataframe tbody tr th {\n",
       "        vertical-align: top;\n",
       "    }\n",
       "\n",
       "    .dataframe thead th {\n",
       "        text-align: right;\n",
       "    }\n",
       "</style>\n",
       "<table border=\"1\" class=\"dataframe\">\n",
       "  <thead>\n",
       "    <tr style=\"text-align: right;\">\n",
       "      <th></th>\n",
       "      <th>make_model</th>\n",
       "      <th>body_type</th>\n",
       "      <th>co2_emission</th>\n",
       "      <th>gears</th>\n",
       "      <th>hp</th>\n",
       "      <th>consumption</th>\n",
       "      <th>price</th>\n",
       "    </tr>\n",
       "  </thead>\n",
       "  <tbody>\n",
       "    <tr>\n",
       "      <th>3356</th>\n",
       "      <td>Audi A3</td>\n",
       "      <td>Compact</td>\n",
       "      <td>NaN</td>\n",
       "      <td>[\\n6\\n]</td>\n",
       "      <td>150 kW</td>\n",
       "      <td>NaN</td>\n",
       "      <td>24950</td>\n",
       "    </tr>\n",
       "    <tr>\n",
       "      <th>3612</th>\n",
       "      <td>Audi A3</td>\n",
       "      <td>Sedans</td>\n",
       "      <td>[\\n36 g CO2/km (comb)\\n]</td>\n",
       "      <td>[\\n6\\n]</td>\n",
       "      <td>110 kW</td>\n",
       "      <td>[\\n, 1.6 l/100 km (comb), \\n, \\n, \\n]</td>\n",
       "      <td>38450</td>\n",
       "    </tr>\n",
       "    <tr>\n",
       "      <th>3615</th>\n",
       "      <td>Audi A3</td>\n",
       "      <td>Sedans</td>\n",
       "      <td>[\\n36 g CO2/km (comb)\\n]</td>\n",
       "      <td>[\\n6\\n]</td>\n",
       "      <td>110 kW</td>\n",
       "      <td>[\\n, 1.6 l/100 km (comb), \\n, \\n, \\n]</td>\n",
       "      <td>35899</td>\n",
       "    </tr>\n",
       "    <tr>\n",
       "      <th>3617</th>\n",
       "      <td>Audi A3</td>\n",
       "      <td>Sedans</td>\n",
       "      <td>[\\n36 g CO2/km (comb)\\n]</td>\n",
       "      <td>[\\n6\\n]</td>\n",
       "      <td>110 kW</td>\n",
       "      <td>[\\n, 1.6 l/100 km (comb), \\n, \\n, \\n]</td>\n",
       "      <td>38000</td>\n",
       "    </tr>\n",
       "    <tr>\n",
       "      <th>13397</th>\n",
       "      <td>Renault Clio</td>\n",
       "      <td>Sedans</td>\n",
       "      <td>[[], [], []]</td>\n",
       "      <td>NaN</td>\n",
       "      <td>- kW</td>\n",
       "      <td>NaN</td>\n",
       "      <td>8490</td>\n",
       "    </tr>\n",
       "  </tbody>\n",
       "</table>\n",
       "</div>"
      ],
      "text/plain": [
       "         make_model body_type              co2_emission    gears      hp  \\\n",
       "3356        Audi A3   Compact                       NaN  [\\n6\\n]  150 kW   \n",
       "3612        Audi A3    Sedans  [\\n36 g CO2/km (comb)\\n]  [\\n6\\n]  110 kW   \n",
       "3615        Audi A3    Sedans  [\\n36 g CO2/km (comb)\\n]  [\\n6\\n]  110 kW   \n",
       "3617        Audi A3    Sedans  [\\n36 g CO2/km (comb)\\n]  [\\n6\\n]  110 kW   \n",
       "13397  Renault Clio    Sedans              [[], [], []]      NaN    - kW   \n",
       "\n",
       "                                 consumption  price  \n",
       "3356                                     NaN  24950  \n",
       "3612   [\\n, 1.6 l/100 km (comb), \\n, \\n, \\n]  38450  \n",
       "3615   [\\n, 1.6 l/100 km (comb), \\n, \\n, \\n]  35899  \n",
       "3617   [\\n, 1.6 l/100 km (comb), \\n, \\n, \\n]  38000  \n",
       "13397                                    NaN   8490  "
      ]
     },
     "execution_count": 58,
     "metadata": {},
     "output_type": "execute_result"
    }
   ],
   "source": [
    "df[df.fuel == \"Electric\"][[\"make_model\", \"body_type\", \"co2_emission\", \"gears\", \"hp\", \"consumption\", \"price\"]]"
   ]
  },
  {
   "cell_type": "markdown",
   "id": "7da85b23-28e8-4b3d-893f-479a5ac7aabc",
   "metadata": {
    "jp-MarkdownHeadingCollapsed": true
   },
   "source": [
    "### emission_class"
   ]
  },
  {
   "cell_type": "code",
   "execution_count": 59,
   "id": "9ab8d9c5-3c13-445f-9537-a77408c8bb8f",
   "metadata": {
    "scrolled": true
   },
   "outputs": [],
   "source": [
    "df['emission_class'] = df['emission_class'].str[0].str.replace('\\n','')"
   ]
  },
  {
   "cell_type": "code",
   "execution_count": 60,
   "id": "5648c2cd-9358-4589-ab25-f09eac503429",
   "metadata": {},
   "outputs": [
    {
     "data": {
      "text/plain": [
       "emission_class\n",
       "Euro 6          10139\n",
       "NaN              3628\n",
       "Euro 6d-TEMP     1845\n",
       "Euro 6c           127\n",
       "Euro 5             78\n",
       "Euro 6d            62\n",
       "Euro 4             40\n",
       "Name: count, dtype: int64"
      ]
     },
     "execution_count": 60,
     "metadata": {},
     "output_type": "execute_result"
    }
   ],
   "source": [
    "df['emission_class'].value_counts(dropna=False)"
   ]
  },
  {
   "cell_type": "code",
   "execution_count": 61,
   "id": "4016b0ff-a737-493e-a810-a3f67107e200",
   "metadata": {},
   "outputs": [],
   "source": [
    "df['emission_class'].replace(['Euro 6','Euro 6d-TEMP','Euro 6d', 'Euro 6c'], 'Euro 6', inplace = True)"
   ]
  },
  {
   "cell_type": "markdown",
   "id": "c4e8d3d8-611c-431a-b70b-4797bacc7145",
   "metadata": {
    "jp-MarkdownHeadingCollapsed": true
   },
   "source": [
    "### emission_label (dropped)"
   ]
  },
  {
   "cell_type": "code",
   "execution_count": 62,
   "id": "34c2889b-4e77-4667-bd81-487dab546624",
   "metadata": {},
   "outputs": [],
   "source": [
    "#df['emission_label'] = df['emission_label'].str[0].str.findall('\\((.*?)\\)').str[0]"
   ]
  },
  {
   "cell_type": "code",
   "execution_count": 63,
   "id": "0aaead71-828e-4dfb-822d-3f7ef1f748dc",
   "metadata": {},
   "outputs": [
    {
     "data": {
      "text/plain": [
       "emission_label\n",
       "NaN                     11934\n",
       "[\\n4 (Green)\\n]          3553\n",
       "[\\n1 (No sticker)\\n]      381\n",
       "[[], [], []]               40\n",
       "[\\n5 (Blue)\\n]              8\n",
       "[\\n3 (Yellow)\\n]            2\n",
       "[\\n2 (Red)\\n]               1\n",
       "Name: count, dtype: int64"
      ]
     },
     "execution_count": 63,
     "metadata": {},
     "output_type": "execute_result"
    }
   ],
   "source": [
    "df['emission_label'].value_counts(dropna=False)\n"
   ]
  },
  {
   "cell_type": "code",
   "execution_count": 64,
   "id": "7b16369e-33eb-44ca-a616-fc8033873c0c",
   "metadata": {},
   "outputs": [],
   "source": [
    "df['emission_label'] = df['emission_label'].str[0].str.strip().str.replace(')', '').str.replace('(', '')"
   ]
  },
  {
   "cell_type": "code",
   "execution_count": 65,
   "id": "955c5701-a5e6-44c5-b6de-31909abc3b88",
   "metadata": {},
   "outputs": [
    {
     "data": {
      "text/plain": [
       "emission_label\n",
       "NaN             11974\n",
       "4 Green          3553\n",
       "1 No sticker      381\n",
       "5 Blue              8\n",
       "3 Yellow            2\n",
       "2 Red               1\n",
       "Name: count, dtype: int64"
      ]
     },
     "execution_count": 65,
     "metadata": {},
     "output_type": "execute_result"
    }
   ],
   "source": [
    "df['emission_label'].value_counts(dropna=False)"
   ]
  },
  {
   "cell_type": "code",
   "execution_count": 66,
   "id": "6e2ac555-f787-4e1a-be76-38b7151b9ec4",
   "metadata": {},
   "outputs": [],
   "source": [
    "df.drop('emission_label',axis=1,inplace=True)"
   ]
  },
  {
   "cell_type": "markdown",
   "id": "d69c1037-6cb7-408d-ae2f-732ef3bc699b",
   "metadata": {
    "jp-MarkdownHeadingCollapsed": true
   },
   "source": [
    "### drive_chain"
   ]
  },
  {
   "cell_type": "code",
   "execution_count": 67,
   "id": "8b6d153e-881b-4c6b-99ea-cfb153af7542",
   "metadata": {},
   "outputs": [],
   "source": [
    "df['drive_chain'] = df['drive_chain'].str[0].str.strip()"
   ]
  },
  {
   "cell_type": "code",
   "execution_count": 68,
   "id": "fd6bd7d4-9c2e-4f39-aaab-ac2884817514",
   "metadata": {},
   "outputs": [
    {
     "data": {
      "text/plain": [
       "drive_chain\n",
       "front    8886\n",
       "NaN      6858\n",
       "4WD       171\n",
       "rear        4\n",
       "Name: count, dtype: int64"
      ]
     },
     "execution_count": 68,
     "metadata": {},
     "output_type": "execute_result"
    }
   ],
   "source": [
    "df['drive_chain'].value_counts(dropna=False)"
   ]
  },
  {
   "cell_type": "markdown",
   "id": "384c9e7e-7ecb-46bb-ada8-e83b1a17f476",
   "metadata": {
    "jp-MarkdownHeadingCollapsed": true
   },
   "source": [
    "### country_version"
   ]
  },
  {
   "cell_type": "code",
   "execution_count": 69,
   "id": "1e242568-0aee-4196-b042-1d09b7db7849",
   "metadata": {},
   "outputs": [],
   "source": [
    "df['country_version'] = df['country_version'].str[0].str.strip()"
   ]
  },
  {
   "cell_type": "code",
   "execution_count": 70,
   "id": "01b0922c-6dbf-4f60-bcf6-0a71c4f349de",
   "metadata": {},
   "outputs": [
    {
     "data": {
      "text/plain": [
       "country_version\n",
       "NaN               8333\n",
       "Germany           4502\n",
       "Italy             1038\n",
       "European Union     507\n",
       "Netherlands        464\n",
       "Spain              325\n",
       "Belgium            314\n",
       "Austria            208\n",
       "Czech Republic      52\n",
       "Poland              49\n",
       "France              38\n",
       "Denmark             33\n",
       "Hungary             28\n",
       "Japan                8\n",
       "Slovakia             4\n",
       "Croatia              4\n",
       "Sweden               3\n",
       "Romania              2\n",
       "Bulgaria             2\n",
       "Luxembourg           1\n",
       "Switzerland          1\n",
       "Slovenia             1\n",
       "Egypt                1\n",
       "Serbia               1\n",
       "Name: count, dtype: int64"
      ]
     },
     "execution_count": 70,
     "metadata": {},
     "output_type": "execute_result"
    }
   ],
   "source": [
    "df['country_version'].value_counts(dropna=False)"
   ]
  },
  {
   "cell_type": "markdown",
   "id": "5121745d-4c0e-4973-ad39-efc968392f33",
   "metadata": {},
   "source": [
    "#### This column can be dropped."
   ]
  },
  {
   "cell_type": "code",
   "execution_count": 71,
   "id": "c90ccebe-5164-44ad-9865-fa76fd10ac4b",
   "metadata": {},
   "outputs": [],
   "source": [
    "df.drop('country_version',axis=1,inplace=True)"
   ]
  },
  {
   "cell_type": "markdown",
   "id": "7ec97b62-3d79-4121-ac93-45f9c6aed996",
   "metadata": {
    "jp-MarkdownHeadingCollapsed": true
   },
   "source": [
    "### entertainment_media"
   ]
  },
  {
   "cell_type": "code",
   "execution_count": 72,
   "id": "31e7da95-64aa-412a-9304-24ed9e9dcf3b",
   "metadata": {},
   "outputs": [
    {
     "data": {
      "text/plain": [
       "0        [Bluetooth, Hands-free equipment, On-board com...\n",
       "1        [Bluetooth, Hands-free equipment, On-board com...\n",
       "2                                 [MP3, On-board computer]\n",
       "3        [Bluetooth, CD player, Hands-free equipment, M...\n",
       "4        [Bluetooth, CD player, Hands-free equipment, M...\n",
       "                               ...                        \n",
       "15914    [Bluetooth, Digital radio, Hands-free equipmen...\n",
       "15915    [Bluetooth, Digital radio, Hands-free equipmen...\n",
       "15916    [Bluetooth, Hands-free equipment, On-board com...\n",
       "15917               [Bluetooth, Digital radio, Radio, USB]\n",
       "15918                                                [USB]\n",
       "Name: entertainment_media, Length: 15919, dtype: object"
      ]
     },
     "execution_count": 72,
     "metadata": {},
     "output_type": "execute_result"
    }
   ],
   "source": [
    "df['entertainment_media']"
   ]
  },
  {
   "cell_type": "code",
   "execution_count": 73,
   "id": "7525130c-c54c-44c1-b9fa-b00f5572d13f",
   "metadata": {},
   "outputs": [],
   "source": [
    "df['entertainment_media'] = df['entertainment_media'].astype('str').str.replace('[','').str.replace(\"]\",'')"
   ]
  },
  {
   "cell_type": "markdown",
   "id": "0c469a5e-d0da-4c34-b9fb-5308efc5dd1e",
   "metadata": {},
   "source": [
    "#### This column was not changed as it will be transformed with getdummy function later"
   ]
  },
  {
   "cell_type": "markdown",
   "id": "4ac52db9-5c02-4d85-a9a7-2bf75e02eb09",
   "metadata": {
    "jp-MarkdownHeadingCollapsed": true
   },
   "source": [
    "### safety_security"
   ]
  },
  {
   "cell_type": "code",
   "execution_count": 74,
   "id": "207082cc-66b5-4bef-9b48-61f245858541",
   "metadata": {},
   "outputs": [
    {
     "data": {
      "text/plain": [
       "0        [ABS, Central door lock, Daytime running light...\n",
       "1        [ABS, Central door lock, Central door lock wit...\n",
       "2        [ABS, Central door lock, Daytime running light...\n",
       "3        [ABS, Alarm system, Central door lock with rem...\n",
       "4        [ABS, Central door lock, Driver-side airbag, E...\n",
       "                               ...                        \n",
       "15914    [ABS, Central door lock, Central door lock wit...\n",
       "15915    [ABS, Adaptive Cruise Control, Blind spot moni...\n",
       "15916    [ABS, Adaptive Cruise Control, Blind spot moni...\n",
       "15917    [ABS, Blind spot monitor, Driver-side airbag, ...\n",
       "15918    [ABS, Blind spot monitor, Daytime running ligh...\n",
       "Name: safety_security, Length: 15919, dtype: object"
      ]
     },
     "execution_count": 74,
     "metadata": {},
     "output_type": "execute_result"
    }
   ],
   "source": [
    "df['safety_security']"
   ]
  },
  {
   "cell_type": "markdown",
   "id": "ccdadb63-be05-4c27-8224-0e08be68e53b",
   "metadata": {},
   "source": [
    "#### This column was not changed as it will be transformed with getdummy function later"
   ]
  },
  {
   "cell_type": "markdown",
   "id": "a1b5b9ad-451c-47f2-ad86-738669560229",
   "metadata": {
    "jp-MarkdownHeadingCollapsed": true
   },
   "source": [
    "### comfort_convenience"
   ]
  },
  {
   "cell_type": "code",
   "execution_count": 75,
   "id": "aacccbd9-e1cd-4b54-9916-6066b898d9d0",
   "metadata": {},
   "outputs": [],
   "source": [
    "df['comfort_convenience'] = df['comfort_convenience'].astype('str').str.replace('[','').str.replace(\"]\",'')"
   ]
  },
  {
   "cell_type": "code",
   "execution_count": 76,
   "id": "b7d8c9e4-decf-416c-945c-89b6e9879b66",
   "metadata": {},
   "outputs": [
    {
     "data": {
      "text/html": [
       "<div>\n",
       "<style scoped>\n",
       "    .dataframe tbody tr th:only-of-type {\n",
       "        vertical-align: middle;\n",
       "    }\n",
       "\n",
       "    .dataframe tbody tr th {\n",
       "        vertical-align: top;\n",
       "    }\n",
       "\n",
       "    .dataframe thead th {\n",
       "        text-align: right;\n",
       "    }\n",
       "</style>\n",
       "<table border=\"1\" class=\"dataframe\">\n",
       "  <thead>\n",
       "    <tr style=\"text-align: right;\">\n",
       "      <th></th>\n",
       "      <th>'Air suspension'</th>\n",
       "      <th>'Armrest'</th>\n",
       "      <th>'Automatic climate control'</th>\n",
       "      <th>'Auxiliary heating'</th>\n",
       "      <th>'Cruise control'</th>\n",
       "      <th>'Electric Starter'</th>\n",
       "      <th>'Electric tailgate'</th>\n",
       "      <th>'Electrical side mirrors'</th>\n",
       "      <th>'Electrically adjustable seats'</th>\n",
       "      <th>'Electrically heated windshield'</th>\n",
       "      <th>...</th>\n",
       "      <th>'Leather steering wheel'</th>\n",
       "      <th>'Light sensor'</th>\n",
       "      <th>'Multi-function steering wheel'</th>\n",
       "      <th>'Navigation system'</th>\n",
       "      <th>'Panorama roof'</th>\n",
       "      <th>'Park Distance Control'</th>\n",
       "      <th>'Power windows'</th>\n",
       "      <th>'Rain sensor'</th>\n",
       "      <th>'Sunroof'</th>\n",
       "      <th>nan</th>\n",
       "    </tr>\n",
       "  </thead>\n",
       "  <tbody>\n",
       "    <tr>\n",
       "      <th>0</th>\n",
       "      <td>0</td>\n",
       "      <td>1</td>\n",
       "      <td>1</td>\n",
       "      <td>0</td>\n",
       "      <td>1</td>\n",
       "      <td>0</td>\n",
       "      <td>0</td>\n",
       "      <td>1</td>\n",
       "      <td>0</td>\n",
       "      <td>0</td>\n",
       "      <td>...</td>\n",
       "      <td>0</td>\n",
       "      <td>0</td>\n",
       "      <td>0</td>\n",
       "      <td>0</td>\n",
       "      <td>0</td>\n",
       "      <td>0</td>\n",
       "      <td>0</td>\n",
       "      <td>0</td>\n",
       "      <td>0</td>\n",
       "      <td>0</td>\n",
       "    </tr>\n",
       "    <tr>\n",
       "      <th>1</th>\n",
       "      <td>0</td>\n",
       "      <td>0</td>\n",
       "      <td>1</td>\n",
       "      <td>0</td>\n",
       "      <td>0</td>\n",
       "      <td>0</td>\n",
       "      <td>0</td>\n",
       "      <td>0</td>\n",
       "      <td>0</td>\n",
       "      <td>0</td>\n",
       "      <td>...</td>\n",
       "      <td>0</td>\n",
       "      <td>0</td>\n",
       "      <td>0</td>\n",
       "      <td>0</td>\n",
       "      <td>0</td>\n",
       "      <td>0</td>\n",
       "      <td>0</td>\n",
       "      <td>0</td>\n",
       "      <td>0</td>\n",
       "      <td>0</td>\n",
       "    </tr>\n",
       "    <tr>\n",
       "      <th>2</th>\n",
       "      <td>0</td>\n",
       "      <td>0</td>\n",
       "      <td>0</td>\n",
       "      <td>0</td>\n",
       "      <td>1</td>\n",
       "      <td>0</td>\n",
       "      <td>0</td>\n",
       "      <td>1</td>\n",
       "      <td>0</td>\n",
       "      <td>0</td>\n",
       "      <td>...</td>\n",
       "      <td>0</td>\n",
       "      <td>0</td>\n",
       "      <td>0</td>\n",
       "      <td>0</td>\n",
       "      <td>0</td>\n",
       "      <td>0</td>\n",
       "      <td>0</td>\n",
       "      <td>0</td>\n",
       "      <td>0</td>\n",
       "      <td>0</td>\n",
       "    </tr>\n",
       "    <tr>\n",
       "      <th>3</th>\n",
       "      <td>0</td>\n",
       "      <td>1</td>\n",
       "      <td>0</td>\n",
       "      <td>1</td>\n",
       "      <td>0</td>\n",
       "      <td>0</td>\n",
       "      <td>0</td>\n",
       "      <td>1</td>\n",
       "      <td>0</td>\n",
       "      <td>0</td>\n",
       "      <td>...</td>\n",
       "      <td>0</td>\n",
       "      <td>0</td>\n",
       "      <td>0</td>\n",
       "      <td>0</td>\n",
       "      <td>0</td>\n",
       "      <td>0</td>\n",
       "      <td>0</td>\n",
       "      <td>0</td>\n",
       "      <td>0</td>\n",
       "      <td>0</td>\n",
       "    </tr>\n",
       "    <tr>\n",
       "      <th>4</th>\n",
       "      <td>0</td>\n",
       "      <td>1</td>\n",
       "      <td>1</td>\n",
       "      <td>0</td>\n",
       "      <td>0</td>\n",
       "      <td>0</td>\n",
       "      <td>0</td>\n",
       "      <td>1</td>\n",
       "      <td>0</td>\n",
       "      <td>0</td>\n",
       "      <td>...</td>\n",
       "      <td>0</td>\n",
       "      <td>0</td>\n",
       "      <td>0</td>\n",
       "      <td>0</td>\n",
       "      <td>0</td>\n",
       "      <td>0</td>\n",
       "      <td>0</td>\n",
       "      <td>0</td>\n",
       "      <td>0</td>\n",
       "      <td>0</td>\n",
       "    </tr>\n",
       "    <tr>\n",
       "      <th>...</th>\n",
       "      <td>...</td>\n",
       "      <td>...</td>\n",
       "      <td>...</td>\n",
       "      <td>...</td>\n",
       "      <td>...</td>\n",
       "      <td>...</td>\n",
       "      <td>...</td>\n",
       "      <td>...</td>\n",
       "      <td>...</td>\n",
       "      <td>...</td>\n",
       "      <td>...</td>\n",
       "      <td>...</td>\n",
       "      <td>...</td>\n",
       "      <td>...</td>\n",
       "      <td>...</td>\n",
       "      <td>...</td>\n",
       "      <td>...</td>\n",
       "      <td>...</td>\n",
       "      <td>...</td>\n",
       "      <td>...</td>\n",
       "      <td>...</td>\n",
       "    </tr>\n",
       "    <tr>\n",
       "      <th>15914</th>\n",
       "      <td>0</td>\n",
       "      <td>0</td>\n",
       "      <td>1</td>\n",
       "      <td>0</td>\n",
       "      <td>1</td>\n",
       "      <td>0</td>\n",
       "      <td>0</td>\n",
       "      <td>1</td>\n",
       "      <td>1</td>\n",
       "      <td>0</td>\n",
       "      <td>...</td>\n",
       "      <td>0</td>\n",
       "      <td>0</td>\n",
       "      <td>0</td>\n",
       "      <td>0</td>\n",
       "      <td>0</td>\n",
       "      <td>0</td>\n",
       "      <td>0</td>\n",
       "      <td>0</td>\n",
       "      <td>0</td>\n",
       "      <td>0</td>\n",
       "    </tr>\n",
       "    <tr>\n",
       "      <th>15915</th>\n",
       "      <td>0</td>\n",
       "      <td>0</td>\n",
       "      <td>1</td>\n",
       "      <td>0</td>\n",
       "      <td>1</td>\n",
       "      <td>0</td>\n",
       "      <td>1</td>\n",
       "      <td>1</td>\n",
       "      <td>0</td>\n",
       "      <td>1</td>\n",
       "      <td>...</td>\n",
       "      <td>0</td>\n",
       "      <td>0</td>\n",
       "      <td>0</td>\n",
       "      <td>0</td>\n",
       "      <td>0</td>\n",
       "      <td>0</td>\n",
       "      <td>0</td>\n",
       "      <td>0</td>\n",
       "      <td>0</td>\n",
       "      <td>0</td>\n",
       "    </tr>\n",
       "    <tr>\n",
       "      <th>15916</th>\n",
       "      <td>0</td>\n",
       "      <td>1</td>\n",
       "      <td>1</td>\n",
       "      <td>0</td>\n",
       "      <td>1</td>\n",
       "      <td>0</td>\n",
       "      <td>1</td>\n",
       "      <td>1</td>\n",
       "      <td>0</td>\n",
       "      <td>1</td>\n",
       "      <td>...</td>\n",
       "      <td>0</td>\n",
       "      <td>0</td>\n",
       "      <td>0</td>\n",
       "      <td>0</td>\n",
       "      <td>0</td>\n",
       "      <td>0</td>\n",
       "      <td>0</td>\n",
       "      <td>0</td>\n",
       "      <td>0</td>\n",
       "      <td>0</td>\n",
       "    </tr>\n",
       "    <tr>\n",
       "      <th>15917</th>\n",
       "      <td>0</td>\n",
       "      <td>0</td>\n",
       "      <td>1</td>\n",
       "      <td>0</td>\n",
       "      <td>1</td>\n",
       "      <td>0</td>\n",
       "      <td>0</td>\n",
       "      <td>1</td>\n",
       "      <td>1</td>\n",
       "      <td>0</td>\n",
       "      <td>...</td>\n",
       "      <td>0</td>\n",
       "      <td>0</td>\n",
       "      <td>0</td>\n",
       "      <td>0</td>\n",
       "      <td>0</td>\n",
       "      <td>0</td>\n",
       "      <td>0</td>\n",
       "      <td>0</td>\n",
       "      <td>0</td>\n",
       "      <td>0</td>\n",
       "    </tr>\n",
       "    <tr>\n",
       "      <th>15918</th>\n",
       "      <td>0</td>\n",
       "      <td>0</td>\n",
       "      <td>1</td>\n",
       "      <td>0</td>\n",
       "      <td>1</td>\n",
       "      <td>0</td>\n",
       "      <td>1</td>\n",
       "      <td>1</td>\n",
       "      <td>1</td>\n",
       "      <td>0</td>\n",
       "      <td>...</td>\n",
       "      <td>0</td>\n",
       "      <td>0</td>\n",
       "      <td>0</td>\n",
       "      <td>0</td>\n",
       "      <td>0</td>\n",
       "      <td>0</td>\n",
       "      <td>0</td>\n",
       "      <td>0</td>\n",
       "      <td>0</td>\n",
       "      <td>0</td>\n",
       "    </tr>\n",
       "  </tbody>\n",
       "</table>\n",
       "<p>15919 rows × 58 columns</p>\n",
       "</div>"
      ],
      "text/plain": [
       "        'Air suspension'   'Armrest'   'Automatic climate control'  \\\n",
       "0                      0           1                             1   \n",
       "1                      0           0                             1   \n",
       "2                      0           0                             0   \n",
       "3                      0           1                             0   \n",
       "4                      0           1                             1   \n",
       "...                  ...         ...                           ...   \n",
       "15914                  0           0                             1   \n",
       "15915                  0           0                             1   \n",
       "15916                  0           1                             1   \n",
       "15917                  0           0                             1   \n",
       "15918                  0           0                             1   \n",
       "\n",
       "        'Auxiliary heating'   'Cruise control'   'Electric Starter'  \\\n",
       "0                         0                  1                    0   \n",
       "1                         0                  0                    0   \n",
       "2                         0                  1                    0   \n",
       "3                         1                  0                    0   \n",
       "4                         0                  0                    0   \n",
       "...                     ...                ...                  ...   \n",
       "15914                     0                  1                    0   \n",
       "15915                     0                  1                    0   \n",
       "15916                     0                  1                    0   \n",
       "15917                     0                  1                    0   \n",
       "15918                     0                  1                    0   \n",
       "\n",
       "        'Electric tailgate'   'Electrical side mirrors'  \\\n",
       "0                         0                           1   \n",
       "1                         0                           0   \n",
       "2                         0                           1   \n",
       "3                         0                           1   \n",
       "4                         0                           1   \n",
       "...                     ...                         ...   \n",
       "15914                     0                           1   \n",
       "15915                     1                           1   \n",
       "15916                     1                           1   \n",
       "15917                     0                           1   \n",
       "15918                     1                           1   \n",
       "\n",
       "        'Electrically adjustable seats'   'Electrically heated windshield'  \\\n",
       "0                                     0                                  0   \n",
       "1                                     0                                  0   \n",
       "2                                     0                                  0   \n",
       "3                                     0                                  0   \n",
       "4                                     0                                  0   \n",
       "...                                 ...                                ...   \n",
       "15914                                 1                                  0   \n",
       "15915                                 0                                  1   \n",
       "15916                                 0                                  1   \n",
       "15917                                 1                                  0   \n",
       "15918                                 1                                  0   \n",
       "\n",
       "       ...  'Leather steering wheel'  'Light sensor'  \\\n",
       "0      ...                         0               0   \n",
       "1      ...                         0               0   \n",
       "2      ...                         0               0   \n",
       "3      ...                         0               0   \n",
       "4      ...                         0               0   \n",
       "...    ...                       ...             ...   \n",
       "15914  ...                         0               0   \n",
       "15915  ...                         0               0   \n",
       "15916  ...                         0               0   \n",
       "15917  ...                         0               0   \n",
       "15918  ...                         0               0   \n",
       "\n",
       "       'Multi-function steering wheel'  'Navigation system'  'Panorama roof'  \\\n",
       "0                                    0                    0                0   \n",
       "1                                    0                    0                0   \n",
       "2                                    0                    0                0   \n",
       "3                                    0                    0                0   \n",
       "4                                    0                    0                0   \n",
       "...                                ...                  ...              ...   \n",
       "15914                                0                    0                0   \n",
       "15915                                0                    0                0   \n",
       "15916                                0                    0                0   \n",
       "15917                                0                    0                0   \n",
       "15918                                0                    0                0   \n",
       "\n",
       "       'Park Distance Control'  'Power windows'  'Rain sensor'  'Sunroof'  nan  \n",
       "0                            0                0              0          0    0  \n",
       "1                            0                0              0          0    0  \n",
       "2                            0                0              0          0    0  \n",
       "3                            0                0              0          0    0  \n",
       "4                            0                0              0          0    0  \n",
       "...                        ...              ...            ...        ...  ...  \n",
       "15914                        0                0              0          0    0  \n",
       "15915                        0                0              0          0    0  \n",
       "15916                        0                0              0          0    0  \n",
       "15917                        0                0              0          0    0  \n",
       "15918                        0                0              0          0    0  \n",
       "\n",
       "[15919 rows x 58 columns]"
      ]
     },
     "execution_count": 76,
     "metadata": {},
     "output_type": "execute_result"
    }
   ],
   "source": [
    "df['comfort_convenience'].astype('str').str.replace('[','').str.replace(\"]\",'').str.get_dummies(sep=\",\")"
   ]
  },
  {
   "cell_type": "code",
   "execution_count": 77,
   "id": "07ba6066-bdc5-4cf3-8bd2-d49540dc68a4",
   "metadata": {},
   "outputs": [
    {
     "data": {
      "text/plain": [
       "0        'Air conditioning', 'Armrest', 'Automatic clim...\n",
       "1        'Air conditioning', 'Automatic climate control...\n",
       "2        'Air conditioning', 'Cruise control', 'Electri...\n",
       "3        'Air suspension', 'Armrest', 'Auxiliary heatin...\n",
       "4        'Air conditioning', 'Armrest', 'Automatic clim...\n",
       "                               ...                        \n",
       "15914    'Air conditioning', 'Automatic climate control...\n",
       "15915    'Air conditioning', 'Automatic climate control...\n",
       "15916    'Air conditioning', 'Armrest', 'Automatic clim...\n",
       "15917    'Air conditioning', 'Automatic climate control...\n",
       "15918    'Air conditioning', 'Automatic climate control...\n",
       "Name: comfort_convenience, Length: 15919, dtype: object"
      ]
     },
     "execution_count": 77,
     "metadata": {},
     "output_type": "execute_result"
    }
   ],
   "source": [
    "df['comfort_convenience']"
   ]
  },
  {
   "cell_type": "markdown",
   "id": "6681cb3a-f9eb-47cb-a2a1-79846359e1d9",
   "metadata": {},
   "source": [
    "#### This column was not changed as it will be transformed with getdummy function later"
   ]
  },
  {
   "cell_type": "markdown",
   "id": "dbe0eb7b-ca81-4c2e-92b2-9774d4d4919c",
   "metadata": {
    "jp-MarkdownHeadingCollapsed": true
   },
   "source": [
    "### extras"
   ]
  },
  {
   "cell_type": "code",
   "execution_count": 78,
   "id": "1acb7c90-fd17-4c5d-8ed0-a44b1db76e6b",
   "metadata": {},
   "outputs": [
    {
     "data": {
      "text/plain": [
       "'Alloy wheels'           11294\n",
       "'Cab or rented Car'        310\n",
       "'Catalytic Converter'     2258\n",
       "'Handicapped enabled'       52\n",
       "'Right hand drive'           3\n",
       "'Roof rack'               2647\n",
       "'Shift paddles'            508\n",
       "'Ski bag'                  247\n",
       "'Sliding door'               3\n",
       "'Sport package'           1198\n",
       "'Sport seats'             3098\n",
       "'Sport suspension'        1619\n",
       "'Touch screen'            4043\n",
       "'Trailer hitch'            654\n",
       "'Tuned car'                 13\n",
       "'Voice Control'           4326\n",
       "'Winter tyres'             246\n",
       "nan                       2962\n",
       "dtype: int64"
      ]
     },
     "execution_count": 78,
     "metadata": {},
     "output_type": "execute_result"
    }
   ],
   "source": [
    "df['extras'].astype('str').str.replace('[','').str.replace(\"]\",'').str.get_dummies(sep=', ').sum()"
   ]
  },
  {
   "cell_type": "code",
   "execution_count": 79,
   "id": "c2d86c39-97b7-4d40-b770-818f66455958",
   "metadata": {},
   "outputs": [
    {
     "data": {
      "text/plain": [
       "0        [Alloy wheels, Catalytic Converter, Voice Cont...\n",
       "1        [Alloy wheels, Sport seats, Sport suspension, ...\n",
       "2                            [Alloy wheels, Voice Control]\n",
       "3               [Alloy wheels, Sport seats, Voice Control]\n",
       "4        [Alloy wheels, Sport package, Sport suspension...\n",
       "                               ...                        \n",
       "15914                         [Alloy wheels, Touch screen]\n",
       "15915          [Alloy wheels, Touch screen, Voice Control]\n",
       "15916                                       [Alloy wheels]\n",
       "15917                         [Alloy wheels, Touch screen]\n",
       "15918                         [Alloy wheels, Touch screen]\n",
       "Name: extras, Length: 15919, dtype: object"
      ]
     },
     "execution_count": 79,
     "metadata": {},
     "output_type": "execute_result"
    }
   ],
   "source": [
    "df['extras']"
   ]
  },
  {
   "cell_type": "markdown",
   "id": "fce6eb0e-1ad1-4875-be38-70443052a292",
   "metadata": {},
   "source": [
    "#### This column was not changed as it will be transformed with getdummy function later"
   ]
  },
  {
   "cell_type": "markdown",
   "id": "de401315-8d71-4d99-93d9-c5993deab4da",
   "metadata": {},
   "source": [
    "#### "
   ]
  },
  {
   "cell_type": "markdown",
   "id": "b5ffdd1f-7ae9-4971-aa48-b4adbb8b4d8b",
   "metadata": {},
   "source": [
    "---\n",
    "\n",
    "## Quantitative Columns\n",
    "- [x] price: Price of cars \n",
    "- [x] km: km of autos\n",
    "- [x] co2_emission\n",
    "- [x] consumption: consumption of auto in city, country and combination (lt/100 km) \n",
    "- [x] hp: horsepower of autos (kW) \n",
    "- [x] displacement: displacement of autos (cc) \n",
    "- [x] warranty: warranty period (month)\n",
    "- [x] prev_owner: Number of previous owners\n",
    "- [x] previous_owners: Number of previous owners\n",
    "- [x] weight: weight of auto (kg) \n",
    "- [x] nr_of_doors: number of doors \n",
    "- [x] nr_of_seats : number of seats \n",
    "- [x] cylinders: number of cylinders \n",
    "- [x] gears: number of gears"
   ]
  },
  {
   "cell_type": "markdown",
   "id": "de080554-8725-4092-916b-39e2aeedd175",
   "metadata": {
    "jp-MarkdownHeadingCollapsed": true
   },
   "source": [
    "### price"
   ]
  },
  {
   "cell_type": "code",
   "execution_count": 80,
   "id": "fe2b939b-f8a3-4887-b7da-32ecae315a69",
   "metadata": {},
   "outputs": [
    {
     "data": {
      "text/plain": [
       "0        15770.0\n",
       "1        14500.0\n",
       "2        14640.0\n",
       "3        14500.0\n",
       "4        16790.0\n",
       "          ...   \n",
       "15914    39950.0\n",
       "15915    39885.0\n",
       "15916    39875.0\n",
       "15917    39700.0\n",
       "15918    40999.0\n",
       "Name: price, Length: 15919, dtype: float64"
      ]
     },
     "execution_count": 80,
     "metadata": {},
     "output_type": "execute_result"
    }
   ],
   "source": [
    "df['price'].astype(\"float\")"
   ]
  },
  {
   "cell_type": "code",
   "execution_count": 81,
   "id": "628657b2-e6bc-4293-bb22-9b7e9586e720",
   "metadata": {},
   "outputs": [
    {
     "data": {
      "text/plain": [
       "price\n",
       "14990    154\n",
       "15990    151\n",
       "10990    139\n",
       "15900    106\n",
       "17990    102\n",
       "        ... \n",
       "17559      1\n",
       "17560      1\n",
       "17570      1\n",
       "17575      1\n",
       "39875      1\n",
       "Name: count, Length: 2956, dtype: int64"
      ]
     },
     "execution_count": 81,
     "metadata": {},
     "output_type": "execute_result"
    }
   ],
   "source": [
    "df['price'].value_counts(dropna=False)"
   ]
  },
  {
   "cell_type": "markdown",
   "id": "b8ec3c0a-d8d5-43fa-b246-b7be429d52b7",
   "metadata": {
    "jp-MarkdownHeadingCollapsed": true
   },
   "source": [
    "### km"
   ]
  },
  {
   "cell_type": "code",
   "execution_count": 82,
   "id": "88fe5792-0e76-49b5-ae38-9882755b22cf",
   "metadata": {},
   "outputs": [],
   "source": [
    "df['km'] = df['km'].str.replace(',', '').str.findall('\\d+').str[0].astype(\"float\")"
   ]
  },
  {
   "cell_type": "code",
   "execution_count": 83,
   "id": "4e6fa561-eb01-4ee9-96c6-fa0748d46e18",
   "metadata": {},
   "outputs": [
    {
     "data": {
      "text/plain": [
       "Index([   10.0,     nan,     1.0,     5.0,    50.0,   100.0,    15.0,  5000.0,\n",
       "          20.0,  3000.0,\n",
       "       ...\n",
       "       57840.0, 43400.0, 31265.0, 36020.0, 53433.0, 67469.0, 43197.0, 10027.0,\n",
       "       35882.0,    57.0],\n",
       "      dtype='float64', name='km', length=6690)"
      ]
     },
     "execution_count": 83,
     "metadata": {},
     "output_type": "execute_result"
    }
   ],
   "source": [
    "df['km'].value_counts(dropna=False).index"
   ]
  },
  {
   "cell_type": "markdown",
   "id": "422de094-a947-485a-b429-961424a7dd26",
   "metadata": {
    "jp-MarkdownHeadingCollapsed": true
   },
   "source": [
    "### co2_emission"
   ]
  },
  {
   "cell_type": "code",
   "execution_count": 84,
   "id": "3959cbaa-5f30-42a3-a4fb-cb8ca85ca38a",
   "metadata": {},
   "outputs": [],
   "source": [
    "df['co2_emission'] = df['co2_emission'].str[0].str.strip().str.findall('\\d+').str[0].astype(\"float\")"
   ]
  },
  {
   "cell_type": "code",
   "execution_count": 85,
   "id": "8cb237c6-6275-4b83-84ae-1ac2ee07a2c1",
   "metadata": {},
   "outputs": [
    {
     "data": {
      "text/plain": [
       "co2_emission\n",
       "NaN      2436\n",
       "120.0     740\n",
       "99.0      545\n",
       "97.0      537\n",
       "104.0     501\n",
       "         ... \n",
       "51.0        1\n",
       "165.0       1\n",
       "331.0       1\n",
       "80.0        1\n",
       "193.0       1\n",
       "Name: count, Length: 120, dtype: int64"
      ]
     },
     "execution_count": 85,
     "metadata": {},
     "output_type": "execute_result"
    }
   ],
   "source": [
    "df['co2_emission'].value_counts(dropna=False)"
   ]
  },
  {
   "cell_type": "markdown",
   "id": "0dfe212a-8b63-4ffe-b74b-aa516236804f",
   "metadata": {
    "jp-MarkdownHeadingCollapsed": true
   },
   "source": [
    "### consumption (turned into city, country and combined consumption columns then dropped)"
   ]
  },
  {
   "cell_type": "code",
   "execution_count": 86,
   "id": "3b23496b-6bed-473a-997a-b2e2ca4ede1c",
   "metadata": {},
   "outputs": [],
   "source": [
    "# comb\n",
    "df['consumption_combined'] = df['consumption'].str[0].str[0].str.replace('l/100 km (comb)', '').str.replace('kg/100 km (comb)', '').replace('\\n', 'NaN').astype(\"float\")"
   ]
  },
  {
   "cell_type": "code",
   "execution_count": 87,
   "id": "424dad41-32f8-4af5-be1d-5ddc6546c254",
   "metadata": {},
   "outputs": [
    {
     "data": {
      "text/plain": [
       "consumption_combined\n",
       "NaN     2883\n",
       "3.9      732\n",
       "4.0      712\n",
       "5.4      663\n",
       "5.1      630\n",
       "        ... \n",
       "33.0       1\n",
       "50.0       1\n",
       "1.0        1\n",
       "46.0       1\n",
       "9.1        1\n",
       "Name: count, Length: 72, dtype: int64"
      ]
     },
     "execution_count": 87,
     "metadata": {},
     "output_type": "execute_result"
    }
   ],
   "source": [
    "df['consumption_combined'].value_counts(dropna=False)"
   ]
  },
  {
   "cell_type": "code",
   "execution_count": 88,
   "id": "de4e0224-8a29-4e9f-99e8-b53463ea759c",
   "metadata": {},
   "outputs": [],
   "source": [
    "# city\n",
    "df['consumption_city'] = df['consumption'].str[1].str[0].str.replace('l/100 km (city)', '').str.replace('kg/100 km (city)', '').replace('\\n', 'NaN').astype(\"float\")"
   ]
  },
  {
   "cell_type": "code",
   "execution_count": 89,
   "id": "fdc69bae-1e2c-494d-8d56-0427ca239535",
   "metadata": {},
   "outputs": [
    {
     "data": {
      "text/plain": [
       "consumption_city\n",
       "NaN     2422\n",
       "5.0     1049\n",
       "5.8      600\n",
       "4.5      580\n",
       "4.3      533\n",
       "        ... \n",
       "10.5       1\n",
       "9.0        1\n",
       "64.0       1\n",
       "19.9       1\n",
       "9.7        1\n",
       "Name: count, Length: 87, dtype: int64"
      ]
     },
     "execution_count": 89,
     "metadata": {},
     "output_type": "execute_result"
    }
   ],
   "source": [
    "df['consumption_city'].value_counts(dropna=False)"
   ]
  },
  {
   "cell_type": "code",
   "execution_count": 90,
   "id": "75f5a296-63a5-4657-beb8-058074597f2d",
   "metadata": {},
   "outputs": [
    {
     "data": {
      "text/plain": [
       "consumption_combined\n",
       "NaN     2883\n",
       "3.9      732\n",
       "4.0      712\n",
       "5.4      663\n",
       "5.1      630\n",
       "        ... \n",
       "33.0       1\n",
       "50.0       1\n",
       "1.0        1\n",
       "46.0       1\n",
       "9.1        1\n",
       "Name: count, Length: 72, dtype: int64"
      ]
     },
     "execution_count": 90,
     "metadata": {},
     "output_type": "execute_result"
    }
   ],
   "source": [
    "df['consumption_combined'].value_counts(dropna=False)"
   ]
  },
  {
   "cell_type": "code",
   "execution_count": 91,
   "id": "d746c627-1c1d-4e49-bf2a-7ccf403dcaa2",
   "metadata": {},
   "outputs": [],
   "source": [
    "# country\n",
    "df['consumption_country'] = df['consumption'].str[2].str[0].str.replace('l/100 km (country)', '').str.replace('kg/100 km (country)', '').replace('\\n', 'NaN').astype(\"float\")"
   ]
  },
  {
   "cell_type": "code",
   "execution_count": 92,
   "id": "35ca125c-4541-414f-9fbb-d71e8cd6b3b6",
   "metadata": {},
   "outputs": [
    {
     "data": {
      "text/plain": [
       "consumption_combined\n",
       "NaN     2883\n",
       "3.9      732\n",
       "4.0      712\n",
       "5.4      663\n",
       "5.1      630\n",
       "        ... \n",
       "33.0       1\n",
       "50.0       1\n",
       "1.0        1\n",
       "46.0       1\n",
       "9.1        1\n",
       "Name: count, Length: 72, dtype: int64"
      ]
     },
     "execution_count": 92,
     "metadata": {},
     "output_type": "execute_result"
    }
   ],
   "source": [
    "df['consumption_combined'].value_counts(dropna=False)"
   ]
  },
  {
   "cell_type": "code",
   "execution_count": 93,
   "id": "7dbec6b1-42db-455e-b163-41360f16c2c6",
   "metadata": {},
   "outputs": [],
   "source": [
    "df.drop('consumption', axis=1, inplace=True)"
   ]
  },
  {
   "cell_type": "markdown",
   "id": "e81bfaa9-ad48-4711-af21-222fdb8733d4",
   "metadata": {
    "jp-MarkdownHeadingCollapsed": true
   },
   "source": [
    "### hp"
   ]
  },
  {
   "cell_type": "code",
   "execution_count": 94,
   "id": "cc528df1-a993-4935-bedf-e750cb6f8468",
   "metadata": {},
   "outputs": [],
   "source": [
    "df['hp'] = df['hp'].str.replace(',', '').str.findall('\\d+').str[0].astype(\"float\")"
   ]
  },
  {
   "cell_type": "code",
   "execution_count": 95,
   "id": "19009d0a-ba25-40b5-b091-d24a0ea86c8b",
   "metadata": {},
   "outputs": [
    {
     "data": {
      "text/plain": [
       "Index([ 85.0,  66.0,  81.0, 100.0, 110.0,  70.0, 125.0,  51.0,  55.0, 118.0,\n",
       "        92.0, 121.0, 147.0,  77.0,  56.0,  54.0, 103.0,  87.0, 165.0,  88.0,\n",
       "        60.0, 162.0,  74.0,  96.0,  71.0, 101.0,  67.0, 154.0, 122.0, 119.0,\n",
       "       164.0, 135.0,  52.0,  82.0,   1.0,  78.0, 146.0, 294.0, 141.0,  57.0,\n",
       "       120.0, 104.0, 112.0, 191.0, 117.0, 155.0, 184.0,  65.0,  90.0,  76.0,\n",
       "       168.0,  98.0, 149.0,  80.0,  93.0,  53.0,  86.0, 140.0, 150.0, 228.0,\n",
       "       270.0, 143.0, 167.0,  40.0,  89.0,  63.0, 127.0, 123.0,  75.0, 115.0,\n",
       "       195.0, 132.0, 163.0,  84.0,   4.0, 137.0,   9.0,  44.0, 133.0, 239.0],\n",
       "      dtype='float64', name='hp')"
      ]
     },
     "execution_count": 95,
     "metadata": {},
     "output_type": "execute_result"
    }
   ],
   "source": [
    "df['hp'].value_counts().index"
   ]
  },
  {
   "cell_type": "markdown",
   "id": "50001a34-d93b-42c0-adaf-504e0f6faa1d",
   "metadata": {
    "jp-MarkdownHeadingCollapsed": true
   },
   "source": [
    "### displacement"
   ]
  },
  {
   "cell_type": "code",
   "execution_count": 96,
   "id": "73ac027f-936e-4c81-bf49-2f5664e2b0b6",
   "metadata": {},
   "outputs": [],
   "source": [
    "df['displacement'] = df['displacement'].str[0].str.replace(',', '').str.findall('\\d+').str[0].astype(\"float\")"
   ]
  },
  {
   "cell_type": "code",
   "execution_count": 97,
   "id": "dd784445-536d-4e39-8267-a11ac0ed3d00",
   "metadata": {},
   "outputs": [
    {
     "data": {
      "text/plain": [
       "Index([ 1598.0,   999.0,  1398.0,  1399.0,  1229.0,  1956.0,  1461.0,  1490.0,\n",
       "        1422.0,  1197.0,   898.0,  1395.0,  1968.0,  1149.0,  1618.0,  1798.0,\n",
       "        1498.0,  1600.0,  1248.0,  1997.0,  1364.0,  1400.0,   998.0,  1500.0,\n",
       "        2000.0,  1000.0,     1.0,  1998.0,  2480.0,  1200.0,  1984.0,  1397.0,\n",
       "         899.0,   160.0,   929.0,  1499.0,   997.0,  1596.0,   139.0,   900.0,\n",
       "        1599.0,  1199.0,  1396.0,  1495.0,  1589.0,  1300.0,     2.0,   995.0,\n",
       "        1496.0,   890.0,  1580.0,  1995.0,  1333.0,    54.0,  1533.0,  1100.0,\n",
       "        1350.0, 16000.0,  1856.0,  1568.0,  1896.0,  1584.0,   996.0,  1696.0,\n",
       "        1686.0, 15898.0,  1368.0,   140.0,   973.0,  1239.0,  1369.0,  1390.0,\n",
       "         122.0,  1198.0,  1195.0,  2967.0,  1800.0],\n",
       "      dtype='float64', name='displacement')"
      ]
     },
     "execution_count": 97,
     "metadata": {},
     "output_type": "execute_result"
    }
   ],
   "source": [
    "df['displacement'].value_counts().index"
   ]
  },
  {
   "cell_type": "markdown",
   "id": "86c13cce-f250-4516-bc89-3ac5c48a1c6e",
   "metadata": {
    "jp-MarkdownHeadingCollapsed": true
   },
   "source": [
    "### warranty"
   ]
  },
  {
   "cell_type": "code",
   "execution_count": 98,
   "id": "6aa00dbe-c47d-48c4-930d-8c3a77f5b674",
   "metadata": {},
   "outputs": [
    {
     "data": {
      "text/plain": [
       "0                 [\\n, \\n, \\n4 (Green)\\n]\n",
       "1                                     NaN\n",
       "2        [\\n, \\n, \\n99 g CO2/km (comb)\\n]\n",
       "3                                     NaN\n",
       "4                    [\\n, \\n, \\nEuro 6\\n]\n",
       "                       ...               \n",
       "15914                       \\n24 months\\n\n",
       "15915                [\\n, \\n, \\nEuro 6\\n]\n",
       "15916             [\\n, \\n, \\n4 (Green)\\n]\n",
       "15917                                  \\n\n",
       "15918                                 NaN\n",
       "Name: warranty, Length: 15919, dtype: object"
      ]
     },
     "execution_count": 98,
     "metadata": {},
     "output_type": "execute_result"
    }
   ],
   "source": [
    "df['warranty']"
   ]
  },
  {
   "cell_type": "code",
   "execution_count": 99,
   "id": "837225a7-ec4e-449d-96cb-bd48f60623a1",
   "metadata": {
    "scrolled": true
   },
   "outputs": [],
   "source": [
    "import re\n",
    "def clean_warranty(a):\n",
    "    if type(a) == list:\n",
    "        b = re.findall(r'\\d+', a[0])\n",
    "        if len(b)== 0:\n",
    "            return np.nan\n",
    "        else:\n",
    "            return b[0]\n",
    "    elif type(a) ==str:\n",
    "        b = re.findall(r'\\d+', a)\n",
    "        if len(b)== 0:\n",
    "            return np.nan\n",
    "        else:\n",
    "            return b[0]\n",
    "    else:\n",
    "        return a"
   ]
  },
  {
   "cell_type": "code",
   "execution_count": 100,
   "id": "09da0a0c-824b-41bf-9a73-ff3aa3270032",
   "metadata": {},
   "outputs": [],
   "source": [
    "df['warranty'] = df['warranty'].apply(clean_warranty)"
   ]
  },
  {
   "cell_type": "code",
   "execution_count": 101,
   "id": "a0db40f1-45f3-4bfa-9c79-5e8a1c1df827",
   "metadata": {},
   "outputs": [],
   "source": [
    "df['warranty'] = df['warranty'].astype('float')"
   ]
  },
  {
   "cell_type": "code",
   "execution_count": 102,
   "id": "900358e4-f6ba-4266-89c1-73287aa249c0",
   "metadata": {},
   "outputs": [
    {
     "data": {
      "text/plain": [
       "warranty\n",
       "NaN     11066\n",
       "12.0     2594\n",
       "24.0     1118\n",
       "60.0      401\n",
       "36.0      279\n",
       "48.0      149\n",
       "6.0       125\n",
       "72.0       59\n",
       "3.0        33\n",
       "23.0       11\n",
       "18.0       10\n",
       "20.0        7\n",
       "25.0        6\n",
       "2.0         5\n",
       "50.0        4\n",
       "26.0        4\n",
       "16.0        4\n",
       "4.0         3\n",
       "1.0         3\n",
       "19.0        3\n",
       "34.0        3\n",
       "13.0        3\n",
       "28.0        2\n",
       "22.0        2\n",
       "14.0        2\n",
       "11.0        2\n",
       "46.0        2\n",
       "21.0        2\n",
       "9.0         2\n",
       "17.0        2\n",
       "45.0        2\n",
       "33.0        1\n",
       "40.0        1\n",
       "65.0        1\n",
       "10.0        1\n",
       "15.0        1\n",
       "7.0         1\n",
       "8.0         1\n",
       "56.0        1\n",
       "49.0        1\n",
       "47.0        1\n",
       "30.0        1\n",
       "Name: count, dtype: int64"
      ]
     },
     "execution_count": 102,
     "metadata": {},
     "output_type": "execute_result"
    }
   ],
   "source": [
    "df['warranty'].value_counts(dropna=False)"
   ]
  },
  {
   "cell_type": "markdown",
   "id": "18aa3302-5ce3-4d9a-9d6a-e341a305da92",
   "metadata": {
    "jp-MarkdownHeadingCollapsed": true
   },
   "source": [
    "### prev_owner and previous_owners (drop prev_owner)"
   ]
  },
  {
   "cell_type": "code",
   "execution_count": 103,
   "id": "4424776e-968b-4017-a8a0-8a7f4b72e66a",
   "metadata": {},
   "outputs": [],
   "source": [
    "df['prev_owner'] = df['prev_owner'].str.findall('\\d+').str[0].astype(\"float\")"
   ]
  },
  {
   "cell_type": "code",
   "execution_count": 104,
   "id": "0affea85-9543-40e7-a46e-6b2fd2995c2b",
   "metadata": {},
   "outputs": [
    {
     "data": {
      "text/plain": [
       "prev_owner\n",
       "1.0    8294\n",
       "NaN    6828\n",
       "2.0     778\n",
       "3.0      17\n",
       "4.0       2\n",
       "Name: count, dtype: int64"
      ]
     },
     "execution_count": 104,
     "metadata": {},
     "output_type": "execute_result"
    }
   ],
   "source": [
    "df['prev_owner'].value_counts(dropna=False)"
   ]
  },
  {
   "cell_type": "code",
   "execution_count": 105,
   "id": "b9880308-63d4-42ea-a1f1-ef0003fefc86",
   "metadata": {},
   "outputs": [],
   "source": [
    "df['previous_owners'] = df['previous_owners'].str.findall('\\d+').str[0].astype(\"float\")"
   ]
  },
  {
   "cell_type": "code",
   "execution_count": 106,
   "id": "d3c729fc-6cd4-4ed2-ab5c-a2648d02ac10",
   "metadata": {},
   "outputs": [
    {
     "data": {
      "text/plain": [
       "previous_owners\n",
       "1.0    8101\n",
       "NaN    6870\n",
       "2.0     766\n",
       "0.0     163\n",
       "3.0      17\n",
       "4.0       2\n",
       "Name: count, dtype: int64"
      ]
     },
     "execution_count": 106,
     "metadata": {},
     "output_type": "execute_result"
    }
   ],
   "source": [
    "df['previous_owners'].value_counts(dropna=False)"
   ]
  },
  {
   "cell_type": "code",
   "execution_count": 107,
   "id": "5a7b9150-c3d9-4a65-b969-34dee7720609",
   "metadata": {},
   "outputs": [],
   "source": [
    "df['previous_owners'] = df.apply(lambda x: combine_columns(x['prev_owner'],x['previous_owners']), axis=1)"
   ]
  },
  {
   "cell_type": "code",
   "execution_count": 108,
   "id": "a7876e69-70bf-40e9-be5e-722c4a2daf96",
   "metadata": {},
   "outputs": [],
   "source": [
    "df = df.drop(['prev_owner'], axis=1)"
   ]
  },
  {
   "cell_type": "markdown",
   "id": "7ea79c62-ae1d-4489-bd58-3f2d3b5c01b3",
   "metadata": {},
   "source": [
    "#### drop prev_owner because redundent with previous_owners"
   ]
  },
  {
   "cell_type": "code",
   "execution_count": 109,
   "id": "5e07b55e-67dc-46eb-9c41-2f8acb4a7467",
   "metadata": {},
   "outputs": [
    {
     "data": {
      "text/plain": [
       "previous_owners\n",
       "1.0    8294\n",
       "NaN    6665\n",
       "2.0     778\n",
       "0.0     163\n",
       "3.0      17\n",
       "4.0       2\n",
       "Name: count, dtype: int64"
      ]
     },
     "execution_count": 109,
     "metadata": {},
     "output_type": "execute_result"
    }
   ],
   "source": [
    "df['previous_owners'].value_counts(dropna=False)"
   ]
  },
  {
   "cell_type": "markdown",
   "id": "740604e2-e3d8-4618-904b-55ac7401e9b2",
   "metadata": {
    "jp-MarkdownHeadingCollapsed": true
   },
   "source": [
    "### weight"
   ]
  },
  {
   "cell_type": "code",
   "execution_count": 110,
   "id": "129c7104-5bd3-408a-8fcf-ebe087b9198b",
   "metadata": {},
   "outputs": [],
   "source": [
    "df['weight'] = df['weight'].str[0].str.replace(',', '').str.findall('\\d+').str[0].astype(\"float\")"
   ]
  },
  {
   "cell_type": "code",
   "execution_count": 111,
   "id": "f3ac0e68-0916-44e0-b14a-cd6c76bba3b5",
   "metadata": {},
   "outputs": [
    {
     "data": {
      "text/plain": [
       "Index([1163.0, 1360.0, 1165.0, 1335.0, 1135.0, 1199.0, 1734.0, 1180.0, 1503.0,\n",
       "       1350.0,\n",
       "       ...\n",
       "       1137.0, 1213.0, 1960.0, 1258.0, 1167.0, 1331.0, 1132.0, 1252.0, 1792.0,\n",
       "       2037.0],\n",
       "      dtype='float64', name='weight', length=434)"
      ]
     },
     "execution_count": 111,
     "metadata": {},
     "output_type": "execute_result"
    }
   ],
   "source": [
    "df['weight'].value_counts().index"
   ]
  },
  {
   "cell_type": "markdown",
   "id": "9b7978d9-3bc5-4e12-bfd9-229565144482",
   "metadata": {
    "jp-MarkdownHeadingCollapsed": true
   },
   "source": [
    "### nr_of_doors"
   ]
  },
  {
   "cell_type": "code",
   "execution_count": 112,
   "id": "78471a54-fb78-4ae0-8269-b042f0abb0f8",
   "metadata": {},
   "outputs": [],
   "source": [
    "df['nr_of_doors'] = df['nr_of_doors'].str[0].str.findall('\\d+').str[0]"
   ]
  },
  {
   "cell_type": "code",
   "execution_count": 113,
   "id": "a66452d4-af0b-451d-b666-3ba5681c339e",
   "metadata": {},
   "outputs": [
    {
     "data": {
      "text/plain": [
       "nr_of_doors\n",
       "5    11575\n",
       "4     3079\n",
       "3      832\n",
       "2      219\n",
       "1        1\n",
       "7        1\n",
       "Name: count, dtype: int64"
      ]
     },
     "execution_count": 113,
     "metadata": {},
     "output_type": "execute_result"
    }
   ],
   "source": [
    "df['nr_of_doors'].value_counts()"
   ]
  },
  {
   "cell_type": "markdown",
   "id": "437da9fc-b759-486c-ac28-269d787d945d",
   "metadata": {
    "jp-MarkdownHeadingCollapsed": true
   },
   "source": [
    "### nr_of_seats"
   ]
  },
  {
   "cell_type": "code",
   "execution_count": 114,
   "id": "63d09202-e68e-4089-b867-477d2a5fd846",
   "metadata": {},
   "outputs": [],
   "source": [
    "df['nr_of_seats'] = df['nr_of_seats'].str[0].str.findall('\\d+').str[0]"
   ]
  },
  {
   "cell_type": "code",
   "execution_count": 115,
   "id": "d4b52158-fcb0-49ad-9ed9-914e6858fa20",
   "metadata": {},
   "outputs": [
    {
     "data": {
      "text/plain": [
       "nr_of_seats\n",
       "5    13336\n",
       "4     1125\n",
       "7      362\n",
       "2      116\n",
       "6        2\n",
       "3        1\n",
       "Name: count, dtype: int64"
      ]
     },
     "execution_count": 115,
     "metadata": {},
     "output_type": "execute_result"
    }
   ],
   "source": [
    "df['nr_of_seats'].value_counts()"
   ]
  },
  {
   "cell_type": "markdown",
   "id": "d76deeb3-368a-439d-8c53-1e84a667908e",
   "metadata": {
    "jp-MarkdownHeadingCollapsed": true
   },
   "source": [
    "### cylinders"
   ]
  },
  {
   "cell_type": "code",
   "execution_count": 116,
   "id": "f7eb3dbc-7ebc-4584-bae7-c25908c09daf",
   "metadata": {},
   "outputs": [],
   "source": [
    "df['cylinders'] = df['cylinders'].str[0].str.findall('\\d+').str[0]\n"
   ]
  },
  {
   "cell_type": "code",
   "execution_count": 117,
   "id": "9caa0104-216e-4e42-baeb-b79b1bfee02f",
   "metadata": {},
   "outputs": [
    {
     "data": {
      "text/plain": [
       "cylinders\n",
       "4      8105\n",
       "NaN    5680\n",
       "3      2104\n",
       "5        22\n",
       "6         3\n",
       "8         2\n",
       "2         2\n",
       "1         1\n",
       "Name: count, dtype: int64"
      ]
     },
     "execution_count": 117,
     "metadata": {},
     "output_type": "execute_result"
    }
   ],
   "source": [
    "df['cylinders'].value_counts(dropna=False)"
   ]
  },
  {
   "cell_type": "markdown",
   "id": "cde376bb-caa1-45cb-ab96-547b2ee4feea",
   "metadata": {
    "jp-MarkdownHeadingCollapsed": true
   },
   "source": [
    "### gears"
   ]
  },
  {
   "cell_type": "code",
   "execution_count": 118,
   "id": "0ddb906d-e248-4756-a729-093874134546",
   "metadata": {},
   "outputs": [],
   "source": [
    "df['gears'] = df['gears'].str[0].str.findall('\\d+').str[0]\n"
   ]
  },
  {
   "cell_type": "code",
   "execution_count": 119,
   "id": "9602f096-49cd-4b9d-9d26-2a15695239a7",
   "metadata": {},
   "outputs": [
    {
     "data": {
      "text/plain": [
       "gears\n",
       "6      5822\n",
       "NaN    4712\n",
       "5      3239\n",
       "7      1908\n",
       "8       224\n",
       "9         6\n",
       "1         2\n",
       "3         2\n",
       "4         2\n",
       "2         1\n",
       "50        1\n",
       "Name: count, dtype: int64"
      ]
     },
     "execution_count": 119,
     "metadata": {},
     "output_type": "execute_result"
    }
   ],
   "source": [
    "df['gears'].value_counts(dropna=False)"
   ]
  },
  {
   "cell_type": "markdown",
   "id": "a6b76c7e-af93-4294-8ec5-feaa3c52cc08",
   "metadata": {},
   "source": [
    "## create csv"
   ]
  },
  {
   "cell_type": "code",
   "execution_count": 120,
   "id": "be09d9db-0b16-482c-92f2-41a1773e5ea0",
   "metadata": {},
   "outputs": [
    {
     "name": "stdout",
     "output_type": "stream",
     "text": [
      "<class 'pandas.core.frame.DataFrame'>\n",
      "RangeIndex: 15919 entries, 0 to 15918\n",
      "Data columns (total 40 columns):\n",
      " #   Column                Non-Null Count  Dtype  \n",
      "---  ------                --------------  -----  \n",
      " 0   make_model            15919 non-null  object \n",
      " 1   body_type             15859 non-null  object \n",
      " 2   price                 15919 non-null  int64  \n",
      " 3   vat                   11406 non-null  object \n",
      " 4   km                    14895 non-null  float64\n",
      " 5   hp                    15831 non-null  float64\n",
      " 6   type                  15917 non-null  object \n",
      " 7   previous_owners       9254 non-null   float64\n",
      " 8   next_inspection       2825 non-null   float64\n",
      " 9   inspection_new        3932 non-null   object \n",
      " 10  warranty              4853 non-null   float64\n",
      " 11  full_service          8215 non-null   object \n",
      " 12  non-smoking_vehicle   7177 non-null   object \n",
      " 13  null                  15919 non-null  object \n",
      " 14  offer_number          12744 non-null  object \n",
      " 15  first_registration    14322 non-null  object \n",
      " 16  body_color            15322 non-null  object \n",
      " 17  paint_type            10147 non-null  object \n",
      " 18  nr_of_doors           15707 non-null  object \n",
      " 19  nr_of_seats           14942 non-null  object \n",
      " 20  model_code            4978 non-null   object \n",
      " 21  gearing_type          15919 non-null  object \n",
      " 22  displacement          15423 non-null  float64\n",
      " 23  cylinders             10239 non-null  object \n",
      " 24  weight                8945 non-null   float64\n",
      " 25  drive_chain           9061 non-null   object \n",
      " 26  fuel                  15919 non-null  object \n",
      " 27  co2_emission          13483 non-null  float64\n",
      " 28  emission_class        12291 non-null  object \n",
      " 29  comfort_convenience   15919 non-null  object \n",
      " 30  entertainment_media   15919 non-null  object \n",
      " 31  extras                12957 non-null  object \n",
      " 32  safety_security       14937 non-null  object \n",
      " 33  gears                 11207 non-null  object \n",
      " 34  registration_year     14322 non-null  float64\n",
      " 35  upholstery_material   11416 non-null  object \n",
      " 36  upholstery_color      9881 non-null   object \n",
      " 37  consumption_combined  13036 non-null  float64\n",
      " 38  consumption_city      13497 non-null  float64\n",
      " 39  consumption_country   12707 non-null  float64\n",
      "dtypes: float64(12), int64(1), object(27)\n",
      "memory usage: 4.9+ MB\n"
     ]
    }
   ],
   "source": [
    "df.info()"
   ]
  },
  {
   "cell_type": "markdown",
   "id": "48fe85ed-4ce2-4bf4-8972-86d0f1005371",
   "metadata": {},
   "source": [
    "### Save to new csv after clean data before going to filling null values.\n",
    "- Every step use a new notebook."
   ]
  },
  {
   "cell_type": "code",
   "execution_count": 121,
   "id": "f7cbb530-8511-4338-9f56-16402dd1f837",
   "metadata": {},
   "outputs": [],
   "source": [
    "df.to_csv(\"cleaned_car_data.csv\", index=False)"
   ]
  }
 ],
 "metadata": {
  "kernelspec": {
   "display_name": "Python 3 (ipykernel)",
   "language": "python",
   "name": "python3"
  },
  "language_info": {
   "codemirror_mode": {
    "name": "ipython",
    "version": 3
   },
   "file_extension": ".py",
   "mimetype": "text/x-python",
   "name": "python",
   "nbconvert_exporter": "python",
   "pygments_lexer": "ipython3",
   "version": "3.8.18"
  }
 },
 "nbformat": 4,
 "nbformat_minor": 5
}
