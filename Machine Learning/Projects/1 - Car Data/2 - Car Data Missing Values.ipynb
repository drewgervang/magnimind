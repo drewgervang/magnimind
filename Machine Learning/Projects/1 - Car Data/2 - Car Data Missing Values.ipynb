{
 "cells": [
  {
   "cell_type": "markdown",
   "id": "cbbac1f2-e1b8-4daa-aa0e-3e4d7caaf0f2",
   "metadata": {},
   "source": [
    "# Phase 2 - Filling Missing Values\n",
    "\n",
    "## Columns:\n",
    "\n",
    "**Categorical Columns**  \n",
    "- make_model\n",
    "- body_type\n",
    "- vat\n",
    "- registration_year\n",
    "- type\n",
    "- next_inspection\n",
    "- inspection_new\n",
    "- body_color\n",
    "- paint_type\n",
    "- upholstery_color\n",
    "- upholstery_material\n",
    "- gearing_type\n",
    "- fuel\n",
    "- emission_class\n",
    "- drive_chain\n",
    "- entertainment_media\n",
    "- safety_security\n",
    "- comfort_convenience\n",
    "- extras\n",
    " \n",
    "**Quantitative Columns**\n",
    "- price\n",
    "- km\n",
    "- co2_emission\n",
    "- consumption_country\n",
    "- consumption_city\n",
    "- consumption_combined\n",
    "- hp\n",
    "- displacement\n",
    "- warranty\n",
    "- previous_owners\n",
    "- weight\n",
    "- nr_of_doors\n",
    "- nr_of_seats\n",
    "- cylinders\n",
    "- gears\n",
    "\n",
    "\n",
    "---"
   ]
  },
  {
   "cell_type": "code",
   "execution_count": 1,
   "id": "1fb74b60-50a9-4fa8-8469-4f5a55fdebd6",
   "metadata": {},
   "outputs": [],
   "source": [
    "import pandas as pd\n",
    "import numpy as np\n",
    "\n",
    "df = pd.read_csv(\"car_data_1_cleaned.csv\")"
   ]
  },
  {
   "cell_type": "code",
   "execution_count": 2,
   "id": "e6c9d9bb-fe16-478a-bfd7-58cfba000993",
   "metadata": {},
   "outputs": [
    {
     "name": "stdout",
     "output_type": "stream",
     "text": [
      "<class 'pandas.core.frame.DataFrame'>\n",
      "RangeIndex: 15919 entries, 0 to 15918\n",
      "Data columns (total 40 columns):\n",
      " #   Column                Non-Null Count  Dtype  \n",
      "---  ------                --------------  -----  \n",
      " 0   make_model            15919 non-null  object \n",
      " 1   body_type             15859 non-null  object \n",
      " 2   price                 15919 non-null  int64  \n",
      " 3   vat                   11406 non-null  object \n",
      " 4   km                    14895 non-null  float64\n",
      " 5   hp                    15831 non-null  float64\n",
      " 6   type                  15917 non-null  object \n",
      " 7   previous_owners       9254 non-null   float64\n",
      " 8   next_inspection       2825 non-null   float64\n",
      " 9   inspection_new        3570 non-null   object \n",
      " 10  warranty              4853 non-null   float64\n",
      " 11  full_service          8215 non-null   object \n",
      " 12  non-smoking_vehicle   7177 non-null   object \n",
      " 13  null                  15919 non-null  object \n",
      " 14  offer_number          12744 non-null  object \n",
      " 15  first_registration    14322 non-null  object \n",
      " 16  body_color            15322 non-null  object \n",
      " 17  paint_type            10147 non-null  object \n",
      " 18  nr_of_doors           15707 non-null  float64\n",
      " 19  nr_of_seats           14942 non-null  float64\n",
      " 20  model_code            4978 non-null   object \n",
      " 21  gearing_type          15919 non-null  object \n",
      " 22  displacement          15423 non-null  float64\n",
      " 23  cylinders             10239 non-null  float64\n",
      " 24  weight                8945 non-null   float64\n",
      " 25  drive_chain           9061 non-null   object \n",
      " 26  fuel                  15919 non-null  object \n",
      " 27  co2_emission          13483 non-null  float64\n",
      " 28  emission_class        12291 non-null  object \n",
      " 29  comfort_convenience   14999 non-null  object \n",
      " 30  entertainment_media   14545 non-null  object \n",
      " 31  extras                12957 non-null  object \n",
      " 32  safety_security       14937 non-null  object \n",
      " 33  gears                 11207 non-null  float64\n",
      " 34  registration_year     14322 non-null  float64\n",
      " 35  upholstery_material   11416 non-null  object \n",
      " 36  upholstery_color      9881 non-null   object \n",
      " 37  consumption_combined  13036 non-null  float64\n",
      " 38  consumption_city      13497 non-null  float64\n",
      " 39  consumption_country   12707 non-null  float64\n",
      "dtypes: float64(16), int64(1), object(23)\n",
      "memory usage: 4.9+ MB\n"
     ]
    }
   ],
   "source": [
    "df.info()"
   ]
  },
  {
   "cell_type": "markdown",
   "id": "71b789a1-15ed-4ce2-a4b3-34f677f3a9e5",
   "metadata": {
    "jp-MarkdownHeadingCollapsed": true
   },
   "source": [
    "---\n",
    "\n",
    "## fill() Function\n"
   ]
  },
  {
   "cell_type": "markdown",
   "id": "8339649e-0b7b-4e59-8b36-81f2935f7d89",
   "metadata": {},
   "source": [
    "- eventually implement using q cut on numerical to turn into categorical?"
   ]
  },
  {
   "cell_type": "code",
   "execution_count": 3,
   "id": "d19047aa-e05c-44e0-9409-045ab9a48a3b",
   "metadata": {},
   "outputs": [],
   "source": [
    "def fill(method, df, column, group_cols=None):\n",
    "   \"\"\"\n",
    "   Fills NaN values in `df[column]` either using the overall mean, median or mode (no grouping)\n",
    "   or group-specific mean, median or mode (group_col provided).\n",
    "   Prints stats about how many NaNs were filled and the final distribution.\n",
    "   \"\"\"\n",
    "   # Make a copy of the dataframe to avoid modification warnings\n",
    "   working_df = df.copy()\n",
    "   \n",
    "   # Debug prints: which column is being filled, and grouping info.\n",
    "   print('Filling column:', column)\n",
    "   print('Grouping by:', group_cols)\n",
    "   \n",
    "   # 1. Count NaNs before filling\n",
    "   nan_before = working_df[column].isnull().sum()\n",
    "   \n",
    "   # 2. Fill logic\n",
    "   if method in ['mean', 'median']:\n",
    "       if group_cols is None:\n",
    "           # Fill all NaN in 'column' with the overall mean/median\n",
    "           working_df[column].fillna(getattr(working_df[column], method)(), inplace=True)\n",
    "       else:\n",
    "           # Calculate groupwise mean/median for each row\n",
    "           group = working_df.groupby(group_cols)[column].transform(method)\n",
    "           # Fill missing values in df[column] with corresponding group mean/median\n",
    "           working_df[column].fillna(group, inplace=True)\n",
    "   \n",
    "   elif method == 'mode':\n",
    "       if group_cols is None:\n",
    "           # Fill all NaN in 'column' with the overall mode\n",
    "           working_df[column].fillna(working_df[column].mode().iloc[0], inplace=True)            \n",
    "       else:\n",
    "           # Calculate groupwise mode for each row\n",
    "           group = working_df.groupby(group_cols)[column]\\\n",
    "           .transform(lambda x: x.mode()[0] if list(x.mode()) != [] else np.nan)\n",
    "           # Fill missing values in df[column] with corresponding group mode\n",
    "           working_df[column].fillna(group, inplace=True)\n",
    "   \n",
    "   # 3. Count NaNs after filling\n",
    "   nan_after = working_df[column].isnull().sum()\n",
    "   nan_filled = nan_before - nan_after\n",
    "   \n",
    "   # 4. Print final stats\n",
    "   print(\"Number of NaN before filling:\", nan_before)\n",
    "   print(\"Number of NaN filled:\", nan_filled)\n",
    "   print(\"Number of NaN after filling:\", nan_after)\n",
    "   print(\"------------------\")\n",
    "   print(working_df[column].value_counts(dropna=False))\n",
    "   \n",
    "   return working_df"
   ]
  },
  {
   "cell_type": "markdown",
   "id": "64f344b1-899e-4c0d-87ba-bac90d4a37ff",
   "metadata": {
    "jp-MarkdownHeadingCollapsed": true
   },
   "source": [
    "---\n",
    "\n",
    "## Provided Functions"
   ]
  },
  {
   "cell_type": "code",
   "execution_count": 4,
   "id": "a64f8602-dc70-4510-8c5d-9ef5b141d69c",
   "metadata": {},
   "outputs": [],
   "source": [
    "def fill_most_freq(df, group_col, col_name):\n",
    "    \n",
    "    '''Fills the missing values with the most existing value (mode) in the relevant column according to single-stage grouping'''\n",
    "    \n",
    "    for group in list(df[group_col].unique()):\n",
    "        cond = df[group_col]==group\n",
    "        mode = list(df[cond][col_name].mode())\n",
    "        if mode != [] :\n",
    "            df.loc[cond, col_name] = df.loc[cond, col_name].fillna(df[cond][col_name].mode()[0])\n",
    "        else:\n",
    "            df.loc[cond, col_name] = df.loc[cond, col_name].fillna(df[col_name].mode()[0])\n",
    "    print(\"Number of NaN : \", df[col_name].isnull().sum())\n",
    "    print(\"------------------\")\n",
    "    print(df[col_name].value_counts(dropna=False))"
   ]
  },
  {
   "cell_type": "code",
   "execution_count": 5,
   "id": "969b5344-5c3c-4d5e-9a55-cbe2fbde21d3",
   "metadata": {},
   "outputs": [],
   "source": [
    "def fill_prop(df, group_col, col_name):\n",
    "    \n",
    "    '''Fills the missing values with \"ffill and bfill method\" according to single-stage grouping'''\n",
    "    \n",
    "    for group in list(df[group_col].unique()):\n",
    "        cond = df[group_col]==group\n",
    "        df.loc[cond, col_name] = df.loc[cond, col_name].fillna(method=\"ffill\").fillna(method=\"bfill\")\n",
    "    df[col_name] = df[col_name].fillna(method=\"ffill\").fillna(method=\"bfill\")\n",
    "    print(\"Number of NaN : \", df[col_name].isnull().sum())\n",
    "    print(\"------------------\")\n",
    "    print(df[col_name].value_counts(dropna=False))"
   ]
  },
  {
   "cell_type": "code",
   "execution_count": 6,
   "id": "1cf203cb-7340-4a47-9d8d-0dbd5ee19c7a",
   "metadata": {},
   "outputs": [],
   "source": [
    "def double_stage(df, group_col1, group_col2, col_name, method): # method can be either \"mode\" or \"mean\" or \"median\" or \"ffill\"\n",
    "    \n",
    "    '''Fills the missing values with \"mode/mean/median/ffill/bfill method\" according to double-stage grouping'''\n",
    "    \n",
    "    if method == \"mode\":\n",
    "        for group1 in list(df[group_col1].unique()):\n",
    "            for group2 in list(df[group_col2].unique()):\n",
    "                cond1 = df[group_col1]==group1\n",
    "                cond2 = (df[group_col1]==group1) & (df[group_col2]==group2)\n",
    "                mode1 = list(df[cond1][col_name].mode())\n",
    "                mode2 = list(df[cond2][col_name].mode())\n",
    "                if mode2 != [] :\n",
    "                    df.loc[cond2, col_name] = df.loc[cond2, col_name].fillna(df[cond2][col_name].mode()[0])\n",
    "                elif mode1 != [] :\n",
    "                    df.loc[cond2, col_name] = df.loc[cond2, col_name].fillna(df[cond1][col_name].mode()[0])\n",
    "                else:\n",
    "                    df.loc[cond2, col_name] = df.loc[cond2, col_name].fillna(df[col_name].mode()[0])\n",
    "\n",
    "    elif method == \"mean\":\n",
    "        df[col_name].fillna(df.groupby([group_col1, group_col2])[col_name].transform(\"mean\"), inplace = True)\n",
    "        df[col_name].fillna(df.groupby(group_col1)[col_name].transform(\"mean\"), inplace = True)\n",
    "        df[col_name].fillna(df[col_name].mean(), inplace = True)\n",
    "        \n",
    "    elif method == \"median\":\n",
    "        df[col_name].fillna(df.groupby([group_col1, group_col2])[col_name].transform(\"median\"), inplace = True)\n",
    "        df[col_name].fillna(df.groupby(group_col1)[col_name].transform(\"median\"), inplace = True)\n",
    "        df[col_name].fillna(df[col_name].median(), inplace = True)\n",
    "        \n",
    "    elif method == \"ffill\":           \n",
    "        for group1 in list(df[group_col1].unique()):\n",
    "            for group2 in list(df[group_col2].unique()):\n",
    "                cond2 = (df[group_col1]==group1) & (df[group_col2]==group2)\n",
    "                df.loc[cond2, col_name] = df.loc[cond2, col_name].fillna(method=\"ffill\").fillna(method=\"bfill\")\n",
    "                \n",
    "        for group1 in list(df[group_col1].unique()):\n",
    "            cond1 = df[group_col1]==group1\n",
    "            df.loc[cond1, col_name] = df.loc[cond1, col_name].fillna(method=\"ffill\").fillna(method=\"bfill\")            \n",
    "           \n",
    "        df[col_name] = df[col_name].fillna(method=\"ffill\").fillna(method=\"bfill\")\n",
    "    \n",
    "    print(\"Number of NaN : \",df[col_name].isnull().sum())\n",
    "    print(\"------------------\")\n",
    "    print(df[col_name].value_counts(dropna=False))"
   ]
  },
  {
   "cell_type": "markdown",
   "id": "7eaf586a-c221-4542-9c83-ac39714de704",
   "metadata": {
    "jp-MarkdownHeadingCollapsed": true
   },
   "source": [
    "### make_model"
   ]
  },
  {
   "cell_type": "markdown",
   "id": "da6b07a8-0816-43ff-8dae-11fdb006e95e",
   "metadata": {},
   "source": [
    "---\n",
    "\n",
    "## Categorical Columns\n",
    "- [x] make_model\n",
    "- [x] body_type\n",
    "- [x] vat\n",
    "- [x] registration_year\n",
    "- [x] type\n",
    "- [x] next_inspection\n",
    "- [x] inspection_new\n",
    "- [x] body_color\n",
    "- [x] paint_type\n",
    "- [x] upholstery_color\n",
    "- [x] upholstery_material\n",
    "- [x] gearing_type\n",
    "- [x] fuel\n",
    "- [x] emission_class\n",
    "- [x] drive_chain\n",
    "- [x] entertainment_media\n",
    "- [x] safety_security\n",
    "- [x] comfort_convenience\n",
    "- [x] extras"
   ]
  },
  {
   "cell_type": "markdown",
   "id": "3e2a4122-119f-4117-834c-79e5e7353d0c",
   "metadata": {
    "jp-MarkdownHeadingCollapsed": true
   },
   "source": [
    "### make_model"
   ]
  },
  {
   "cell_type": "code",
   "execution_count": 7,
   "id": "619348f1-157c-4f85-8d56-c7da92b4f2fd",
   "metadata": {},
   "outputs": [
    {
     "data": {
      "text/plain": [
       "make_model\n",
       "Audi A3           3097\n",
       "Audi A1           2614\n",
       "Opel Insignia     2598\n",
       "Opel Astra        2526\n",
       "Opel Corsa        2219\n",
       "Renault Clio      1839\n",
       "Renault Espace     991\n",
       "Renault Duster      34\n",
       "Audi A2              1\n",
       "Name: count, dtype: int64"
      ]
     },
     "execution_count": 7,
     "metadata": {},
     "output_type": "execute_result"
    }
   ],
   "source": [
    "df['make_model'].value_counts(dropna=False)"
   ]
  },
  {
   "cell_type": "markdown",
   "id": "d23154c5-dd8b-4d33-b358-c717f6beb71c",
   "metadata": {
    "jp-MarkdownHeadingCollapsed": true
   },
   "source": [
    "### body_type"
   ]
  },
  {
   "cell_type": "code",
   "execution_count": 8,
   "id": "3b594c81-4013-4535-aa84-2a2c01ff1ace",
   "metadata": {},
   "outputs": [
    {
     "data": {
      "text/plain": [
       "body_type\n",
       "Sedans           7903\n",
       "Station wagon    3553\n",
       "Compact          3153\n",
       "Van               783\n",
       "Other             290\n",
       "Transporter        88\n",
       "NaN                60\n",
       "Off-Road           56\n",
       "Coupe              25\n",
       "Convertible         8\n",
       "Name: count, dtype: int64"
      ]
     },
     "execution_count": 8,
     "metadata": {},
     "output_type": "execute_result"
    }
   ],
   "source": [
    "df['body_type'].value_counts(dropna=False)"
   ]
  },
  {
   "cell_type": "code",
   "execution_count": 9,
   "id": "8ddc855f-e609-47a9-b3db-d487756d13d7",
   "metadata": {},
   "outputs": [
    {
     "data": {
      "text/plain": [
       "make_model\n",
       "Audi A3           3097\n",
       "Audi A1           2614\n",
       "Opel Insignia     2598\n",
       "Opel Astra        2526\n",
       "Opel Corsa        2219\n",
       "Renault Clio      1839\n",
       "Renault Espace     991\n",
       "Renault Duster      34\n",
       "Audi A2              1\n",
       "Name: count, dtype: int64"
      ]
     },
     "execution_count": 9,
     "metadata": {},
     "output_type": "execute_result"
    }
   ],
   "source": [
    "df['make_model'].value_counts(dropna=False)"
   ]
  },
  {
   "cell_type": "markdown",
   "id": "fed25a0f-a05f-45dd-950c-419fa3c98b0e",
   "metadata": {},
   "source": [
    "#### same make_model same body_type so we can use fill()"
   ]
  },
  {
   "cell_type": "code",
   "execution_count": 10,
   "id": "6db4ed22-ae0e-416a-aedb-39d692d1ce8b",
   "metadata": {
    "scrolled": true
   },
   "outputs": [
    {
     "name": "stdout",
     "output_type": "stream",
     "text": [
      "Filling column: body_type\n",
      "Grouping by: make_model\n",
      "Number of NaN before filling: 60\n",
      "Number of NaN filled: 60\n",
      "Number of NaN after filling: 0\n",
      "------------------\n",
      "body_type\n",
      "Sedans           7925\n",
      "Station wagon    3563\n",
      "Compact          3155\n",
      "Van               809\n",
      "Other             290\n",
      "Transporter        88\n",
      "Off-Road           56\n",
      "Coupe              25\n",
      "Convertible         8\n",
      "Name: count, dtype: int64\n"
     ]
    }
   ],
   "source": [
    "df = fill('mode', df, 'body_type', 'make_model')"
   ]
  },
  {
   "cell_type": "markdown",
   "id": "5d47d324-8735-4b51-a87f-6876d6bf8f43",
   "metadata": {
    "jp-MarkdownHeadingCollapsed": true
   },
   "source": [
    "### vat"
   ]
  },
  {
   "cell_type": "code",
   "execution_count": 11,
   "id": "01886d44-7f38-4d80-bfcc-1c772e46109c",
   "metadata": {},
   "outputs": [
    {
     "data": {
      "text/plain": [
       "vat\n",
       "VAT deductible      10980\n",
       "NaN                  4513\n",
       "Price negotiable      426\n",
       "Name: count, dtype: int64"
      ]
     },
     "execution_count": 11,
     "metadata": {},
     "output_type": "execute_result"
    }
   ],
   "source": [
    "df.vat.value_counts(dropna=False)"
   ]
  },
  {
   "cell_type": "code",
   "execution_count": 12,
   "id": "d0e364cf-d9e9-4dc4-a25f-96bcdb9b90df",
   "metadata": {},
   "outputs": [],
   "source": [
    "df['vat'] = df['vat'].fillna('VAT undeductible') "
   ]
  },
  {
   "cell_type": "markdown",
   "id": "a6e7bb69-bc16-4fa5-93ac-b77a16c18336",
   "metadata": {},
   "source": [
    "* All null values of vat column assigned as 'VAT undeductible'"
   ]
  },
  {
   "cell_type": "code",
   "execution_count": 13,
   "id": "81366cbe-b8f8-4913-8343-1cef98379d8b",
   "metadata": {},
   "outputs": [
    {
     "data": {
      "text/plain": [
       "vat\n",
       "VAT deductible      10980\n",
       "VAT undeductible     4513\n",
       "Price negotiable      426\n",
       "Name: count, dtype: int64"
      ]
     },
     "execution_count": 13,
     "metadata": {},
     "output_type": "execute_result"
    }
   ],
   "source": [
    "df.vat.value_counts(dropna=False)"
   ]
  },
  {
   "cell_type": "markdown",
   "id": "df7c624c-2732-4f05-8768-5d41950a873f",
   "metadata": {
    "jp-MarkdownHeadingCollapsed": true
   },
   "source": [
    "### registration_year (converted to age)"
   ]
  },
  {
   "cell_type": "code",
   "execution_count": 14,
   "id": "7c4ac3f7-773c-4183-a5e3-ac048a29cb71",
   "metadata": {},
   "outputs": [],
   "source": [
    "df.loc[((df['type'] == 'New') & df.registration_year.isnull()), 'registration_year']= 2019"
   ]
  },
  {
   "cell_type": "markdown",
   "id": "23c506db-01fe-48c8-89cd-3cd490092042",
   "metadata": {},
   "source": [
    " - #### new cars become 2019"
   ]
  },
  {
   "cell_type": "code",
   "execution_count": 15,
   "id": "5dbfebc5-d086-4071-af89-cb4e63266c69",
   "metadata": {},
   "outputs": [
    {
     "data": {
      "text/plain": [
       "registration_year\n",
       "2016.0    77442.520958\n",
       "2017.0    41754.940709\n",
       "2018.0    18035.239072\n",
       "2019.0     1653.107634\n",
       "Name: km, dtype: float64"
      ]
     },
     "execution_count": 15,
     "metadata": {},
     "output_type": "execute_result"
    }
   ],
   "source": [
    "df.groupby('registration_year').km.mean()"
   ]
  },
  {
   "cell_type": "code",
   "execution_count": 16,
   "id": "76d6e8f3-b78c-4770-b41c-3d4f3ed926b0",
   "metadata": {},
   "outputs": [],
   "source": [
    "df.loc[(df['registration_year'].isnull()) & (df.km <= 5000),'registration_year'] =2019"
   ]
  },
  {
   "cell_type": "code",
   "execution_count": 17,
   "id": "7ed53e84-aefa-4cb6-a0ef-304daa0bfc81",
   "metadata": {},
   "outputs": [],
   "source": [
    "df.loc[(df['registration_year'].isnull()) & (df.km > 50000),'registration_year'] =2016"
   ]
  },
  {
   "cell_type": "code",
   "execution_count": 18,
   "id": "4fd3ef37-608f-43f4-a88f-ce4bf6cf28d4",
   "metadata": {},
   "outputs": [],
   "source": [
    "df.loc[(df['registration_year'].isnull()) & (df.km < 19000),'registration_year'] =2018"
   ]
  },
  {
   "cell_type": "code",
   "execution_count": 19,
   "id": "43bc5608-729b-4508-bfc9-b3b76afcb9ef",
   "metadata": {},
   "outputs": [],
   "source": [
    "df.loc[(df['registration_year'].isnull()) & (df.km < 40000),'registration_year'] =2017"
   ]
  },
  {
   "cell_type": "markdown",
   "id": "be30430d-ded2-41e3-8844-94999be09882",
   "metadata": {},
   "source": [
    "- #### otherwise filled based on mileage"
   ]
  },
  {
   "cell_type": "code",
   "execution_count": 20,
   "id": "e8a8f07d-00fb-4000-b107-82102cf77523",
   "metadata": {},
   "outputs": [
    {
     "data": {
      "text/plain": [
       "registration_year\n",
       "2016.0    16702.052388\n",
       "2017.0    19970.030631\n",
       "2018.0    22544.715092\n",
       "2019.0    24859.973913\n",
       "Name: price, dtype: float64"
      ]
     },
     "execution_count": 20,
     "metadata": {},
     "output_type": "execute_result"
    }
   ],
   "source": [
    "df[(df['make_model'] == 'Audi A3') & (df['body_type'] == 'Sedans')].groupby('registration_year').price.mean()"
   ]
  },
  {
   "cell_type": "code",
   "execution_count": 21,
   "id": "c8bb9264-4241-4bda-b4c7-f4eba39ac00d",
   "metadata": {},
   "outputs": [
    {
     "data": {
      "text/plain": [
       "registration_year\n",
       "2016.0    13606.709507\n",
       "2017.0    16995.140917\n",
       "2018.0    21390.167750\n",
       "2019.0    32103.197015\n",
       "Name: price, dtype: float64"
      ]
     },
     "execution_count": 21,
     "metadata": {},
     "output_type": "execute_result"
    }
   ],
   "source": [
    "df[(df['make_model'] == 'Opel Insignia')].groupby('registration_year').price.mean()"
   ]
  },
  {
   "cell_type": "code",
   "execution_count": 22,
   "id": "0b5f9e2b-1d0c-4802-86dd-1023501adf2c",
   "metadata": {},
   "outputs": [
    {
     "data": {
      "text/html": [
       "<div>\n",
       "<style scoped>\n",
       "    .dataframe tbody tr th:only-of-type {\n",
       "        vertical-align: middle;\n",
       "    }\n",
       "\n",
       "    .dataframe tbody tr th {\n",
       "        vertical-align: top;\n",
       "    }\n",
       "\n",
       "    .dataframe thead th {\n",
       "        text-align: right;\n",
       "    }\n",
       "</style>\n",
       "<table border=\"1\" class=\"dataframe\">\n",
       "  <thead>\n",
       "    <tr style=\"text-align: right;\">\n",
       "      <th></th>\n",
       "      <th>make_model</th>\n",
       "      <th>body_type</th>\n",
       "      <th>price</th>\n",
       "      <th>vat</th>\n",
       "      <th>km</th>\n",
       "      <th>hp</th>\n",
       "      <th>type</th>\n",
       "      <th>previous_owners</th>\n",
       "      <th>next_inspection</th>\n",
       "      <th>inspection_new</th>\n",
       "      <th>...</th>\n",
       "      <th>entertainment_media</th>\n",
       "      <th>extras</th>\n",
       "      <th>safety_security</th>\n",
       "      <th>gears</th>\n",
       "      <th>registration_year</th>\n",
       "      <th>upholstery_material</th>\n",
       "      <th>upholstery_color</th>\n",
       "      <th>consumption_combined</th>\n",
       "      <th>consumption_city</th>\n",
       "      <th>consumption_country</th>\n",
       "    </tr>\n",
       "  </thead>\n",
       "  <tbody>\n",
       "    <tr>\n",
       "      <th>5237</th>\n",
       "      <td>Audi A3</td>\n",
       "      <td>Sedans</td>\n",
       "      <td>25400</td>\n",
       "      <td>VAT undeductible</td>\n",
       "      <td>NaN</td>\n",
       "      <td>85.0</td>\n",
       "      <td>NaN</td>\n",
       "      <td>NaN</td>\n",
       "      <td>NaN</td>\n",
       "      <td>NaN</td>\n",
       "      <td>...</td>\n",
       "      <td>'Bluetooth', 'Hands-free equipment'</td>\n",
       "      <td>['Alloy wheels']</td>\n",
       "      <td>['ABS', 'Central door lock', 'Driver-side airb...</td>\n",
       "      <td>7.0</td>\n",
       "      <td>NaN</td>\n",
       "      <td>Cloth</td>\n",
       "      <td>NaN</td>\n",
       "      <td>3.9</td>\n",
       "      <td>4.1</td>\n",
       "      <td>3.7</td>\n",
       "    </tr>\n",
       "    <tr>\n",
       "      <th>5329</th>\n",
       "      <td>Audi A3</td>\n",
       "      <td>Sedans</td>\n",
       "      <td>24900</td>\n",
       "      <td>VAT undeductible</td>\n",
       "      <td>NaN</td>\n",
       "      <td>85.0</td>\n",
       "      <td>Pre-registered</td>\n",
       "      <td>NaN</td>\n",
       "      <td>NaN</td>\n",
       "      <td>NaN</td>\n",
       "      <td>...</td>\n",
       "      <td>'Bluetooth', 'Hands-free equipment'</td>\n",
       "      <td>['Alloy wheels']</td>\n",
       "      <td>['ABS', 'Central door lock', 'Driver-side airb...</td>\n",
       "      <td>7.0</td>\n",
       "      <td>NaN</td>\n",
       "      <td>Cloth</td>\n",
       "      <td>NaN</td>\n",
       "      <td>3.9</td>\n",
       "      <td>4.1</td>\n",
       "      <td>3.7</td>\n",
       "    </tr>\n",
       "    <tr>\n",
       "      <th>12550</th>\n",
       "      <td>Opel Insignia</td>\n",
       "      <td>Sedans</td>\n",
       "      <td>33800</td>\n",
       "      <td>VAT undeductible</td>\n",
       "      <td>NaN</td>\n",
       "      <td>100.0</td>\n",
       "      <td>Employee's car</td>\n",
       "      <td>NaN</td>\n",
       "      <td>NaN</td>\n",
       "      <td>NaN</td>\n",
       "      <td>...</td>\n",
       "      <td>'Bluetooth', 'Hands-free equipment', 'MP3', 'O...</td>\n",
       "      <td>['Alloy wheels', 'Sport package', 'Touch scree...</td>\n",
       "      <td>['ABS', 'Blind spot monitor', 'Central door lo...</td>\n",
       "      <td>6.0</td>\n",
       "      <td>NaN</td>\n",
       "      <td>Part leather</td>\n",
       "      <td>Black</td>\n",
       "      <td>5.4</td>\n",
       "      <td>7.0</td>\n",
       "      <td>4.6</td>\n",
       "    </tr>\n",
       "    <tr>\n",
       "      <th>12882</th>\n",
       "      <td>Opel Insignia</td>\n",
       "      <td>Station wagon</td>\n",
       "      <td>31318</td>\n",
       "      <td>VAT deductible</td>\n",
       "      <td>NaN</td>\n",
       "      <td>100.0</td>\n",
       "      <td>Used</td>\n",
       "      <td>NaN</td>\n",
       "      <td>NaN</td>\n",
       "      <td>NaN</td>\n",
       "      <td>...</td>\n",
       "      <td>'Bluetooth', 'On-board computer'</td>\n",
       "      <td>['Alloy wheels', 'Sport seats']</td>\n",
       "      <td>['ABS', 'Central door lock', 'Driver-side airb...</td>\n",
       "      <td>6.0</td>\n",
       "      <td>NaN</td>\n",
       "      <td>Full leather</td>\n",
       "      <td>Black</td>\n",
       "      <td>4.3</td>\n",
       "      <td>NaN</td>\n",
       "      <td>NaN</td>\n",
       "    </tr>\n",
       "  </tbody>\n",
       "</table>\n",
       "<p>4 rows × 40 columns</p>\n",
       "</div>"
      ],
      "text/plain": [
       "          make_model      body_type  price               vat  km     hp  \\\n",
       "5237         Audi A3         Sedans  25400  VAT undeductible NaN   85.0   \n",
       "5329         Audi A3         Sedans  24900  VAT undeductible NaN   85.0   \n",
       "12550  Opel Insignia         Sedans  33800  VAT undeductible NaN  100.0   \n",
       "12882  Opel Insignia  Station wagon  31318    VAT deductible NaN  100.0   \n",
       "\n",
       "                 type  previous_owners  next_inspection inspection_new  ...  \\\n",
       "5237              NaN              NaN              NaN            NaN  ...   \n",
       "5329   Pre-registered              NaN              NaN            NaN  ...   \n",
       "12550  Employee's car              NaN              NaN            NaN  ...   \n",
       "12882            Used              NaN              NaN            NaN  ...   \n",
       "\n",
       "                                     entertainment_media  \\\n",
       "5237                 'Bluetooth', 'Hands-free equipment'   \n",
       "5329                 'Bluetooth', 'Hands-free equipment'   \n",
       "12550  'Bluetooth', 'Hands-free equipment', 'MP3', 'O...   \n",
       "12882                   'Bluetooth', 'On-board computer'   \n",
       "\n",
       "                                                  extras  \\\n",
       "5237                                    ['Alloy wheels']   \n",
       "5329                                    ['Alloy wheels']   \n",
       "12550  ['Alloy wheels', 'Sport package', 'Touch scree...   \n",
       "12882                    ['Alloy wheels', 'Sport seats']   \n",
       "\n",
       "                                         safety_security gears  \\\n",
       "5237   ['ABS', 'Central door lock', 'Driver-side airb...   7.0   \n",
       "5329   ['ABS', 'Central door lock', 'Driver-side airb...   7.0   \n",
       "12550  ['ABS', 'Blind spot monitor', 'Central door lo...   6.0   \n",
       "12882  ['ABS', 'Central door lock', 'Driver-side airb...   6.0   \n",
       "\n",
       "      registration_year upholstery_material upholstery_color  \\\n",
       "5237                NaN               Cloth              NaN   \n",
       "5329                NaN               Cloth              NaN   \n",
       "12550               NaN        Part leather            Black   \n",
       "12882               NaN        Full leather            Black   \n",
       "\n",
       "      consumption_combined  consumption_city  consumption_country  \n",
       "5237                   3.9               4.1                  3.7  \n",
       "5329                   3.9               4.1                  3.7  \n",
       "12550                  5.4               7.0                  4.6  \n",
       "12882                  4.3               NaN                  NaN  \n",
       "\n",
       "[4 rows x 40 columns]"
      ]
     },
     "execution_count": 22,
     "metadata": {},
     "output_type": "execute_result"
    }
   ],
   "source": [
    "df.loc[(df['registration_year'].isnull())]"
   ]
  },
  {
   "cell_type": "code",
   "execution_count": 23,
   "id": "cc4d7c6b-826b-4f2f-a820-16a992c8fa9a",
   "metadata": {},
   "outputs": [],
   "source": [
    "df['registration_year']=df['registration_year'].fillna(2019)"
   ]
  },
  {
   "cell_type": "code",
   "execution_count": 24,
   "id": "7d8e4b2d-9cf4-464c-8886-6feaec9318ed",
   "metadata": {},
   "outputs": [],
   "source": [
    "df['registration_year'] = 2019 - df['registration_year']\n",
    "\n",
    "df = df.rename(columns = {'registration_year': 'age'})"
   ]
  },
  {
   "cell_type": "code",
   "execution_count": 25,
   "id": "75fec4d2-e03e-4670-b3a9-5260bc8ed8c6",
   "metadata": {},
   "outputs": [
    {
     "data": {
      "text/plain": [
       "age\n",
       "1.0    4525\n",
       "0.0    4434\n",
       "3.0    3679\n",
       "2.0    3281\n",
       "Name: count, dtype: int64"
      ]
     },
     "execution_count": 25,
     "metadata": {},
     "output_type": "execute_result"
    }
   ],
   "source": [
    "df['age'].value_counts(dropna=False)"
   ]
  },
  {
   "cell_type": "markdown",
   "id": "01ac1a91-be0f-4a1f-ac4f-83a451f6e3b2",
   "metadata": {},
   "source": [
    "- #### year column converted to age column"
   ]
  },
  {
   "cell_type": "markdown",
   "id": "5952fe9c-8d69-4f38-9f96-d4fd90195849",
   "metadata": {
    "jp-MarkdownHeadingCollapsed": true
   },
   "source": [
    "### type"
   ]
  },
  {
   "cell_type": "code",
   "execution_count": 26,
   "id": "704fb3a3-f549-4c62-9340-75b954123910",
   "metadata": {},
   "outputs": [
    {
     "data": {
      "text/plain": [
       "type\n",
       "Used              11096\n",
       "New                1650\n",
       "Pre-registered     1364\n",
       "Employee's car     1011\n",
       "Demonstration       796\n",
       "NaN                   2\n",
       "Name: count, dtype: int64"
      ]
     },
     "execution_count": 26,
     "metadata": {},
     "output_type": "execute_result"
    }
   ],
   "source": [
    "df['type'].value_counts(dropna=False)"
   ]
  },
  {
   "cell_type": "markdown",
   "id": "478cde7a-fa2e-4e94-8bd7-023e4c21118d",
   "metadata": {},
   "source": [
    "#### Only 2 NaN so replaced with mode"
   ]
  },
  {
   "cell_type": "code",
   "execution_count": 27,
   "id": "9c44882d-5188-42fb-880a-3d79608227f9",
   "metadata": {},
   "outputs": [
    {
     "name": "stdout",
     "output_type": "stream",
     "text": [
      "Filling column: type\n",
      "Grouping by: None\n",
      "Number of NaN before filling: 2\n",
      "Number of NaN filled: 2\n",
      "Number of NaN after filling: 0\n",
      "------------------\n",
      "type\n",
      "Used              11098\n",
      "New                1650\n",
      "Pre-registered     1364\n",
      "Employee's car     1011\n",
      "Demonstration       796\n",
      "Name: count, dtype: int64\n"
     ]
    }
   ],
   "source": [
    "df = fill('mode', df, 'type')"
   ]
  },
  {
   "cell_type": "markdown",
   "id": "5739a625-181e-4555-a998-21036c0c050b",
   "metadata": {
    "jp-MarkdownHeadingCollapsed": true
   },
   "source": [
    "### next_inspection (dropped)"
   ]
  },
  {
   "cell_type": "code",
   "execution_count": 28,
   "id": "c6008d99-1133-4b34-9fb0-65bd9f9faa87",
   "metadata": {},
   "outputs": [
    {
     "data": {
      "text/plain": [
       "next_inspection\n",
       "NaN       13094\n",
       "2021.0     1401\n",
       "2020.0      557\n",
       "2022.0      483\n",
       "2019.0      336\n",
       "2018.0       26\n",
       "2017.0        7\n",
       "2023.0        5\n",
       "2001.0        5\n",
       "2016.0        3\n",
       "2014.0        1\n",
       "1921.0        1\n",
       "Name: count, dtype: int64"
      ]
     },
     "execution_count": 28,
     "metadata": {},
     "output_type": "execute_result"
    }
   ],
   "source": [
    "df['next_inspection'].value_counts(dropna=False)"
   ]
  },
  {
   "cell_type": "code",
   "execution_count": 29,
   "id": "c932bc4d-2722-414d-96bb-63f526848e27",
   "metadata": {},
   "outputs": [],
   "source": [
    "df.drop([\"next_inspection\"],axis=1,inplace=True)"
   ]
  },
  {
   "cell_type": "markdown",
   "id": "78cab97e-4860-4e94-8782-ca4dad0aa8d6",
   "metadata": {
    "jp-MarkdownHeadingCollapsed": true
   },
   "source": [
    "### inspection_new"
   ]
  },
  {
   "cell_type": "code",
   "execution_count": 30,
   "id": "bc09b803-d857-4468-aeca-c7b20ed4cc1e",
   "metadata": {},
   "outputs": [],
   "source": [
    "df['inspection_new'].fillna('No', inplace=True)"
   ]
  },
  {
   "cell_type": "code",
   "execution_count": 31,
   "id": "31a0c66e-515f-4a38-8a8d-8a5fcf687060",
   "metadata": {},
   "outputs": [
    {
     "data": {
      "text/plain": [
       "inspection_new\n",
       "No     12349\n",
       "Yes     3570\n",
       "Name: count, dtype: int64"
      ]
     },
     "execution_count": 31,
     "metadata": {},
     "output_type": "execute_result"
    }
   ],
   "source": [
    "df['inspection_new'].value_counts(dropna=False)"
   ]
  },
  {
   "cell_type": "markdown",
   "id": "931226b5-5dd7-40dc-b945-7d1138ee3d2d",
   "metadata": {
    "jp-MarkdownHeadingCollapsed": true
   },
   "source": [
    "### body_color"
   ]
  },
  {
   "cell_type": "code",
   "execution_count": 32,
   "id": "113b9a8d-8a71-428d-a5d4-a575ff487b88",
   "metadata": {},
   "outputs": [
    {
     "data": {
      "text/plain": [
       "body_color\n",
       "Black     3745\n",
       "Grey      3505\n",
       "White     3406\n",
       "Silver    1647\n",
       "Blue      1431\n",
       "Red        957\n",
       "NaN        597\n",
       "Brown      289\n",
       "Green      154\n",
       "Beige      108\n",
       "Yellow      51\n",
       "Violet      18\n",
       "Bronze       6\n",
       "Orange       3\n",
       "Gold         2\n",
       "Name: count, dtype: int64"
      ]
     },
     "execution_count": 32,
     "metadata": {},
     "output_type": "execute_result"
    }
   ],
   "source": [
    "df['body_color'].value_counts(dropna=False)"
   ]
  },
  {
   "cell_type": "code",
   "execution_count": 33,
   "id": "f9e22aa0-757d-4b0d-9e6d-0499be06a777",
   "metadata": {},
   "outputs": [
    {
     "name": "stdout",
     "output_type": "stream",
     "text": [
      "Filling column: body_color\n",
      "Grouping by: ['make_model', 'body_type']\n",
      "Number of NaN before filling: 597\n",
      "Number of NaN filled: 594\n",
      "Number of NaN after filling: 3\n",
      "------------------\n",
      "body_color\n",
      "Black     3941\n",
      "Grey      3836\n",
      "White     3469\n",
      "Silver    1647\n",
      "Blue      1431\n",
      "Red        957\n",
      "Brown      289\n",
      "Green      158\n",
      "Beige      108\n",
      "Yellow      51\n",
      "Violet      18\n",
      "Bronze       6\n",
      "Orange       3\n",
      "NaN          3\n",
      "Gold         2\n",
      "Name: count, dtype: int64\n"
     ]
    }
   ],
   "source": [
    "df = fill('mode', df, 'body_color', ['make_model', 'body_type'])"
   ]
  },
  {
   "cell_type": "code",
   "execution_count": 34,
   "id": "7b09e28b-084f-42b5-8818-ecd252559a2f",
   "metadata": {},
   "outputs": [
    {
     "name": "stdout",
     "output_type": "stream",
     "text": [
      "Filling column: body_color\n",
      "Grouping by: ['make_model']\n",
      "Number of NaN before filling: 3\n",
      "Number of NaN filled: 3\n",
      "Number of NaN after filling: 0\n",
      "------------------\n",
      "body_color\n",
      "Black     3941\n",
      "Grey      3839\n",
      "White     3469\n",
      "Silver    1647\n",
      "Blue      1431\n",
      "Red        957\n",
      "Brown      289\n",
      "Green      158\n",
      "Beige      108\n",
      "Yellow      51\n",
      "Violet      18\n",
      "Bronze       6\n",
      "Orange       3\n",
      "Gold         2\n",
      "Name: count, dtype: int64\n"
     ]
    }
   ],
   "source": [
    "df = fill('mode', df, 'body_color', ['make_model'])"
   ]
  },
  {
   "cell_type": "markdown",
   "id": "5f6431a2-1fc3-4286-855c-f65055f347d5",
   "metadata": {
    "jp-MarkdownHeadingCollapsed": true
   },
   "source": [
    "### paint_type"
   ]
  },
  {
   "cell_type": "code",
   "execution_count": 35,
   "id": "c07c0dad-e0a3-4c83-bd94-91bf0239d3da",
   "metadata": {},
   "outputs": [
    {
     "name": "stdout",
     "output_type": "stream",
     "text": [
      "Filling column: paint_type\n",
      "Grouping by: ['make_model', 'body_type']\n",
      "Number of NaN before filling: 5772\n",
      "Number of NaN filled: 5761\n",
      "Number of NaN after filling: 11\n",
      "------------------\n",
      "paint_type\n",
      "Metallic       15512\n",
      "Uni/basic        390\n",
      "NaN               11\n",
      "Perl effect        6\n",
      "Name: count, dtype: int64\n"
     ]
    }
   ],
   "source": [
    "df = fill('mode', df, 'paint_type', ['make_model', 'body_type'])"
   ]
  },
  {
   "cell_type": "code",
   "execution_count": 36,
   "id": "b672b093-45f8-472e-a04f-bcb9e2e6a4a2",
   "metadata": {},
   "outputs": [
    {
     "name": "stdout",
     "output_type": "stream",
     "text": [
      "Filling column: paint_type\n",
      "Grouping by: make_model\n",
      "Number of NaN before filling: 11\n",
      "Number of NaN filled: 11\n",
      "Number of NaN after filling: 0\n",
      "------------------\n",
      "paint_type\n",
      "Metallic       15523\n",
      "Uni/basic        390\n",
      "Perl effect        6\n",
      "Name: count, dtype: int64\n"
     ]
    }
   ],
   "source": [
    "df = fill('mode', df, 'paint_type', 'make_model')"
   ]
  },
  {
   "cell_type": "markdown",
   "id": "e212cccf-0620-449c-8dd8-053b962b293a",
   "metadata": {
    "jp-MarkdownHeadingCollapsed": true
   },
   "source": [
    "### upholstery_color (dropped)"
   ]
  },
  {
   "cell_type": "code",
   "execution_count": 37,
   "id": "e1db85c1-4b75-4f50-8d9a-4e9fe9425383",
   "metadata": {},
   "outputs": [],
   "source": [
    "df.drop(['upholstery_color'], axis=1, inplace=True)"
   ]
  },
  {
   "cell_type": "markdown",
   "id": "98e2f73a-ab93-446f-9553-b4a6ebe96540",
   "metadata": {
    "jp-MarkdownHeadingCollapsed": true
   },
   "source": [
    "### upholstery_material"
   ]
  },
  {
   "cell_type": "code",
   "execution_count": 38,
   "id": "230b7c94-6290-4db3-a245-7e57bc9012f8",
   "metadata": {},
   "outputs": [
    {
     "data": {
      "text/plain": [
       "upholstery_material\n",
       "Cloth           8423\n",
       "NaN             4503\n",
       "Part leather    1499\n",
       "Full leather    1009\n",
       "Other            368\n",
       "Velour            60\n",
       "alcantara         57\n",
       "Name: count, dtype: int64"
      ]
     },
     "execution_count": 38,
     "metadata": {},
     "output_type": "execute_result"
    }
   ],
   "source": [
    "df['upholstery_material'].value_counts(dropna=False)"
   ]
  },
  {
   "cell_type": "code",
   "execution_count": 39,
   "id": "ce076c96-12fb-45d1-bf8f-dbb715a45b5d",
   "metadata": {},
   "outputs": [
    {
     "name": "stdout",
     "output_type": "stream",
     "text": [
      "Filling column: upholstery_material\n",
      "Grouping by: ['make_model', 'body_type']\n",
      "Number of NaN before filling: 4503\n",
      "Number of NaN filled: 4494\n",
      "Number of NaN after filling: 9\n",
      "------------------\n",
      "upholstery_material\n",
      "Cloth           12457\n",
      "Part leather     1552\n",
      "Full leather     1380\n",
      "Other             404\n",
      "Velour             60\n",
      "alcantara          57\n",
      "NaN                 9\n",
      "Name: count, dtype: int64\n"
     ]
    }
   ],
   "source": [
    "df = fill('mode', df, 'upholstery_material', ['make_model', 'body_type'])"
   ]
  },
  {
   "cell_type": "code",
   "execution_count": 40,
   "id": "d77b814f-7529-440b-a324-cb06c52bf4db",
   "metadata": {},
   "outputs": [
    {
     "name": "stdout",
     "output_type": "stream",
     "text": [
      "Filling column: upholstery_material\n",
      "Grouping by: None\n",
      "Number of NaN before filling: 9\n",
      "Number of NaN filled: 9\n",
      "Number of NaN after filling: 0\n",
      "------------------\n",
      "upholstery_material\n",
      "Cloth           12466\n",
      "Part leather     1552\n",
      "Full leather     1380\n",
      "Other             404\n",
      "Velour             60\n",
      "alcantara          57\n",
      "Name: count, dtype: int64\n"
     ]
    }
   ],
   "source": [
    "df = fill('mode', df, 'upholstery_material')"
   ]
  },
  {
   "cell_type": "markdown",
   "id": "254a3e22-879b-4fad-a34a-b6a4f5d0e1e7",
   "metadata": {
    "jp-MarkdownHeadingCollapsed": true
   },
   "source": [
    "### gearing_type"
   ]
  },
  {
   "cell_type": "code",
   "execution_count": 41,
   "id": "b0d4d4c6-3135-4146-814b-c99efdb35ecb",
   "metadata": {},
   "outputs": [
    {
     "data": {
      "text/plain": [
       "gearing_type\n",
       "Manual            8153\n",
       "Automatic         7297\n",
       "Semi-automatic     469\n",
       "Name: count, dtype: int64"
      ]
     },
     "execution_count": 41,
     "metadata": {},
     "output_type": "execute_result"
    }
   ],
   "source": [
    "df['gearing_type'].value_counts(dropna=False)"
   ]
  },
  {
   "cell_type": "markdown",
   "id": "c2947199-4a68-41f8-9b2b-36aea7514c65",
   "metadata": {},
   "source": [
    "### fuel"
   ]
  },
  {
   "cell_type": "code",
   "execution_count": 42,
   "id": "78a4fe5b-fd1e-4ed9-a9f7-2fdbd385c219",
   "metadata": {},
   "outputs": [
    {
     "data": {
      "text/plain": [
       "fuel\n",
       "Benzine     8551\n",
       "Diesel      7299\n",
       "LPG/CNG       64\n",
       "Electric       5\n",
       "Name: count, dtype: int64"
      ]
     },
     "execution_count": 42,
     "metadata": {},
     "output_type": "execute_result"
    }
   ],
   "source": [
    "df['fuel'].value_counts(dropna=False)"
   ]
  },
  {
   "cell_type": "markdown",
   "id": "7da85b23-28e8-4b3d-893f-479a5ac7aabc",
   "metadata": {
    "jp-MarkdownHeadingCollapsed": true
   },
   "source": [
    "### emission_class"
   ]
  },
  {
   "cell_type": "code",
   "execution_count": 43,
   "id": "5648c2cd-9358-4589-ab25-f09eac503429",
   "metadata": {},
   "outputs": [
    {
     "name": "stdout",
     "output_type": "stream",
     "text": [
      "Filling column: emission_class\n",
      "Grouping by: co2_emission\n",
      "Number of NaN before filling: 3628\n",
      "Number of NaN filled: 1636\n",
      "Number of NaN after filling: 1992\n",
      "------------------\n",
      "emission_class\n",
      "Euro 6    13809\n",
      "NaN        1992\n",
      "Euro 5       78\n",
      "Euro 4       40\n",
      "Name: count, dtype: int64\n"
     ]
    }
   ],
   "source": [
    "df = fill(\"mode\", df, 'emission_class', 'co2_emission')"
   ]
  },
  {
   "cell_type": "code",
   "execution_count": 44,
   "id": "21fa65fa-0b8c-49c0-b90c-e6d05a623945",
   "metadata": {},
   "outputs": [
    {
     "name": "stdout",
     "output_type": "stream",
     "text": [
      "Filling column: emission_class\n",
      "Grouping by: age\n",
      "Number of NaN before filling: 1992\n",
      "Number of NaN filled: 1992\n",
      "Number of NaN after filling: 0\n",
      "------------------\n",
      "emission_class\n",
      "Euro 6    15801\n",
      "Euro 5       78\n",
      "Euro 4       40\n",
      "Name: count, dtype: int64\n"
     ]
    }
   ],
   "source": [
    "df = fill(\"mode\", df, 'emission_class', 'age')"
   ]
  },
  {
   "cell_type": "markdown",
   "id": "d69c1037-6cb7-408d-ae2f-732ef3bc699b",
   "metadata": {
    "jp-MarkdownHeadingCollapsed": true
   },
   "source": [
    "### drive_chain"
   ]
  },
  {
   "cell_type": "code",
   "execution_count": 45,
   "id": "8b6d153e-881b-4c6b-99ea-cfb153af7542",
   "metadata": {},
   "outputs": [
    {
     "name": "stdout",
     "output_type": "stream",
     "text": [
      "Filling column: drive_chain\n",
      "Grouping by: ['make_model', 'body_type']\n",
      "Number of NaN before filling: 6858\n",
      "Number of NaN filled: 6846\n",
      "Number of NaN after filling: 12\n",
      "------------------\n",
      "drive_chain\n",
      "front    15699\n",
      "4WD        204\n",
      "NaN         12\n",
      "rear         4\n",
      "Name: count, dtype: int64\n"
     ]
    }
   ],
   "source": [
    "df = fill(\"mode\", df, 'drive_chain', ['make_model', 'body_type'])"
   ]
  },
  {
   "cell_type": "code",
   "execution_count": 46,
   "id": "2def12ed-4165-44f4-9a90-f341d5f7a5ba",
   "metadata": {},
   "outputs": [
    {
     "name": "stdout",
     "output_type": "stream",
     "text": [
      "Filling column: drive_chain\n",
      "Grouping by: ['make_model']\n",
      "Number of NaN before filling: 12\n",
      "Number of NaN filled: 12\n",
      "Number of NaN after filling: 0\n",
      "------------------\n",
      "drive_chain\n",
      "front    15711\n",
      "4WD        204\n",
      "rear         4\n",
      "Name: count, dtype: int64\n"
     ]
    }
   ],
   "source": [
    "df = fill(\"mode\", df, 'drive_chain', ['make_model'])"
   ]
  },
  {
   "cell_type": "markdown",
   "id": "7ec97b62-3d79-4121-ac93-45f9c6aed996",
   "metadata": {
    "jp-MarkdownHeadingCollapsed": true
   },
   "source": [
    "### entertainment_media"
   ]
  },
  {
   "cell_type": "code",
   "execution_count": 47,
   "id": "31e7da95-64aa-412a-9304-24ed9e9dcf3b",
   "metadata": {},
   "outputs": [
    {
     "data": {
      "text/plain": [
       "0        'Bluetooth', 'Hands-free equipment', 'On-board...\n",
       "1        'Bluetooth', 'Hands-free equipment', 'On-board...\n",
       "2                               'MP3', 'On-board computer'\n",
       "3        'Bluetooth', 'CD player', 'Hands-free equipmen...\n",
       "4        'Bluetooth', 'CD player', 'Hands-free equipmen...\n",
       "                               ...                        \n",
       "15914    'Bluetooth', 'Digital radio', 'Hands-free equi...\n",
       "15915    'Bluetooth', 'Digital radio', 'Hands-free equi...\n",
       "15916    'Bluetooth', 'Hands-free equipment', 'On-board...\n",
       "15917         'Bluetooth', 'Digital radio', 'Radio', 'USB'\n",
       "15918                                                'USB'\n",
       "Name: entertainment_media, Length: 15919, dtype: object"
      ]
     },
     "execution_count": 47,
     "metadata": {},
     "output_type": "execute_result"
    }
   ],
   "source": [
    "df['entertainment_media']"
   ]
  },
  {
   "cell_type": "code",
   "execution_count": 48,
   "id": "7525130c-c54c-44c1-b9fa-b00f5572d13f",
   "metadata": {},
   "outputs": [],
   "source": [
    "df['entertainment_media'] = df['entertainment_media'].astype('str').str.replace('[','').str.replace(\"]\",'')"
   ]
  },
  {
   "cell_type": "markdown",
   "id": "0c469a5e-d0da-4c34-b9fb-5308efc5dd1e",
   "metadata": {},
   "source": [
    "#### This column was not changed as it will be transformed with getdummy function later"
   ]
  },
  {
   "cell_type": "markdown",
   "id": "4ac52db9-5c02-4d85-a9a7-2bf75e02eb09",
   "metadata": {
    "jp-MarkdownHeadingCollapsed": true
   },
   "source": [
    "### safety_security"
   ]
  },
  {
   "cell_type": "code",
   "execution_count": 49,
   "id": "207082cc-66b5-4bef-9b48-61f245858541",
   "metadata": {},
   "outputs": [
    {
     "name": "stdout",
     "output_type": "stream",
     "text": [
      "Filling column: safety_security\n",
      "Grouping by: ['make_model', 'body_type']\n",
      "Number of NaN before filling: 982\n",
      "Number of NaN filled: 982\n",
      "Number of NaN after filling: 0\n",
      "------------------\n",
      "safety_security\n",
      "['ABS', 'Central door lock', 'Daytime running lights', 'Driver-side airbag', 'Electronic stability control', 'Fog lights', 'Immobilizer', 'Isofix', 'Passenger-side airbag', 'Power steering', 'Side airbag', 'Tire pressure monitoring system', 'Traction control']                                                                                                                                                     729\n",
      "['ABS', 'Central door lock', 'Daytime running lights', 'Driver-side airbag', 'Electronic stability control', 'Immobilizer', 'Isofix', 'Passenger-side airbag', 'Power steering', 'Side airbag', 'Tire pressure monitoring system', 'Traction control']                                                                                                                                                                   480\n",
      "['ABS', 'Central door lock', 'Daytime running lights', 'Driver-side airbag', 'Electronic stability control', 'Fog lights', 'Immobilizer', 'Isofix', 'LED Daytime Running Lights', 'Passenger-side airbag', 'Power steering', 'Side airbag', 'Tire pressure monitoring system', 'Traction control']                                                                                                                       373\n",
      "['ABS', 'Central door lock', 'Daytime running lights', 'Driver-side airbag', 'Electronic stability control', 'Immobilizer', 'Isofix', 'Passenger-side airbag', 'Power steering', 'Side airbag', 'Tire pressure monitoring system', 'Traction control', 'Xenon headlights']                                                                                                                                               351\n",
      "['ABS', 'Central door lock', 'Daytime running lights', 'Driver-side airbag', 'Electronic stability control', 'Isofix', 'Passenger-side airbag', 'Power steering', 'Side airbag', 'Tire pressure monitoring system', 'Traction control']                                                                                                                                                                                  306\n",
      "                                                                                                                                                                                                                                                                                                                                                                                                                        ... \n",
      "['ABS', 'Central door lock', 'Electronic stability control', 'Immobilizer', 'Isofix', 'Passenger-side airbag', 'Power steering', 'Side airbag']                                                                                                                                                                                                                                                                            1\n",
      "['ABS', 'Adaptive Cruise Control', 'Central door lock', 'Daytime running lights', 'Driver-side airbag', 'Electronic stability control', 'Emergency brake assistant', 'Immobilizer', 'Isofix', 'Passenger-side airbag', 'Power steering', 'Side airbag', 'Tire pressure monitoring system', 'Traction control']                                                                                                             1\n",
      "['ABS', 'Adaptive Cruise Control', 'Alarm system', 'Central door lock', 'Driver-side airbag', 'Electronic stability control', 'Fog lights', 'Immobilizer', 'Isofix', 'Lane departure warning system', 'LED Daytime Running Lights', 'Passenger-side airbag', 'Power steering', 'Side airbag', 'Tire pressure monitoring system', 'Traction control', 'Xenon headlights']                                                   1\n",
      "['ABS', 'Adaptive Cruise Control', 'Central door lock', 'Daytime running lights', 'Driver-side airbag', 'Electronic stability control', 'Fog lights', 'Immobilizer', 'Isofix', 'Power steering', 'Tire pressure monitoring system', 'Traction control']                                                                                                                                                                    1\n",
      "['ABS', 'Adaptive Cruise Control', 'Central door lock', 'Daytime running lights', 'Driver-side airbag', 'Electronic stability control', 'Emergency brake assistant', 'Fog lights', 'Immobilizer', 'Isofix', 'Lane departure warning system', 'LED Daytime Running Lights', 'LED Headlights', 'Passenger-side airbag', 'Power steering', 'Side airbag', 'Tire pressure monitoring system', 'Traffic sign recognition']      1\n",
      "Name: count, Length: 4443, dtype: int64\n"
     ]
    }
   ],
   "source": [
    "df = fill(\"mode\", df, 'safety_security', ['make_model', 'body_type'])"
   ]
  },
  {
   "cell_type": "markdown",
   "id": "ccdadb63-be05-4c27-8224-0e08be68e53b",
   "metadata": {},
   "source": [
    "#### This column was not changed as it will be transformed with getdummy function later"
   ]
  },
  {
   "cell_type": "markdown",
   "id": "a1b5b9ad-451c-47f2-ad86-738669560229",
   "metadata": {
    "jp-MarkdownHeadingCollapsed": true
   },
   "source": [
    "### comfort_convenience"
   ]
  },
  {
   "cell_type": "code",
   "execution_count": 50,
   "id": "07ba6066-bdc5-4cf3-8bd2-d49540dc68a4",
   "metadata": {},
   "outputs": [
    {
     "name": "stdout",
     "output_type": "stream",
     "text": [
      "Filling column: comfort_convenience\n",
      "Grouping by: ['make_model', 'body_type']\n",
      "Number of NaN before filling: 920\n",
      "Number of NaN filled: 920\n",
      "Number of NaN after filling: 0\n",
      "------------------\n",
      "comfort_convenience\n",
      "'Air conditioning', 'Electrical side mirrors', 'Hill Holder', 'Power windows'                                                                                                                                                                                                                                                                                                                                                                                                                                                                                            315\n",
      "'Air conditioning', 'Armrest', 'Automatic climate control', 'Cruise control', 'Electrical side mirrors', 'Leather steering wheel', 'Light sensor', 'Lumbar support', 'Multi-function steering wheel', 'Navigation system', 'Park Distance Control', 'Parking assist system sensors front', 'Parking assist system sensors rear', 'Power windows', 'Rain sensor', 'Seat heating', 'Start-stop system'                                                                                                                                                                     187\n",
      "'Air conditioning', 'Automatic climate control', 'Cruise control', 'Multi-function steering wheel', 'Park Distance Control', 'Power windows'                                                                                                                                                                                                                                                                                                                                                                                                                             158\n",
      "'Air conditioning', 'Electrical side mirrors', 'Power windows'                                                                                                                                                                                                                                                                                                                                                                                                                                                                                                           134\n",
      "'Air conditioning', 'Power windows'                                                                                                                                                                                                                                                                                                                                                                                                                                                                                                                                      130\n",
      "                                                                                                                                                                                                                                                                                                                                                                                                                                                                                                                                                                        ... \n",
      "'Air conditioning', 'Armrest', 'Cruise control', 'Electrical side mirrors', 'Heated steering wheel', 'Hill Holder', 'Leather steering wheel', 'Light sensor', 'Multi-function steering wheel', 'Park Distance Control', 'Parking assist system camera', 'Parking assist system sensors rear', 'Power windows', 'Rain sensor', 'Seat heating', 'Split rear seats', 'Start-stop system', 'Sunroof', 'Tinted windows'                                                                                                                                                         1\n",
      "'Air conditioning', 'Armrest', 'Cruise control', 'Hill Holder', 'Leather steering wheel', 'Multi-function steering wheel', 'Park Distance Control', 'Parking assist system sensors front', 'Parking assist system sensors rear', 'Power windows'                                                                                                                                                                                                                                                                                                                           1\n",
      "'Air conditioning', 'Armrest', 'Automatic climate control', 'Cruise control', 'Electrical side mirrors', 'Leather steering wheel', 'Multi-function steering wheel', 'Power windows', 'Rain sensor', 'Start-stop system', 'Tinted windows'                                                                                                                                                                                                                                                                                                                                  1\n",
      "'Air conditioning', 'Armrest', 'Automatic climate control', 'Cruise control', 'Electrically adjustable seats', 'Leather steering wheel', 'Light sensor', 'Navigation system', 'Power windows', 'Rain sensor'                                                                                                                                                                                                                                                                                                                                                               1\n",
      "'Air conditioning', 'Automatic climate control', 'Cruise control', 'Electrically heated windshield', 'Electrical side mirrors', 'Electric tailgate', 'Heads-up display', 'Heated steering wheel', 'Hill Holder', 'Keyless central door lock', 'Leather steering wheel', 'Light sensor', 'Lumbar support', 'Navigation system', 'Park Distance Control', 'Parking assist system camera', 'Parking assist system self-steering', 'Parking assist system sensors front', 'Parking assist system sensors rear', 'Power windows', 'Rain sensor', 'Seat heating', 'Sunroof'      1\n",
      "Name: count, Length: 6198, dtype: int64\n"
     ]
    }
   ],
   "source": [
    "df = fill(\"mode\", df, 'comfort_convenience', ['make_model', 'body_type'])"
   ]
  },
  {
   "cell_type": "markdown",
   "id": "dbe0eb7b-ca81-4c2e-92b2-9774d4d4919c",
   "metadata": {
    "jp-MarkdownHeadingCollapsed": true
   },
   "source": [
    "### extras"
   ]
  },
  {
   "cell_type": "code",
   "execution_count": 51,
   "id": "f5fe3bf5-8f69-4681-bceb-da5334a5b95e",
   "metadata": {},
   "outputs": [
    {
     "name": "stdout",
     "output_type": "stream",
     "text": [
      "Filling column: extras\n",
      "Grouping by: ['make_model', 'body_type']\n",
      "Number of NaN before filling: 2962\n",
      "Number of NaN filled: 2951\n",
      "Number of NaN after filling: 11\n",
      "------------------\n",
      "extras\n",
      "['Alloy wheels']                                                                                                                 5870\n",
      "['Alloy wheels', 'Touch screen']                                                                                                  697\n",
      "['Alloy wheels', 'Voice Control']                                                                                                 582\n",
      "['Alloy wheels', 'Touch screen', 'Voice Control']                                                                                 544\n",
      "['Roof rack']                                                                                                                     538\n",
      "                                                                                                                                 ... \n",
      "['Alloy wheels', 'Handicapped enabled', 'Shift paddles']                                                                            1\n",
      "['Alloy wheels', 'Catalytic Converter', 'Shift paddles', 'Sport package', 'Sport seats', 'Sport suspension', 'Voice Control']       1\n",
      "['Alloy wheels', 'Catalytic Converter', 'Roof rack', 'Sport package', 'Sport seats', 'Trailer hitch']                               1\n",
      "['Alloy wheels', 'Catalytic Converter', 'Ski bag', 'Sport package', 'Voice Control']                                                1\n",
      "['Alloy wheels', 'Shift paddles', 'Ski bag', 'Sport seats', 'Sport suspension', 'Touch screen', 'Voice Control']                    1\n",
      "Name: count, Length: 660, dtype: int64\n"
     ]
    }
   ],
   "source": [
    "df = fill(\"mode\", df, 'extras', ['make_model', 'body_type'])"
   ]
  },
  {
   "cell_type": "code",
   "execution_count": 52,
   "id": "6aa1e50f-bd49-47e4-ad24-50be89d41e6a",
   "metadata": {},
   "outputs": [
    {
     "name": "stdout",
     "output_type": "stream",
     "text": [
      "Filling column: extras\n",
      "Grouping by: make_model\n",
      "Number of NaN before filling: 11\n",
      "Number of NaN filled: 11\n",
      "Number of NaN after filling: 0\n",
      "------------------\n",
      "extras\n",
      "['Alloy wheels']                                                                                                                 5881\n",
      "['Alloy wheels', 'Touch screen']                                                                                                  697\n",
      "['Alloy wheels', 'Voice Control']                                                                                                 582\n",
      "['Alloy wheels', 'Touch screen', 'Voice Control']                                                                                 544\n",
      "['Roof rack']                                                                                                                     538\n",
      "                                                                                                                                 ... \n",
      "['Alloy wheels', 'Catalytic Converter', 'Shift paddles', 'Sport package', 'Sport seats', 'Sport suspension', 'Voice Control']       1\n",
      "['Alloy wheels', 'Catalytic Converter', 'Roof rack', 'Sport package', 'Sport seats', 'Trailer hitch']                               1\n",
      "['Alloy wheels', 'Catalytic Converter', 'Ski bag', 'Sport package', 'Voice Control']                                                1\n",
      "['Catalytic Converter', 'Roof rack', 'Sport seats', 'Sport suspension']                                                             1\n",
      "['Alloy wheels', 'Shift paddles', 'Ski bag', 'Sport seats', 'Sport suspension', 'Touch screen', 'Voice Control']                    1\n",
      "Name: count, Length: 659, dtype: int64\n"
     ]
    }
   ],
   "source": [
    "df =fill(\"mode\", df, 'extras', 'make_model')"
   ]
  },
  {
   "cell_type": "markdown",
   "id": "fa577b40-7e91-4660-82e2-0e15feaca30c",
   "metadata": {},
   "source": [
    "---\n",
    "\n",
    "## Quantitative Columns\n",
    "- [x] price\n",
    "- [x] km\n",
    "- [x] co2_emission\n",
    "- [x] consumption_country\n",
    "- [x] consumption_city\n",
    "- [x] consumption_combined\n",
    "- [x] hp\n",
    "- [x] displacement\n",
    "- [x] warranty\n",
    "- [x] previous_owners\n",
    "- [x] weight\n",
    "- [x] nr_of_doors\n",
    "- [x] nr_of_seats\n",
    "- [x] cylinders\n",
    "- [x] gears"
   ]
  },
  {
   "cell_type": "markdown",
   "id": "de080554-8725-4092-916b-39e2aeedd175",
   "metadata": {
    "jp-MarkdownHeadingCollapsed": true
   },
   "source": [
    "### price"
   ]
  },
  {
   "cell_type": "code",
   "execution_count": 53,
   "id": "fe2b939b-f8a3-4887-b7da-32ecae315a69",
   "metadata": {},
   "outputs": [
    {
     "data": {
      "text/plain": [
       "price\n",
       "14990    154\n",
       "15990    151\n",
       "10990    139\n",
       "15900    106\n",
       "17990    102\n",
       "        ... \n",
       "17559      1\n",
       "17560      1\n",
       "17570      1\n",
       "17575      1\n",
       "39875      1\n",
       "Name: count, Length: 2956, dtype: int64"
      ]
     },
     "execution_count": 53,
     "metadata": {},
     "output_type": "execute_result"
    }
   ],
   "source": [
    "df['price'].value_counts(dropna=False)"
   ]
  },
  {
   "cell_type": "code",
   "execution_count": 54,
   "id": "628657b2-e6bc-4293-bb22-9b7e9586e720",
   "metadata": {},
   "outputs": [
    {
     "data": {
      "text/plain": [
       "False"
      ]
     },
     "execution_count": 54,
     "metadata": {},
     "output_type": "execute_result"
    }
   ],
   "source": [
    "df['price'].isnull().values.any()"
   ]
  },
  {
   "cell_type": "markdown",
   "id": "b8ec3c0a-d8d5-43fa-b246-b7be429d52b7",
   "metadata": {
    "jp-MarkdownHeadingCollapsed": true
   },
   "source": [
    "### km"
   ]
  },
  {
   "cell_type": "code",
   "execution_count": 55,
   "id": "4e6fa561-eb01-4ee9-96c6-fa0748d46e18",
   "metadata": {},
   "outputs": [
    {
     "data": {
      "text/plain": [
       "km\n",
       "10.0       1045\n",
       "NaN        1024\n",
       "1.0         367\n",
       "5.0         170\n",
       "50.0        148\n",
       "           ... \n",
       "67469.0       1\n",
       "43197.0       1\n",
       "10027.0       1\n",
       "35882.0       1\n",
       "57.0          1\n",
       "Name: count, Length: 6690, dtype: int64"
      ]
     },
     "execution_count": 55,
     "metadata": {},
     "output_type": "execute_result"
    }
   ],
   "source": [
    "df['km'].value_counts(dropna=False)"
   ]
  },
  {
   "cell_type": "code",
   "execution_count": 56,
   "id": "88fe5792-0e76-49b5-ae38-9882755b22cf",
   "metadata": {},
   "outputs": [
    {
     "name": "stdout",
     "output_type": "stream",
     "text": [
      "Filling column: km\n",
      "Grouping by: ['make_model', 'body_type', 'age']\n",
      "Number of NaN before filling: 1024\n",
      "Number of NaN filled: 1020\n",
      "Number of NaN after filling: 4\n",
      "------------------\n",
      "km\n",
      "10.0        1277\n",
      "1.0          367\n",
      "100.0        197\n",
      "750.0        181\n",
      "5.0          174\n",
      "            ... \n",
      "199000.0       1\n",
      "157391.0       1\n",
      "180573.0       1\n",
      "87195.0        1\n",
      "57.0           1\n",
      "Name: count, Length: 6695, dtype: int64\n"
     ]
    }
   ],
   "source": [
    "df = fill('median', df, 'km', ['make_model', 'body_type', 'age'])"
   ]
  },
  {
   "cell_type": "code",
   "execution_count": 57,
   "id": "f942ddfe-3b3f-4b10-9090-9e7a06bbefc2",
   "metadata": {},
   "outputs": [
    {
     "name": "stdout",
     "output_type": "stream",
     "text": [
      "Filling column: km\n",
      "Grouping by: ['make_model', 'age']\n",
      "Number of NaN before filling: 4\n",
      "Number of NaN filled: 4\n",
      "Number of NaN after filling: 0\n",
      "------------------\n",
      "km\n",
      "10.0       1280\n",
      "1.0         367\n",
      "100.0       197\n",
      "750.0       181\n",
      "5.0         174\n",
      "           ... \n",
      "36020.0       1\n",
      "53433.0       1\n",
      "67469.0       1\n",
      "43197.0       1\n",
      "57.0          1\n",
      "Name: count, Length: 6694, dtype: int64\n"
     ]
    }
   ],
   "source": [
    "df = fill('median', df, 'km', ['make_model', 'age'])"
   ]
  },
  {
   "cell_type": "markdown",
   "id": "422de094-a947-485a-b429-961424a7dd26",
   "metadata": {
    "jp-MarkdownHeadingCollapsed": true
   },
   "source": [
    "### co2_emission"
   ]
  },
  {
   "cell_type": "code",
   "execution_count": 58,
   "id": "8cb237c6-6275-4b83-84ae-1ac2ee07a2c1",
   "metadata": {},
   "outputs": [
    {
     "data": {
      "text/plain": [
       "co2_emission\n",
       "NaN      2436\n",
       "120.0     740\n",
       "99.0      545\n",
       "97.0      537\n",
       "104.0     501\n",
       "         ... \n",
       "51.0        1\n",
       "165.0       1\n",
       "331.0       1\n",
       "80.0        1\n",
       "193.0       1\n",
       "Name: count, Length: 120, dtype: int64"
      ]
     },
     "execution_count": 58,
     "metadata": {},
     "output_type": "execute_result"
    }
   ],
   "source": [
    "df['co2_emission'].value_counts(dropna=False)"
   ]
  },
  {
   "cell_type": "code",
   "execution_count": 59,
   "id": "947585bd-7e63-4cf2-b080-ca5777da8ef5",
   "metadata": {},
   "outputs": [
    {
     "name": "stdout",
     "output_type": "stream",
     "text": [
      "Filling column: co2_emission\n",
      "Grouping by: ['make_model', 'displacement']\n",
      "Number of NaN before filling: 2436\n",
      "Number of NaN filled: 1950\n",
      "Number of NaN after filling: 486\n",
      "------------------\n",
      "co2_emission\n",
      "120.0    984\n",
      "97.0     773\n",
      "99.0     692\n",
      "114.0    577\n",
      "119.0    556\n",
      "        ... \n",
      "51.0       1\n",
      "165.0      1\n",
      "160.0      1\n",
      "80.0       1\n",
      "193.0      1\n",
      "Name: count, Length: 120, dtype: int64\n"
     ]
    }
   ],
   "source": [
    "df = fill(\"mode\", df, 'co2_emission', ['make_model', 'displacement'])"
   ]
  },
  {
   "cell_type": "code",
   "execution_count": 60,
   "id": "5039e726-ac74-4e76-bf21-0a7cb3687228",
   "metadata": {},
   "outputs": [
    {
     "name": "stdout",
     "output_type": "stream",
     "text": [
      "Filling column: co2_emission\n",
      "Grouping by: make_model\n",
      "Number of NaN before filling: 486\n",
      "Number of NaN filled: 485\n",
      "Number of NaN after filling: 1\n",
      "------------------\n",
      "co2_emission\n",
      "120.0    1141\n",
      "97.0      793\n",
      "99.0      762\n",
      "114.0     653\n",
      "119.0     622\n",
      "         ... \n",
      "990.0       1\n",
      "80.0        1\n",
      "160.0       1\n",
      "331.0       1\n",
      "193.0       1\n",
      "Name: count, Length: 120, dtype: int64\n"
     ]
    }
   ],
   "source": [
    "df = fill(\"mode\", df, 'co2_emission', 'make_model')"
   ]
  },
  {
   "cell_type": "code",
   "execution_count": 61,
   "id": "aad8b407-92d0-465e-8458-3a848911cea4",
   "metadata": {},
   "outputs": [
    {
     "name": "stdout",
     "output_type": "stream",
     "text": [
      "Filling column: co2_emission\n",
      "Grouping by: body_type\n",
      "Number of NaN before filling: 1\n",
      "Number of NaN filled: 1\n",
      "Number of NaN after filling: 0\n",
      "------------------\n",
      "co2_emission\n",
      "120.0    1141\n",
      "97.0      793\n",
      "99.0      762\n",
      "114.0     653\n",
      "119.0     622\n",
      "         ... \n",
      "165.0       1\n",
      "80.0        1\n",
      "160.0       1\n",
      "331.0       1\n",
      "193.0       1\n",
      "Name: count, Length: 119, dtype: int64\n"
     ]
    }
   ],
   "source": [
    "df = fill(\"mode\", df, 'co2_emission', 'body_type')"
   ]
  },
  {
   "cell_type": "markdown",
   "id": "1ab07e57-c942-4ddd-af74-8aa7d5099946",
   "metadata": {
    "jp-MarkdownHeadingCollapsed": true
   },
   "source": [
    "### consumption_city (mode for domain reasons)"
   ]
  },
  {
   "cell_type": "code",
   "execution_count": 62,
   "id": "a43ca4be-5ce3-40d4-b0c5-bdbe8232be63",
   "metadata": {},
   "outputs": [
    {
     "name": "stdout",
     "output_type": "stream",
     "text": [
      "Filling column: consumption_city\n",
      "Grouping by: co2_emission\n",
      "Number of NaN before filling: 2422\n",
      "Number of NaN filled: 2421\n",
      "Number of NaN after filling: 1\n",
      "------------------\n",
      "consumption_city\n",
      "5.0     1509\n",
      "6.8      826\n",
      "4.3      738\n",
      "5.8      689\n",
      "4.5      608\n",
      "        ... \n",
      "19.9       1\n",
      "64.0       1\n",
      "10.5       1\n",
      "66.0       1\n",
      "9.7        1\n",
      "Name: count, Length: 87, dtype: int64\n"
     ]
    }
   ],
   "source": [
    "df = fill(\"mode\", df, 'consumption_city', 'co2_emission')"
   ]
  },
  {
   "cell_type": "code",
   "execution_count": 63,
   "id": "39e2e434-ced5-4648-b515-cc61dd184022",
   "metadata": {},
   "outputs": [
    {
     "name": "stdout",
     "output_type": "stream",
     "text": [
      "Filling column: consumption_city\n",
      "Grouping by: displacement\n",
      "Number of NaN before filling: 1\n",
      "Number of NaN filled: 1\n",
      "Number of NaN after filling: 0\n",
      "------------------\n",
      "consumption_city\n",
      "5.0     1509\n",
      "6.8      826\n",
      "4.3      738\n",
      "5.8      689\n",
      "4.5      608\n",
      "        ... \n",
      "9.0        1\n",
      "66.0       1\n",
      "16.1       1\n",
      "10.4       1\n",
      "9.7        1\n",
      "Name: count, Length: 86, dtype: int64\n"
     ]
    }
   ],
   "source": [
    "df = fill(\"mode\", df, 'consumption_city', 'displacement')"
   ]
  },
  {
   "cell_type": "markdown",
   "id": "a5e50907-beb5-40c5-a084-6ad184be30b9",
   "metadata": {
    "jp-MarkdownHeadingCollapsed": true
   },
   "source": [
    "### consumption_country (mode for domain reasons)"
   ]
  },
  {
   "cell_type": "code",
   "execution_count": 64,
   "id": "0912330e-750b-4c93-a2be-d24c7fff9fea",
   "metadata": {},
   "outputs": [
    {
     "name": "stdout",
     "output_type": "stream",
     "text": [
      "Filling column: consumption_country\n",
      "Grouping by: co2_emission\n",
      "Number of NaN before filling: 3212\n",
      "Number of NaN filled: 3206\n",
      "Number of NaN after filling: 6\n",
      "------------------\n",
      "consumption_country\n",
      "3.7     1336\n",
      "4.2     1290\n",
      "4.4     1260\n",
      "4.5     1096\n",
      "3.8     1085\n",
      "3.9     1038\n",
      "3.5      731\n",
      "4.7      724\n",
      "3.1      690\n",
      "3.6      604\n",
      "4.0      578\n",
      "4.1      574\n",
      "4.9      560\n",
      "4.3      526\n",
      "4.6      500\n",
      "3.3      470\n",
      "3.4      373\n",
      "4.8      342\n",
      "5.3      303\n",
      "5.7      296\n",
      "5.1      262\n",
      "5.4      235\n",
      "5.6      194\n",
      "3.2      180\n",
      "3.0      142\n",
      "5.0      106\n",
      "5.2       84\n",
      "6.3       55\n",
      "6.0       41\n",
      "5.5       36\n",
      "10.0      33\n",
      "5.8       33\n",
      "7.7       20\n",
      "6.6       19\n",
      "6.4       17\n",
      "2.9       16\n",
      "0.0       15\n",
      "2.8        9\n",
      "7.1        6\n",
      "NaN        6\n",
      "6.5        4\n",
      "44.0       4\n",
      "7.3        4\n",
      "35.0       2\n",
      "7.8        2\n",
      "6.7        2\n",
      "5.9        2\n",
      "7.0        2\n",
      "6.9        2\n",
      "37.0       2\n",
      "2.0        1\n",
      "8.0        1\n",
      "8.6        1\n",
      "6.1        1\n",
      "7.6        1\n",
      "42.0       1\n",
      "10.3       1\n",
      "1.0        1\n",
      "Name: count, dtype: int64\n"
     ]
    }
   ],
   "source": [
    "df = fill(\"mode\", df, 'consumption_country', 'co2_emission')"
   ]
  },
  {
   "cell_type": "code",
   "execution_count": 65,
   "id": "99485c51-af90-4bb0-be06-e4eafe959e37",
   "metadata": {},
   "outputs": [
    {
     "name": "stdout",
     "output_type": "stream",
     "text": [
      "Filling column: consumption_country\n",
      "Grouping by: displacement\n",
      "Number of NaN before filling: 6\n",
      "Number of NaN filled: 6\n",
      "Number of NaN after filling: 0\n",
      "------------------\n",
      "consumption_country\n",
      "3.7     1336\n",
      "4.2     1293\n",
      "4.4     1260\n",
      "4.5     1097\n",
      "3.8     1085\n",
      "3.9     1038\n",
      "3.5      731\n",
      "4.7      724\n",
      "3.1      690\n",
      "3.6      604\n",
      "4.0      578\n",
      "4.1      574\n",
      "4.9      560\n",
      "4.3      526\n",
      "4.6      500\n",
      "3.3      470\n",
      "3.4      373\n",
      "4.8      342\n",
      "5.3      304\n",
      "5.7      296\n",
      "5.1      262\n",
      "5.4      235\n",
      "5.6      194\n",
      "3.2      180\n",
      "3.0      142\n",
      "5.0      106\n",
      "5.2       84\n",
      "6.3       55\n",
      "6.0       41\n",
      "5.5       36\n",
      "10.0      34\n",
      "5.8       33\n",
      "7.7       20\n",
      "6.6       19\n",
      "6.4       17\n",
      "2.9       16\n",
      "0.0       15\n",
      "2.8        9\n",
      "7.1        6\n",
      "7.3        4\n",
      "44.0       4\n",
      "6.5        4\n",
      "6.9        2\n",
      "7.0        2\n",
      "35.0       2\n",
      "37.0       2\n",
      "5.9        2\n",
      "7.8        2\n",
      "6.7        2\n",
      "2.0        1\n",
      "8.0        1\n",
      "8.6        1\n",
      "10.3       1\n",
      "6.1        1\n",
      "7.6        1\n",
      "42.0       1\n",
      "1.0        1\n",
      "Name: count, dtype: int64\n"
     ]
    }
   ],
   "source": [
    "df = fill(\"mode\", df, 'consumption_country', 'displacement')"
   ]
  },
  {
   "cell_type": "markdown",
   "id": "0dfe212a-8b63-4ffe-b74b-aa516236804f",
   "metadata": {
    "jp-MarkdownHeadingCollapsed": true
   },
   "source": [
    "### consumption_combined (mode for domain reasons)"
   ]
  },
  {
   "cell_type": "markdown",
   "id": "258c3bdc-2eb1-4286-a0e9-f59b6b5bca43",
   "metadata": {},
   "source": [
    "- #### fill consumption_combined with the mean of consumption_city and consumption_country"
   ]
  },
  {
   "cell_type": "code",
   "execution_count": 66,
   "id": "af9bfde3-4a10-4f11-9cfa-35d67340fde5",
   "metadata": {},
   "outputs": [],
   "source": [
    "df['consumption_combined'].fillna(((df['consumption_city'] + df['consumption_country'])/ 2), inplace=True)"
   ]
  },
  {
   "cell_type": "code",
   "execution_count": 67,
   "id": "d1d678d6-161f-4cb5-afed-2748f74edaeb",
   "metadata": {},
   "outputs": [
    {
     "data": {
      "text/plain": [
       "consumption_combined\n",
       "3.90     962\n",
       "5.60     891\n",
       "4.00     730\n",
       "5.40     664\n",
       "5.10     638\n",
       "        ... \n",
       "55.00      1\n",
       "7.50       1\n",
       "3.35       1\n",
       "43.00      1\n",
       "4.25       1\n",
       "Name: count, Length: 105, dtype: int64"
      ]
     },
     "execution_count": 67,
     "metadata": {},
     "output_type": "execute_result"
    }
   ],
   "source": [
    "df['consumption_combined'].value_counts(dropna=False)"
   ]
  },
  {
   "cell_type": "code",
   "execution_count": 68,
   "id": "01035bd9-cb14-4f18-9551-3f84166cd7a4",
   "metadata": {},
   "outputs": [
    {
     "name": "stdout",
     "output_type": "stream",
     "text": [
      "Filling column: consumption_combined\n",
      "Grouping by: co2_emission\n",
      "Number of NaN before filling: 0\n",
      "Number of NaN filled: 0\n",
      "Number of NaN after filling: 0\n",
      "------------------\n",
      "consumption_combined\n",
      "3.90     962\n",
      "5.60     891\n",
      "4.00     730\n",
      "5.40     664\n",
      "5.10     638\n",
      "        ... \n",
      "55.00      1\n",
      "7.50       1\n",
      "3.35       1\n",
      "43.00      1\n",
      "4.25       1\n",
      "Name: count, Length: 105, dtype: int64\n"
     ]
    }
   ],
   "source": [
    "df = fill(\"mode\", df, 'consumption_combined', 'co2_emission')"
   ]
  },
  {
   "cell_type": "code",
   "execution_count": 69,
   "id": "71b7c32f-8252-4236-b01d-484675868e56",
   "metadata": {},
   "outputs": [
    {
     "name": "stdout",
     "output_type": "stream",
     "text": [
      "Filling column: consumption_combined\n",
      "Grouping by: displacement\n",
      "Number of NaN before filling: 0\n",
      "Number of NaN filled: 0\n",
      "Number of NaN after filling: 0\n",
      "------------------\n",
      "consumption_combined\n",
      "3.90     962\n",
      "5.60     891\n",
      "4.00     730\n",
      "5.40     664\n",
      "5.10     638\n",
      "        ... \n",
      "55.00      1\n",
      "7.50       1\n",
      "3.35       1\n",
      "43.00      1\n",
      "4.25       1\n",
      "Name: count, Length: 105, dtype: int64\n"
     ]
    }
   ],
   "source": [
    "df = fill(\"mode\", df, 'consumption_combined', 'displacement')"
   ]
  },
  {
   "cell_type": "markdown",
   "id": "e81bfaa9-ad48-4711-af21-222fdb8733d4",
   "metadata": {
    "jp-MarkdownHeadingCollapsed": true
   },
   "source": [
    "### hp (mode for domain reasons)"
   ]
  },
  {
   "cell_type": "code",
   "execution_count": 70,
   "id": "19009d0a-ba25-40b5-b091-d24a0ea86c8b",
   "metadata": {},
   "outputs": [
    {
     "name": "stdout",
     "output_type": "stream",
     "text": [
      "Filling column: hp\n",
      "Grouping by: ['make_model', 'body_type', 'displacement']\n",
      "Number of NaN before filling: 88\n",
      "Number of NaN filled: 3\n",
      "Number of NaN after filling: 85\n",
      "------------------\n",
      "hp\n",
      "85.0     2542\n",
      "66.0     2122\n",
      "81.0     1402\n",
      "100.0    1309\n",
      "110.0    1113\n",
      "         ... \n",
      "84.0        1\n",
      "195.0       1\n",
      "44.0        1\n",
      "239.0       1\n",
      "9.0         1\n",
      "Name: count, Length: 81, dtype: int64\n"
     ]
    }
   ],
   "source": [
    "df = fill('mode', df, 'hp', ['make_model', 'body_type', 'displacement'])"
   ]
  },
  {
   "cell_type": "code",
   "execution_count": 71,
   "id": "9dafe270-645a-4ebc-9f5f-560feba6d57e",
   "metadata": {},
   "outputs": [
    {
     "name": "stdout",
     "output_type": "stream",
     "text": [
      "Filling column: hp\n",
      "Grouping by: ['make_model', 'body_type', 'cylinders']\n",
      "Number of NaN before filling: 85\n",
      "Number of NaN filled: 8\n",
      "Number of NaN after filling: 77\n",
      "------------------\n",
      "hp\n",
      "85.0     2542\n",
      "66.0     2122\n",
      "81.0     1402\n",
      "100.0    1309\n",
      "110.0    1113\n",
      "         ... \n",
      "84.0        1\n",
      "195.0       1\n",
      "44.0        1\n",
      "239.0       1\n",
      "9.0         1\n",
      "Name: count, Length: 81, dtype: int64\n"
     ]
    }
   ],
   "source": [
    "df = fill('mode', df, 'hp', ['make_model', 'body_type', 'cylinders'])"
   ]
  },
  {
   "cell_type": "code",
   "execution_count": 72,
   "id": "5a8669f7-06f0-4d54-bf14-4b3099869d51",
   "metadata": {},
   "outputs": [
    {
     "name": "stdout",
     "output_type": "stream",
     "text": [
      "Filling column: hp\n",
      "Grouping by: ['make_model', 'body_type']\n",
      "Number of NaN before filling: 77\n",
      "Number of NaN filled: 77\n",
      "Number of NaN after filling: 0\n",
      "------------------\n",
      "hp\n",
      "85.0     2543\n",
      "66.0     2124\n",
      "81.0     1402\n",
      "100.0    1315\n",
      "110.0    1114\n",
      "         ... \n",
      "123.0       1\n",
      "44.0        1\n",
      "195.0       1\n",
      "75.0        1\n",
      "9.0         1\n",
      "Name: count, Length: 80, dtype: int64\n"
     ]
    }
   ],
   "source": [
    "df = fill('mode', df, 'hp', ['make_model', 'body_type'])"
   ]
  },
  {
   "cell_type": "markdown",
   "id": "50001a34-d93b-42c0-adaf-504e0f6faa1d",
   "metadata": {
    "jp-MarkdownHeadingCollapsed": true
   },
   "source": [
    "### displacement (mode for domain reasons)"
   ]
  },
  {
   "cell_type": "code",
   "execution_count": 73,
   "id": "dd784445-536d-4e39-8267-a11ac0ed3d00",
   "metadata": {},
   "outputs": [
    {
     "name": "stdout",
     "output_type": "stream",
     "text": [
      "Filling column: displacement\n",
      "Grouping by: ['make_model', 'body_type', 'hp']\n",
      "Number of NaN before filling: 496\n",
      "Number of NaN filled: 480\n",
      "Number of NaN after filling: 16\n",
      "------------------\n",
      "displacement\n",
      "1598.0    4978\n",
      "999.0     2467\n",
      "1398.0    1346\n",
      "1399.0     766\n",
      "1229.0     709\n",
      "          ... \n",
      "122.0        1\n",
      "1195.0       1\n",
      "2967.0       1\n",
      "1856.0       1\n",
      "1800.0       1\n",
      "Name: count, Length: 78, dtype: int64\n"
     ]
    }
   ],
   "source": [
    "df = fill(\"mode\", df, 'displacement', ['make_model', 'body_type', 'hp'])"
   ]
  },
  {
   "cell_type": "code",
   "execution_count": 74,
   "id": "46a0c0a1-0bb4-4531-a7f5-cdf63bf7fcc0",
   "metadata": {},
   "outputs": [
    {
     "name": "stdout",
     "output_type": "stream",
     "text": [
      "Filling column: displacement\n",
      "Grouping by: ['make_model', 'body_type']\n",
      "Number of NaN before filling: 16\n",
      "Number of NaN filled: 13\n",
      "Number of NaN after filling: 3\n",
      "------------------\n",
      "displacement\n",
      "1598.0    4984\n",
      "999.0     2468\n",
      "1398.0    1347\n",
      "1399.0     768\n",
      "1229.0     709\n",
      "          ... \n",
      "2967.0       1\n",
      "1369.0       1\n",
      "1390.0       1\n",
      "122.0        1\n",
      "1800.0       1\n",
      "Name: count, Length: 78, dtype: int64\n"
     ]
    }
   ],
   "source": [
    "df = fill(\"mode\", df, 'displacement', ['make_model', 'body_type'])"
   ]
  },
  {
   "cell_type": "code",
   "execution_count": 75,
   "id": "6886d4dc-5923-4ba4-a58f-dc92d5ec85ab",
   "metadata": {},
   "outputs": [
    {
     "name": "stdout",
     "output_type": "stream",
     "text": [
      "Filling column: displacement\n",
      "Grouping by: make_model\n",
      "Number of NaN before filling: 3\n",
      "Number of NaN filled: 3\n",
      "Number of NaN after filling: 0\n",
      "------------------\n",
      "displacement\n",
      "1598.0    4987\n",
      "999.0     2468\n",
      "1398.0    1347\n",
      "1399.0     768\n",
      "1229.0     709\n",
      "          ... \n",
      "1390.0       1\n",
      "122.0        1\n",
      "1198.0       1\n",
      "2967.0       1\n",
      "1800.0       1\n",
      "Name: count, Length: 77, dtype: int64\n"
     ]
    }
   ],
   "source": [
    "df = fill(\"mode\", df, 'displacement', 'make_model')"
   ]
  },
  {
   "cell_type": "markdown",
   "id": "86c13cce-f250-4516-bc89-3ac5c48a1c6e",
   "metadata": {
    "jp-MarkdownHeadingCollapsed": true
   },
   "source": [
    "### warranty"
   ]
  },
  {
   "cell_type": "code",
   "execution_count": 76,
   "id": "1babf446-7208-4954-b685-fdeff6506973",
   "metadata": {},
   "outputs": [],
   "source": [
    "df['warranty'] = df['warranty'].fillna(0.0)"
   ]
  },
  {
   "cell_type": "markdown",
   "id": "18aa3302-5ce3-4d9a-9d6a-e341a305da92",
   "metadata": {
    "jp-MarkdownHeadingCollapsed": true
   },
   "source": [
    "### previous owners"
   ]
  },
  {
   "cell_type": "code",
   "execution_count": 77,
   "id": "3099790e-262e-4615-9b53-ddab6bcae495",
   "metadata": {},
   "outputs": [],
   "source": [
    "index=df[df[\"km\"]<10].index"
   ]
  },
  {
   "cell_type": "code",
   "execution_count": 78,
   "id": "a0116ce0-7e66-46f4-83cf-dc8fb02ef78b",
   "metadata": {},
   "outputs": [],
   "source": [
    "df.loc[index,\"previous_owners\"]=0.0"
   ]
  },
  {
   "cell_type": "code",
   "execution_count": 79,
   "id": "ba77c8e4-76a2-4e0c-a5ca-c94a6c394858",
   "metadata": {},
   "outputs": [],
   "source": [
    "df.loc[index,\"previous_owners\"]=0.0"
   ]
  },
  {
   "cell_type": "code",
   "execution_count": 80,
   "id": "86173427-232b-403a-9197-002aa0212a41",
   "metadata": {},
   "outputs": [],
   "source": [
    "df.loc[(df[\"type\"]==\"New\") & (df[\"previous_owners\"].isnull()),\"previous_owners\"]=1.0"
   ]
  },
  {
   "cell_type": "code",
   "execution_count": 81,
   "id": "d7e63a13-1785-49f5-b10e-cffb078b1f40",
   "metadata": {},
   "outputs": [],
   "source": [
    "df.loc[((df[\"age\"]==0) | (df[\"km\"]<5000)) & (df[\"previous_owners\"].isnull()),\"previous_owners\"]=1.0"
   ]
  },
  {
   "cell_type": "code",
   "execution_count": 82,
   "id": "437de8d3-8518-46f6-b9a1-db5f9536ebfe",
   "metadata": {},
   "outputs": [],
   "source": [
    "mode_group_po = df.groupby(['age'])['previous_owners'].transform(lambda x: x.mode()[0] if list(x.mode()) != [] else np.nan)"
   ]
  },
  {
   "cell_type": "code",
   "execution_count": 83,
   "id": "f5a1483f-7745-42e1-95ff-e8691f7f4bef",
   "metadata": {},
   "outputs": [],
   "source": [
    "df[\"previous_owners\"].fillna(mode_group_po, inplace=True)"
   ]
  },
  {
   "cell_type": "code",
   "execution_count": 84,
   "id": "e14a0c8b-27b3-4a69-ab0a-e0cc6082bc00",
   "metadata": {},
   "outputs": [
    {
     "data": {
      "text/plain": [
       "previous_owners\n",
       "1.0    14278\n",
       "0.0      844\n",
       "2.0      778\n",
       "3.0       17\n",
       "4.0        2\n",
       "Name: count, dtype: int64"
      ]
     },
     "execution_count": 84,
     "metadata": {},
     "output_type": "execute_result"
    }
   ],
   "source": [
    "df[\"previous_owners\"].value_counts(dropna=False)"
   ]
  },
  {
   "cell_type": "markdown",
   "id": "740604e2-e3d8-4618-904b-55ac7401e9b2",
   "metadata": {
    "jp-MarkdownHeadingCollapsed": true
   },
   "source": [
    "### weight (mode for domain reasons)"
   ]
  },
  {
   "cell_type": "code",
   "execution_count": 85,
   "id": "129c7104-5bd3-408a-8fcf-ebe087b9198b",
   "metadata": {},
   "outputs": [
    {
     "name": "stdout",
     "output_type": "stream",
     "text": [
      "Filling column: weight\n",
      "Grouping by: ['make_model', 'body_type', 'hp']\n",
      "Number of NaN before filling: 6974\n",
      "Number of NaN filled: 6703\n",
      "Number of NaN after filling: 271\n",
      "------------------\n",
      "weight\n",
      "1163.0    1483\n",
      "1360.0     944\n",
      "1165.0     586\n",
      "1135.0     453\n",
      "1350.0     394\n",
      "          ... \n",
      "840.0        1\n",
      "1591.0       1\n",
      "1137.0       1\n",
      "1507.0       1\n",
      "2037.0       1\n",
      "Name: count, Length: 435, dtype: int64\n"
     ]
    }
   ],
   "source": [
    "df = fill(\"mode\", df, 'weight', ['make_model', 'body_type', 'hp'])"
   ]
  },
  {
   "cell_type": "code",
   "execution_count": 86,
   "id": "d551e13d-b9cc-46b9-b0a6-141fc4f3b624",
   "metadata": {},
   "outputs": [
    {
     "name": "stdout",
     "output_type": "stream",
     "text": [
      "Filling column: weight\n",
      "Grouping by: ['make_model', 'body_type']\n",
      "Number of NaN before filling: 271\n",
      "Number of NaN filled: 228\n",
      "Number of NaN after filling: 43\n",
      "------------------\n",
      "weight\n",
      "1163.0    1493\n",
      "1360.0     960\n",
      "1165.0     643\n",
      "1135.0     455\n",
      "1734.0     409\n",
      "          ... \n",
      "840.0        1\n",
      "1591.0       1\n",
      "1137.0       1\n",
      "1507.0       1\n",
      "2037.0       1\n",
      "Name: count, Length: 435, dtype: int64\n"
     ]
    }
   ],
   "source": [
    "df = fill(\"mode\", df, 'weight', ['make_model', 'body_type'])"
   ]
  },
  {
   "cell_type": "code",
   "execution_count": 87,
   "id": "066911f4-a036-4507-917f-a5f7aa63c9d8",
   "metadata": {},
   "outputs": [
    {
     "name": "stdout",
     "output_type": "stream",
     "text": [
      "Filling column: weight\n",
      "Grouping by: ['make_model', 'hp']\n",
      "Number of NaN before filling: 43\n",
      "Number of NaN filled: 8\n",
      "Number of NaN after filling: 35\n",
      "------------------\n",
      "weight\n",
      "1163.0    1493\n",
      "1360.0     960\n",
      "1165.0     643\n",
      "1135.0     455\n",
      "1734.0     410\n",
      "          ... \n",
      "840.0        1\n",
      "1591.0       1\n",
      "1137.0       1\n",
      "1507.0       1\n",
      "2037.0       1\n",
      "Name: count, Length: 435, dtype: int64\n"
     ]
    }
   ],
   "source": [
    "df = fill(\"mode\", df, 'weight', ['make_model', 'hp'])"
   ]
  },
  {
   "cell_type": "code",
   "execution_count": 88,
   "id": "bc256149-ea5e-4093-ae84-33037a31c1e6",
   "metadata": {},
   "outputs": [
    {
     "name": "stdout",
     "output_type": "stream",
     "text": [
      "Filling column: weight\n",
      "Grouping by: ['body_type']\n",
      "Number of NaN before filling: 35\n",
      "Number of NaN filled: 35\n",
      "Number of NaN after filling: 0\n",
      "------------------\n",
      "weight\n",
      "1163.0    1493\n",
      "1360.0     960\n",
      "1165.0     643\n",
      "1135.0     455\n",
      "1734.0     445\n",
      "          ... \n",
      "840.0        1\n",
      "1507.0       1\n",
      "2115.0       1\n",
      "1764.0       1\n",
      "2037.0       1\n",
      "Name: count, Length: 434, dtype: int64\n"
     ]
    }
   ],
   "source": [
    "df = fill(\"mode\", df, 'weight', ['body_type'])"
   ]
  },
  {
   "cell_type": "markdown",
   "id": "9b7978d9-3bc5-4e12-bfd9-229565144482",
   "metadata": {
    "jp-MarkdownHeadingCollapsed": true
   },
   "source": [
    "### nr_of_doors"
   ]
  },
  {
   "cell_type": "code",
   "execution_count": 89,
   "id": "a66452d4-af0b-451d-b666-3ba5681c339e",
   "metadata": {},
   "outputs": [
    {
     "name": "stdout",
     "output_type": "stream",
     "text": [
      "Filling column: nr_of_doors\n",
      "Grouping by: ['make_model', 'body_type']\n",
      "Number of NaN before filling: 212\n",
      "Number of NaN filled: 210\n",
      "Number of NaN after filling: 2\n",
      "------------------\n",
      "nr_of_doors\n",
      "5.0    11785\n",
      "4.0     3079\n",
      "3.0      832\n",
      "2.0      219\n",
      "NaN        2\n",
      "1.0        1\n",
      "7.0        1\n",
      "Name: count, dtype: int64\n"
     ]
    }
   ],
   "source": [
    "df = fill(\"mode\", df, 'nr_of_doors', ['make_model', 'body_type'])"
   ]
  },
  {
   "cell_type": "code",
   "execution_count": 90,
   "id": "49289268-eaf1-43be-ab24-b79e612c49aa",
   "metadata": {},
   "outputs": [
    {
     "name": "stdout",
     "output_type": "stream",
     "text": [
      "Filling column: nr_of_doors\n",
      "Grouping by: make_model\n",
      "Number of NaN before filling: 2\n",
      "Number of NaN filled: 2\n",
      "Number of NaN after filling: 0\n",
      "------------------\n",
      "nr_of_doors\n",
      "5.0    11787\n",
      "4.0     3079\n",
      "3.0      832\n",
      "2.0      219\n",
      "1.0        1\n",
      "7.0        1\n",
      "Name: count, dtype: int64\n"
     ]
    }
   ],
   "source": [
    "df = fill(\"mode\", df, 'nr_of_doors', 'make_model')"
   ]
  },
  {
   "cell_type": "markdown",
   "id": "437da9fc-b759-486c-ac28-269d787d945d",
   "metadata": {
    "jp-MarkdownHeadingCollapsed": true
   },
   "source": [
    "### nr_of_seats"
   ]
  },
  {
   "cell_type": "code",
   "execution_count": 91,
   "id": "d4b52158-fcb0-49ad-9ed9-914e6858fa20",
   "metadata": {},
   "outputs": [
    {
     "name": "stdout",
     "output_type": "stream",
     "text": [
      "Filling column: nr_of_seats\n",
      "Grouping by: ['make_model', 'body_type']\n",
      "Number of NaN before filling: 977\n",
      "Number of NaN filled: 971\n",
      "Number of NaN after filling: 6\n",
      "------------------\n",
      "nr_of_seats\n",
      "5.0    14302\n",
      "4.0     1127\n",
      "7.0      362\n",
      "2.0      119\n",
      "NaN        6\n",
      "6.0        2\n",
      "3.0        1\n",
      "Name: count, dtype: int64\n"
     ]
    }
   ],
   "source": [
    "df = fill(\"mode\", df, 'nr_of_seats', ['make_model', 'body_type'])"
   ]
  },
  {
   "cell_type": "code",
   "execution_count": 92,
   "id": "b8e18345-e48b-46cb-95ab-0d97871bce5c",
   "metadata": {},
   "outputs": [
    {
     "name": "stdout",
     "output_type": "stream",
     "text": [
      "Filling column: nr_of_seats\n",
      "Grouping by: make_model\n",
      "Number of NaN before filling: 6\n",
      "Number of NaN filled: 6\n",
      "Number of NaN after filling: 0\n",
      "------------------\n",
      "nr_of_seats\n",
      "5.0    14308\n",
      "4.0     1127\n",
      "7.0      362\n",
      "2.0      119\n",
      "6.0        2\n",
      "3.0        1\n",
      "Name: count, dtype: int64\n"
     ]
    }
   ],
   "source": [
    "df = fill(\"mode\", df, 'nr_of_seats', 'make_model')"
   ]
  },
  {
   "cell_type": "markdown",
   "id": "d76deeb3-368a-439d-8c53-1e84a667908e",
   "metadata": {
    "jp-MarkdownHeadingCollapsed": true
   },
   "source": [
    "### cylinders"
   ]
  },
  {
   "cell_type": "code",
   "execution_count": 93,
   "id": "9caa0104-216e-4e42-baeb-b79b1bfee02f",
   "metadata": {},
   "outputs": [
    {
     "name": "stdout",
     "output_type": "stream",
     "text": [
      "Filling column: cylinders\n",
      "Grouping by: ['make_model', 'displacement']\n",
      "Number of NaN before filling: 5680\n",
      "Number of NaN filled: 5609\n",
      "Number of NaN after filling: 71\n",
      "------------------\n",
      "cylinders\n",
      "4.0    12404\n",
      "3.0     3414\n",
      "NaN       71\n",
      "5.0       22\n",
      "6.0        3\n",
      "8.0        2\n",
      "2.0        2\n",
      "1.0        1\n",
      "Name: count, dtype: int64\n"
     ]
    }
   ],
   "source": [
    "df = fill(\"mode\", df, 'cylinders', ['make_model', 'displacement'])"
   ]
  },
  {
   "cell_type": "code",
   "execution_count": 94,
   "id": "0c46093d-4db6-4cf2-ba51-56abc889fd25",
   "metadata": {},
   "outputs": [
    {
     "name": "stdout",
     "output_type": "stream",
     "text": [
      "Filling column: cylinders\n",
      "Grouping by: ['make_model', 'weight']\n",
      "Number of NaN before filling: 71\n",
      "Number of NaN filled: 65\n",
      "Number of NaN after filling: 6\n",
      "------------------\n",
      "cylinders\n",
      "4.0    12460\n",
      "3.0     3423\n",
      "5.0       22\n",
      "NaN        6\n",
      "6.0        3\n",
      "8.0        2\n",
      "2.0        2\n",
      "1.0        1\n",
      "Name: count, dtype: int64\n"
     ]
    }
   ],
   "source": [
    "df = fill(\"mode\", df, 'cylinders', ['make_model', 'weight'])"
   ]
  },
  {
   "cell_type": "code",
   "execution_count": 95,
   "id": "5f81c8e8-3a7b-4fcc-adeb-d7ad1cd35130",
   "metadata": {},
   "outputs": [
    {
     "name": "stdout",
     "output_type": "stream",
     "text": [
      "Filling column: cylinders\n",
      "Grouping by: ['make_model']\n",
      "Number of NaN before filling: 6\n",
      "Number of NaN filled: 5\n",
      "Number of NaN after filling: 1\n",
      "------------------\n",
      "cylinders\n",
      "4.0    12465\n",
      "3.0     3423\n",
      "5.0       22\n",
      "6.0        3\n",
      "8.0        2\n",
      "2.0        2\n",
      "NaN        1\n",
      "1.0        1\n",
      "Name: count, dtype: int64\n"
     ]
    }
   ],
   "source": [
    "df = fill(\"mode\", df, 'cylinders', ['make_model'])"
   ]
  },
  {
   "cell_type": "code",
   "execution_count": 96,
   "id": "9b26b77f-9e7d-4092-89b8-837560e41d1d",
   "metadata": {},
   "outputs": [
    {
     "name": "stdout",
     "output_type": "stream",
     "text": [
      "Filling column: cylinders\n",
      "Grouping by: None\n",
      "Number of NaN before filling: 1\n",
      "Number of NaN filled: 1\n",
      "Number of NaN after filling: 0\n",
      "------------------\n",
      "cylinders\n",
      "4.0    12466\n",
      "3.0     3423\n",
      "5.0       22\n",
      "6.0        3\n",
      "8.0        2\n",
      "2.0        2\n",
      "1.0        1\n",
      "Name: count, dtype: int64\n"
     ]
    }
   ],
   "source": [
    "df = fill(\"mode\", df, 'cylinders')"
   ]
  },
  {
   "cell_type": "markdown",
   "id": "cde376bb-caa1-45cb-ab96-547b2ee4feea",
   "metadata": {
    "jp-MarkdownHeadingCollapsed": true
   },
   "source": [
    "### gears"
   ]
  },
  {
   "cell_type": "code",
   "execution_count": 97,
   "id": "23282497-c0d0-4625-b9ba-2c84a0bb485b",
   "metadata": {},
   "outputs": [
    {
     "name": "stdout",
     "output_type": "stream",
     "text": [
      "Filling column: gears\n",
      "Grouping by: ['gearing_type']\n",
      "Number of NaN before filling: 4712\n",
      "Number of NaN filled: 4712\n",
      "Number of NaN after filling: 0\n",
      "------------------\n",
      "gears\n",
      "6.0     10509\n",
      "5.0      3239\n",
      "7.0      1933\n",
      "8.0       224\n",
      "9.0         6\n",
      "1.0         2\n",
      "3.0         2\n",
      "4.0         2\n",
      "2.0         1\n",
      "50.0        1\n",
      "Name: count, dtype: int64\n"
     ]
    }
   ],
   "source": [
    "df = fill('mode', df, 'gears', ['gearing_type'])"
   ]
  },
  {
   "cell_type": "markdown",
   "id": "38e0eaa6-6815-440e-8295-3819270d972f",
   "metadata": {},
   "source": [
    "---\n",
    "\n",
    "## Export csv\n"
   ]
  },
  {
   "cell_type": "code",
   "execution_count": 98,
   "id": "be09d9db-0b16-482c-92f2-41a1773e5ea0",
   "metadata": {},
   "outputs": [
    {
     "name": "stdout",
     "output_type": "stream",
     "text": [
      "<class 'pandas.core.frame.DataFrame'>\n",
      "RangeIndex: 15919 entries, 0 to 15918\n",
      "Data columns (total 38 columns):\n",
      " #   Column                Non-Null Count  Dtype  \n",
      "---  ------                --------------  -----  \n",
      " 0   make_model            15919 non-null  object \n",
      " 1   body_type             15919 non-null  object \n",
      " 2   price                 15919 non-null  int64  \n",
      " 3   vat                   15919 non-null  object \n",
      " 4   km                    15919 non-null  float64\n",
      " 5   hp                    15919 non-null  float64\n",
      " 6   type                  15919 non-null  object \n",
      " 7   previous_owners       15919 non-null  float64\n",
      " 8   inspection_new        15919 non-null  object \n",
      " 9   warranty              15919 non-null  float64\n",
      " 10  full_service          8215 non-null   object \n",
      " 11  non-smoking_vehicle   7177 non-null   object \n",
      " 12  null                  15919 non-null  object \n",
      " 13  offer_number          12744 non-null  object \n",
      " 14  first_registration    14322 non-null  object \n",
      " 15  body_color            15919 non-null  object \n",
      " 16  paint_type            15919 non-null  object \n",
      " 17  nr_of_doors           15919 non-null  float64\n",
      " 18  nr_of_seats           15919 non-null  float64\n",
      " 19  model_code            4978 non-null   object \n",
      " 20  gearing_type          15919 non-null  object \n",
      " 21  displacement          15919 non-null  float64\n",
      " 22  cylinders             15919 non-null  float64\n",
      " 23  weight                15919 non-null  float64\n",
      " 24  drive_chain           15919 non-null  object \n",
      " 25  fuel                  15919 non-null  object \n",
      " 26  co2_emission          15919 non-null  float64\n",
      " 27  emission_class        15919 non-null  object \n",
      " 28  comfort_convenience   15919 non-null  object \n",
      " 29  entertainment_media   15919 non-null  object \n",
      " 30  extras                15919 non-null  object \n",
      " 31  safety_security       15919 non-null  object \n",
      " 32  gears                 15919 non-null  float64\n",
      " 33  age                   15919 non-null  float64\n",
      " 34  upholstery_material   15919 non-null  object \n",
      " 35  consumption_combined  15919 non-null  float64\n",
      " 36  consumption_city      15919 non-null  float64\n",
      " 37  consumption_country   15919 non-null  float64\n",
      "dtypes: float64(15), int64(1), object(22)\n",
      "memory usage: 4.6+ MB\n"
     ]
    }
   ],
   "source": [
    "df.info()"
   ]
  },
  {
   "cell_type": "code",
   "execution_count": 99,
   "id": "d7f63bb8-59dd-496d-aaf7-a9c686a6e9dd",
   "metadata": {},
   "outputs": [],
   "source": [
    "df.drop(['null','full_service', 'non-smoking_vehicle', 'model_code', 'offer_number', 'first_registration'], axis=1, inplace=True)"
   ]
  },
  {
   "cell_type": "code",
   "execution_count": 100,
   "id": "f902f57c-036f-43a8-b044-f87bdd6e0230",
   "metadata": {},
   "outputs": [
    {
     "name": "stdout",
     "output_type": "stream",
     "text": [
      "<class 'pandas.core.frame.DataFrame'>\n",
      "RangeIndex: 15919 entries, 0 to 15918\n",
      "Data columns (total 32 columns):\n",
      " #   Column                Non-Null Count  Dtype  \n",
      "---  ------                --------------  -----  \n",
      " 0   make_model            15919 non-null  object \n",
      " 1   body_type             15919 non-null  object \n",
      " 2   price                 15919 non-null  int64  \n",
      " 3   vat                   15919 non-null  object \n",
      " 4   km                    15919 non-null  float64\n",
      " 5   hp                    15919 non-null  float64\n",
      " 6   type                  15919 non-null  object \n",
      " 7   previous_owners       15919 non-null  float64\n",
      " 8   inspection_new        15919 non-null  object \n",
      " 9   warranty              15919 non-null  float64\n",
      " 10  body_color            15919 non-null  object \n",
      " 11  paint_type            15919 non-null  object \n",
      " 12  nr_of_doors           15919 non-null  float64\n",
      " 13  nr_of_seats           15919 non-null  float64\n",
      " 14  gearing_type          15919 non-null  object \n",
      " 15  displacement          15919 non-null  float64\n",
      " 16  cylinders             15919 non-null  float64\n",
      " 17  weight                15919 non-null  float64\n",
      " 18  drive_chain           15919 non-null  object \n",
      " 19  fuel                  15919 non-null  object \n",
      " 20  co2_emission          15919 non-null  float64\n",
      " 21  emission_class        15919 non-null  object \n",
      " 22  comfort_convenience   15919 non-null  object \n",
      " 23  entertainment_media   15919 non-null  object \n",
      " 24  extras                15919 non-null  object \n",
      " 25  safety_security       15919 non-null  object \n",
      " 26  gears                 15919 non-null  float64\n",
      " 27  age                   15919 non-null  float64\n",
      " 28  upholstery_material   15919 non-null  object \n",
      " 29  consumption_combined  15919 non-null  float64\n",
      " 30  consumption_city      15919 non-null  float64\n",
      " 31  consumption_country   15919 non-null  float64\n",
      "dtypes: float64(15), int64(1), object(16)\n",
      "memory usage: 3.9+ MB\n"
     ]
    }
   ],
   "source": [
    "df.info()"
   ]
  },
  {
   "cell_type": "code",
   "execution_count": 101,
   "id": "f7cbb530-8511-4338-9f56-16402dd1f837",
   "metadata": {},
   "outputs": [],
   "source": [
    "df.to_csv(\"car_data_2_missing_values_filled.csv\", index=False)"
   ]
  }
 ],
 "metadata": {
  "kernelspec": {
   "display_name": "Python 3 (ipykernel)",
   "language": "python",
   "name": "python3"
  },
  "language_info": {
   "codemirror_mode": {
    "name": "ipython",
    "version": 3
   },
   "file_extension": ".py",
   "mimetype": "text/x-python",
   "name": "python",
   "nbconvert_exporter": "python",
   "pygments_lexer": "ipython3",
   "version": "3.8.18"
  }
 },
 "nbformat": 4,
 "nbformat_minor": 5
}
